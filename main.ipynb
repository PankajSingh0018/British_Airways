{
 "cells": [
  {
   "cell_type": "code",
   "execution_count": 1,
   "metadata": {},
   "outputs": [],
   "source": [
    "# Importing all the necessary libraries \n",
    "import os \n",
    "import openpyxl \n",
    "import pandas as pd \n",
    "import numpy as np \n",
    "import requests\n",
    "from selenium import webdriver\n",
    "from bs4 import BeautifulSoup\n",
    "from time import sleep \n",
    "\n",
    "# importing selenium dependencies \n",
    "from selenium import webdriver\n",
    "from selenium.webdriver.chrome.options import Options\n",
    "from selenium.webdriver.common.by import By\n",
    "from selenium.webdriver.common.keys import Keys\n",
    "from selenium.webdriver.support.ui import WebDriverWait\n",
    "from selenium.webdriver.support import expected_conditions as EC \n"
   ]
  },
  {
   "cell_type": "code",
   "execution_count": 5,
   "metadata": {},
   "outputs": [],
   "source": [
    "user_agent= \"Mozilla/5.0 (Windows NT 10.0; Win64; x64) AppleWebKit/537.36 (KHTML, like Gecko) Chrome/114.0.0.0 Safari/537.36\""
   ]
  },
  {
   "cell_type": "code",
   "execution_count": 4,
   "metadata": {},
   "outputs": [],
   "source": [
    "# let's create a header for the HTTPS request\n",
    "header= {'User-Agent': user_agent}"
   ]
  },
  {
   "cell_type": "code",
   "execution_count": 2,
   "metadata": {},
   "outputs": [],
   "source": [
    "base_url = \"https://www.airlinequality.com/airline-reviews/british-airways/page/1/\""
   ]
  },
  {
   "cell_type": "code",
   "execution_count": 8,
   "metadata": {},
   "outputs": [],
   "source": [
    "# let's send the request to the base url and get the response status of the website \n",
    "\n",
    "response= requests.get(base_url, headers=header)"
   ]
  },
  {
   "cell_type": "code",
   "execution_count": 9,
   "metadata": {},
   "outputs": [
    {
     "data": {
      "text/plain": [
       "200"
      ]
     },
     "execution_count": 9,
     "metadata": {},
     "output_type": "execute_result"
    }
   ],
   "source": [
    "# let's check the response status\n",
    "# if the status code is within 200 -300 range the site is communticating with the requests send by our IP\n",
    "response.status_code"
   ]
  },
  {
   "cell_type": "code",
   "execution_count": 10,
   "metadata": {},
   "outputs": [],
   "source": [
    "# Let's create a file with the name webpage.html and write the text response in it \n",
    "\n",
    "with open('webpage.html','w') as f:\n",
    "    f.write(response.text)"
   ]
  },
  {
   "cell_type": "code",
   "execution_count": 12,
   "metadata": {},
   "outputs": [],
   "source": [
    "# Let's now convert the webcontent into a BeautifulSoup object\n",
    "soup = BeautifulSoup(response.text, 'html.parser')"
   ]
  },
  {
   "cell_type": "code",
   "execution_count": null,
   "metadata": {},
   "outputs": [],
   "source": [
    "# let's now take a look at the soup \n",
    "soup"
   ]
  },
  {
   "cell_type": "code",
   "execution_count": 18,
   "metadata": {},
   "outputs": [
    {
     "data": {
      "text/plain": [
       "'British Airways Customer Reviews - SKYTRAX'"
      ]
     },
     "execution_count": 18,
     "metadata": {},
     "output_type": "execute_result"
    }
   ],
   "source": [
    "# Let's get the title from the page \n",
    "title = soup.title.text\n",
    "title"
   ]
  },
  {
   "cell_type": "code",
   "execution_count": 8,
   "metadata": {},
   "outputs": [],
   "source": [
    "# Setting up the selenium chrome options \n",
    "def set_chrome()-> Options:\n",
    "    chrome_options = Options()\n",
    "    chrome_options.headless = True\n",
    "\n",
    "    chrome_options.add_argument(\"--no-sandbox\")\n",
    "    chrome_options.add_argument(\"--disable-notifications\")\n",
    "    chrome_options.add_argument(\"--disable-dev-shm-usage\")\n",
    "    chrome_options.add_argument(\"--disable-gpu\")\n",
    "    chrome_options.add_argument(\"--disable-notifications\")\n",
    "    chrome_options.add_experimental_option(\"excludeSwitches\",[\"ignore-certificate-errors\"])\n",
    "    chrome_options.add_argument('--disable-usb-discovery')\n",
    "    chrome_options.add_experimental_option('excludeSwitches', ['enable-logging'])\n",
    "    chrome_options.add_experimental_option(\"excludeSwitches\", [\"enable-automation\"]) \n",
    "    chrome_options.add_experimental_option('useAutomationExtension', False)\n",
    "    chrome_prefs={}\n",
    "    chrome_options.add_argument(f'user-agent={user_agent}')\n",
    "    chrome_options.add_argument('--disable-features=InterestCohort')\n",
    "    chrome_options.experimental_options[\"prefs\"]= chrome_prefs\n",
    "    chrome_prefs[\"profile.default_content_settings\"]={\"images\":2}\n",
    "    \n",
    "    return chrome_options\n"
   ]
  },
  {
   "cell_type": "code",
   "execution_count": null,
   "metadata": {},
   "outputs": [],
   "source": [
    "\n",
    "first_page_url= https://www.airlinequality.com/airline-reviews/british-airways/page/1/\n",
    "\n",
    "last_page_url = https://www.airlinequality.com/airline-reviews/british-airways/page/360/"
   ]
  },
  {
   "cell_type": "code",
   "execution_count": null,
   "metadata": {},
   "outputs": [],
   "source": [
    "\"\"\" \n",
    "list of elements to scrape \n",
    "Airline\n",
    "Filter reviews by \n",
    "A- Latest Reviews \n",
    "    - Title of the review - h2 class= text_header\n",
    "    - class rating / overall rating ---> 4/10 \n",
    "    - Name of the reviewer - h3 -> span -> itemprop= name \n",
    "    - Location\n",
    "    - Date published \n",
    "    - checkbox for trip verified or not \n",
    "    - Main review - reviewBody \n",
    "    - Type of Aircraft - \n",
    "    - Type of traveller \n",
    "    - Seat Type \n",
    "    - Route \n",
    "    - Date flown\n",
    "\n",
    "    # Ratings out of 5 \n",
    "    - Seat comfort \n",
    "    - Cabin Staff \n",
    "    - food and beverges\n",
    "    - Inflight entertainment\n",
    "    - Ground Service \n",
    "    - Value for money\n",
    "    - Recommended \n",
    "B- First Class \n",
    "C- Business Class \n",
    "D- Premium Economy\n",
    "E- Economy Class\n",
    "\n",
    "\n",
    "\"\"\""
   ]
  },
  {
   "cell_type": "markdown",
   "metadata": {},
   "source": [
    "- driver invoke to the main website \n",
    "- Select the filter for the First class\n",
    "    a- scrape every element mentioned from the first page and add it into a dictionary \n",
    "    b- Running on the for loop i need to click on the second page and scrape untill page 360\n",
    "- Now I want to click on the filter to select the Business class reviews and scrape it untill the page 360 and append the data for each page \n",
    "\n",
    "- Then the process goes for Premium economy and then for the Econnomy  \n",
    "\n"
   ]
  },
  {
   "cell_type": "code",
   "execution_count": 22,
   "metadata": {},
   "outputs": [],
   "source": [
    "# Let's create a scrape function \n",
    "def scrape_web(url):\n",
    "    # getting the driver invoked \n",
    "    "
   ]
  },
  {
   "cell_type": "code",
   "execution_count": 9,
   "metadata": {},
   "outputs": [
    {
     "name": "stderr",
     "output_type": "stream",
     "text": [
      "C:\\Users\\singh\\AppData\\Local\\Temp\\ipykernel_17688\\953211839.py:4: DeprecationWarning: headless property is deprecated, instead use add_argument('--headless') or add_argument('--headless=new')\n",
      "  chrome_options.headless = True\n"
     ]
    }
   ],
   "source": [
    "driver = webdriver.Chrome(options=set_chrome())\n",
    "base_url = \"https://www.airlinequality.com/airline-reviews/british-airways/page/1/\"\n",
    "driver.get(base_url)\n",
    "elements = driver.find_elements(By.CLASS_NAME,\"body\")"
   ]
  },
  {
   "cell_type": "code",
   "execution_count": 45,
   "metadata": {},
   "outputs": [],
   "source": [
    "# Let's fetch all the title from the page \n",
    "title = driver.find_element(By.CLASS_NAME,\"text_header\")\n",
    "Title = title.text"
   ]
  },
  {
   "cell_type": "code",
   "execution_count": 46,
   "metadata": {},
   "outputs": [
    {
     "data": {
      "text/plain": [
       "'\"Things have really deteriorated\"'"
      ]
     },
     "execution_count": 46,
     "metadata": {},
     "output_type": "execute_result"
    }
   ],
   "source": [
    "Title "
   ]
  },
  {
   "cell_type": "code",
   "execution_count": 47,
   "metadata": {},
   "outputs": [],
   "source": [
    "user_name = driver.find_element(By.XPATH, '//*[@id=\"anchor862044\"]/h3/span/span')\n",
    "Review_Name = user_name.text"
   ]
  },
  {
   "cell_type": "code",
   "execution_count": 48,
   "metadata": {},
   "outputs": [
    {
     "data": {
      "text/plain": [
       "'Pradeep Madhavan'"
      ]
     },
     "execution_count": 48,
     "metadata": {},
     "output_type": "execute_result"
    }
   ],
   "source": [
    "Review_Name"
   ]
  },
  {
   "cell_type": "code",
   "execution_count": 131,
   "metadata": {},
   "outputs": [
    {
     "data": {
      "text/plain": [
       "'Pradeep Madhavan (United Kingdom) 9th July 2023'"
      ]
     },
     "execution_count": 131,
     "metadata": {},
     "output_type": "execute_result"
    }
   ],
   "source": [
    "Location = driver.find_element(By.XPATH, '//*[@id=\"anchor862044\"]/h3')\n",
    "loca= Location.text\n",
    "loca\n",
    "\n"
   ]
  },
  {
   "cell_type": "code",
   "execution_count": 31,
   "metadata": {},
   "outputs": [
    {
     "name": "stdout",
     "output_type": "stream",
     "text": [
      "9th July 2023\n"
     ]
    }
   ],
   "source": [
    "import re\n",
    "\n",
    "value = 'Pradeep Madhavan (United Kingdom) 9th July 2023'\n",
    "\n",
    "# Use regular expression to find the date pattern\n",
    "date_pattern = r'\\d{1,2}(?:st|nd|rd|th) [A-Za-z]+ \\d{4}'\n",
    "match = re.search(date_pattern, value)\n",
    "\n",
    "if match:\n",
    "    date = match.group()\n",
    "    print(date)  # Output: '9th July 2023'\n",
    "else:\n",
    "    print('Date not found.')\n"
   ]
  },
  {
   "cell_type": "code",
   "execution_count": null,
   "metadata": {},
   "outputs": [],
   "source": [
    "\n",
    "name, location_with_brackets, date = [x.strip() for x in loca.split(\" \", 2)]\n",
    "location = location_with_brackets.strip(\"()\")\n",
    "\n",
    "print(\"name:\", name)\n",
    "print(\"location:\", location)\n",
    "print(\"date:\", date)"
   ]
  },
  {
   "cell_type": "code",
   "execution_count": 83,
   "metadata": {},
   "outputs": [],
   "source": [
    "trip = driver.find_element(By.CLASS_NAME,'text_content').text.split(\"|\")\n",
    "trip_verified = trip[0]\n",
    "main_review= trip[1]"
   ]
  },
  {
   "cell_type": "code",
   "execution_count": 82,
   "metadata": {},
   "outputs": [
    {
     "data": {
      "text/plain": [
       "'✅ Trip Verified '"
      ]
     },
     "execution_count": 82,
     "metadata": {},
     "output_type": "execute_result"
    }
   ],
   "source": [
    "trip_verified"
   ]
  },
  {
   "cell_type": "code",
   "execution_count": 84,
   "metadata": {},
   "outputs": [
    {
     "data": {
      "text/plain": [
       "' My family and I have flown mostly on British Airways for the last 30 years. I am a priority passenger and fly often enough to recognise cabin crew and know some by name. They used to be a really good airline to fly with. Things have really deteriorated with their face to face customer care since the pandemic. The aircraft look worn. For example, on my flight back my audiovisual equipment did not work and had to be reset twice, finally working in the last hour before we landed. The second time around, I think the reset was done for the whole aircraft. The touch screen function on my screen did not work. The USB charger ports on my seat did not work. The staff were pleasant enough, but their service oozed mediocrity. There did not seem to be much pride in what they were doing. The food has been the worst part on our BA flights since the pandemic. They gave us a menu, asked what we’d like, did a check and then told us that it was not available as they had run out and would we like to choose something else. They then told us that we’d get first choice at the second service which they couldn’t deliver on. Finally after choosing and getting whatever it is that we did, the food was tasteless. We take part in post flight surveys regularly and have stated all of this, to no avail. As a family of 3, we fly British Airways medium to long haul regularly, possibly 4-6 times a year each. For us, the good things about flying BA are that we are priority customers, usually have a direct flight to our destinations and get good service on the ground, when checking in and in the lounges when we use them.'"
      ]
     },
     "execution_count": 84,
     "metadata": {},
     "output_type": "execute_result"
    }
   ],
   "source": [
    "main_review"
   ]
  },
  {
   "cell_type": "code",
   "execution_count": 89,
   "metadata": {},
   "outputs": [
    {
     "data": {
      "text/plain": [
       "'Boeing 777'"
      ]
     },
     "execution_count": 89,
     "metadata": {},
     "output_type": "execute_result"
    }
   ],
   "source": [
    "Aircraft = driver.find_element(By.XPATH, '//*[@id=\"anchor862044\"]/div/div[2]/table/tbody/tr[1]/td[2]')\n",
    "Aircraft_type= Aircraft.text\n",
    "Aircraft_type"
   ]
  },
  {
   "cell_type": "code",
   "execution_count": 91,
   "metadata": {},
   "outputs": [
    {
     "data": {
      "text/plain": [
       "'Family Leisure'"
      ]
     },
     "execution_count": 91,
     "metadata": {},
     "output_type": "execute_result"
    }
   ],
   "source": [
    "Traveller = driver.find_element(By.XPATH,'//*[@id=\"anchor860334\"]/div/div[2]/table/tbody/tr[1]/td[2]')\n",
    "Traveller_type = Traveller.text\n",
    "Traveller_type"
   ]
  },
  {
   "cell_type": "code",
   "execution_count": 97,
   "metadata": {},
   "outputs": [
    {
     "data": {
      "text/plain": [
       "'Economy Class'"
      ]
     },
     "execution_count": 97,
     "metadata": {},
     "output_type": "execute_result"
    }
   ],
   "source": [
    "Seat_type = driver.find_element(By.XPATH,'//*[@id=\"anchor860334\"]/div/div[2]/table/tbody/tr[2]/td[2]')\n",
    "# Seat_type = driver.find_element(By.CLASS_NAME, \"\"\n",
    "Class_type= Seat_type.text\n",
    "Class_type"
   ]
  },
  {
   "cell_type": "code",
   "execution_count": 148,
   "metadata": {},
   "outputs": [
    {
     "data": {
      "text/plain": [
       "'Istanbul to London'"
      ]
     },
     "execution_count": 148,
     "metadata": {},
     "output_type": "execute_result"
    }
   ],
   "source": [
    "route= driver.find_element(By.XPATH,'//*[@id=\"anchor862019\"]/div/div[2]/table/tbody/tr[4]/td[2]')\n",
    "Route= route.text\n",
    "Route"
   ]
  },
  {
   "cell_type": "code",
   "execution_count": null,
   "metadata": {},
   "outputs": [],
   "source": []
  },
  {
   "cell_type": "code",
   "execution_count": null,
   "metadata": {},
   "outputs": [],
   "source": []
  },
  {
   "cell_type": "code",
   "execution_count": null,
   "metadata": {},
   "outputs": [],
   "source": []
  },
  {
   "cell_type": "code",
   "execution_count": 10,
   "metadata": {},
   "outputs": [],
   "source": [
    "tbody= driver.find_element(By.XPATH,'//*[@id=\"anchor 862044\"]/div/div[2]/table/tbody')"
   ]
  },
  {
   "cell_type": "code",
   "execution_count": 11,
   "metadata": {},
   "outputs": [],
   "source": [
    "data= []"
   ]
  },
  {
   "cell_type": "code",
   "execution_count": 13,
   "metadata": {},
   "outputs": [
    {
     "name": "stdout",
     "output_type": "stream",
     "text": [
      "[['Food & Beverages', '12345'], ['Inflight Entertainment', '12345'], ['Seat Comfort', '12345'], ['Staff Service', '12345'], ['Value for Money', '12345'], ['Aircraft', 'Boeing 777'], ['Type Of Traveller', 'Couple Leisure'], ['Seat Type', 'Premium Economy'], ['Route', 'Chennai to London'], ['Date Flown', 'July 2023'], ['Seat Comfort', '12345'], ['Cabin Staff Service', '12345'], ['Food & Beverages', '12345'], ['Inflight Entertainment', '12345'], ['Ground Service', '12345'], ['Value For Money', '12345'], ['Recommended', 'no'], ['Aircraft', 'A321neo'], ['Type Of Traveller', 'Couple Leisure'], ['Seat Type', 'Economy Class'], ['Route', 'Istanbul to London'], ['Date Flown', 'July 2023'], ['Seat Comfort', '12345'], ['Cabin Staff Service', '12345'], ['Ground Service', '12345'], ['Value For Money', '12345'], ['Recommended', 'no'], ['Type Of Traveller', 'Solo Leisure'], ['Seat Type', 'Economy Class'], ['Route', 'London to Edinburgh'], ['Date Flown', 'November 2022'], ['Seat Comfort', '12345'], ['Cabin Staff Service', '12345'], ['Food & Beverages', '12345'], ['Inflight Entertainment', '12345'], ['Ground Service', '12345'], ['Value For Money', '12345'], ['Recommended', 'no'], ['Aircraft', 'Boeing 777 -200'], ['Type Of Traveller', 'Family Leisure'], ['Seat Type', 'Premium Economy'], ['Route', 'Kingston to London'], ['Date Flown', 'June 2023'], ['Seat Comfort', '12345'], ['Cabin Staff Service', '12345'], ['Food & Beverages', '12345'], ['Inflight Entertainment', '12345'], ['Ground Service', '12345'], ['Value For Money', '12345'], ['Recommended', 'no'], ['Aircraft', 'Boeing 777-200'], ['Type Of Traveller', 'Couple Leisure'], ['Seat Type', 'Economy Class'], ['Route', 'London Heathrow to Cape Town'], ['Date Flown', 'June 2023'], ['Seat Comfort', '12345'], ['Cabin Staff Service', '12345'], ['Food & Beverages', '12345'], ['Inflight Entertainment', '12345'], ['Ground Service', '12345'], ['Value For Money', '12345'], ['Recommended', 'no'], ['Type Of Traveller', 'Couple Leisure'], ['Seat Type', 'Economy Class'], ['Route', 'London Heathrow to Ibiza'], ['Date Flown', 'July 2023'], ['Ground Service', '12345'], ['Value For Money', '12345'], ['Recommended', 'no'], ['Aircraft', 'A380'], ['Type Of Traveller', 'Business'], ['Seat Type', 'Business Class'], ['Route', 'Washington to London'], ['Date Flown', 'June 2023'], ['Seat Comfort', '12345'], ['Cabin Staff Service', '12345'], ['Food & Beverages', '12345'], ['Inflight Entertainment', '12345'], ['Ground Service', '12345'], ['Value For Money', '12345'], ['Recommended', 'no'], ['Aircraft', 'A321'], ['Type Of Traveller', 'Couple Leisure'], ['Seat Type', 'Economy Class'], ['Route', 'London Heathrow to Naples'], ['Date Flown', 'June 2023'], ['Seat Comfort', '12345'], ['Cabin Staff Service', '12345'], ['Food & Beverages', '12345'], ['Ground Service', '12345'], ['Value For Money', '12345'], ['Recommended', 'no'], ['Aircraft', 'A320'], ['Type Of Traveller', 'Solo Leisure'], ['Seat Type', 'Economy Class'], ['Route', 'Berlin to London'], ['Date Flown', 'July 2023'], ['Seat Comfort', '12345'], ['Cabin Staff Service', '12345'], ['Food & Beverages', '12345'], ['Ground Service', '12345'], ['Wifi & Connectivity', '12345'], ['Value For Money', '12345'], ['Recommended', 'yes'], ['Type Of Traveller', 'Family Leisure'], ['Seat Type', 'Economy Class'], ['Route', 'Glasgow to London'], ['Date Flown', 'June 2023'], ['Seat Comfort', '12345'], ['Cabin Staff Service', '12345'], ['Ground Service', '12345'], ['Value For Money', '12345'], ['Recommended', 'no']]\n"
     ]
    }
   ],
   "source": [
    "for tr in tbody.find_elements(By.XPATH, '//tr'):\n",
    "    row = [item.text for item in tr.find_elements(By.XPATH,'.//td')]\n",
    "    data.append(row)\n",
    "\n",
    "print(data)\n"
   ]
  },
  {
   "cell_type": "code",
   "execution_count": 14,
   "metadata": {},
   "outputs": [],
   "source": [
    "rows = driver.find_elements(By.XPATH,\"//tbody//tr\")"
   ]
  },
  {
   "cell_type": "code",
   "execution_count": 16,
   "metadata": {},
   "outputs": [],
   "source": [
    "cells = tr.find_elements(By.XPATH, './/td')"
   ]
  },
  {
   "cell_type": "code",
   "execution_count": 19,
   "metadata": {},
   "outputs": [
    {
     "data": {
      "text/plain": [
       "'Recommended'"
      ]
     },
     "execution_count": 19,
     "metadata": {},
     "output_type": "execute_result"
    }
   ],
   "source": [
    "cell = tr.find_element(By.XPATH, './/td').text\n",
    "cell"
   ]
  },
  {
   "cell_type": "code",
   "execution_count": 27,
   "metadata": {},
   "outputs": [],
   "source": [
    "for tr in rows:\n",
    "    row={}\n",
    "    cells = tr.find_elements(By.XPATH, './/td')\n",
    "    for cell in cells:\n",
    "        row[cell]= cell.text\n",
    "    \n",
    "    data.append(row)"
   ]
  },
  {
   "cell_type": "code",
   "execution_count": 28,
   "metadata": {},
   "outputs": [
    {
     "data": {
      "text/plain": [
       "[['Food & Beverages', '12345'],\n",
       " ['Inflight Entertainment', '12345'],\n",
       " ['Seat Comfort', '12345'],\n",
       " ['Staff Service', '12345'],\n",
       " ['Value for Money', '12345'],\n",
       " ['Aircraft', 'Boeing 777'],\n",
       " ['Type Of Traveller', 'Couple Leisure'],\n",
       " ['Seat Type', 'Premium Economy'],\n",
       " ['Route', 'Chennai to London'],\n",
       " ['Date Flown', 'July 2023'],\n",
       " ['Seat Comfort', '12345'],\n",
       " ['Cabin Staff Service', '12345'],\n",
       " ['Food & Beverages', '12345'],\n",
       " ['Inflight Entertainment', '12345'],\n",
       " ['Ground Service', '12345'],\n",
       " ['Value For Money', '12345'],\n",
       " ['Recommended', 'no'],\n",
       " ['Aircraft', 'A321neo'],\n",
       " ['Type Of Traveller', 'Couple Leisure'],\n",
       " ['Seat Type', 'Economy Class'],\n",
       " ['Route', 'Istanbul to London'],\n",
       " ['Date Flown', 'July 2023'],\n",
       " ['Seat Comfort', '12345'],\n",
       " ['Cabin Staff Service', '12345'],\n",
       " ['Ground Service', '12345'],\n",
       " ['Value For Money', '12345'],\n",
       " ['Recommended', 'no'],\n",
       " ['Type Of Traveller', 'Solo Leisure'],\n",
       " ['Seat Type', 'Economy Class'],\n",
       " ['Route', 'London to Edinburgh'],\n",
       " ['Date Flown', 'November 2022'],\n",
       " ['Seat Comfort', '12345'],\n",
       " ['Cabin Staff Service', '12345'],\n",
       " ['Food & Beverages', '12345'],\n",
       " ['Inflight Entertainment', '12345'],\n",
       " ['Ground Service', '12345'],\n",
       " ['Value For Money', '12345'],\n",
       " ['Recommended', 'no'],\n",
       " ['Aircraft', 'Boeing 777 -200'],\n",
       " ['Type Of Traveller', 'Family Leisure'],\n",
       " ['Seat Type', 'Premium Economy'],\n",
       " ['Route', 'Kingston to London'],\n",
       " ['Date Flown', 'June 2023'],\n",
       " ['Seat Comfort', '12345'],\n",
       " ['Cabin Staff Service', '12345'],\n",
       " ['Food & Beverages', '12345'],\n",
       " ['Inflight Entertainment', '12345'],\n",
       " ['Ground Service', '12345'],\n",
       " ['Value For Money', '12345'],\n",
       " ['Recommended', 'no'],\n",
       " ['Aircraft', 'Boeing 777-200'],\n",
       " ['Type Of Traveller', 'Couple Leisure'],\n",
       " ['Seat Type', 'Economy Class'],\n",
       " ['Route', 'London Heathrow to Cape Town'],\n",
       " ['Date Flown', 'June 2023'],\n",
       " ['Seat Comfort', '12345'],\n",
       " ['Cabin Staff Service', '12345'],\n",
       " ['Food & Beverages', '12345'],\n",
       " ['Inflight Entertainment', '12345'],\n",
       " ['Ground Service', '12345'],\n",
       " ['Value For Money', '12345'],\n",
       " ['Recommended', 'no'],\n",
       " ['Type Of Traveller', 'Couple Leisure'],\n",
       " ['Seat Type', 'Economy Class'],\n",
       " ['Route', 'London Heathrow to Ibiza'],\n",
       " ['Date Flown', 'July 2023'],\n",
       " ['Ground Service', '12345'],\n",
       " ['Value For Money', '12345'],\n",
       " ['Recommended', 'no'],\n",
       " ['Aircraft', 'A380'],\n",
       " ['Type Of Traveller', 'Business'],\n",
       " ['Seat Type', 'Business Class'],\n",
       " ['Route', 'Washington to London'],\n",
       " ['Date Flown', 'June 2023'],\n",
       " ['Seat Comfort', '12345'],\n",
       " ['Cabin Staff Service', '12345'],\n",
       " ['Food & Beverages', '12345'],\n",
       " ['Inflight Entertainment', '12345'],\n",
       " ['Ground Service', '12345'],\n",
       " ['Value For Money', '12345'],\n",
       " ['Recommended', 'no'],\n",
       " ['Aircraft', 'A321'],\n",
       " ['Type Of Traveller', 'Couple Leisure'],\n",
       " ['Seat Type', 'Economy Class'],\n",
       " ['Route', 'London Heathrow to Naples'],\n",
       " ['Date Flown', 'June 2023'],\n",
       " ['Seat Comfort', '12345'],\n",
       " ['Cabin Staff Service', '12345'],\n",
       " ['Food & Beverages', '12345'],\n",
       " ['Ground Service', '12345'],\n",
       " ['Value For Money', '12345'],\n",
       " ['Recommended', 'no'],\n",
       " ['Aircraft', 'A320'],\n",
       " ['Type Of Traveller', 'Solo Leisure'],\n",
       " ['Seat Type', 'Economy Class'],\n",
       " ['Route', 'Berlin to London'],\n",
       " ['Date Flown', 'July 2023'],\n",
       " ['Seat Comfort', '12345'],\n",
       " ['Cabin Staff Service', '12345'],\n",
       " ['Food & Beverages', '12345'],\n",
       " ['Ground Service', '12345'],\n",
       " ['Wifi & Connectivity', '12345'],\n",
       " ['Value For Money', '12345'],\n",
       " ['Recommended', 'yes'],\n",
       " ['Type Of Traveller', 'Family Leisure'],\n",
       " ['Seat Type', 'Economy Class'],\n",
       " ['Route', 'Glasgow to London'],\n",
       " ['Date Flown', 'June 2023'],\n",
       " ['Seat Comfort', '12345'],\n",
       " ['Cabin Staff Service', '12345'],\n",
       " ['Ground Service', '12345'],\n",
       " ['Value For Money', '12345'],\n",
       " ['Recommended', 'no'],\n",
       " {<selenium.webdriver.remote.webelement.WebElement (session=\"f8a8f20d7293871c9653ae897bdceb07\", element=\"976E803903A659B1489117BDF0BEF868_element_206\")>: 'Food & Beverages',\n",
       "  <selenium.webdriver.remote.webelement.WebElement (session=\"f8a8f20d7293871c9653ae897bdceb07\", element=\"976E803903A659B1489117BDF0BEF868_element_14\")>: '12345'},\n",
       " {<selenium.webdriver.remote.webelement.WebElement (session=\"f8a8f20d7293871c9653ae897bdceb07\", element=\"976E803903A659B1489117BDF0BEF868_element_207\")>: 'Inflight Entertainment',\n",
       "  <selenium.webdriver.remote.webelement.WebElement (session=\"f8a8f20d7293871c9653ae897bdceb07\", element=\"976E803903A659B1489117BDF0BEF868_element_20\")>: '12345'},\n",
       " {<selenium.webdriver.remote.webelement.WebElement (session=\"f8a8f20d7293871c9653ae897bdceb07\", element=\"976E803903A659B1489117BDF0BEF868_element_208\")>: 'Seat Comfort',\n",
       "  <selenium.webdriver.remote.webelement.WebElement (session=\"f8a8f20d7293871c9653ae897bdceb07\", element=\"976E803903A659B1489117BDF0BEF868_element_26\")>: '12345'},\n",
       " {<selenium.webdriver.remote.webelement.WebElement (session=\"f8a8f20d7293871c9653ae897bdceb07\", element=\"976E803903A659B1489117BDF0BEF868_element_209\")>: 'Staff Service',\n",
       "  <selenium.webdriver.remote.webelement.WebElement (session=\"f8a8f20d7293871c9653ae897bdceb07\", element=\"976E803903A659B1489117BDF0BEF868_element_32\")>: '12345'},\n",
       " {<selenium.webdriver.remote.webelement.WebElement (session=\"f8a8f20d7293871c9653ae897bdceb07\", element=\"976E803903A659B1489117BDF0BEF868_element_210\")>: 'Value for Money',\n",
       "  <selenium.webdriver.remote.webelement.WebElement (session=\"f8a8f20d7293871c9653ae897bdceb07\", element=\"976E803903A659B1489117BDF0BEF868_element_38\")>: '12345'},\n",
       " {<selenium.webdriver.remote.webelement.WebElement (session=\"f8a8f20d7293871c9653ae897bdceb07\", element=\"976E803903A659B1489117BDF0BEF868_element_211\")>: 'Aircraft',\n",
       "  <selenium.webdriver.remote.webelement.WebElement (session=\"f8a8f20d7293871c9653ae897bdceb07\", element=\"976E803903A659B1489117BDF0BEF868_element_212\")>: 'Boeing 777'},\n",
       " {<selenium.webdriver.remote.webelement.WebElement (session=\"f8a8f20d7293871c9653ae897bdceb07\", element=\"976E803903A659B1489117BDF0BEF868_element_213\")>: 'Type Of Traveller',\n",
       "  <selenium.webdriver.remote.webelement.WebElement (session=\"f8a8f20d7293871c9653ae897bdceb07\", element=\"976E803903A659B1489117BDF0BEF868_element_214\")>: 'Couple Leisure'},\n",
       " {<selenium.webdriver.remote.webelement.WebElement (session=\"f8a8f20d7293871c9653ae897bdceb07\", element=\"976E803903A659B1489117BDF0BEF868_element_215\")>: 'Seat Type',\n",
       "  <selenium.webdriver.remote.webelement.WebElement (session=\"f8a8f20d7293871c9653ae897bdceb07\", element=\"976E803903A659B1489117BDF0BEF868_element_216\")>: 'Premium Economy'},\n",
       " {<selenium.webdriver.remote.webelement.WebElement (session=\"f8a8f20d7293871c9653ae897bdceb07\", element=\"976E803903A659B1489117BDF0BEF868_element_217\")>: 'Route',\n",
       "  <selenium.webdriver.remote.webelement.WebElement (session=\"f8a8f20d7293871c9653ae897bdceb07\", element=\"976E803903A659B1489117BDF0BEF868_element_218\")>: 'Chennai to London'},\n",
       " {<selenium.webdriver.remote.webelement.WebElement (session=\"f8a8f20d7293871c9653ae897bdceb07\", element=\"976E803903A659B1489117BDF0BEF868_element_219\")>: 'Date Flown',\n",
       "  <selenium.webdriver.remote.webelement.WebElement (session=\"f8a8f20d7293871c9653ae897bdceb07\", element=\"976E803903A659B1489117BDF0BEF868_element_220\")>: 'July 2023'},\n",
       " {<selenium.webdriver.remote.webelement.WebElement (session=\"f8a8f20d7293871c9653ae897bdceb07\", element=\"976E803903A659B1489117BDF0BEF868_element_221\")>: 'Seat Comfort',\n",
       "  <selenium.webdriver.remote.webelement.WebElement (session=\"f8a8f20d7293871c9653ae897bdceb07\", element=\"976E803903A659B1489117BDF0BEF868_element_222\")>: '12345'},\n",
       " {<selenium.webdriver.remote.webelement.WebElement (session=\"f8a8f20d7293871c9653ae897bdceb07\", element=\"976E803903A659B1489117BDF0BEF868_element_223\")>: 'Cabin Staff Service',\n",
       "  <selenium.webdriver.remote.webelement.WebElement (session=\"f8a8f20d7293871c9653ae897bdceb07\", element=\"976E803903A659B1489117BDF0BEF868_element_224\")>: '12345'},\n",
       " {<selenium.webdriver.remote.webelement.WebElement (session=\"f8a8f20d7293871c9653ae897bdceb07\", element=\"976E803903A659B1489117BDF0BEF868_element_225\")>: 'Food & Beverages',\n",
       "  <selenium.webdriver.remote.webelement.WebElement (session=\"f8a8f20d7293871c9653ae897bdceb07\", element=\"976E803903A659B1489117BDF0BEF868_element_226\")>: '12345'},\n",
       " {<selenium.webdriver.remote.webelement.WebElement (session=\"f8a8f20d7293871c9653ae897bdceb07\", element=\"976E803903A659B1489117BDF0BEF868_element_227\")>: 'Inflight Entertainment',\n",
       "  <selenium.webdriver.remote.webelement.WebElement (session=\"f8a8f20d7293871c9653ae897bdceb07\", element=\"976E803903A659B1489117BDF0BEF868_element_228\")>: '12345'},\n",
       " {<selenium.webdriver.remote.webelement.WebElement (session=\"f8a8f20d7293871c9653ae897bdceb07\", element=\"976E803903A659B1489117BDF0BEF868_element_229\")>: 'Ground Service',\n",
       "  <selenium.webdriver.remote.webelement.WebElement (session=\"f8a8f20d7293871c9653ae897bdceb07\", element=\"976E803903A659B1489117BDF0BEF868_element_230\")>: '12345'},\n",
       " {<selenium.webdriver.remote.webelement.WebElement (session=\"f8a8f20d7293871c9653ae897bdceb07\", element=\"976E803903A659B1489117BDF0BEF868_element_231\")>: 'Value For Money',\n",
       "  <selenium.webdriver.remote.webelement.WebElement (session=\"f8a8f20d7293871c9653ae897bdceb07\", element=\"976E803903A659B1489117BDF0BEF868_element_232\")>: '12345'},\n",
       " {<selenium.webdriver.remote.webelement.WebElement (session=\"f8a8f20d7293871c9653ae897bdceb07\", element=\"976E803903A659B1489117BDF0BEF868_element_233\")>: 'Recommended',\n",
       "  <selenium.webdriver.remote.webelement.WebElement (session=\"f8a8f20d7293871c9653ae897bdceb07\", element=\"976E803903A659B1489117BDF0BEF868_element_234\")>: 'no'},\n",
       " {<selenium.webdriver.remote.webelement.WebElement (session=\"f8a8f20d7293871c9653ae897bdceb07\", element=\"976E803903A659B1489117BDF0BEF868_element_235\")>: 'Aircraft',\n",
       "  <selenium.webdriver.remote.webelement.WebElement (session=\"f8a8f20d7293871c9653ae897bdceb07\", element=\"976E803903A659B1489117BDF0BEF868_element_236\")>: 'A321neo'},\n",
       " {<selenium.webdriver.remote.webelement.WebElement (session=\"f8a8f20d7293871c9653ae897bdceb07\", element=\"976E803903A659B1489117BDF0BEF868_element_237\")>: 'Type Of Traveller',\n",
       "  <selenium.webdriver.remote.webelement.WebElement (session=\"f8a8f20d7293871c9653ae897bdceb07\", element=\"976E803903A659B1489117BDF0BEF868_element_238\")>: 'Couple Leisure'},\n",
       " {<selenium.webdriver.remote.webelement.WebElement (session=\"f8a8f20d7293871c9653ae897bdceb07\", element=\"976E803903A659B1489117BDF0BEF868_element_239\")>: 'Seat Type',\n",
       "  <selenium.webdriver.remote.webelement.WebElement (session=\"f8a8f20d7293871c9653ae897bdceb07\", element=\"976E803903A659B1489117BDF0BEF868_element_240\")>: 'Economy Class'},\n",
       " {<selenium.webdriver.remote.webelement.WebElement (session=\"f8a8f20d7293871c9653ae897bdceb07\", element=\"976E803903A659B1489117BDF0BEF868_element_241\")>: 'Route',\n",
       "  <selenium.webdriver.remote.webelement.WebElement (session=\"f8a8f20d7293871c9653ae897bdceb07\", element=\"976E803903A659B1489117BDF0BEF868_element_242\")>: 'Istanbul to London'},\n",
       " {<selenium.webdriver.remote.webelement.WebElement (session=\"f8a8f20d7293871c9653ae897bdceb07\", element=\"976E803903A659B1489117BDF0BEF868_element_243\")>: 'Date Flown',\n",
       "  <selenium.webdriver.remote.webelement.WebElement (session=\"f8a8f20d7293871c9653ae897bdceb07\", element=\"976E803903A659B1489117BDF0BEF868_element_244\")>: 'July 2023'},\n",
       " {<selenium.webdriver.remote.webelement.WebElement (session=\"f8a8f20d7293871c9653ae897bdceb07\", element=\"976E803903A659B1489117BDF0BEF868_element_245\")>: 'Seat Comfort',\n",
       "  <selenium.webdriver.remote.webelement.WebElement (session=\"f8a8f20d7293871c9653ae897bdceb07\", element=\"976E803903A659B1489117BDF0BEF868_element_246\")>: '12345'},\n",
       " {<selenium.webdriver.remote.webelement.WebElement (session=\"f8a8f20d7293871c9653ae897bdceb07\", element=\"976E803903A659B1489117BDF0BEF868_element_247\")>: 'Cabin Staff Service',\n",
       "  <selenium.webdriver.remote.webelement.WebElement (session=\"f8a8f20d7293871c9653ae897bdceb07\", element=\"976E803903A659B1489117BDF0BEF868_element_248\")>: '12345'},\n",
       " {<selenium.webdriver.remote.webelement.WebElement (session=\"f8a8f20d7293871c9653ae897bdceb07\", element=\"976E803903A659B1489117BDF0BEF868_element_249\")>: 'Ground Service',\n",
       "  <selenium.webdriver.remote.webelement.WebElement (session=\"f8a8f20d7293871c9653ae897bdceb07\", element=\"976E803903A659B1489117BDF0BEF868_element_250\")>: '12345'},\n",
       " {<selenium.webdriver.remote.webelement.WebElement (session=\"f8a8f20d7293871c9653ae897bdceb07\", element=\"976E803903A659B1489117BDF0BEF868_element_251\")>: 'Value For Money',\n",
       "  <selenium.webdriver.remote.webelement.WebElement (session=\"f8a8f20d7293871c9653ae897bdceb07\", element=\"976E803903A659B1489117BDF0BEF868_element_252\")>: '12345'},\n",
       " {<selenium.webdriver.remote.webelement.WebElement (session=\"f8a8f20d7293871c9653ae897bdceb07\", element=\"976E803903A659B1489117BDF0BEF868_element_253\")>: 'Recommended',\n",
       "  <selenium.webdriver.remote.webelement.WebElement (session=\"f8a8f20d7293871c9653ae897bdceb07\", element=\"976E803903A659B1489117BDF0BEF868_element_254\")>: 'no'},\n",
       " {<selenium.webdriver.remote.webelement.WebElement (session=\"f8a8f20d7293871c9653ae897bdceb07\", element=\"976E803903A659B1489117BDF0BEF868_element_255\")>: 'Type Of Traveller',\n",
       "  <selenium.webdriver.remote.webelement.WebElement (session=\"f8a8f20d7293871c9653ae897bdceb07\", element=\"976E803903A659B1489117BDF0BEF868_element_256\")>: 'Solo Leisure'},\n",
       " {<selenium.webdriver.remote.webelement.WebElement (session=\"f8a8f20d7293871c9653ae897bdceb07\", element=\"976E803903A659B1489117BDF0BEF868_element_257\")>: 'Seat Type',\n",
       "  <selenium.webdriver.remote.webelement.WebElement (session=\"f8a8f20d7293871c9653ae897bdceb07\", element=\"976E803903A659B1489117BDF0BEF868_element_258\")>: 'Economy Class'},\n",
       " {<selenium.webdriver.remote.webelement.WebElement (session=\"f8a8f20d7293871c9653ae897bdceb07\", element=\"976E803903A659B1489117BDF0BEF868_element_259\")>: 'Route',\n",
       "  <selenium.webdriver.remote.webelement.WebElement (session=\"f8a8f20d7293871c9653ae897bdceb07\", element=\"976E803903A659B1489117BDF0BEF868_element_260\")>: 'London to Edinburgh'},\n",
       " {<selenium.webdriver.remote.webelement.WebElement (session=\"f8a8f20d7293871c9653ae897bdceb07\", element=\"976E803903A659B1489117BDF0BEF868_element_261\")>: 'Date Flown',\n",
       "  <selenium.webdriver.remote.webelement.WebElement (session=\"f8a8f20d7293871c9653ae897bdceb07\", element=\"976E803903A659B1489117BDF0BEF868_element_262\")>: 'November 2022'},\n",
       " {<selenium.webdriver.remote.webelement.WebElement (session=\"f8a8f20d7293871c9653ae897bdceb07\", element=\"976E803903A659B1489117BDF0BEF868_element_263\")>: 'Seat Comfort',\n",
       "  <selenium.webdriver.remote.webelement.WebElement (session=\"f8a8f20d7293871c9653ae897bdceb07\", element=\"976E803903A659B1489117BDF0BEF868_element_264\")>: '12345'},\n",
       " {<selenium.webdriver.remote.webelement.WebElement (session=\"f8a8f20d7293871c9653ae897bdceb07\", element=\"976E803903A659B1489117BDF0BEF868_element_265\")>: 'Cabin Staff Service',\n",
       "  <selenium.webdriver.remote.webelement.WebElement (session=\"f8a8f20d7293871c9653ae897bdceb07\", element=\"976E803903A659B1489117BDF0BEF868_element_266\")>: '12345'},\n",
       " {<selenium.webdriver.remote.webelement.WebElement (session=\"f8a8f20d7293871c9653ae897bdceb07\", element=\"976E803903A659B1489117BDF0BEF868_element_267\")>: 'Food & Beverages',\n",
       "  <selenium.webdriver.remote.webelement.WebElement (session=\"f8a8f20d7293871c9653ae897bdceb07\", element=\"976E803903A659B1489117BDF0BEF868_element_268\")>: '12345'},\n",
       " {<selenium.webdriver.remote.webelement.WebElement (session=\"f8a8f20d7293871c9653ae897bdceb07\", element=\"976E803903A659B1489117BDF0BEF868_element_269\")>: 'Inflight Entertainment',\n",
       "  <selenium.webdriver.remote.webelement.WebElement (session=\"f8a8f20d7293871c9653ae897bdceb07\", element=\"976E803903A659B1489117BDF0BEF868_element_270\")>: '12345'},\n",
       " {<selenium.webdriver.remote.webelement.WebElement (session=\"f8a8f20d7293871c9653ae897bdceb07\", element=\"976E803903A659B1489117BDF0BEF868_element_271\")>: 'Ground Service',\n",
       "  <selenium.webdriver.remote.webelement.WebElement (session=\"f8a8f20d7293871c9653ae897bdceb07\", element=\"976E803903A659B1489117BDF0BEF868_element_272\")>: '12345'},\n",
       " {<selenium.webdriver.remote.webelement.WebElement (session=\"f8a8f20d7293871c9653ae897bdceb07\", element=\"976E803903A659B1489117BDF0BEF868_element_273\")>: 'Value For Money',\n",
       "  <selenium.webdriver.remote.webelement.WebElement (session=\"f8a8f20d7293871c9653ae897bdceb07\", element=\"976E803903A659B1489117BDF0BEF868_element_274\")>: '12345'},\n",
       " {<selenium.webdriver.remote.webelement.WebElement (session=\"f8a8f20d7293871c9653ae897bdceb07\", element=\"976E803903A659B1489117BDF0BEF868_element_275\")>: 'Recommended',\n",
       "  <selenium.webdriver.remote.webelement.WebElement (session=\"f8a8f20d7293871c9653ae897bdceb07\", element=\"976E803903A659B1489117BDF0BEF868_element_276\")>: 'no'},\n",
       " {<selenium.webdriver.remote.webelement.WebElement (session=\"f8a8f20d7293871c9653ae897bdceb07\", element=\"976E803903A659B1489117BDF0BEF868_element_277\")>: 'Aircraft',\n",
       "  <selenium.webdriver.remote.webelement.WebElement (session=\"f8a8f20d7293871c9653ae897bdceb07\", element=\"976E803903A659B1489117BDF0BEF868_element_278\")>: 'Boeing 777 -200'},\n",
       " {<selenium.webdriver.remote.webelement.WebElement (session=\"f8a8f20d7293871c9653ae897bdceb07\", element=\"976E803903A659B1489117BDF0BEF868_element_279\")>: 'Type Of Traveller',\n",
       "  <selenium.webdriver.remote.webelement.WebElement (session=\"f8a8f20d7293871c9653ae897bdceb07\", element=\"976E803903A659B1489117BDF0BEF868_element_280\")>: 'Family Leisure'},\n",
       " {<selenium.webdriver.remote.webelement.WebElement (session=\"f8a8f20d7293871c9653ae897bdceb07\", element=\"976E803903A659B1489117BDF0BEF868_element_281\")>: 'Seat Type',\n",
       "  <selenium.webdriver.remote.webelement.WebElement (session=\"f8a8f20d7293871c9653ae897bdceb07\", element=\"976E803903A659B1489117BDF0BEF868_element_282\")>: 'Premium Economy'},\n",
       " {<selenium.webdriver.remote.webelement.WebElement (session=\"f8a8f20d7293871c9653ae897bdceb07\", element=\"976E803903A659B1489117BDF0BEF868_element_283\")>: 'Route',\n",
       "  <selenium.webdriver.remote.webelement.WebElement (session=\"f8a8f20d7293871c9653ae897bdceb07\", element=\"976E803903A659B1489117BDF0BEF868_element_284\")>: 'Kingston to London'},\n",
       " {<selenium.webdriver.remote.webelement.WebElement (session=\"f8a8f20d7293871c9653ae897bdceb07\", element=\"976E803903A659B1489117BDF0BEF868_element_285\")>: 'Date Flown',\n",
       "  <selenium.webdriver.remote.webelement.WebElement (session=\"f8a8f20d7293871c9653ae897bdceb07\", element=\"976E803903A659B1489117BDF0BEF868_element_286\")>: 'June 2023'},\n",
       " {<selenium.webdriver.remote.webelement.WebElement (session=\"f8a8f20d7293871c9653ae897bdceb07\", element=\"976E803903A659B1489117BDF0BEF868_element_287\")>: 'Seat Comfort',\n",
       "  <selenium.webdriver.remote.webelement.WebElement (session=\"f8a8f20d7293871c9653ae897bdceb07\", element=\"976E803903A659B1489117BDF0BEF868_element_288\")>: '12345'},\n",
       " {<selenium.webdriver.remote.webelement.WebElement (session=\"f8a8f20d7293871c9653ae897bdceb07\", element=\"976E803903A659B1489117BDF0BEF868_element_289\")>: 'Cabin Staff Service',\n",
       "  <selenium.webdriver.remote.webelement.WebElement (session=\"f8a8f20d7293871c9653ae897bdceb07\", element=\"976E803903A659B1489117BDF0BEF868_element_290\")>: '12345'},\n",
       " {<selenium.webdriver.remote.webelement.WebElement (session=\"f8a8f20d7293871c9653ae897bdceb07\", element=\"976E803903A659B1489117BDF0BEF868_element_291\")>: 'Food & Beverages',\n",
       "  <selenium.webdriver.remote.webelement.WebElement (session=\"f8a8f20d7293871c9653ae897bdceb07\", element=\"976E803903A659B1489117BDF0BEF868_element_292\")>: '12345'},\n",
       " {<selenium.webdriver.remote.webelement.WebElement (session=\"f8a8f20d7293871c9653ae897bdceb07\", element=\"976E803903A659B1489117BDF0BEF868_element_293\")>: 'Inflight Entertainment',\n",
       "  <selenium.webdriver.remote.webelement.WebElement (session=\"f8a8f20d7293871c9653ae897bdceb07\", element=\"976E803903A659B1489117BDF0BEF868_element_294\")>: '12345'},\n",
       " {<selenium.webdriver.remote.webelement.WebElement (session=\"f8a8f20d7293871c9653ae897bdceb07\", element=\"976E803903A659B1489117BDF0BEF868_element_295\")>: 'Ground Service',\n",
       "  <selenium.webdriver.remote.webelement.WebElement (session=\"f8a8f20d7293871c9653ae897bdceb07\", element=\"976E803903A659B1489117BDF0BEF868_element_296\")>: '12345'},\n",
       " {<selenium.webdriver.remote.webelement.WebElement (session=\"f8a8f20d7293871c9653ae897bdceb07\", element=\"976E803903A659B1489117BDF0BEF868_element_297\")>: 'Value For Money',\n",
       "  <selenium.webdriver.remote.webelement.WebElement (session=\"f8a8f20d7293871c9653ae897bdceb07\", element=\"976E803903A659B1489117BDF0BEF868_element_298\")>: '12345'},\n",
       " {<selenium.webdriver.remote.webelement.WebElement (session=\"f8a8f20d7293871c9653ae897bdceb07\", element=\"976E803903A659B1489117BDF0BEF868_element_299\")>: 'Recommended',\n",
       "  <selenium.webdriver.remote.webelement.WebElement (session=\"f8a8f20d7293871c9653ae897bdceb07\", element=\"976E803903A659B1489117BDF0BEF868_element_300\")>: 'no'},\n",
       " {<selenium.webdriver.remote.webelement.WebElement (session=\"f8a8f20d7293871c9653ae897bdceb07\", element=\"976E803903A659B1489117BDF0BEF868_element_301\")>: 'Aircraft',\n",
       "  <selenium.webdriver.remote.webelement.WebElement (session=\"f8a8f20d7293871c9653ae897bdceb07\", element=\"976E803903A659B1489117BDF0BEF868_element_302\")>: 'Boeing 777-200'},\n",
       " {<selenium.webdriver.remote.webelement.WebElement (session=\"f8a8f20d7293871c9653ae897bdceb07\", element=\"976E803903A659B1489117BDF0BEF868_element_303\")>: 'Type Of Traveller',\n",
       "  <selenium.webdriver.remote.webelement.WebElement (session=\"f8a8f20d7293871c9653ae897bdceb07\", element=\"976E803903A659B1489117BDF0BEF868_element_304\")>: 'Couple Leisure'},\n",
       " {<selenium.webdriver.remote.webelement.WebElement (session=\"f8a8f20d7293871c9653ae897bdceb07\", element=\"976E803903A659B1489117BDF0BEF868_element_305\")>: 'Seat Type',\n",
       "  <selenium.webdriver.remote.webelement.WebElement (session=\"f8a8f20d7293871c9653ae897bdceb07\", element=\"976E803903A659B1489117BDF0BEF868_element_306\")>: 'Economy Class'},\n",
       " {<selenium.webdriver.remote.webelement.WebElement (session=\"f8a8f20d7293871c9653ae897bdceb07\", element=\"976E803903A659B1489117BDF0BEF868_element_307\")>: 'Route',\n",
       "  <selenium.webdriver.remote.webelement.WebElement (session=\"f8a8f20d7293871c9653ae897bdceb07\", element=\"976E803903A659B1489117BDF0BEF868_element_308\")>: 'London Heathrow to Cape Town'},\n",
       " {<selenium.webdriver.remote.webelement.WebElement (session=\"f8a8f20d7293871c9653ae897bdceb07\", element=\"976E803903A659B1489117BDF0BEF868_element_309\")>: 'Date Flown',\n",
       "  <selenium.webdriver.remote.webelement.WebElement (session=\"f8a8f20d7293871c9653ae897bdceb07\", element=\"976E803903A659B1489117BDF0BEF868_element_310\")>: 'June 2023'},\n",
       " {<selenium.webdriver.remote.webelement.WebElement (session=\"f8a8f20d7293871c9653ae897bdceb07\", element=\"976E803903A659B1489117BDF0BEF868_element_311\")>: 'Seat Comfort',\n",
       "  <selenium.webdriver.remote.webelement.WebElement (session=\"f8a8f20d7293871c9653ae897bdceb07\", element=\"976E803903A659B1489117BDF0BEF868_element_312\")>: '12345'},\n",
       " {<selenium.webdriver.remote.webelement.WebElement (session=\"f8a8f20d7293871c9653ae897bdceb07\", element=\"976E803903A659B1489117BDF0BEF868_element_313\")>: 'Cabin Staff Service',\n",
       "  <selenium.webdriver.remote.webelement.WebElement (session=\"f8a8f20d7293871c9653ae897bdceb07\", element=\"976E803903A659B1489117BDF0BEF868_element_314\")>: '12345'},\n",
       " {<selenium.webdriver.remote.webelement.WebElement (session=\"f8a8f20d7293871c9653ae897bdceb07\", element=\"976E803903A659B1489117BDF0BEF868_element_315\")>: 'Food & Beverages',\n",
       "  <selenium.webdriver.remote.webelement.WebElement (session=\"f8a8f20d7293871c9653ae897bdceb07\", element=\"976E803903A659B1489117BDF0BEF868_element_316\")>: '12345'},\n",
       " {<selenium.webdriver.remote.webelement.WebElement (session=\"f8a8f20d7293871c9653ae897bdceb07\", element=\"976E803903A659B1489117BDF0BEF868_element_317\")>: 'Inflight Entertainment',\n",
       "  <selenium.webdriver.remote.webelement.WebElement (session=\"f8a8f20d7293871c9653ae897bdceb07\", element=\"976E803903A659B1489117BDF0BEF868_element_318\")>: '12345'},\n",
       " {<selenium.webdriver.remote.webelement.WebElement (session=\"f8a8f20d7293871c9653ae897bdceb07\", element=\"976E803903A659B1489117BDF0BEF868_element_319\")>: 'Ground Service',\n",
       "  <selenium.webdriver.remote.webelement.WebElement (session=\"f8a8f20d7293871c9653ae897bdceb07\", element=\"976E803903A659B1489117BDF0BEF868_element_320\")>: '12345'},\n",
       " {<selenium.webdriver.remote.webelement.WebElement (session=\"f8a8f20d7293871c9653ae897bdceb07\", element=\"976E803903A659B1489117BDF0BEF868_element_321\")>: 'Value For Money',\n",
       "  <selenium.webdriver.remote.webelement.WebElement (session=\"f8a8f20d7293871c9653ae897bdceb07\", element=\"976E803903A659B1489117BDF0BEF868_element_322\")>: '12345'},\n",
       " {<selenium.webdriver.remote.webelement.WebElement (session=\"f8a8f20d7293871c9653ae897bdceb07\", element=\"976E803903A659B1489117BDF0BEF868_element_323\")>: 'Recommended',\n",
       "  <selenium.webdriver.remote.webelement.WebElement (session=\"f8a8f20d7293871c9653ae897bdceb07\", element=\"976E803903A659B1489117BDF0BEF868_element_324\")>: 'no'},\n",
       " {<selenium.webdriver.remote.webelement.WebElement (session=\"f8a8f20d7293871c9653ae897bdceb07\", element=\"976E803903A659B1489117BDF0BEF868_element_325\")>: 'Type Of Traveller',\n",
       "  <selenium.webdriver.remote.webelement.WebElement (session=\"f8a8f20d7293871c9653ae897bdceb07\", element=\"976E803903A659B1489117BDF0BEF868_element_326\")>: 'Couple Leisure'},\n",
       " {<selenium.webdriver.remote.webelement.WebElement (session=\"f8a8f20d7293871c9653ae897bdceb07\", element=\"976E803903A659B1489117BDF0BEF868_element_327\")>: 'Seat Type',\n",
       "  <selenium.webdriver.remote.webelement.WebElement (session=\"f8a8f20d7293871c9653ae897bdceb07\", element=\"976E803903A659B1489117BDF0BEF868_element_328\")>: 'Economy Class'},\n",
       " {<selenium.webdriver.remote.webelement.WebElement (session=\"f8a8f20d7293871c9653ae897bdceb07\", element=\"976E803903A659B1489117BDF0BEF868_element_329\")>: 'Route',\n",
       "  <selenium.webdriver.remote.webelement.WebElement (session=\"f8a8f20d7293871c9653ae897bdceb07\", element=\"976E803903A659B1489117BDF0BEF868_element_330\")>: 'London Heathrow to Ibiza'},\n",
       " {<selenium.webdriver.remote.webelement.WebElement (session=\"f8a8f20d7293871c9653ae897bdceb07\", element=\"976E803903A659B1489117BDF0BEF868_element_331\")>: 'Date Flown',\n",
       "  <selenium.webdriver.remote.webelement.WebElement (session=\"f8a8f20d7293871c9653ae897bdceb07\", element=\"976E803903A659B1489117BDF0BEF868_element_332\")>: 'July 2023'},\n",
       " {<selenium.webdriver.remote.webelement.WebElement (session=\"f8a8f20d7293871c9653ae897bdceb07\", element=\"976E803903A659B1489117BDF0BEF868_element_333\")>: 'Ground Service',\n",
       "  <selenium.webdriver.remote.webelement.WebElement (session=\"f8a8f20d7293871c9653ae897bdceb07\", element=\"976E803903A659B1489117BDF0BEF868_element_334\")>: '12345'},\n",
       " {<selenium.webdriver.remote.webelement.WebElement (session=\"f8a8f20d7293871c9653ae897bdceb07\", element=\"976E803903A659B1489117BDF0BEF868_element_335\")>: 'Value For Money',\n",
       "  <selenium.webdriver.remote.webelement.WebElement (session=\"f8a8f20d7293871c9653ae897bdceb07\", element=\"976E803903A659B1489117BDF0BEF868_element_336\")>: '12345'},\n",
       " {<selenium.webdriver.remote.webelement.WebElement (session=\"f8a8f20d7293871c9653ae897bdceb07\", element=\"976E803903A659B1489117BDF0BEF868_element_337\")>: 'Recommended',\n",
       "  <selenium.webdriver.remote.webelement.WebElement (session=\"f8a8f20d7293871c9653ae897bdceb07\", element=\"976E803903A659B1489117BDF0BEF868_element_338\")>: 'no'},\n",
       " {<selenium.webdriver.remote.webelement.WebElement (session=\"f8a8f20d7293871c9653ae897bdceb07\", element=\"976E803903A659B1489117BDF0BEF868_element_339\")>: 'Aircraft',\n",
       "  <selenium.webdriver.remote.webelement.WebElement (session=\"f8a8f20d7293871c9653ae897bdceb07\", element=\"976E803903A659B1489117BDF0BEF868_element_340\")>: 'A380'},\n",
       " {<selenium.webdriver.remote.webelement.WebElement (session=\"f8a8f20d7293871c9653ae897bdceb07\", element=\"976E803903A659B1489117BDF0BEF868_element_341\")>: 'Type Of Traveller',\n",
       "  <selenium.webdriver.remote.webelement.WebElement (session=\"f8a8f20d7293871c9653ae897bdceb07\", element=\"976E803903A659B1489117BDF0BEF868_element_342\")>: 'Business'},\n",
       " {<selenium.webdriver.remote.webelement.WebElement (session=\"f8a8f20d7293871c9653ae897bdceb07\", element=\"976E803903A659B1489117BDF0BEF868_element_343\")>: 'Seat Type',\n",
       "  <selenium.webdriver.remote.webelement.WebElement (session=\"f8a8f20d7293871c9653ae897bdceb07\", element=\"976E803903A659B1489117BDF0BEF868_element_344\")>: 'Business Class'},\n",
       " {<selenium.webdriver.remote.webelement.WebElement (session=\"f8a8f20d7293871c9653ae897bdceb07\", element=\"976E803903A659B1489117BDF0BEF868_element_345\")>: 'Route',\n",
       "  <selenium.webdriver.remote.webelement.WebElement (session=\"f8a8f20d7293871c9653ae897bdceb07\", element=\"976E803903A659B1489117BDF0BEF868_element_346\")>: 'Washington to London'},\n",
       " {<selenium.webdriver.remote.webelement.WebElement (session=\"f8a8f20d7293871c9653ae897bdceb07\", element=\"976E803903A659B1489117BDF0BEF868_element_347\")>: 'Date Flown',\n",
       "  <selenium.webdriver.remote.webelement.WebElement (session=\"f8a8f20d7293871c9653ae897bdceb07\", element=\"976E803903A659B1489117BDF0BEF868_element_348\")>: 'June 2023'},\n",
       " {<selenium.webdriver.remote.webelement.WebElement (session=\"f8a8f20d7293871c9653ae897bdceb07\", element=\"976E803903A659B1489117BDF0BEF868_element_349\")>: 'Seat Comfort',\n",
       "  <selenium.webdriver.remote.webelement.WebElement (session=\"f8a8f20d7293871c9653ae897bdceb07\", element=\"976E803903A659B1489117BDF0BEF868_element_350\")>: '12345'},\n",
       " {<selenium.webdriver.remote.webelement.WebElement (session=\"f8a8f20d7293871c9653ae897bdceb07\", element=\"976E803903A659B1489117BDF0BEF868_element_351\")>: 'Cabin Staff Service',\n",
       "  <selenium.webdriver.remote.webelement.WebElement (session=\"f8a8f20d7293871c9653ae897bdceb07\", element=\"976E803903A659B1489117BDF0BEF868_element_352\")>: '12345'},\n",
       " {<selenium.webdriver.remote.webelement.WebElement (session=\"f8a8f20d7293871c9653ae897bdceb07\", element=\"976E803903A659B1489117BDF0BEF868_element_353\")>: 'Food & Beverages',\n",
       "  <selenium.webdriver.remote.webelement.WebElement (session=\"f8a8f20d7293871c9653ae897bdceb07\", element=\"976E803903A659B1489117BDF0BEF868_element_354\")>: '12345'},\n",
       " {<selenium.webdriver.remote.webelement.WebElement (session=\"f8a8f20d7293871c9653ae897bdceb07\", element=\"976E803903A659B1489117BDF0BEF868_element_355\")>: 'Inflight Entertainment',\n",
       "  <selenium.webdriver.remote.webelement.WebElement (session=\"f8a8f20d7293871c9653ae897bdceb07\", element=\"976E803903A659B1489117BDF0BEF868_element_356\")>: '12345'},\n",
       " {<selenium.webdriver.remote.webelement.WebElement (session=\"f8a8f20d7293871c9653ae897bdceb07\", element=\"976E803903A659B1489117BDF0BEF868_element_357\")>: 'Ground Service',\n",
       "  <selenium.webdriver.remote.webelement.WebElement (session=\"f8a8f20d7293871c9653ae897bdceb07\", element=\"976E803903A659B1489117BDF0BEF868_element_358\")>: '12345'},\n",
       " {<selenium.webdriver.remote.webelement.WebElement (session=\"f8a8f20d7293871c9653ae897bdceb07\", element=\"976E803903A659B1489117BDF0BEF868_element_359\")>: 'Value For Money',\n",
       "  <selenium.webdriver.remote.webelement.WebElement (session=\"f8a8f20d7293871c9653ae897bdceb07\", element=\"976E803903A659B1489117BDF0BEF868_element_360\")>: '12345'},\n",
       " {<selenium.webdriver.remote.webelement.WebElement (session=\"f8a8f20d7293871c9653ae897bdceb07\", element=\"976E803903A659B1489117BDF0BEF868_element_361\")>: 'Recommended',\n",
       "  <selenium.webdriver.remote.webelement.WebElement (session=\"f8a8f20d7293871c9653ae897bdceb07\", element=\"976E803903A659B1489117BDF0BEF868_element_362\")>: 'no'},\n",
       " {<selenium.webdriver.remote.webelement.WebElement (session=\"f8a8f20d7293871c9653ae897bdceb07\", element=\"976E803903A659B1489117BDF0BEF868_element_363\")>: 'Aircraft',\n",
       "  <selenium.webdriver.remote.webelement.WebElement (session=\"f8a8f20d7293871c9653ae897bdceb07\", element=\"976E803903A659B1489117BDF0BEF868_element_364\")>: 'A321'},\n",
       " {<selenium.webdriver.remote.webelement.WebElement (session=\"f8a8f20d7293871c9653ae897bdceb07\", element=\"976E803903A659B1489117BDF0BEF868_element_365\")>: 'Type Of Traveller',\n",
       "  <selenium.webdriver.remote.webelement.WebElement (session=\"f8a8f20d7293871c9653ae897bdceb07\", element=\"976E803903A659B1489117BDF0BEF868_element_366\")>: 'Couple Leisure'},\n",
       " {<selenium.webdriver.remote.webelement.WebElement (session=\"f8a8f20d7293871c9653ae897bdceb07\", element=\"976E803903A659B1489117BDF0BEF868_element_367\")>: 'Seat Type',\n",
       "  <selenium.webdriver.remote.webelement.WebElement (session=\"f8a8f20d7293871c9653ae897bdceb07\", element=\"976E803903A659B1489117BDF0BEF868_element_368\")>: 'Economy Class'},\n",
       " {<selenium.webdriver.remote.webelement.WebElement (session=\"f8a8f20d7293871c9653ae897bdceb07\", element=\"976E803903A659B1489117BDF0BEF868_element_369\")>: 'Route',\n",
       "  <selenium.webdriver.remote.webelement.WebElement (session=\"f8a8f20d7293871c9653ae897bdceb07\", element=\"976E803903A659B1489117BDF0BEF868_element_370\")>: 'London Heathrow to Naples'},\n",
       " {<selenium.webdriver.remote.webelement.WebElement (session=\"f8a8f20d7293871c9653ae897bdceb07\", element=\"976E803903A659B1489117BDF0BEF868_element_371\")>: 'Date Flown',\n",
       "  <selenium.webdriver.remote.webelement.WebElement (session=\"f8a8f20d7293871c9653ae897bdceb07\", element=\"976E803903A659B1489117BDF0BEF868_element_372\")>: 'June 2023'},\n",
       " {<selenium.webdriver.remote.webelement.WebElement (session=\"f8a8f20d7293871c9653ae897bdceb07\", element=\"976E803903A659B1489117BDF0BEF868_element_373\")>: 'Seat Comfort',\n",
       "  <selenium.webdriver.remote.webelement.WebElement (session=\"f8a8f20d7293871c9653ae897bdceb07\", element=\"976E803903A659B1489117BDF0BEF868_element_374\")>: '12345'},\n",
       " {<selenium.webdriver.remote.webelement.WebElement (session=\"f8a8f20d7293871c9653ae897bdceb07\", element=\"976E803903A659B1489117BDF0BEF868_element_375\")>: 'Cabin Staff Service',\n",
       "  <selenium.webdriver.remote.webelement.WebElement (session=\"f8a8f20d7293871c9653ae897bdceb07\", element=\"976E803903A659B1489117BDF0BEF868_element_376\")>: '12345'},\n",
       " {<selenium.webdriver.remote.webelement.WebElement (session=\"f8a8f20d7293871c9653ae897bdceb07\", element=\"976E803903A659B1489117BDF0BEF868_element_377\")>: 'Food & Beverages',\n",
       "  <selenium.webdriver.remote.webelement.WebElement (session=\"f8a8f20d7293871c9653ae897bdceb07\", element=\"976E803903A659B1489117BDF0BEF868_element_378\")>: '12345'},\n",
       " {<selenium.webdriver.remote.webelement.WebElement (session=\"f8a8f20d7293871c9653ae897bdceb07\", element=\"976E803903A659B1489117BDF0BEF868_element_379\")>: 'Ground Service',\n",
       "  <selenium.webdriver.remote.webelement.WebElement (session=\"f8a8f20d7293871c9653ae897bdceb07\", element=\"976E803903A659B1489117BDF0BEF868_element_380\")>: '12345'},\n",
       " {<selenium.webdriver.remote.webelement.WebElement (session=\"f8a8f20d7293871c9653ae897bdceb07\", element=\"976E803903A659B1489117BDF0BEF868_element_381\")>: 'Value For Money',\n",
       "  <selenium.webdriver.remote.webelement.WebElement (session=\"f8a8f20d7293871c9653ae897bdceb07\", element=\"976E803903A659B1489117BDF0BEF868_element_382\")>: '12345'},\n",
       " {<selenium.webdriver.remote.webelement.WebElement (session=\"f8a8f20d7293871c9653ae897bdceb07\", element=\"976E803903A659B1489117BDF0BEF868_element_383\")>: 'Recommended',\n",
       "  <selenium.webdriver.remote.webelement.WebElement (session=\"f8a8f20d7293871c9653ae897bdceb07\", element=\"976E803903A659B1489117BDF0BEF868_element_384\")>: 'no'},\n",
       " {<selenium.webdriver.remote.webelement.WebElement (session=\"f8a8f20d7293871c9653ae897bdceb07\", element=\"976E803903A659B1489117BDF0BEF868_element_385\")>: 'Aircraft',\n",
       "  <selenium.webdriver.remote.webelement.WebElement (session=\"f8a8f20d7293871c9653ae897bdceb07\", element=\"976E803903A659B1489117BDF0BEF868_element_386\")>: 'A320'},\n",
       " {<selenium.webdriver.remote.webelement.WebElement (session=\"f8a8f20d7293871c9653ae897bdceb07\", element=\"976E803903A659B1489117BDF0BEF868_element_387\")>: 'Type Of Traveller',\n",
       "  <selenium.webdriver.remote.webelement.WebElement (session=\"f8a8f20d7293871c9653ae897bdceb07\", element=\"976E803903A659B1489117BDF0BEF868_element_388\")>: 'Solo Leisure'},\n",
       " {<selenium.webdriver.remote.webelement.WebElement (session=\"f8a8f20d7293871c9653ae897bdceb07\", element=\"976E803903A659B1489117BDF0BEF868_element_389\")>: 'Seat Type',\n",
       "  <selenium.webdriver.remote.webelement.WebElement (session=\"f8a8f20d7293871c9653ae897bdceb07\", element=\"976E803903A659B1489117BDF0BEF868_element_390\")>: 'Economy Class'},\n",
       " {<selenium.webdriver.remote.webelement.WebElement (session=\"f8a8f20d7293871c9653ae897bdceb07\", element=\"976E803903A659B1489117BDF0BEF868_element_391\")>: 'Route',\n",
       "  <selenium.webdriver.remote.webelement.WebElement (session=\"f8a8f20d7293871c9653ae897bdceb07\", element=\"976E803903A659B1489117BDF0BEF868_element_392\")>: 'Berlin to London'},\n",
       " {<selenium.webdriver.remote.webelement.WebElement (session=\"f8a8f20d7293871c9653ae897bdceb07\", element=\"976E803903A659B1489117BDF0BEF868_element_393\")>: 'Date Flown',\n",
       "  <selenium.webdriver.remote.webelement.WebElement (session=\"f8a8f20d7293871c9653ae897bdceb07\", element=\"976E803903A659B1489117BDF0BEF868_element_394\")>: 'July 2023'},\n",
       " {<selenium.webdriver.remote.webelement.WebElement (session=\"f8a8f20d7293871c9653ae897bdceb07\", element=\"976E803903A659B1489117BDF0BEF868_element_395\")>: 'Seat Comfort',\n",
       "  <selenium.webdriver.remote.webelement.WebElement (session=\"f8a8f20d7293871c9653ae897bdceb07\", element=\"976E803903A659B1489117BDF0BEF868_element_396\")>: '12345'},\n",
       " {<selenium.webdriver.remote.webelement.WebElement (session=\"f8a8f20d7293871c9653ae897bdceb07\", element=\"976E803903A659B1489117BDF0BEF868_element_397\")>: 'Cabin Staff Service',\n",
       "  <selenium.webdriver.remote.webelement.WebElement (session=\"f8a8f20d7293871c9653ae897bdceb07\", element=\"976E803903A659B1489117BDF0BEF868_element_398\")>: '12345'},\n",
       " {<selenium.webdriver.remote.webelement.WebElement (session=\"f8a8f20d7293871c9653ae897bdceb07\", element=\"976E803903A659B1489117BDF0BEF868_element_399\")>: 'Food & Beverages',\n",
       "  <selenium.webdriver.remote.webelement.WebElement (session=\"f8a8f20d7293871c9653ae897bdceb07\", element=\"976E803903A659B1489117BDF0BEF868_element_400\")>: '12345'},\n",
       " {<selenium.webdriver.remote.webelement.WebElement (session=\"f8a8f20d7293871c9653ae897bdceb07\", element=\"976E803903A659B1489117BDF0BEF868_element_401\")>: 'Ground Service',\n",
       "  <selenium.webdriver.remote.webelement.WebElement (session=\"f8a8f20d7293871c9653ae897bdceb07\", element=\"976E803903A659B1489117BDF0BEF868_element_402\")>: '12345'},\n",
       " {<selenium.webdriver.remote.webelement.WebElement (session=\"f8a8f20d7293871c9653ae897bdceb07\", element=\"976E803903A659B1489117BDF0BEF868_element_403\")>: 'Wifi & Connectivity',\n",
       "  <selenium.webdriver.remote.webelement.WebElement (session=\"f8a8f20d7293871c9653ae897bdceb07\", element=\"976E803903A659B1489117BDF0BEF868_element_404\")>: '12345'},\n",
       " {<selenium.webdriver.remote.webelement.WebElement (session=\"f8a8f20d7293871c9653ae897bdceb07\", element=\"976E803903A659B1489117BDF0BEF868_element_405\")>: 'Value For Money',\n",
       "  <selenium.webdriver.remote.webelement.WebElement (session=\"f8a8f20d7293871c9653ae897bdceb07\", element=\"976E803903A659B1489117BDF0BEF868_element_406\")>: '12345'},\n",
       " {<selenium.webdriver.remote.webelement.WebElement (session=\"f8a8f20d7293871c9653ae897bdceb07\", element=\"976E803903A659B1489117BDF0BEF868_element_407\")>: 'Recommended',\n",
       "  <selenium.webdriver.remote.webelement.WebElement (session=\"f8a8f20d7293871c9653ae897bdceb07\", element=\"976E803903A659B1489117BDF0BEF868_element_408\")>: 'yes'},\n",
       " {<selenium.webdriver.remote.webelement.WebElement (session=\"f8a8f20d7293871c9653ae897bdceb07\", element=\"976E803903A659B1489117BDF0BEF868_element_409\")>: 'Type Of Traveller',\n",
       "  <selenium.webdriver.remote.webelement.WebElement (session=\"f8a8f20d7293871c9653ae897bdceb07\", element=\"976E803903A659B1489117BDF0BEF868_element_410\")>: 'Family Leisure'},\n",
       " {<selenium.webdriver.remote.webelement.WebElement (session=\"f8a8f20d7293871c9653ae897bdceb07\", element=\"976E803903A659B1489117BDF0BEF868_element_411\")>: 'Seat Type',\n",
       "  <selenium.webdriver.remote.webelement.WebElement (session=\"f8a8f20d7293871c9653ae897bdceb07\", element=\"976E803903A659B1489117BDF0BEF868_element_412\")>: 'Economy Class'},\n",
       " {<selenium.webdriver.remote.webelement.WebElement (session=\"f8a8f20d7293871c9653ae897bdceb07\", element=\"976E803903A659B1489117BDF0BEF868_element_413\")>: 'Route',\n",
       "  <selenium.webdriver.remote.webelement.WebElement (session=\"f8a8f20d7293871c9653ae897bdceb07\", element=\"976E803903A659B1489117BDF0BEF868_element_414\")>: 'Glasgow to London'},\n",
       " {<selenium.webdriver.remote.webelement.WebElement (session=\"f8a8f20d7293871c9653ae897bdceb07\", element=\"976E803903A659B1489117BDF0BEF868_element_415\")>: 'Date Flown',\n",
       "  <selenium.webdriver.remote.webelement.WebElement (session=\"f8a8f20d7293871c9653ae897bdceb07\", element=\"976E803903A659B1489117BDF0BEF868_element_416\")>: 'June 2023'},\n",
       " {<selenium.webdriver.remote.webelement.WebElement (session=\"f8a8f20d7293871c9653ae897bdceb07\", element=\"976E803903A659B1489117BDF0BEF868_element_417\")>: 'Seat Comfort',\n",
       "  <selenium.webdriver.remote.webelement.WebElement (session=\"f8a8f20d7293871c9653ae897bdceb07\", element=\"976E803903A659B1489117BDF0BEF868_element_418\")>: '12345'},\n",
       " {<selenium.webdriver.remote.webelement.WebElement (session=\"f8a8f20d7293871c9653ae897bdceb07\", element=\"976E803903A659B1489117BDF0BEF868_element_419\")>: 'Cabin Staff Service',\n",
       "  <selenium.webdriver.remote.webelement.WebElement (session=\"f8a8f20d7293871c9653ae897bdceb07\", element=\"976E803903A659B1489117BDF0BEF868_element_420\")>: '12345'},\n",
       " {<selenium.webdriver.remote.webelement.WebElement (session=\"f8a8f20d7293871c9653ae897bdceb07\", element=\"976E803903A659B1489117BDF0BEF868_element_421\")>: 'Ground Service',\n",
       "  <selenium.webdriver.remote.webelement.WebElement (session=\"f8a8f20d7293871c9653ae897bdceb07\", element=\"976E803903A659B1489117BDF0BEF868_element_422\")>: '12345'},\n",
       " {<selenium.webdriver.remote.webelement.WebElement (session=\"f8a8f20d7293871c9653ae897bdceb07\", element=\"976E803903A659B1489117BDF0BEF868_element_423\")>: 'Value For Money',\n",
       "  <selenium.webdriver.remote.webelement.WebElement (session=\"f8a8f20d7293871c9653ae897bdceb07\", element=\"976E803903A659B1489117BDF0BEF868_element_424\")>: '12345'},\n",
       " {<selenium.webdriver.remote.webelement.WebElement (session=\"f8a8f20d7293871c9653ae897bdceb07\", element=\"976E803903A659B1489117BDF0BEF868_element_425\")>: 'Recommended',\n",
       "  <selenium.webdriver.remote.webelement.WebElement (session=\"f8a8f20d7293871c9653ae897bdceb07\", element=\"976E803903A659B1489117BDF0BEF868_element_426\")>: 'no'},\n",
       " {<selenium.webdriver.remote.webelement.WebElement (session=\"f8a8f20d7293871c9653ae897bdceb07\", element=\"976E803903A659B1489117BDF0BEF868_element_206\")>: 'Food & Beverages',\n",
       "  <selenium.webdriver.remote.webelement.WebElement (session=\"f8a8f20d7293871c9653ae897bdceb07\", element=\"976E803903A659B1489117BDF0BEF868_element_14\")>: '12345'},\n",
       " {<selenium.webdriver.remote.webelement.WebElement (session=\"f8a8f20d7293871c9653ae897bdceb07\", element=\"976E803903A659B1489117BDF0BEF868_element_207\")>: 'Inflight Entertainment',\n",
       "  <selenium.webdriver.remote.webelement.WebElement (session=\"f8a8f20d7293871c9653ae897bdceb07\", element=\"976E803903A659B1489117BDF0BEF868_element_20\")>: '12345'},\n",
       " {<selenium.webdriver.remote.webelement.WebElement (session=\"f8a8f20d7293871c9653ae897bdceb07\", element=\"976E803903A659B1489117BDF0BEF868_element_208\")>: 'Seat Comfort',\n",
       "  <selenium.webdriver.remote.webelement.WebElement (session=\"f8a8f20d7293871c9653ae897bdceb07\", element=\"976E803903A659B1489117BDF0BEF868_element_26\")>: '12345'},\n",
       " {<selenium.webdriver.remote.webelement.WebElement (session=\"f8a8f20d7293871c9653ae897bdceb07\", element=\"976E803903A659B1489117BDF0BEF868_element_209\")>: 'Staff Service',\n",
       "  <selenium.webdriver.remote.webelement.WebElement (session=\"f8a8f20d7293871c9653ae897bdceb07\", element=\"976E803903A659B1489117BDF0BEF868_element_32\")>: '12345'},\n",
       " {<selenium.webdriver.remote.webelement.WebElement (session=\"f8a8f20d7293871c9653ae897bdceb07\", element=\"976E803903A659B1489117BDF0BEF868_element_210\")>: 'Value for Money',\n",
       "  <selenium.webdriver.remote.webelement.WebElement (session=\"f8a8f20d7293871c9653ae897bdceb07\", element=\"976E803903A659B1489117BDF0BEF868_element_38\")>: '12345'},\n",
       " {<selenium.webdriver.remote.webelement.WebElement (session=\"f8a8f20d7293871c9653ae897bdceb07\", element=\"976E803903A659B1489117BDF0BEF868_element_211\")>: 'Aircraft',\n",
       "  <selenium.webdriver.remote.webelement.WebElement (session=\"f8a8f20d7293871c9653ae897bdceb07\", element=\"976E803903A659B1489117BDF0BEF868_element_212\")>: 'Boeing 777'},\n",
       " {<selenium.webdriver.remote.webelement.WebElement (session=\"f8a8f20d7293871c9653ae897bdceb07\", element=\"976E803903A659B1489117BDF0BEF868_element_213\")>: 'Type Of Traveller',\n",
       "  <selenium.webdriver.remote.webelement.WebElement (session=\"f8a8f20d7293871c9653ae897bdceb07\", element=\"976E803903A659B1489117BDF0BEF868_element_214\")>: 'Couple Leisure'},\n",
       " {<selenium.webdriver.remote.webelement.WebElement (session=\"f8a8f20d7293871c9653ae897bdceb07\", element=\"976E803903A659B1489117BDF0BEF868_element_215\")>: 'Seat Type',\n",
       "  <selenium.webdriver.remote.webelement.WebElement (session=\"f8a8f20d7293871c9653ae897bdceb07\", element=\"976E803903A659B1489117BDF0BEF868_element_216\")>: 'Premium Economy'},\n",
       " {<selenium.webdriver.remote.webelement.WebElement (session=\"f8a8f20d7293871c9653ae897bdceb07\", element=\"976E803903A659B1489117BDF0BEF868_element_217\")>: 'Route',\n",
       "  <selenium.webdriver.remote.webelement.WebElement (session=\"f8a8f20d7293871c9653ae897bdceb07\", element=\"976E803903A659B1489117BDF0BEF868_element_218\")>: 'Chennai to London'},\n",
       " {<selenium.webdriver.remote.webelement.WebElement (session=\"f8a8f20d7293871c9653ae897bdceb07\", element=\"976E803903A659B1489117BDF0BEF868_element_219\")>: 'Date Flown',\n",
       "  <selenium.webdriver.remote.webelement.WebElement (session=\"f8a8f20d7293871c9653ae897bdceb07\", element=\"976E803903A659B1489117BDF0BEF868_element_220\")>: 'July 2023'},\n",
       " {<selenium.webdriver.remote.webelement.WebElement (session=\"f8a8f20d7293871c9653ae897bdceb07\", element=\"976E803903A659B1489117BDF0BEF868_element_221\")>: 'Seat Comfort',\n",
       "  <selenium.webdriver.remote.webelement.WebElement (session=\"f8a8f20d7293871c9653ae897bdceb07\", element=\"976E803903A659B1489117BDF0BEF868_element_222\")>: '12345'},\n",
       " {<selenium.webdriver.remote.webelement.WebElement (session=\"f8a8f20d7293871c9653ae897bdceb07\", element=\"976E803903A659B1489117BDF0BEF868_element_223\")>: 'Cabin Staff Service',\n",
       "  <selenium.webdriver.remote.webelement.WebElement (session=\"f8a8f20d7293871c9653ae897bdceb07\", element=\"976E803903A659B1489117BDF0BEF868_element_224\")>: '12345'},\n",
       " {<selenium.webdriver.remote.webelement.WebElement (session=\"f8a8f20d7293871c9653ae897bdceb07\", element=\"976E803903A659B1489117BDF0BEF868_element_225\")>: 'Food & Beverages',\n",
       "  <selenium.webdriver.remote.webelement.WebElement (session=\"f8a8f20d7293871c9653ae897bdceb07\", element=\"976E803903A659B1489117BDF0BEF868_element_226\")>: '12345'},\n",
       " {<selenium.webdriver.remote.webelement.WebElement (session=\"f8a8f20d7293871c9653ae897bdceb07\", element=\"976E803903A659B1489117BDF0BEF868_element_227\")>: 'Inflight Entertainment',\n",
       "  <selenium.webdriver.remote.webelement.WebElement (session=\"f8a8f20d7293871c9653ae897bdceb07\", element=\"976E803903A659B1489117BDF0BEF868_element_228\")>: '12345'},\n",
       " {<selenium.webdriver.remote.webelement.WebElement (session=\"f8a8f20d7293871c9653ae897bdceb07\", element=\"976E803903A659B1489117BDF0BEF868_element_229\")>: 'Ground Service',\n",
       "  <selenium.webdriver.remote.webelement.WebElement (session=\"f8a8f20d7293871c9653ae897bdceb07\", element=\"976E803903A659B1489117BDF0BEF868_element_230\")>: '12345'},\n",
       " {<selenium.webdriver.remote.webelement.WebElement (session=\"f8a8f20d7293871c9653ae897bdceb07\", element=\"976E803903A659B1489117BDF0BEF868_element_231\")>: 'Value For Money',\n",
       "  <selenium.webdriver.remote.webelement.WebElement (session=\"f8a8f20d7293871c9653ae897bdceb07\", element=\"976E803903A659B1489117BDF0BEF868_element_232\")>: '12345'},\n",
       " {<selenium.webdriver.remote.webelement.WebElement (session=\"f8a8f20d7293871c9653ae897bdceb07\", element=\"976E803903A659B1489117BDF0BEF868_element_233\")>: 'Recommended',\n",
       "  <selenium.webdriver.remote.webelement.WebElement (session=\"f8a8f20d7293871c9653ae897bdceb07\", element=\"976E803903A659B1489117BDF0BEF868_element_234\")>: 'no'},\n",
       " {<selenium.webdriver.remote.webelement.WebElement (session=\"f8a8f20d7293871c9653ae897bdceb07\", element=\"976E803903A659B1489117BDF0BEF868_element_235\")>: 'Aircraft',\n",
       "  <selenium.webdriver.remote.webelement.WebElement (session=\"f8a8f20d7293871c9653ae897bdceb07\", element=\"976E803903A659B1489117BDF0BEF868_element_236\")>: 'A321neo'},\n",
       " {<selenium.webdriver.remote.webelement.WebElement (session=\"f8a8f20d7293871c9653ae897bdceb07\", element=\"976E803903A659B1489117BDF0BEF868_element_237\")>: 'Type Of Traveller',\n",
       "  <selenium.webdriver.remote.webelement.WebElement (session=\"f8a8f20d7293871c9653ae897bdceb07\", element=\"976E803903A659B1489117BDF0BEF868_element_238\")>: 'Couple Leisure'},\n",
       " {<selenium.webdriver.remote.webelement.WebElement (session=\"f8a8f20d7293871c9653ae897bdceb07\", element=\"976E803903A659B1489117BDF0BEF868_element_239\")>: 'Seat Type',\n",
       "  <selenium.webdriver.remote.webelement.WebElement (session=\"f8a8f20d7293871c9653ae897bdceb07\", element=\"976E803903A659B1489117BDF0BEF868_element_240\")>: 'Economy Class'},\n",
       " {<selenium.webdriver.remote.webelement.WebElement (session=\"f8a8f20d7293871c9653ae897bdceb07\", element=\"976E803903A659B1489117BDF0BEF868_element_241\")>: 'Route',\n",
       "  <selenium.webdriver.remote.webelement.WebElement (session=\"f8a8f20d7293871c9653ae897bdceb07\", element=\"976E803903A659B1489117BDF0BEF868_element_242\")>: 'Istanbul to London'},\n",
       " {<selenium.webdriver.remote.webelement.WebElement (session=\"f8a8f20d7293871c9653ae897bdceb07\", element=\"976E803903A659B1489117BDF0BEF868_element_243\")>: 'Date Flown',\n",
       "  <selenium.webdriver.remote.webelement.WebElement (session=\"f8a8f20d7293871c9653ae897bdceb07\", element=\"976E803903A659B1489117BDF0BEF868_element_244\")>: 'July 2023'},\n",
       " {<selenium.webdriver.remote.webelement.WebElement (session=\"f8a8f20d7293871c9653ae897bdceb07\", element=\"976E803903A659B1489117BDF0BEF868_element_245\")>: 'Seat Comfort',\n",
       "  <selenium.webdriver.remote.webelement.WebElement (session=\"f8a8f20d7293871c9653ae897bdceb07\", element=\"976E803903A659B1489117BDF0BEF868_element_246\")>: '12345'},\n",
       " {<selenium.webdriver.remote.webelement.WebElement (session=\"f8a8f20d7293871c9653ae897bdceb07\", element=\"976E803903A659B1489117BDF0BEF868_element_247\")>: 'Cabin Staff Service',\n",
       "  <selenium.webdriver.remote.webelement.WebElement (session=\"f8a8f20d7293871c9653ae897bdceb07\", element=\"976E803903A659B1489117BDF0BEF868_element_248\")>: '12345'},\n",
       " {<selenium.webdriver.remote.webelement.WebElement (session=\"f8a8f20d7293871c9653ae897bdceb07\", element=\"976E803903A659B1489117BDF0BEF868_element_249\")>: 'Ground Service',\n",
       "  <selenium.webdriver.remote.webelement.WebElement (session=\"f8a8f20d7293871c9653ae897bdceb07\", element=\"976E803903A659B1489117BDF0BEF868_element_250\")>: '12345'},\n",
       " {<selenium.webdriver.remote.webelement.WebElement (session=\"f8a8f20d7293871c9653ae897bdceb07\", element=\"976E803903A659B1489117BDF0BEF868_element_251\")>: 'Value For Money',\n",
       "  <selenium.webdriver.remote.webelement.WebElement (session=\"f8a8f20d7293871c9653ae897bdceb07\", element=\"976E803903A659B1489117BDF0BEF868_element_252\")>: '12345'},\n",
       " {<selenium.webdriver.remote.webelement.WebElement (session=\"f8a8f20d7293871c9653ae897bdceb07\", element=\"976E803903A659B1489117BDF0BEF868_element_253\")>: 'Recommended',\n",
       "  <selenium.webdriver.remote.webelement.WebElement (session=\"f8a8f20d7293871c9653ae897bdceb07\", element=\"976E803903A659B1489117BDF0BEF868_element_254\")>: 'no'},\n",
       " {<selenium.webdriver.remote.webelement.WebElement (session=\"f8a8f20d7293871c9653ae897bdceb07\", element=\"976E803903A659B1489117BDF0BEF868_element_255\")>: 'Type Of Traveller',\n",
       "  <selenium.webdriver.remote.webelement.WebElement (session=\"f8a8f20d7293871c9653ae897bdceb07\", element=\"976E803903A659B1489117BDF0BEF868_element_256\")>: 'Solo Leisure'},\n",
       " {<selenium.webdriver.remote.webelement.WebElement (session=\"f8a8f20d7293871c9653ae897bdceb07\", element=\"976E803903A659B1489117BDF0BEF868_element_257\")>: 'Seat Type',\n",
       "  <selenium.webdriver.remote.webelement.WebElement (session=\"f8a8f20d7293871c9653ae897bdceb07\", element=\"976E803903A659B1489117BDF0BEF868_element_258\")>: 'Economy Class'},\n",
       " {<selenium.webdriver.remote.webelement.WebElement (session=\"f8a8f20d7293871c9653ae897bdceb07\", element=\"976E803903A659B1489117BDF0BEF868_element_259\")>: 'Route',\n",
       "  <selenium.webdriver.remote.webelement.WebElement (session=\"f8a8f20d7293871c9653ae897bdceb07\", element=\"976E803903A659B1489117BDF0BEF868_element_260\")>: 'London to Edinburgh'},\n",
       " {<selenium.webdriver.remote.webelement.WebElement (session=\"f8a8f20d7293871c9653ae897bdceb07\", element=\"976E803903A659B1489117BDF0BEF868_element_261\")>: 'Date Flown',\n",
       "  <selenium.webdriver.remote.webelement.WebElement (session=\"f8a8f20d7293871c9653ae897bdceb07\", element=\"976E803903A659B1489117BDF0BEF868_element_262\")>: 'November 2022'},\n",
       " {<selenium.webdriver.remote.webelement.WebElement (session=\"f8a8f20d7293871c9653ae897bdceb07\", element=\"976E803903A659B1489117BDF0BEF868_element_263\")>: 'Seat Comfort',\n",
       "  <selenium.webdriver.remote.webelement.WebElement (session=\"f8a8f20d7293871c9653ae897bdceb07\", element=\"976E803903A659B1489117BDF0BEF868_element_264\")>: '12345'},\n",
       " {<selenium.webdriver.remote.webelement.WebElement (session=\"f8a8f20d7293871c9653ae897bdceb07\", element=\"976E803903A659B1489117BDF0BEF868_element_265\")>: 'Cabin Staff Service',\n",
       "  <selenium.webdriver.remote.webelement.WebElement (session=\"f8a8f20d7293871c9653ae897bdceb07\", element=\"976E803903A659B1489117BDF0BEF868_element_266\")>: '12345'},\n",
       " {<selenium.webdriver.remote.webelement.WebElement (session=\"f8a8f20d7293871c9653ae897bdceb07\", element=\"976E803903A659B1489117BDF0BEF868_element_267\")>: 'Food & Beverages',\n",
       "  <selenium.webdriver.remote.webelement.WebElement (session=\"f8a8f20d7293871c9653ae897bdceb07\", element=\"976E803903A659B1489117BDF0BEF868_element_268\")>: '12345'},\n",
       " {<selenium.webdriver.remote.webelement.WebElement (session=\"f8a8f20d7293871c9653ae897bdceb07\", element=\"976E803903A659B1489117BDF0BEF868_element_269\")>: 'Inflight Entertainment',\n",
       "  <selenium.webdriver.remote.webelement.WebElement (session=\"f8a8f20d7293871c9653ae897bdceb07\", element=\"976E803903A659B1489117BDF0BEF868_element_270\")>: '12345'},\n",
       " {<selenium.webdriver.remote.webelement.WebElement (session=\"f8a8f20d7293871c9653ae897bdceb07\", element=\"976E803903A659B1489117BDF0BEF868_element_271\")>: 'Ground Service',\n",
       "  <selenium.webdriver.remote.webelement.WebElement (session=\"f8a8f20d7293871c9653ae897bdceb07\", element=\"976E803903A659B1489117BDF0BEF868_element_272\")>: '12345'},\n",
       " {<selenium.webdriver.remote.webelement.WebElement (session=\"f8a8f20d7293871c9653ae897bdceb07\", element=\"976E803903A659B1489117BDF0BEF868_element_273\")>: 'Value For Money',\n",
       "  <selenium.webdriver.remote.webelement.WebElement (session=\"f8a8f20d7293871c9653ae897bdceb07\", element=\"976E803903A659B1489117BDF0BEF868_element_274\")>: '12345'},\n",
       " {<selenium.webdriver.remote.webelement.WebElement (session=\"f8a8f20d7293871c9653ae897bdceb07\", element=\"976E803903A659B1489117BDF0BEF868_element_275\")>: 'Recommended',\n",
       "  <selenium.webdriver.remote.webelement.WebElement (session=\"f8a8f20d7293871c9653ae897bdceb07\", element=\"976E803903A659B1489117BDF0BEF868_element_276\")>: 'no'},\n",
       " {<selenium.webdriver.remote.webelement.WebElement (session=\"f8a8f20d7293871c9653ae897bdceb07\", element=\"976E803903A659B1489117BDF0BEF868_element_277\")>: 'Aircraft',\n",
       "  <selenium.webdriver.remote.webelement.WebElement (session=\"f8a8f20d7293871c9653ae897bdceb07\", element=\"976E803903A659B1489117BDF0BEF868_element_278\")>: 'Boeing 777 -200'},\n",
       " {<selenium.webdriver.remote.webelement.WebElement (session=\"f8a8f20d7293871c9653ae897bdceb07\", element=\"976E803903A659B1489117BDF0BEF868_element_279\")>: 'Type Of Traveller',\n",
       "  <selenium.webdriver.remote.webelement.WebElement (session=\"f8a8f20d7293871c9653ae897bdceb07\", element=\"976E803903A659B1489117BDF0BEF868_element_280\")>: 'Family Leisure'},\n",
       " {<selenium.webdriver.remote.webelement.WebElement (session=\"f8a8f20d7293871c9653ae897bdceb07\", element=\"976E803903A659B1489117BDF0BEF868_element_281\")>: 'Seat Type',\n",
       "  <selenium.webdriver.remote.webelement.WebElement (session=\"f8a8f20d7293871c9653ae897bdceb07\", element=\"976E803903A659B1489117BDF0BEF868_element_282\")>: 'Premium Economy'},\n",
       " {<selenium.webdriver.remote.webelement.WebElement (session=\"f8a8f20d7293871c9653ae897bdceb07\", element=\"976E803903A659B1489117BDF0BEF868_element_283\")>: 'Route',\n",
       "  <selenium.webdriver.remote.webelement.WebElement (session=\"f8a8f20d7293871c9653ae897bdceb07\", element=\"976E803903A659B1489117BDF0BEF868_element_284\")>: 'Kingston to London'},\n",
       " {<selenium.webdriver.remote.webelement.WebElement (session=\"f8a8f20d7293871c9653ae897bdceb07\", element=\"976E803903A659B1489117BDF0BEF868_element_285\")>: 'Date Flown',\n",
       "  <selenium.webdriver.remote.webelement.WebElement (session=\"f8a8f20d7293871c9653ae897bdceb07\", element=\"976E803903A659B1489117BDF0BEF868_element_286\")>: 'June 2023'},\n",
       " {<selenium.webdriver.remote.webelement.WebElement (session=\"f8a8f20d7293871c9653ae897bdceb07\", element=\"976E803903A659B1489117BDF0BEF868_element_287\")>: 'Seat Comfort',\n",
       "  <selenium.webdriver.remote.webelement.WebElement (session=\"f8a8f20d7293871c9653ae897bdceb07\", element=\"976E803903A659B1489117BDF0BEF868_element_288\")>: '12345'},\n",
       " {<selenium.webdriver.remote.webelement.WebElement (session=\"f8a8f20d7293871c9653ae897bdceb07\", element=\"976E803903A659B1489117BDF0BEF868_element_289\")>: 'Cabin Staff Service',\n",
       "  <selenium.webdriver.remote.webelement.WebElement (session=\"f8a8f20d7293871c9653ae897bdceb07\", element=\"976E803903A659B1489117BDF0BEF868_element_290\")>: '12345'},\n",
       " {<selenium.webdriver.remote.webelement.WebElement (session=\"f8a8f20d7293871c9653ae897bdceb07\", element=\"976E803903A659B1489117BDF0BEF868_element_291\")>: 'Food & Beverages',\n",
       "  <selenium.webdriver.remote.webelement.WebElement (session=\"f8a8f20d7293871c9653ae897bdceb07\", element=\"976E803903A659B1489117BDF0BEF868_element_292\")>: '12345'},\n",
       " {<selenium.webdriver.remote.webelement.WebElement (session=\"f8a8f20d7293871c9653ae897bdceb07\", element=\"976E803903A659B1489117BDF0BEF868_element_293\")>: 'Inflight Entertainment',\n",
       "  <selenium.webdriver.remote.webelement.WebElement (session=\"f8a8f20d7293871c9653ae897bdceb07\", element=\"976E803903A659B1489117BDF0BEF868_element_294\")>: '12345'},\n",
       " {<selenium.webdriver.remote.webelement.WebElement (session=\"f8a8f20d7293871c9653ae897bdceb07\", element=\"976E803903A659B1489117BDF0BEF868_element_295\")>: 'Ground Service',\n",
       "  <selenium.webdriver.remote.webelement.WebElement (session=\"f8a8f20d7293871c9653ae897bdceb07\", element=\"976E803903A659B1489117BDF0BEF868_element_296\")>: '12345'},\n",
       " {<selenium.webdriver.remote.webelement.WebElement (session=\"f8a8f20d7293871c9653ae897bdceb07\", element=\"976E803903A659B1489117BDF0BEF868_element_297\")>: 'Value For Money',\n",
       "  <selenium.webdriver.remote.webelement.WebElement (session=\"f8a8f20d7293871c9653ae897bdceb07\", element=\"976E803903A659B1489117BDF0BEF868_element_298\")>: '12345'},\n",
       " {<selenium.webdriver.remote.webelement.WebElement (session=\"f8a8f20d7293871c9653ae897bdceb07\", element=\"976E803903A659B1489117BDF0BEF868_element_299\")>: 'Recommended',\n",
       "  <selenium.webdriver.remote.webelement.WebElement (session=\"f8a8f20d7293871c9653ae897bdceb07\", element=\"976E803903A659B1489117BDF0BEF868_element_300\")>: 'no'},\n",
       " {<selenium.webdriver.remote.webelement.WebElement (session=\"f8a8f20d7293871c9653ae897bdceb07\", element=\"976E803903A659B1489117BDF0BEF868_element_301\")>: 'Aircraft',\n",
       "  <selenium.webdriver.remote.webelement.WebElement (session=\"f8a8f20d7293871c9653ae897bdceb07\", element=\"976E803903A659B1489117BDF0BEF868_element_302\")>: 'Boeing 777-200'},\n",
       " {<selenium.webdriver.remote.webelement.WebElement (session=\"f8a8f20d7293871c9653ae897bdceb07\", element=\"976E803903A659B1489117BDF0BEF868_element_303\")>: 'Type Of Traveller',\n",
       "  <selenium.webdriver.remote.webelement.WebElement (session=\"f8a8f20d7293871c9653ae897bdceb07\", element=\"976E803903A659B1489117BDF0BEF868_element_304\")>: 'Couple Leisure'},\n",
       " {<selenium.webdriver.remote.webelement.WebElement (session=\"f8a8f20d7293871c9653ae897bdceb07\", element=\"976E803903A659B1489117BDF0BEF868_element_305\")>: 'Seat Type',\n",
       "  <selenium.webdriver.remote.webelement.WebElement (session=\"f8a8f20d7293871c9653ae897bdceb07\", element=\"976E803903A659B1489117BDF0BEF868_element_306\")>: 'Economy Class'},\n",
       " {<selenium.webdriver.remote.webelement.WebElement (session=\"f8a8f20d7293871c9653ae897bdceb07\", element=\"976E803903A659B1489117BDF0BEF868_element_307\")>: 'Route',\n",
       "  <selenium.webdriver.remote.webelement.WebElement (session=\"f8a8f20d7293871c9653ae897bdceb07\", element=\"976E803903A659B1489117BDF0BEF868_element_308\")>: 'London Heathrow to Cape Town'},\n",
       " {<selenium.webdriver.remote.webelement.WebElement (session=\"f8a8f20d7293871c9653ae897bdceb07\", element=\"976E803903A659B1489117BDF0BEF868_element_309\")>: 'Date Flown',\n",
       "  <selenium.webdriver.remote.webelement.WebElement (session=\"f8a8f20d7293871c9653ae897bdceb07\", element=\"976E803903A659B1489117BDF0BEF868_element_310\")>: 'June 2023'},\n",
       " {<selenium.webdriver.remote.webelement.WebElement (session=\"f8a8f20d7293871c9653ae897bdceb07\", element=\"976E803903A659B1489117BDF0BEF868_element_311\")>: 'Seat Comfort',\n",
       "  <selenium.webdriver.remote.webelement.WebElement (session=\"f8a8f20d7293871c9653ae897bdceb07\", element=\"976E803903A659B1489117BDF0BEF868_element_312\")>: '12345'},\n",
       " {<selenium.webdriver.remote.webelement.WebElement (session=\"f8a8f20d7293871c9653ae897bdceb07\", element=\"976E803903A659B1489117BDF0BEF868_element_313\")>: 'Cabin Staff Service',\n",
       "  <selenium.webdriver.remote.webelement.WebElement (session=\"f8a8f20d7293871c9653ae897bdceb07\", element=\"976E803903A659B1489117BDF0BEF868_element_314\")>: '12345'},\n",
       " {<selenium.webdriver.remote.webelement.WebElement (session=\"f8a8f20d7293871c9653ae897bdceb07\", element=\"976E803903A659B1489117BDF0BEF868_element_315\")>: 'Food & Beverages',\n",
       "  <selenium.webdriver.remote.webelement.WebElement (session=\"f8a8f20d7293871c9653ae897bdceb07\", element=\"976E803903A659B1489117BDF0BEF868_element_316\")>: '12345'},\n",
       " {<selenium.webdriver.remote.webelement.WebElement (session=\"f8a8f20d7293871c9653ae897bdceb07\", element=\"976E803903A659B1489117BDF0BEF868_element_317\")>: 'Inflight Entertainment',\n",
       "  <selenium.webdriver.remote.webelement.WebElement (session=\"f8a8f20d7293871c9653ae897bdceb07\", element=\"976E803903A659B1489117BDF0BEF868_element_318\")>: '12345'},\n",
       " {<selenium.webdriver.remote.webelement.WebElement (session=\"f8a8f20d7293871c9653ae897bdceb07\", element=\"976E803903A659B1489117BDF0BEF868_element_319\")>: 'Ground Service',\n",
       "  <selenium.webdriver.remote.webelement.WebElement (session=\"f8a8f20d7293871c9653ae897bdceb07\", element=\"976E803903A659B1489117BDF0BEF868_element_320\")>: '12345'},\n",
       " {<selenium.webdriver.remote.webelement.WebElement (session=\"f8a8f20d7293871c9653ae897bdceb07\", element=\"976E803903A659B1489117BDF0BEF868_element_321\")>: 'Value For Money',\n",
       "  <selenium.webdriver.remote.webelement.WebElement (session=\"f8a8f20d7293871c9653ae897bdceb07\", element=\"976E803903A659B1489117BDF0BEF868_element_322\")>: '12345'},\n",
       " {<selenium.webdriver.remote.webelement.WebElement (session=\"f8a8f20d7293871c9653ae897bdceb07\", element=\"976E803903A659B1489117BDF0BEF868_element_323\")>: 'Recommended',\n",
       "  <selenium.webdriver.remote.webelement.WebElement (session=\"f8a8f20d7293871c9653ae897bdceb07\", element=\"976E803903A659B1489117BDF0BEF868_element_324\")>: 'no'},\n",
       " {<selenium.webdriver.remote.webelement.WebElement (session=\"f8a8f20d7293871c9653ae897bdceb07\", element=\"976E803903A659B1489117BDF0BEF868_element_325\")>: 'Type Of Traveller',\n",
       "  <selenium.webdriver.remote.webelement.WebElement (session=\"f8a8f20d7293871c9653ae897bdceb07\", element=\"976E803903A659B1489117BDF0BEF868_element_326\")>: 'Couple Leisure'},\n",
       " {<selenium.webdriver.remote.webelement.WebElement (session=\"f8a8f20d7293871c9653ae897bdceb07\", element=\"976E803903A659B1489117BDF0BEF868_element_327\")>: 'Seat Type',\n",
       "  <selenium.webdriver.remote.webelement.WebElement (session=\"f8a8f20d7293871c9653ae897bdceb07\", element=\"976E803903A659B1489117BDF0BEF868_element_328\")>: 'Economy Class'},\n",
       " {<selenium.webdriver.remote.webelement.WebElement (session=\"f8a8f20d7293871c9653ae897bdceb07\", element=\"976E803903A659B1489117BDF0BEF868_element_329\")>: 'Route',\n",
       "  <selenium.webdriver.remote.webelement.WebElement (session=\"f8a8f20d7293871c9653ae897bdceb07\", element=\"976E803903A659B1489117BDF0BEF868_element_330\")>: 'London Heathrow to Ibiza'},\n",
       " {<selenium.webdriver.remote.webelement.WebElement (session=\"f8a8f20d7293871c9653ae897bdceb07\", element=\"976E803903A659B1489117BDF0BEF868_element_331\")>: 'Date Flown',\n",
       "  <selenium.webdriver.remote.webelement.WebElement (session=\"f8a8f20d7293871c9653ae897bdceb07\", element=\"976E803903A659B1489117BDF0BEF868_element_332\")>: 'July 2023'},\n",
       " {<selenium.webdriver.remote.webelement.WebElement (session=\"f8a8f20d7293871c9653ae897bdceb07\", element=\"976E803903A659B1489117BDF0BEF868_element_333\")>: 'Ground Service',\n",
       "  <selenium.webdriver.remote.webelement.WebElement (session=\"f8a8f20d7293871c9653ae897bdceb07\", element=\"976E803903A659B1489117BDF0BEF868_element_334\")>: '12345'},\n",
       " {<selenium.webdriver.remote.webelement.WebElement (session=\"f8a8f20d7293871c9653ae897bdceb07\", element=\"976E803903A659B1489117BDF0BEF868_element_335\")>: 'Value For Money',\n",
       "  <selenium.webdriver.remote.webelement.WebElement (session=\"f8a8f20d7293871c9653ae897bdceb07\", element=\"976E803903A659B1489117BDF0BEF868_element_336\")>: '12345'},\n",
       " {<selenium.webdriver.remote.webelement.WebElement (session=\"f8a8f20d7293871c9653ae897bdceb07\", element=\"976E803903A659B1489117BDF0BEF868_element_337\")>: 'Recommended',\n",
       "  <selenium.webdriver.remote.webelement.WebElement (session=\"f8a8f20d7293871c9653ae897bdceb07\", element=\"976E803903A659B1489117BDF0BEF868_element_338\")>: 'no'},\n",
       " {<selenium.webdriver.remote.webelement.WebElement (session=\"f8a8f20d7293871c9653ae897bdceb07\", element=\"976E803903A659B1489117BDF0BEF868_element_339\")>: 'Aircraft',\n",
       "  <selenium.webdriver.remote.webelement.WebElement (session=\"f8a8f20d7293871c9653ae897bdceb07\", element=\"976E803903A659B1489117BDF0BEF868_element_340\")>: 'A380'},\n",
       " {<selenium.webdriver.remote.webelement.WebElement (session=\"f8a8f20d7293871c9653ae897bdceb07\", element=\"976E803903A659B1489117BDF0BEF868_element_341\")>: 'Type Of Traveller',\n",
       "  <selenium.webdriver.remote.webelement.WebElement (session=\"f8a8f20d7293871c9653ae897bdceb07\", element=\"976E803903A659B1489117BDF0BEF868_element_342\")>: 'Business'},\n",
       " {<selenium.webdriver.remote.webelement.WebElement (session=\"f8a8f20d7293871c9653ae897bdceb07\", element=\"976E803903A659B1489117BDF0BEF868_element_343\")>: 'Seat Type',\n",
       "  <selenium.webdriver.remote.webelement.WebElement (session=\"f8a8f20d7293871c9653ae897bdceb07\", element=\"976E803903A659B1489117BDF0BEF868_element_344\")>: 'Business Class'},\n",
       " {<selenium.webdriver.remote.webelement.WebElement (session=\"f8a8f20d7293871c9653ae897bdceb07\", element=\"976E803903A659B1489117BDF0BEF868_element_345\")>: 'Route',\n",
       "  <selenium.webdriver.remote.webelement.WebElement (session=\"f8a8f20d7293871c9653ae897bdceb07\", element=\"976E803903A659B1489117BDF0BEF868_element_346\")>: 'Washington to London'},\n",
       " {<selenium.webdriver.remote.webelement.WebElement (session=\"f8a8f20d7293871c9653ae897bdceb07\", element=\"976E803903A659B1489117BDF0BEF868_element_347\")>: 'Date Flown',\n",
       "  <selenium.webdriver.remote.webelement.WebElement (session=\"f8a8f20d7293871c9653ae897bdceb07\", element=\"976E803903A659B1489117BDF0BEF868_element_348\")>: 'June 2023'},\n",
       " {<selenium.webdriver.remote.webelement.WebElement (session=\"f8a8f20d7293871c9653ae897bdceb07\", element=\"976E803903A659B1489117BDF0BEF868_element_349\")>: 'Seat Comfort',\n",
       "  <selenium.webdriver.remote.webelement.WebElement (session=\"f8a8f20d7293871c9653ae897bdceb07\", element=\"976E803903A659B1489117BDF0BEF868_element_350\")>: '12345'},\n",
       " {<selenium.webdriver.remote.webelement.WebElement (session=\"f8a8f20d7293871c9653ae897bdceb07\", element=\"976E803903A659B1489117BDF0BEF868_element_351\")>: 'Cabin Staff Service',\n",
       "  <selenium.webdriver.remote.webelement.WebElement (session=\"f8a8f20d7293871c9653ae897bdceb07\", element=\"976E803903A659B1489117BDF0BEF868_element_352\")>: '12345'},\n",
       " {<selenium.webdriver.remote.webelement.WebElement (session=\"f8a8f20d7293871c9653ae897bdceb07\", element=\"976E803903A659B1489117BDF0BEF868_element_353\")>: 'Food & Beverages',\n",
       "  <selenium.webdriver.remote.webelement.WebElement (session=\"f8a8f20d7293871c9653ae897bdceb07\", element=\"976E803903A659B1489117BDF0BEF868_element_354\")>: '12345'},\n",
       " {<selenium.webdriver.remote.webelement.WebElement (session=\"f8a8f20d7293871c9653ae897bdceb07\", element=\"976E803903A659B1489117BDF0BEF868_element_355\")>: 'Inflight Entertainment',\n",
       "  <selenium.webdriver.remote.webelement.WebElement (session=\"f8a8f20d7293871c9653ae897bdceb07\", element=\"976E803903A659B1489117BDF0BEF868_element_356\")>: '12345'},\n",
       " {<selenium.webdriver.remote.webelement.WebElement (session=\"f8a8f20d7293871c9653ae897bdceb07\", element=\"976E803903A659B1489117BDF0BEF868_element_357\")>: 'Ground Service',\n",
       "  <selenium.webdriver.remote.webelement.WebElement (session=\"f8a8f20d7293871c9653ae897bdceb07\", element=\"976E803903A659B1489117BDF0BEF868_element_358\")>: '12345'},\n",
       " {<selenium.webdriver.remote.webelement.WebElement (session=\"f8a8f20d7293871c9653ae897bdceb07\", element=\"976E803903A659B1489117BDF0BEF868_element_359\")>: 'Value For Money',\n",
       "  <selenium.webdriver.remote.webelement.WebElement (session=\"f8a8f20d7293871c9653ae897bdceb07\", element=\"976E803903A659B1489117BDF0BEF868_element_360\")>: '12345'},\n",
       " {<selenium.webdriver.remote.webelement.WebElement (session=\"f8a8f20d7293871c9653ae897bdceb07\", element=\"976E803903A659B1489117BDF0BEF868_element_361\")>: 'Recommended',\n",
       "  <selenium.webdriver.remote.webelement.WebElement (session=\"f8a8f20d7293871c9653ae897bdceb07\", element=\"976E803903A659B1489117BDF0BEF868_element_362\")>: 'no'},\n",
       " {<selenium.webdriver.remote.webelement.WebElement (session=\"f8a8f20d7293871c9653ae897bdceb07\", element=\"976E803903A659B1489117BDF0BEF868_element_363\")>: 'Aircraft',\n",
       "  <selenium.webdriver.remote.webelement.WebElement (session=\"f8a8f20d7293871c9653ae897bdceb07\", element=\"976E803903A659B1489117BDF0BEF868_element_364\")>: 'A321'},\n",
       " {<selenium.webdriver.remote.webelement.WebElement (session=\"f8a8f20d7293871c9653ae897bdceb07\", element=\"976E803903A659B1489117BDF0BEF868_element_365\")>: 'Type Of Traveller',\n",
       "  <selenium.webdriver.remote.webelement.WebElement (session=\"f8a8f20d7293871c9653ae897bdceb07\", element=\"976E803903A659B1489117BDF0BEF868_element_366\")>: 'Couple Leisure'},\n",
       " {<selenium.webdriver.remote.webelement.WebElement (session=\"f8a8f20d7293871c9653ae897bdceb07\", element=\"976E803903A659B1489117BDF0BEF868_element_367\")>: 'Seat Type',\n",
       "  <selenium.webdriver.remote.webelement.WebElement (session=\"f8a8f20d7293871c9653ae897bdceb07\", element=\"976E803903A659B1489117BDF0BEF868_element_368\")>: 'Economy Class'},\n",
       " {<selenium.webdriver.remote.webelement.WebElement (session=\"f8a8f20d7293871c9653ae897bdceb07\", element=\"976E803903A659B1489117BDF0BEF868_element_369\")>: 'Route',\n",
       "  <selenium.webdriver.remote.webelement.WebElement (session=\"f8a8f20d7293871c9653ae897bdceb07\", element=\"976E803903A659B1489117BDF0BEF868_element_370\")>: 'London Heathrow to Naples'},\n",
       " {<selenium.webdriver.remote.webelement.WebElement (session=\"f8a8f20d7293871c9653ae897bdceb07\", element=\"976E803903A659B1489117BDF0BEF868_element_371\")>: 'Date Flown',\n",
       "  <selenium.webdriver.remote.webelement.WebElement (session=\"f8a8f20d7293871c9653ae897bdceb07\", element=\"976E803903A659B1489117BDF0BEF868_element_372\")>: 'June 2023'},\n",
       " {<selenium.webdriver.remote.webelement.WebElement (session=\"f8a8f20d7293871c9653ae897bdceb07\", element=\"976E803903A659B1489117BDF0BEF868_element_373\")>: 'Seat Comfort',\n",
       "  <selenium.webdriver.remote.webelement.WebElement (session=\"f8a8f20d7293871c9653ae897bdceb07\", element=\"976E803903A659B1489117BDF0BEF868_element_374\")>: '12345'},\n",
       " {<selenium.webdriver.remote.webelement.WebElement (session=\"f8a8f20d7293871c9653ae897bdceb07\", element=\"976E803903A659B1489117BDF0BEF868_element_375\")>: 'Cabin Staff Service',\n",
       "  <selenium.webdriver.remote.webelement.WebElement (session=\"f8a8f20d7293871c9653ae897bdceb07\", element=\"976E803903A659B1489117BDF0BEF868_element_376\")>: '12345'},\n",
       " {<selenium.webdriver.remote.webelement.WebElement (session=\"f8a8f20d7293871c9653ae897bdceb07\", element=\"976E803903A659B1489117BDF0BEF868_element_377\")>: 'Food & Beverages',\n",
       "  <selenium.webdriver.remote.webelement.WebElement (session=\"f8a8f20d7293871c9653ae897bdceb07\", element=\"976E803903A659B1489117BDF0BEF868_element_378\")>: '12345'},\n",
       " {<selenium.webdriver.remote.webelement.WebElement (session=\"f8a8f20d7293871c9653ae897bdceb07\", element=\"976E803903A659B1489117BDF0BEF868_element_379\")>: 'Ground Service',\n",
       "  <selenium.webdriver.remote.webelement.WebElement (session=\"f8a8f20d7293871c9653ae897bdceb07\", element=\"976E803903A659B1489117BDF0BEF868_element_380\")>: '12345'},\n",
       " {<selenium.webdriver.remote.webelement.WebElement (session=\"f8a8f20d7293871c9653ae897bdceb07\", element=\"976E803903A659B1489117BDF0BEF868_element_381\")>: 'Value For Money',\n",
       "  <selenium.webdriver.remote.webelement.WebElement (session=\"f8a8f20d7293871c9653ae897bdceb07\", element=\"976E803903A659B1489117BDF0BEF868_element_382\")>: '12345'},\n",
       " {<selenium.webdriver.remote.webelement.WebElement (session=\"f8a8f20d7293871c9653ae897bdceb07\", element=\"976E803903A659B1489117BDF0BEF868_element_383\")>: 'Recommended',\n",
       "  <selenium.webdriver.remote.webelement.WebElement (session=\"f8a8f20d7293871c9653ae897bdceb07\", element=\"976E803903A659B1489117BDF0BEF868_element_384\")>: 'no'},\n",
       " {<selenium.webdriver.remote.webelement.WebElement (session=\"f8a8f20d7293871c9653ae897bdceb07\", element=\"976E803903A659B1489117BDF0BEF868_element_385\")>: 'Aircraft',\n",
       "  <selenium.webdriver.remote.webelement.WebElement (session=\"f8a8f20d7293871c9653ae897bdceb07\", element=\"976E803903A659B1489117BDF0BEF868_element_386\")>: 'A320'},\n",
       " {<selenium.webdriver.remote.webelement.WebElement (session=\"f8a8f20d7293871c9653ae897bdceb07\", element=\"976E803903A659B1489117BDF0BEF868_element_387\")>: 'Type Of Traveller',\n",
       "  <selenium.webdriver.remote.webelement.WebElement (session=\"f8a8f20d7293871c9653ae897bdceb07\", element=\"976E803903A659B1489117BDF0BEF868_element_388\")>: 'Solo Leisure'},\n",
       " {<selenium.webdriver.remote.webelement.WebElement (session=\"f8a8f20d7293871c9653ae897bdceb07\", element=\"976E803903A659B1489117BDF0BEF868_element_389\")>: 'Seat Type',\n",
       "  <selenium.webdriver.remote.webelement.WebElement (session=\"f8a8f20d7293871c9653ae897bdceb07\", element=\"976E803903A659B1489117BDF0BEF868_element_390\")>: 'Economy Class'},\n",
       " {<selenium.webdriver.remote.webelement.WebElement (session=\"f8a8f20d7293871c9653ae897bdceb07\", element=\"976E803903A659B1489117BDF0BEF868_element_391\")>: 'Route',\n",
       "  <selenium.webdriver.remote.webelement.WebElement (session=\"f8a8f20d7293871c9653ae897bdceb07\", element=\"976E803903A659B1489117BDF0BEF868_element_392\")>: 'Berlin to London'},\n",
       " {<selenium.webdriver.remote.webelement.WebElement (session=\"f8a8f20d7293871c9653ae897bdceb07\", element=\"976E803903A659B1489117BDF0BEF868_element_393\")>: 'Date Flown',\n",
       "  <selenium.webdriver.remote.webelement.WebElement (session=\"f8a8f20d7293871c9653ae897bdceb07\", element=\"976E803903A659B1489117BDF0BEF868_element_394\")>: 'July 2023'},\n",
       " {<selenium.webdriver.remote.webelement.WebElement (session=\"f8a8f20d7293871c9653ae897bdceb07\", element=\"976E803903A659B1489117BDF0BEF868_element_395\")>: 'Seat Comfort',\n",
       "  <selenium.webdriver.remote.webelement.WebElement (session=\"f8a8f20d7293871c9653ae897bdceb07\", element=\"976E803903A659B1489117BDF0BEF868_element_396\")>: '12345'},\n",
       " {<selenium.webdriver.remote.webelement.WebElement (session=\"f8a8f20d7293871c9653ae897bdceb07\", element=\"976E803903A659B1489117BDF0BEF868_element_397\")>: 'Cabin Staff Service',\n",
       "  <selenium.webdriver.remote.webelement.WebElement (session=\"f8a8f20d7293871c9653ae897bdceb07\", element=\"976E803903A659B1489117BDF0BEF868_element_398\")>: '12345'},\n",
       " {<selenium.webdriver.remote.webelement.WebElement (session=\"f8a8f20d7293871c9653ae897bdceb07\", element=\"976E803903A659B1489117BDF0BEF868_element_399\")>: 'Food & Beverages',\n",
       "  <selenium.webdriver.remote.webelement.WebElement (session=\"f8a8f20d7293871c9653ae897bdceb07\", element=\"976E803903A659B1489117BDF0BEF868_element_400\")>: '12345'},\n",
       " {<selenium.webdriver.remote.webelement.WebElement (session=\"f8a8f20d7293871c9653ae897bdceb07\", element=\"976E803903A659B1489117BDF0BEF868_element_401\")>: 'Ground Service',\n",
       "  <selenium.webdriver.remote.webelement.WebElement (session=\"f8a8f20d7293871c9653ae897bdceb07\", element=\"976E803903A659B1489117BDF0BEF868_element_402\")>: '12345'},\n",
       " {<selenium.webdriver.remote.webelement.WebElement (session=\"f8a8f20d7293871c9653ae897bdceb07\", element=\"976E803903A659B1489117BDF0BEF868_element_403\")>: 'Wifi & Connectivity',\n",
       "  <selenium.webdriver.remote.webelement.WebElement (session=\"f8a8f20d7293871c9653ae897bdceb07\", element=\"976E803903A659B1489117BDF0BEF868_element_404\")>: '12345'},\n",
       " {<selenium.webdriver.remote.webelement.WebElement (session=\"f8a8f20d7293871c9653ae897bdceb07\", element=\"976E803903A659B1489117BDF0BEF868_element_405\")>: 'Value For Money',\n",
       "  <selenium.webdriver.remote.webelement.WebElement (session=\"f8a8f20d7293871c9653ae897bdceb07\", element=\"976E803903A659B1489117BDF0BEF868_element_406\")>: '12345'},\n",
       " {<selenium.webdriver.remote.webelement.WebElement (session=\"f8a8f20d7293871c9653ae897bdceb07\", element=\"976E803903A659B1489117BDF0BEF868_element_407\")>: 'Recommended',\n",
       "  <selenium.webdriver.remote.webelement.WebElement (session=\"f8a8f20d7293871c9653ae897bdceb07\", element=\"976E803903A659B1489117BDF0BEF868_element_408\")>: 'yes'},\n",
       " {<selenium.webdriver.remote.webelement.WebElement (session=\"f8a8f20d7293871c9653ae897bdceb07\", element=\"976E803903A659B1489117BDF0BEF868_element_409\")>: 'Type Of Traveller',\n",
       "  <selenium.webdriver.remote.webelement.WebElement (session=\"f8a8f20d7293871c9653ae897bdceb07\", element=\"976E803903A659B1489117BDF0BEF868_element_410\")>: 'Family Leisure'},\n",
       " {<selenium.webdriver.remote.webelement.WebElement (session=\"f8a8f20d7293871c9653ae897bdceb07\", element=\"976E803903A659B1489117BDF0BEF868_element_411\")>: 'Seat Type',\n",
       "  <selenium.webdriver.remote.webelement.WebElement (session=\"f8a8f20d7293871c9653ae897bdceb07\", element=\"976E803903A659B1489117BDF0BEF868_element_412\")>: 'Economy Class'},\n",
       " {<selenium.webdriver.remote.webelement.WebElement (session=\"f8a8f20d7293871c9653ae897bdceb07\", element=\"976E803903A659B1489117BDF0BEF868_element_413\")>: 'Route',\n",
       "  <selenium.webdriver.remote.webelement.WebElement (session=\"f8a8f20d7293871c9653ae897bdceb07\", element=\"976E803903A659B1489117BDF0BEF868_element_414\")>: 'Glasgow to London'},\n",
       " {<selenium.webdriver.remote.webelement.WebElement (session=\"f8a8f20d7293871c9653ae897bdceb07\", element=\"976E803903A659B1489117BDF0BEF868_element_415\")>: 'Date Flown',\n",
       "  <selenium.webdriver.remote.webelement.WebElement (session=\"f8a8f20d7293871c9653ae897bdceb07\", element=\"976E803903A659B1489117BDF0BEF868_element_416\")>: 'June 2023'},\n",
       " {<selenium.webdriver.remote.webelement.WebElement (session=\"f8a8f20d7293871c9653ae897bdceb07\", element=\"976E803903A659B1489117BDF0BEF868_element_417\")>: 'Seat Comfort',\n",
       "  <selenium.webdriver.remote.webelement.WebElement (session=\"f8a8f20d7293871c9653ae897bdceb07\", element=\"976E803903A659B1489117BDF0BEF868_element_418\")>: '12345'},\n",
       " {<selenium.webdriver.remote.webelement.WebElement (session=\"f8a8f20d7293871c9653ae897bdceb07\", element=\"976E803903A659B1489117BDF0BEF868_element_419\")>: 'Cabin Staff Service',\n",
       "  <selenium.webdriver.remote.webelement.WebElement (session=\"f8a8f20d7293871c9653ae897bdceb07\", element=\"976E803903A659B1489117BDF0BEF868_element_420\")>: '12345'},\n",
       " {<selenium.webdriver.remote.webelement.WebElement (session=\"f8a8f20d7293871c9653ae897bdceb07\", element=\"976E803903A659B1489117BDF0BEF868_element_421\")>: 'Ground Service',\n",
       "  <selenium.webdriver.remote.webelement.WebElement (session=\"f8a8f20d7293871c9653ae897bdceb07\", element=\"976E803903A659B1489117BDF0BEF868_element_422\")>: '12345'},\n",
       " {<selenium.webdriver.remote.webelement.WebElement (session=\"f8a8f20d7293871c9653ae897bdceb07\", element=\"976E803903A659B1489117BDF0BEF868_element_423\")>: 'Value For Money',\n",
       "  <selenium.webdriver.remote.webelement.WebElement (session=\"f8a8f20d7293871c9653ae897bdceb07\", element=\"976E803903A659B1489117BDF0BEF868_element_424\")>: '12345'},\n",
       " {<selenium.webdriver.remote.webelement.WebElement (session=\"f8a8f20d7293871c9653ae897bdceb07\", element=\"976E803903A659B1489117BDF0BEF868_element_425\")>: 'Recommended',\n",
       "  <selenium.webdriver.remote.webelement.WebElement (session=\"f8a8f20d7293871c9653ae897bdceb07\", element=\"976E803903A659B1489117BDF0BEF868_element_426\")>: 'no'}]"
      ]
     },
     "execution_count": 28,
     "metadata": {},
     "output_type": "execute_result"
    }
   ],
   "source": [
    "data"
   ]
  },
  {
   "cell_type": "code",
   "execution_count": 25,
   "metadata": {},
   "outputs": [
    {
     "ename": "NoSuchElementException",
     "evalue": "Message: no such element: Unable to locate element: {\"method\":\"xpath\",\"selector\":\"(//thead//th)[1]\"}\n  (Session info: headless chrome=114.0.5735.199)\nStacktrace:\nBacktrace:\n\tGetHandleVerifier [0x0090A813+48355]\n\t(No symbol) [0x0089C4B1]\n\t(No symbol) [0x007A5358]\n\t(No symbol) [0x007D09A5]\n\t(No symbol) [0x007D0B3B]\n\t(No symbol) [0x007FE232]\n\t(No symbol) [0x007EA784]\n\t(No symbol) [0x007FC922]\n\t(No symbol) [0x007EA536]\n\t(No symbol) [0x007C82DC]\n\t(No symbol) [0x007C93DD]\n\tGetHandleVerifier [0x00B6AABD+2539405]\n\tGetHandleVerifier [0x00BAA78F+2800735]\n\tGetHandleVerifier [0x00BA456C+2775612]\n\tGetHandleVerifier [0x009951E0+616112]\n\t(No symbol) [0x008A5F8C]\n\t(No symbol) [0x008A2328]\n\t(No symbol) [0x008A240B]\n\t(No symbol) [0x00894FF7]\n\tBaseThreadInitThunk [0x772B7D59+25]\n\tRtlInitializeExceptionChain [0x77ABB79B+107]\n\tRtlClearBits [0x77ABB71F+191]\n",
     "output_type": "error",
     "traceback": [
      "\u001b[1;31m---------------------------------------------------------------------------\u001b[0m",
      "\u001b[1;31mNoSuchElementException\u001b[0m                    Traceback (most recent call last)",
      "Cell \u001b[1;32mIn[25], line 5\u001b[0m\n\u001b[0;32m      3\u001b[0m cells \u001b[39m=\u001b[39m tr\u001b[39m.\u001b[39mfind_elements(By\u001b[39m.\u001b[39mXPATH, \u001b[39m'\u001b[39m\u001b[39m.//td\u001b[39m\u001b[39m'\u001b[39m)\n\u001b[0;32m      4\u001b[0m \u001b[39mfor\u001b[39;00m idx, cell \u001b[39min\u001b[39;00m \u001b[39menumerate\u001b[39m(cells, start\u001b[39m=\u001b[39m\u001b[39m1\u001b[39m):\n\u001b[1;32m----> 5\u001b[0m     header \u001b[39m=\u001b[39m driver\u001b[39m.\u001b[39;49mfind_element(By\u001b[39m.\u001b[39;49mXPATH, \u001b[39mf\u001b[39;49m\u001b[39m\"\u001b[39;49m\u001b[39m(//thead//th)[\u001b[39;49m\u001b[39m{\u001b[39;49;00midx\u001b[39m}\u001b[39;49;00m\u001b[39m]\u001b[39;49m\u001b[39m\"\u001b[39;49m)\u001b[39m.\u001b[39mtext\n\u001b[0;32m      6\u001b[0m     row_dict[header] \u001b[39m=\u001b[39m cell\u001b[39m.\u001b[39mtext\n\u001b[0;32m      7\u001b[0m data\u001b[39m.\u001b[39mappend(row_dict)\n",
      "File \u001b[1;32m~\\AppData\\Roaming\\Python\\Python311\\site-packages\\selenium\\webdriver\\remote\\webdriver.py:831\u001b[0m, in \u001b[0;36mWebDriver.find_element\u001b[1;34m(self, by, value)\u001b[0m\n\u001b[0;32m    828\u001b[0m     by \u001b[39m=\u001b[39m By\u001b[39m.\u001b[39mCSS_SELECTOR\n\u001b[0;32m    829\u001b[0m     value \u001b[39m=\u001b[39m \u001b[39mf\u001b[39m\u001b[39m'\u001b[39m\u001b[39m[name=\u001b[39m\u001b[39m\"\u001b[39m\u001b[39m{\u001b[39;00mvalue\u001b[39m}\u001b[39;00m\u001b[39m\"\u001b[39m\u001b[39m]\u001b[39m\u001b[39m'\u001b[39m\n\u001b[1;32m--> 831\u001b[0m \u001b[39mreturn\u001b[39;00m \u001b[39mself\u001b[39;49m\u001b[39m.\u001b[39;49mexecute(Command\u001b[39m.\u001b[39;49mFIND_ELEMENT, {\u001b[39m\"\u001b[39;49m\u001b[39musing\u001b[39;49m\u001b[39m\"\u001b[39;49m: by, \u001b[39m\"\u001b[39;49m\u001b[39mvalue\u001b[39;49m\u001b[39m\"\u001b[39;49m: value})[\u001b[39m\"\u001b[39m\u001b[39mvalue\u001b[39m\u001b[39m\"\u001b[39m]\n",
      "File \u001b[1;32m~\\AppData\\Roaming\\Python\\Python311\\site-packages\\selenium\\webdriver\\remote\\webdriver.py:440\u001b[0m, in \u001b[0;36mWebDriver.execute\u001b[1;34m(self, driver_command, params)\u001b[0m\n\u001b[0;32m    438\u001b[0m response \u001b[39m=\u001b[39m \u001b[39mself\u001b[39m\u001b[39m.\u001b[39mcommand_executor\u001b[39m.\u001b[39mexecute(driver_command, params)\n\u001b[0;32m    439\u001b[0m \u001b[39mif\u001b[39;00m response:\n\u001b[1;32m--> 440\u001b[0m     \u001b[39mself\u001b[39;49m\u001b[39m.\u001b[39;49merror_handler\u001b[39m.\u001b[39;49mcheck_response(response)\n\u001b[0;32m    441\u001b[0m     response[\u001b[39m\"\u001b[39m\u001b[39mvalue\u001b[39m\u001b[39m\"\u001b[39m] \u001b[39m=\u001b[39m \u001b[39mself\u001b[39m\u001b[39m.\u001b[39m_unwrap_value(response\u001b[39m.\u001b[39mget(\u001b[39m\"\u001b[39m\u001b[39mvalue\u001b[39m\u001b[39m\"\u001b[39m, \u001b[39mNone\u001b[39;00m))\n\u001b[0;32m    442\u001b[0m     \u001b[39mreturn\u001b[39;00m response\n",
      "File \u001b[1;32m~\\AppData\\Roaming\\Python\\Python311\\site-packages\\selenium\\webdriver\\remote\\errorhandler.py:245\u001b[0m, in \u001b[0;36mErrorHandler.check_response\u001b[1;34m(self, response)\u001b[0m\n\u001b[0;32m    243\u001b[0m         alert_text \u001b[39m=\u001b[39m value[\u001b[39m\"\u001b[39m\u001b[39malert\u001b[39m\u001b[39m\"\u001b[39m]\u001b[39m.\u001b[39mget(\u001b[39m\"\u001b[39m\u001b[39mtext\u001b[39m\u001b[39m\"\u001b[39m)\n\u001b[0;32m    244\u001b[0m     \u001b[39mraise\u001b[39;00m exception_class(message, screen, stacktrace, alert_text)  \u001b[39m# type: ignore[call-arg]  # mypy is not smart enough here\u001b[39;00m\n\u001b[1;32m--> 245\u001b[0m \u001b[39mraise\u001b[39;00m exception_class(message, screen, stacktrace)\n",
      "\u001b[1;31mNoSuchElementException\u001b[0m: Message: no such element: Unable to locate element: {\"method\":\"xpath\",\"selector\":\"(//thead//th)[1]\"}\n  (Session info: headless chrome=114.0.5735.199)\nStacktrace:\nBacktrace:\n\tGetHandleVerifier [0x0090A813+48355]\n\t(No symbol) [0x0089C4B1]\n\t(No symbol) [0x007A5358]\n\t(No symbol) [0x007D09A5]\n\t(No symbol) [0x007D0B3B]\n\t(No symbol) [0x007FE232]\n\t(No symbol) [0x007EA784]\n\t(No symbol) [0x007FC922]\n\t(No symbol) [0x007EA536]\n\t(No symbol) [0x007C82DC]\n\t(No symbol) [0x007C93DD]\n\tGetHandleVerifier [0x00B6AABD+2539405]\n\tGetHandleVerifier [0x00BAA78F+2800735]\n\tGetHandleVerifier [0x00BA456C+2775612]\n\tGetHandleVerifier [0x009951E0+616112]\n\t(No symbol) [0x008A5F8C]\n\t(No symbol) [0x008A2328]\n\t(No symbol) [0x008A240B]\n\t(No symbol) [0x00894FF7]\n\tBaseThreadInitThunk [0x772B7D59+25]\n\tRtlInitializeExceptionChain [0x77ABB79B+107]\n\tRtlClearBits [0x77ABB71F+191]\n"
     ]
    }
   ],
   "source": [
    "for tr in rows:\n",
    "    row_dict = {}\n",
    "    cells = tr.find_elements(By.XPATH, './/td')\n",
    "    for idx, cell in enumerate(cells, start=1):\n",
    "        header = driver.find_element(By.XPATH, f\"(//thead//th)[{idx}]\").text\n",
    "        row_dict[header] = cell.text\n",
    "    data.append(row_dict)\n",
    "\n",
    "# Print the extracted data\n",
    "print(data)"
   ]
  },
  {
   "cell_type": "code",
   "execution_count": 36,
   "metadata": {},
   "outputs": [],
   "source": [
    "from selenium import webdriver\n",
    "from selenium.webdriver.common.by import By\n",
    "from time import sleep\n",
    "import re\n",
    "\n",
    "# ... Your previous code ...\n",
    "details=[]\n",
    "def scrape_web(url):\n",
    "    # ... Your previous code ...\n",
    "\n",
    "    # Getting the all the elements within the single page\n",
    "    elements = driver.find_elements(By.CLASS_NAME, \"body\")\n",
    "    tbody = driver.find_element(By.XPATH, '//*[@id=\"anchor 862044\"]/div/div[2]/table/tbody')\n",
    "    \n",
    "    for element in elements:\n",
    "        try:\n",
    "            title = driver.find_element(By.CLASS_NAME, \"text_header\")\n",
    "            Title = title.text\n",
    "\n",
    "        except:\n",
    "            Title = \"NA\"\n",
    "\n",
    "        try:\n",
    "            user_name = driver.find_element(By.XPATH, '//*[@id=\"anchor862044\"]/h3/span/span')\n",
    "            review_Name = user_name.text\n",
    "\n",
    "        except:\n",
    "            review_Name = \"NA\"\n",
    "\n",
    "        try:\n",
    "            Location = driver.find_element(By.XPATH, '//*[@id=\"anchor862044\"]/h3')\n",
    "            loca = Location.text\n",
    "            start_index = loca.find('(') + 1\n",
    "            end_index = loca.find(')')\n",
    "            country = loca[start_index:end_index]\n",
    "        except:\n",
    "            country = \"NA\"\n",
    "\n",
    "        try:\n",
    "            # Use regular expression to find the date pattern\n",
    "            date_pattern = r'\\d{1,2}(?:st|nd|rd|th) [A-Za-z]+ \\d{4}'\n",
    "            match = re.search(date_pattern, loca)\n",
    "\n",
    "            if match:\n",
    "                date = match.group()\n",
    "                # print(date)  # Output: '9th July 2023'\n",
    "            else:\n",
    "                date = \"NA\"\n",
    "        \n",
    "        except:\n",
    "            date = \"NA\"\n",
    "        \n",
    "        try:\n",
    "            trip = driver.find_element(By.CLASS_NAME, 'text_content').text.split(\"|\")\n",
    "            trip_verified = trip[0]\n",
    "        \n",
    "        except:\n",
    "            trip_verified = \"Not_Verified\"\n",
    "\n",
    "        try:\n",
    "            main_review = trip[1]\n",
    "        \n",
    "        except:\n",
    "            main_review = \" \"\n",
    "\n",
    "        # Extracting the table content\n",
    "        table_data = {}\n",
    "\n",
    "        try:\n",
    "            rows = tbody.find_elements(By.XPATH, './tr')\n",
    "            for row in rows:\n",
    "                cells = row.find_elements(By.XPATH, './td')\n",
    "                if len(cells) == 2:  # Ensuring there are two cells in each row (header and value)\n",
    "                    header = cells[0].text.strip()\n",
    "                    value = cells[1].text.strip()\n",
    "                    table_data[header] = value\n",
    "\n",
    "        except:\n",
    "            pass\n",
    "\n",
    "        # Adding NA for missing values in the table\n",
    "        headers = ['Type Of Traveller', 'Seat Type', 'Route', 'Date Flown',\n",
    "                   'Seat Comfort', 'Cabin Staff Service', 'Food & Beverages',\n",
    "                   'Inflight Entertainment', 'Ground Service', 'Value For Money',\n",
    "                   'Recommended']\n",
    "        for header in headers:\n",
    "            if header not in table_data:\n",
    "                table_data[header] = 'NA'\n",
    "\n",
    "        # Merge the table data with the main review details\n",
    "        review_details = {\n",
    "            \"Title\": Title,\n",
    "            \"Reviewer\": review_Name,\n",
    "            \"Country\": country,\n",
    "            \"Date_posted\": date,\n",
    "            \"Trip_Verified\": trip_verified,\n",
    "            \"Comments\": main_review,\n",
    "            **table_data  # Add the table content to the dictionary\n",
    "        }\n",
    "\n",
    "        details.append(review_details)\n",
    "    \n",
    "    print(details)\n",
    "\n",
    "    # ... Your previous code ...\n"
   ]
  },
  {
   "cell_type": "code",
   "execution_count": 38,
   "metadata": {},
   "outputs": [
    {
     "name": "stderr",
     "output_type": "stream",
     "text": [
      "C:\\Users\\singh\\AppData\\Local\\Temp\\ipykernel_17688\\3597963848.py:9: DeprecationWarning: headless property is deprecated, instead use add_argument('--headless') or add_argument('--headless=new')\n",
      "  chrome_options.headless = True\n"
     ]
    },
    {
     "ename": "NoSuchElementException",
     "evalue": "Message: no such element: Unable to locate element: {\"method\":\"xpath\",\"selector\":\"//*[@id=\"anchor 862044\"]/div/div[2]/table/tbody\"}\n  (Session info: headless chrome=114.0.5735.199)\nStacktrace:\nBacktrace:\n\tGetHandleVerifier [0x0090A813+48355]\n\t(No symbol) [0x0089C4B1]\n\t(No symbol) [0x007A5358]\n\t(No symbol) [0x007D09A5]\n\t(No symbol) [0x007D0B3B]\n\t(No symbol) [0x007FE232]\n\t(No symbol) [0x007EA784]\n\t(No symbol) [0x007FC922]\n\t(No symbol) [0x007EA536]\n\t(No symbol) [0x007C82DC]\n\t(No symbol) [0x007C93DD]\n\tGetHandleVerifier [0x00B6AABD+2539405]\n\tGetHandleVerifier [0x00BAA78F+2800735]\n\tGetHandleVerifier [0x00BA456C+2775612]\n\tGetHandleVerifier [0x009951E0+616112]\n\t(No symbol) [0x008A5F8C]\n\t(No symbol) [0x008A2328]\n\t(No symbol) [0x008A240B]\n\t(No symbol) [0x00894FF7]\n\tBaseThreadInitThunk [0x772B7D59+25]\n\tRtlInitializeExceptionChain [0x77ABB79B+107]\n\tRtlClearBits [0x77ABB71F+191]\n",
     "output_type": "error",
     "traceback": [
      "\u001b[1;31m---------------------------------------------------------------------------\u001b[0m",
      "\u001b[1;31mNoSuchElementException\u001b[0m                    Traceback (most recent call last)",
      "Cell \u001b[1;32mIn[38], line 113\u001b[0m\n\u001b[0;32m    101\u001b[0m         review_details \u001b[39m=\u001b[39m {\n\u001b[0;32m    102\u001b[0m             \u001b[39m\"\u001b[39m\u001b[39mTitle\u001b[39m\u001b[39m\"\u001b[39m: Title,\n\u001b[0;32m    103\u001b[0m             \u001b[39m\"\u001b[39m\u001b[39mReviewer\u001b[39m\u001b[39m\"\u001b[39m: review_Name,\n\u001b[1;32m   (...)\u001b[0m\n\u001b[0;32m    108\u001b[0m             \u001b[39m*\u001b[39m\u001b[39m*\u001b[39mtable_data  \u001b[39m# Add the table content to the dictionary\u001b[39;00m\n\u001b[0;32m    109\u001b[0m         }\n\u001b[0;32m    111\u001b[0m         details\u001b[39m.\u001b[39mappend(review_details)\n\u001b[1;32m--> 113\u001b[0m scrape_web(base_url)\n\u001b[0;32m    115\u001b[0m \u001b[39m# Printing the scraped details\u001b[39;00m\n\u001b[0;32m    116\u001b[0m \u001b[39mfor\u001b[39;00m review \u001b[39min\u001b[39;00m details:\n",
      "Cell \u001b[1;32mIn[38], line 24\u001b[0m, in \u001b[0;36mscrape_web\u001b[1;34m(url)\u001b[0m\n\u001b[0;32m     22\u001b[0m \u001b[39mdef\u001b[39;00m \u001b[39mscrape_web\u001b[39m(url):\n\u001b[0;32m     23\u001b[0m     elements \u001b[39m=\u001b[39m driver\u001b[39m.\u001b[39mfind_elements(By\u001b[39m.\u001b[39mCLASS_NAME, \u001b[39m\"\u001b[39m\u001b[39mbody\u001b[39m\u001b[39m\"\u001b[39m)\n\u001b[1;32m---> 24\u001b[0m     tbody \u001b[39m=\u001b[39m driver\u001b[39m.\u001b[39;49mfind_element(By\u001b[39m.\u001b[39;49mXPATH, \u001b[39m'\u001b[39;49m\u001b[39m//*[@id=\u001b[39;49m\u001b[39m\"\u001b[39;49m\u001b[39manchor 862044\u001b[39;49m\u001b[39m\"\u001b[39;49m\u001b[39m]/div/div[2]/table/tbody\u001b[39;49m\u001b[39m'\u001b[39;49m)\n\u001b[0;32m     26\u001b[0m     \u001b[39mfor\u001b[39;00m element \u001b[39min\u001b[39;00m elements:\n\u001b[0;32m     27\u001b[0m         \u001b[39mtry\u001b[39;00m:\n",
      "File \u001b[1;32m~\\AppData\\Roaming\\Python\\Python311\\site-packages\\selenium\\webdriver\\remote\\webdriver.py:831\u001b[0m, in \u001b[0;36mWebDriver.find_element\u001b[1;34m(self, by, value)\u001b[0m\n\u001b[0;32m    828\u001b[0m     by \u001b[39m=\u001b[39m By\u001b[39m.\u001b[39mCSS_SELECTOR\n\u001b[0;32m    829\u001b[0m     value \u001b[39m=\u001b[39m \u001b[39mf\u001b[39m\u001b[39m'\u001b[39m\u001b[39m[name=\u001b[39m\u001b[39m\"\u001b[39m\u001b[39m{\u001b[39;00mvalue\u001b[39m}\u001b[39;00m\u001b[39m\"\u001b[39m\u001b[39m]\u001b[39m\u001b[39m'\u001b[39m\n\u001b[1;32m--> 831\u001b[0m \u001b[39mreturn\u001b[39;00m \u001b[39mself\u001b[39;49m\u001b[39m.\u001b[39;49mexecute(Command\u001b[39m.\u001b[39;49mFIND_ELEMENT, {\u001b[39m\"\u001b[39;49m\u001b[39musing\u001b[39;49m\u001b[39m\"\u001b[39;49m: by, \u001b[39m\"\u001b[39;49m\u001b[39mvalue\u001b[39;49m\u001b[39m\"\u001b[39;49m: value})[\u001b[39m\"\u001b[39m\u001b[39mvalue\u001b[39m\u001b[39m\"\u001b[39m]\n",
      "File \u001b[1;32m~\\AppData\\Roaming\\Python\\Python311\\site-packages\\selenium\\webdriver\\remote\\webdriver.py:440\u001b[0m, in \u001b[0;36mWebDriver.execute\u001b[1;34m(self, driver_command, params)\u001b[0m\n\u001b[0;32m    438\u001b[0m response \u001b[39m=\u001b[39m \u001b[39mself\u001b[39m\u001b[39m.\u001b[39mcommand_executor\u001b[39m.\u001b[39mexecute(driver_command, params)\n\u001b[0;32m    439\u001b[0m \u001b[39mif\u001b[39;00m response:\n\u001b[1;32m--> 440\u001b[0m     \u001b[39mself\u001b[39;49m\u001b[39m.\u001b[39;49merror_handler\u001b[39m.\u001b[39;49mcheck_response(response)\n\u001b[0;32m    441\u001b[0m     response[\u001b[39m\"\u001b[39m\u001b[39mvalue\u001b[39m\u001b[39m\"\u001b[39m] \u001b[39m=\u001b[39m \u001b[39mself\u001b[39m\u001b[39m.\u001b[39m_unwrap_value(response\u001b[39m.\u001b[39mget(\u001b[39m\"\u001b[39m\u001b[39mvalue\u001b[39m\u001b[39m\"\u001b[39m, \u001b[39mNone\u001b[39;00m))\n\u001b[0;32m    442\u001b[0m     \u001b[39mreturn\u001b[39;00m response\n",
      "File \u001b[1;32m~\\AppData\\Roaming\\Python\\Python311\\site-packages\\selenium\\webdriver\\remote\\errorhandler.py:245\u001b[0m, in \u001b[0;36mErrorHandler.check_response\u001b[1;34m(self, response)\u001b[0m\n\u001b[0;32m    243\u001b[0m         alert_text \u001b[39m=\u001b[39m value[\u001b[39m\"\u001b[39m\u001b[39malert\u001b[39m\u001b[39m\"\u001b[39m]\u001b[39m.\u001b[39mget(\u001b[39m\"\u001b[39m\u001b[39mtext\u001b[39m\u001b[39m\"\u001b[39m)\n\u001b[0;32m    244\u001b[0m     \u001b[39mraise\u001b[39;00m exception_class(message, screen, stacktrace, alert_text)  \u001b[39m# type: ignore[call-arg]  # mypy is not smart enough here\u001b[39;00m\n\u001b[1;32m--> 245\u001b[0m \u001b[39mraise\u001b[39;00m exception_class(message, screen, stacktrace)\n",
      "\u001b[1;31mNoSuchElementException\u001b[0m: Message: no such element: Unable to locate element: {\"method\":\"xpath\",\"selector\":\"//*[@id=\"anchor 862044\"]/div/div[2]/table/tbody\"}\n  (Session info: headless chrome=114.0.5735.199)\nStacktrace:\nBacktrace:\n\tGetHandleVerifier [0x0090A813+48355]\n\t(No symbol) [0x0089C4B1]\n\t(No symbol) [0x007A5358]\n\t(No symbol) [0x007D09A5]\n\t(No symbol) [0x007D0B3B]\n\t(No symbol) [0x007FE232]\n\t(No symbol) [0x007EA784]\n\t(No symbol) [0x007FC922]\n\t(No symbol) [0x007EA536]\n\t(No symbol) [0x007C82DC]\n\t(No symbol) [0x007C93DD]\n\tGetHandleVerifier [0x00B6AABD+2539405]\n\tGetHandleVerifier [0x00BAA78F+2800735]\n\tGetHandleVerifier [0x00BA456C+2775612]\n\tGetHandleVerifier [0x009951E0+616112]\n\t(No symbol) [0x008A5F8C]\n\t(No symbol) [0x008A2328]\n\t(No symbol) [0x008A240B]\n\t(No symbol) [0x00894FF7]\n\tBaseThreadInitThunk [0x772B7D59+25]\n\tRtlInitializeExceptionChain [0x77ABB79B+107]\n\tRtlClearBits [0x77ABB71F+191]\n"
     ]
    }
   ],
   "source": []
  },
  {
   "cell_type": "code",
   "execution_count": 39,
   "metadata": {},
   "outputs": [
    {
     "name": "stderr",
     "output_type": "stream",
     "text": [
      "C:\\Users\\singh\\AppData\\Local\\Temp\\ipykernel_17688\\3795514415.py:8: DeprecationWarning: headless property is deprecated, instead use add_argument('--headless') or add_argument('--headless=new')\n",
      "  chrome_options.headless = True\n"
     ]
    },
    {
     "name": "stdout",
     "output_type": "stream",
     "text": [
      "{'Title': '\"Things have really deteriorated\"', 'Reviewer': 'Pradeep Madhavan', 'Country': 'United Kingdom', 'Date_posted': '9th July 2023', 'Trip_Verified': '✅ Trip Verified ', 'Comments': ' My family and I have flown mostly on British Airways for the last 30 years. I am a priority passenger and fly often enough to recognise cabin crew and know some by name. They used to be a really good airline to fly with. Things have really deteriorated with their face to face customer care since the pandemic. The aircraft look worn. For example, on my flight back my audiovisual equipment did not work and had to be reset twice, finally working in the last hour before we landed. The second time around, I think the reset was done for the whole aircraft. The touch screen function on my screen did not work. The USB charger ports on my seat did not work. The staff were pleasant enough, but their service oozed mediocrity. There did not seem to be much pride in what they were doing. The food has been the worst part on our BA flights since the pandemic. They gave us a menu, asked what we’d like, did a check and then told us that it was not available as they had run out and would we like to choose something else. They then told us that we’d get first choice at the second service which they couldn’t deliver on. Finally after choosing and getting whatever it is that we did, the food was tasteless. We take part in post flight surveys regularly and have stated all of this, to no avail. As a family of 3, we fly British Airways medium to long haul regularly, possibly 4-6 times a year each. For us, the good things about flying BA are that we are priority customers, usually have a direct flight to our destinations and get good service on the ground, when checking in and in the lounges when we use them.', 'Food & Beverages': '12345', 'Inflight Entertainment': '12345', 'Seat Comfort': '12345', 'Staff Service': '12345', 'Value for Money': '12345', 'Type Of Traveller': 'NA', 'Seat Type': 'NA', 'Route': 'NA', 'Date Flown': 'NA', 'Cabin Staff Service': 'NA', 'Ground Service': 'NA', 'Value For Money': 'NA', 'Recommended': 'NA'}\n",
      "{'Title': '\"Things have really deteriorated\"', 'Reviewer': 'Pradeep Madhavan', 'Country': 'United Kingdom', 'Date_posted': '9th July 2023', 'Trip_Verified': '✅ Trip Verified ', 'Comments': ' My family and I have flown mostly on British Airways for the last 30 years. I am a priority passenger and fly often enough to recognise cabin crew and know some by name. They used to be a really good airline to fly with. Things have really deteriorated with their face to face customer care since the pandemic. The aircraft look worn. For example, on my flight back my audiovisual equipment did not work and had to be reset twice, finally working in the last hour before we landed. The second time around, I think the reset was done for the whole aircraft. The touch screen function on my screen did not work. The USB charger ports on my seat did not work. The staff were pleasant enough, but their service oozed mediocrity. There did not seem to be much pride in what they were doing. The food has been the worst part on our BA flights since the pandemic. They gave us a menu, asked what we’d like, did a check and then told us that it was not available as they had run out and would we like to choose something else. They then told us that we’d get first choice at the second service which they couldn’t deliver on. Finally after choosing and getting whatever it is that we did, the food was tasteless. We take part in post flight surveys regularly and have stated all of this, to no avail. As a family of 3, we fly British Airways medium to long haul regularly, possibly 4-6 times a year each. For us, the good things about flying BA are that we are priority customers, usually have a direct flight to our destinations and get good service on the ground, when checking in and in the lounges when we use them.', 'Food & Beverages': '12345', 'Inflight Entertainment': '12345', 'Seat Comfort': '12345', 'Staff Service': '12345', 'Value for Money': '12345', 'Type Of Traveller': 'NA', 'Seat Type': 'NA', 'Route': 'NA', 'Date Flown': 'NA', 'Cabin Staff Service': 'NA', 'Ground Service': 'NA', 'Value For Money': 'NA', 'Recommended': 'NA'}\n",
      "{'Title': '\"Things have really deteriorated\"', 'Reviewer': 'Pradeep Madhavan', 'Country': 'United Kingdom', 'Date_posted': '9th July 2023', 'Trip_Verified': '✅ Trip Verified ', 'Comments': ' My family and I have flown mostly on British Airways for the last 30 years. I am a priority passenger and fly often enough to recognise cabin crew and know some by name. They used to be a really good airline to fly with. Things have really deteriorated with their face to face customer care since the pandemic. The aircraft look worn. For example, on my flight back my audiovisual equipment did not work and had to be reset twice, finally working in the last hour before we landed. The second time around, I think the reset was done for the whole aircraft. The touch screen function on my screen did not work. The USB charger ports on my seat did not work. The staff were pleasant enough, but their service oozed mediocrity. There did not seem to be much pride in what they were doing. The food has been the worst part on our BA flights since the pandemic. They gave us a menu, asked what we’d like, did a check and then told us that it was not available as they had run out and would we like to choose something else. They then told us that we’d get first choice at the second service which they couldn’t deliver on. Finally after choosing and getting whatever it is that we did, the food was tasteless. We take part in post flight surveys regularly and have stated all of this, to no avail. As a family of 3, we fly British Airways medium to long haul regularly, possibly 4-6 times a year each. For us, the good things about flying BA are that we are priority customers, usually have a direct flight to our destinations and get good service on the ground, when checking in and in the lounges when we use them.', 'Food & Beverages': '12345', 'Inflight Entertainment': '12345', 'Seat Comfort': '12345', 'Staff Service': '12345', 'Value for Money': '12345', 'Type Of Traveller': 'NA', 'Seat Type': 'NA', 'Route': 'NA', 'Date Flown': 'NA', 'Cabin Staff Service': 'NA', 'Ground Service': 'NA', 'Value For Money': 'NA', 'Recommended': 'NA'}\n",
      "{'Title': '\"Things have really deteriorated\"', 'Reviewer': 'Pradeep Madhavan', 'Country': 'United Kingdom', 'Date_posted': '9th July 2023', 'Trip_Verified': '✅ Trip Verified ', 'Comments': ' My family and I have flown mostly on British Airways for the last 30 years. I am a priority passenger and fly often enough to recognise cabin crew and know some by name. They used to be a really good airline to fly with. Things have really deteriorated with their face to face customer care since the pandemic. The aircraft look worn. For example, on my flight back my audiovisual equipment did not work and had to be reset twice, finally working in the last hour before we landed. The second time around, I think the reset was done for the whole aircraft. The touch screen function on my screen did not work. The USB charger ports on my seat did not work. The staff were pleasant enough, but their service oozed mediocrity. There did not seem to be much pride in what they were doing. The food has been the worst part on our BA flights since the pandemic. They gave us a menu, asked what we’d like, did a check and then told us that it was not available as they had run out and would we like to choose something else. They then told us that we’d get first choice at the second service which they couldn’t deliver on. Finally after choosing and getting whatever it is that we did, the food was tasteless. We take part in post flight surveys regularly and have stated all of this, to no avail. As a family of 3, we fly British Airways medium to long haul regularly, possibly 4-6 times a year each. For us, the good things about flying BA are that we are priority customers, usually have a direct flight to our destinations and get good service on the ground, when checking in and in the lounges when we use them.', 'Food & Beverages': '12345', 'Inflight Entertainment': '12345', 'Seat Comfort': '12345', 'Staff Service': '12345', 'Value for Money': '12345', 'Type Of Traveller': 'NA', 'Seat Type': 'NA', 'Route': 'NA', 'Date Flown': 'NA', 'Cabin Staff Service': 'NA', 'Ground Service': 'NA', 'Value For Money': 'NA', 'Recommended': 'NA'}\n",
      "{'Title': '\"Things have really deteriorated\"', 'Reviewer': 'Pradeep Madhavan', 'Country': 'United Kingdom', 'Date_posted': '9th July 2023', 'Trip_Verified': '✅ Trip Verified ', 'Comments': ' My family and I have flown mostly on British Airways for the last 30 years. I am a priority passenger and fly often enough to recognise cabin crew and know some by name. They used to be a really good airline to fly with. Things have really deteriorated with their face to face customer care since the pandemic. The aircraft look worn. For example, on my flight back my audiovisual equipment did not work and had to be reset twice, finally working in the last hour before we landed. The second time around, I think the reset was done for the whole aircraft. The touch screen function on my screen did not work. The USB charger ports on my seat did not work. The staff were pleasant enough, but their service oozed mediocrity. There did not seem to be much pride in what they were doing. The food has been the worst part on our BA flights since the pandemic. They gave us a menu, asked what we’d like, did a check and then told us that it was not available as they had run out and would we like to choose something else. They then told us that we’d get first choice at the second service which they couldn’t deliver on. Finally after choosing and getting whatever it is that we did, the food was tasteless. We take part in post flight surveys regularly and have stated all of this, to no avail. As a family of 3, we fly British Airways medium to long haul regularly, possibly 4-6 times a year each. For us, the good things about flying BA are that we are priority customers, usually have a direct flight to our destinations and get good service on the ground, when checking in and in the lounges when we use them.', 'Food & Beverages': '12345', 'Inflight Entertainment': '12345', 'Seat Comfort': '12345', 'Staff Service': '12345', 'Value for Money': '12345', 'Type Of Traveller': 'NA', 'Seat Type': 'NA', 'Route': 'NA', 'Date Flown': 'NA', 'Cabin Staff Service': 'NA', 'Ground Service': 'NA', 'Value For Money': 'NA', 'Recommended': 'NA'}\n",
      "{'Title': '\"Things have really deteriorated\"', 'Reviewer': 'Pradeep Madhavan', 'Country': 'United Kingdom', 'Date_posted': '9th July 2023', 'Trip_Verified': '✅ Trip Verified ', 'Comments': ' My family and I have flown mostly on British Airways for the last 30 years. I am a priority passenger and fly often enough to recognise cabin crew and know some by name. They used to be a really good airline to fly with. Things have really deteriorated with their face to face customer care since the pandemic. The aircraft look worn. For example, on my flight back my audiovisual equipment did not work and had to be reset twice, finally working in the last hour before we landed. The second time around, I think the reset was done for the whole aircraft. The touch screen function on my screen did not work. The USB charger ports on my seat did not work. The staff were pleasant enough, but their service oozed mediocrity. There did not seem to be much pride in what they were doing. The food has been the worst part on our BA flights since the pandemic. They gave us a menu, asked what we’d like, did a check and then told us that it was not available as they had run out and would we like to choose something else. They then told us that we’d get first choice at the second service which they couldn’t deliver on. Finally after choosing and getting whatever it is that we did, the food was tasteless. We take part in post flight surveys regularly and have stated all of this, to no avail. As a family of 3, we fly British Airways medium to long haul regularly, possibly 4-6 times a year each. For us, the good things about flying BA are that we are priority customers, usually have a direct flight to our destinations and get good service on the ground, when checking in and in the lounges when we use them.', 'Food & Beverages': '12345', 'Inflight Entertainment': '12345', 'Seat Comfort': '12345', 'Staff Service': '12345', 'Value for Money': '12345', 'Type Of Traveller': 'NA', 'Seat Type': 'NA', 'Route': 'NA', 'Date Flown': 'NA', 'Cabin Staff Service': 'NA', 'Ground Service': 'NA', 'Value For Money': 'NA', 'Recommended': 'NA'}\n",
      "{'Title': '\"Things have really deteriorated\"', 'Reviewer': 'Pradeep Madhavan', 'Country': 'United Kingdom', 'Date_posted': '9th July 2023', 'Trip_Verified': '✅ Trip Verified ', 'Comments': ' My family and I have flown mostly on British Airways for the last 30 years. I am a priority passenger and fly often enough to recognise cabin crew and know some by name. They used to be a really good airline to fly with. Things have really deteriorated with their face to face customer care since the pandemic. The aircraft look worn. For example, on my flight back my audiovisual equipment did not work and had to be reset twice, finally working in the last hour before we landed. The second time around, I think the reset was done for the whole aircraft. The touch screen function on my screen did not work. The USB charger ports on my seat did not work. The staff were pleasant enough, but their service oozed mediocrity. There did not seem to be much pride in what they were doing. The food has been the worst part on our BA flights since the pandemic. They gave us a menu, asked what we’d like, did a check and then told us that it was not available as they had run out and would we like to choose something else. They then told us that we’d get first choice at the second service which they couldn’t deliver on. Finally after choosing and getting whatever it is that we did, the food was tasteless. We take part in post flight surveys regularly and have stated all of this, to no avail. As a family of 3, we fly British Airways medium to long haul regularly, possibly 4-6 times a year each. For us, the good things about flying BA are that we are priority customers, usually have a direct flight to our destinations and get good service on the ground, when checking in and in the lounges when we use them.', 'Food & Beverages': '12345', 'Inflight Entertainment': '12345', 'Seat Comfort': '12345', 'Staff Service': '12345', 'Value for Money': '12345', 'Type Of Traveller': 'NA', 'Seat Type': 'NA', 'Route': 'NA', 'Date Flown': 'NA', 'Cabin Staff Service': 'NA', 'Ground Service': 'NA', 'Value For Money': 'NA', 'Recommended': 'NA'}\n",
      "{'Title': '\"Things have really deteriorated\"', 'Reviewer': 'Pradeep Madhavan', 'Country': 'United Kingdom', 'Date_posted': '9th July 2023', 'Trip_Verified': '✅ Trip Verified ', 'Comments': ' My family and I have flown mostly on British Airways for the last 30 years. I am a priority passenger and fly often enough to recognise cabin crew and know some by name. They used to be a really good airline to fly with. Things have really deteriorated with their face to face customer care since the pandemic. The aircraft look worn. For example, on my flight back my audiovisual equipment did not work and had to be reset twice, finally working in the last hour before we landed. The second time around, I think the reset was done for the whole aircraft. The touch screen function on my screen did not work. The USB charger ports on my seat did not work. The staff were pleasant enough, but their service oozed mediocrity. There did not seem to be much pride in what they were doing. The food has been the worst part on our BA flights since the pandemic. They gave us a menu, asked what we’d like, did a check and then told us that it was not available as they had run out and would we like to choose something else. They then told us that we’d get first choice at the second service which they couldn’t deliver on. Finally after choosing and getting whatever it is that we did, the food was tasteless. We take part in post flight surveys regularly and have stated all of this, to no avail. As a family of 3, we fly British Airways medium to long haul regularly, possibly 4-6 times a year each. For us, the good things about flying BA are that we are priority customers, usually have a direct flight to our destinations and get good service on the ground, when checking in and in the lounges when we use them.', 'Food & Beverages': '12345', 'Inflight Entertainment': '12345', 'Seat Comfort': '12345', 'Staff Service': '12345', 'Value for Money': '12345', 'Type Of Traveller': 'NA', 'Seat Type': 'NA', 'Route': 'NA', 'Date Flown': 'NA', 'Cabin Staff Service': 'NA', 'Ground Service': 'NA', 'Value For Money': 'NA', 'Recommended': 'NA'}\n",
      "{'Title': '\"Things have really deteriorated\"', 'Reviewer': 'Pradeep Madhavan', 'Country': 'United Kingdom', 'Date_posted': '9th July 2023', 'Trip_Verified': '✅ Trip Verified ', 'Comments': ' My family and I have flown mostly on British Airways for the last 30 years. I am a priority passenger and fly often enough to recognise cabin crew and know some by name. They used to be a really good airline to fly with. Things have really deteriorated with their face to face customer care since the pandemic. The aircraft look worn. For example, on my flight back my audiovisual equipment did not work and had to be reset twice, finally working in the last hour before we landed. The second time around, I think the reset was done for the whole aircraft. The touch screen function on my screen did not work. The USB charger ports on my seat did not work. The staff were pleasant enough, but their service oozed mediocrity. There did not seem to be much pride in what they were doing. The food has been the worst part on our BA flights since the pandemic. They gave us a menu, asked what we’d like, did a check and then told us that it was not available as they had run out and would we like to choose something else. They then told us that we’d get first choice at the second service which they couldn’t deliver on. Finally after choosing and getting whatever it is that we did, the food was tasteless. We take part in post flight surveys regularly and have stated all of this, to no avail. As a family of 3, we fly British Airways medium to long haul regularly, possibly 4-6 times a year each. For us, the good things about flying BA are that we are priority customers, usually have a direct flight to our destinations and get good service on the ground, when checking in and in the lounges when we use them.', 'Food & Beverages': '12345', 'Inflight Entertainment': '12345', 'Seat Comfort': '12345', 'Staff Service': '12345', 'Value for Money': '12345', 'Type Of Traveller': 'NA', 'Seat Type': 'NA', 'Route': 'NA', 'Date Flown': 'NA', 'Cabin Staff Service': 'NA', 'Ground Service': 'NA', 'Value For Money': 'NA', 'Recommended': 'NA'}\n",
      "{'Title': '\"Things have really deteriorated\"', 'Reviewer': 'Pradeep Madhavan', 'Country': 'United Kingdom', 'Date_posted': '9th July 2023', 'Trip_Verified': '✅ Trip Verified ', 'Comments': ' My family and I have flown mostly on British Airways for the last 30 years. I am a priority passenger and fly often enough to recognise cabin crew and know some by name. They used to be a really good airline to fly with. Things have really deteriorated with their face to face customer care since the pandemic. The aircraft look worn. For example, on my flight back my audiovisual equipment did not work and had to be reset twice, finally working in the last hour before we landed. The second time around, I think the reset was done for the whole aircraft. The touch screen function on my screen did not work. The USB charger ports on my seat did not work. The staff were pleasant enough, but their service oozed mediocrity. There did not seem to be much pride in what they were doing. The food has been the worst part on our BA flights since the pandemic. They gave us a menu, asked what we’d like, did a check and then told us that it was not available as they had run out and would we like to choose something else. They then told us that we’d get first choice at the second service which they couldn’t deliver on. Finally after choosing and getting whatever it is that we did, the food was tasteless. We take part in post flight surveys regularly and have stated all of this, to no avail. As a family of 3, we fly British Airways medium to long haul regularly, possibly 4-6 times a year each. For us, the good things about flying BA are that we are priority customers, usually have a direct flight to our destinations and get good service on the ground, when checking in and in the lounges when we use them.', 'Food & Beverages': '12345', 'Inflight Entertainment': '12345', 'Seat Comfort': '12345', 'Staff Service': '12345', 'Value for Money': '12345', 'Type Of Traveller': 'NA', 'Seat Type': 'NA', 'Route': 'NA', 'Date Flown': 'NA', 'Cabin Staff Service': 'NA', 'Ground Service': 'NA', 'Value For Money': 'NA', 'Recommended': 'NA'}\n"
     ]
    }
   ],
   "source": [
    "from selenium import webdriver\n",
    "from selenium.webdriver.common.by import By\n",
    "from time import sleep\n",
    "import re\n",
    "\n",
    "def set_chrome():\n",
    "    chrome_options = webdriver.ChromeOptions()\n",
    "    chrome_options.headless = True\n",
    "    return chrome_options\n",
    "\n",
    "base_url = \"https://www.airlinequality.com/airline-reviews/british-airways/page/1/\"\n",
    "driver = webdriver.Chrome(options=set_chrome())\n",
    "driver.get(base_url)\n",
    "driver.implicitly_wait(10)\n",
    "\n",
    "# Scrape review details\n",
    "details = []\n",
    "\n",
    "def scrape_web(url):\n",
    "    elements = driver.find_elements(By.CLASS_NAME, \"body\")\n",
    "\n",
    "    for element in elements:\n",
    "        try:\n",
    "            title = driver.find_element(By.CLASS_NAME, \"text_header\")\n",
    "            Title = title.text\n",
    "\n",
    "        except:\n",
    "            Title = \"NA\"\n",
    "\n",
    "        try:\n",
    "            user_name = driver.find_element(By.XPATH, '//*[@id=\"anchor862044\"]/h3/span/span')\n",
    "            review_Name = user_name.text\n",
    "\n",
    "        except:\n",
    "            review_Name = \"NA\"\n",
    "\n",
    "        try:\n",
    "            Location = driver.find_element(By.XPATH, '//*[@id=\"anchor862044\"]/h3')\n",
    "            loca = Location.text\n",
    "            start_index = loca.find('(') + 1\n",
    "            end_index = loca.find(')')\n",
    "            country = loca[start_index:end_index]\n",
    "        except:\n",
    "            country = \"NA\"\n",
    "\n",
    "        try:\n",
    "            # Use regular expression to find the date pattern\n",
    "            date_pattern = r'\\d{1,2}(?:st|nd|rd|th) [A-Za-z]+ \\d{4}'\n",
    "            match = re.search(date_pattern, loca)\n",
    "\n",
    "            if match:\n",
    "                date = match.group()\n",
    "            else:\n",
    "                date = \"NA\"\n",
    "        \n",
    "        except:\n",
    "            date = \"NA\"\n",
    "        \n",
    "        try:\n",
    "            trip = driver.find_element(By.CLASS_NAME, 'text_content').text.split(\"|\")\n",
    "            trip_verified = trip[0]\n",
    "        \n",
    "        except:\n",
    "            trip_verified = \"Not_Verified\"\n",
    "\n",
    "        try:\n",
    "            main_review = trip[1]\n",
    "        \n",
    "        except:\n",
    "            main_review = \" \"\n",
    "\n",
    "        # Extracting the table content\n",
    "        table_data = {}\n",
    "\n",
    "        try:\n",
    "            tbody = driver.find_element(By.XPATH, '//table[@class=\"review-ratings\"]/tbody')\n",
    "            rows = tbody.find_elements(By.XPATH, './tr')\n",
    "            for row in rows:\n",
    "                cells = row.find_elements(By.XPATH, './td')\n",
    "                if len(cells) == 2:  # Ensuring there are two cells in each row (header and value)\n",
    "                    header = cells[0].text.strip()\n",
    "                    value = cells[1].text.strip()\n",
    "                    table_data[header] = value\n",
    "\n",
    "        except:\n",
    "            pass\n",
    "\n",
    "        # Adding NA for missing values in the table\n",
    "        headers = ['Type Of Traveller', 'Seat Type', 'Route', 'Date Flown',\n",
    "                   'Seat Comfort', 'Cabin Staff Service', 'Food & Beverages',\n",
    "                   'Inflight Entertainment', 'Ground Service', 'Value For Money',\n",
    "                   'Recommended']\n",
    "        for header in headers:\n",
    "            if header not in table_data:\n",
    "                table_data[header] = 'NA'\n",
    "\n",
    "        # Merge the table data with the main review details\n",
    "        review_details = {\n",
    "            \"Title\": Title,\n",
    "            \"Reviewer\": review_Name,\n",
    "            \"Country\": country,\n",
    "            \"Date_posted\": date,\n",
    "            \"Trip_Verified\": trip_verified,\n",
    "            \"Comments\": main_review,\n",
    "            **table_data  # Add the table content to the dictionary\n",
    "        }\n",
    "\n",
    "        details.append(review_details)\n",
    "\n",
    "scrape_web(base_url)\n",
    "\n",
    "# Printing the scraped details\n",
    "for review in details:\n",
    "    print(review)\n",
    "\n",
    "# Close the driver\n",
    "driver.quit()\n"
   ]
  },
  {
   "cell_type": "code",
   "execution_count": null,
   "metadata": {},
   "outputs": [],
   "source": []
  }
 ],
 "metadata": {
  "kernelspec": {
   "display_name": "Python 3 (ipykernel)",
   "language": "python",
   "name": "python3"
  },
  "language_info": {
   "codemirror_mode": {
    "name": "ipython",
    "version": 3
   },
   "file_extension": ".py",
   "mimetype": "text/x-python",
   "name": "python",
   "nbconvert_exporter": "python",
   "pygments_lexer": "ipython3",
   "version": "3.11.3"
  },
  "orig_nbformat": 4
 },
 "nbformat": 4,
 "nbformat_minor": 2
}

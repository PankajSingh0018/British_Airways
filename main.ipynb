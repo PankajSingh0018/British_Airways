{
 "cells": [
  {
   "cell_type": "code",
   "execution_count": 1,
   "metadata": {},
   "outputs": [],
   "source": [
    "# Importing all the necessary libraries \n",
    "import os \n",
    "import openpyxl \n",
    "import pandas as pd \n",
    "import numpy as np \n",
    "import requests\n",
    "from selenium import webdriver\n",
    "from bs4 import BeautifulSoup\n",
    "from time import sleep \n",
    "\n",
    "# importing selenium dependencies \n",
    "from selenium import webdriver\n",
    "from selenium.webdriver.chrome.options import Options\n",
    "from selenium.webdriver.common.by import By\n",
    "from selenium.webdriver.common.keys import Keys\n",
    "from selenium.webdriver.support.ui import WebDriverWait\n",
    "from selenium.webdriver.support import expected_conditions as EC \n"
   ]
  },
  {
   "cell_type": "code",
   "execution_count": 2,
   "metadata": {},
   "outputs": [],
   "source": [
    "user_agent= \"Mozilla/5.0 (Windows NT 10.0; Win64; x64) AppleWebKit/537.36 (KHTML, like Gecko) Chrome/114.0.0.0 Safari/537.36\""
   ]
  },
  {
   "cell_type": "code",
   "execution_count": 4,
   "metadata": {},
   "outputs": [],
   "source": [
    "# let's create a header for the HTTPS request\n",
    "header= {'User-Agent': user_agent}"
   ]
  },
  {
   "cell_type": "code",
   "execution_count": 3,
   "metadata": {},
   "outputs": [],
   "source": [
    "base_url = \"https://www.airlinequality.com/airline-reviews/british-airways/page/1/\""
   ]
  },
  {
   "cell_type": "code",
   "execution_count": 8,
   "metadata": {},
   "outputs": [],
   "source": [
    "# let's send the request to the base url and get the response status of the website \n",
    "\n",
    "response= requests.get(base_url, headers=header)"
   ]
  },
  {
   "cell_type": "code",
   "execution_count": 9,
   "metadata": {},
   "outputs": [
    {
     "data": {
      "text/plain": [
       "200"
      ]
     },
     "execution_count": 9,
     "metadata": {},
     "output_type": "execute_result"
    }
   ],
   "source": [
    "# let's check the response status\n",
    "# if the status code is within 200 -300 range the site is communticating with the requests send by our IP\n",
    "response.status_code"
   ]
  },
  {
   "cell_type": "code",
   "execution_count": 10,
   "metadata": {},
   "outputs": [],
   "source": [
    "# Let's create a file with the name webpage.html and write the text response in it \n",
    "\n",
    "with open('webpage.html','w') as f:\n",
    "    f.write(response.text)"
   ]
  },
  {
   "cell_type": "code",
   "execution_count": 12,
   "metadata": {},
   "outputs": [],
   "source": [
    "# Let's now convert the webcontent into a BeautifulSoup object\n",
    "soup = BeautifulSoup(response.text, 'html.parser')"
   ]
  },
  {
   "cell_type": "code",
   "execution_count": null,
   "metadata": {},
   "outputs": [],
   "source": [
    "# let's now take a look at the soup \n",
    "soup"
   ]
  },
  {
   "cell_type": "code",
   "execution_count": 18,
   "metadata": {},
   "outputs": [
    {
     "data": {
      "text/plain": [
       "'British Airways Customer Reviews - SKYTRAX'"
      ]
     },
     "execution_count": 18,
     "metadata": {},
     "output_type": "execute_result"
    }
   ],
   "source": [
    "# Let's get the title from the page \n",
    "title = soup.title.text\n",
    "title"
   ]
  },
  {
   "cell_type": "code",
   "execution_count": 5,
   "metadata": {},
   "outputs": [],
   "source": [
    "# Setting up the selenium chrome options \n",
    "def set_chrome()-> Options:\n",
    "    chrome_options = Options()\n",
    "    # chrome_options.headless = True\n",
    "    chrome_options.add_argument(\"--no-sandbox\")\n",
    "    chrome_options.add_argument(\"--disable-notifications\")\n",
    "    chrome_options.add_argument(\"--disable-dev-shm-usage\")\n",
    "    chrome_options.add_argument(\"--disable-gpu\")\n",
    "    chrome_options.add_argument(\"--disable-notifications\")\n",
    "    chrome_options.add_experimental_option(\"excludeSwitches\",[\"ignore-certificate-errors\"])\n",
    "    chrome_options.add_argument('--disable-usb-discovery')\n",
    "    chrome_options.add_experimental_option('excludeSwitches', ['enable-logging'])\n",
    "    chrome_options.add_experimental_option(\"excludeSwitches\", [\"enable-automation\"]) \n",
    "    chrome_options.add_experimental_option('useAutomationExtension', False)\n",
    "    chrome_prefs={}\n",
    "    chrome_options.add_argument(f'user-agent={user_agent}')\n",
    "    chrome_options.add_argument('--disable-features=InterestCohort')\n",
    "    chrome_options.experimental_options[\"prefs\"]= chrome_prefs\n",
    "    chrome_prefs[\"profile.default_content_settings\"]={\"images\":2}\n",
    "    \n",
    "    return chrome_options\n"
   ]
  },
  {
   "cell_type": "code",
   "execution_count": 6,
   "metadata": {},
   "outputs": [
    {
     "ename": "SyntaxError",
     "evalue": "invalid syntax (4084605707.py, line 1)",
     "output_type": "error",
     "traceback": [
      "\u001b[1;36m  Cell \u001b[1;32mIn[6], line 1\u001b[1;36m\u001b[0m\n\u001b[1;33m    first_page_url= https://www.airlinequality.com/airline-reviews/british-airways/page/1/\u001b[0m\n\u001b[1;37m                         ^\u001b[0m\n\u001b[1;31mSyntaxError\u001b[0m\u001b[1;31m:\u001b[0m invalid syntax\n"
     ]
    }
   ],
   "source": [
    "\n",
    "first_page_url= https://www.airlinequality.com/airline-reviews/british-airways/page/1/\n",
    "\n",
    "last_page_url = https://www.airlinequality.com/airline-reviews/british-airways/page/360/"
   ]
  },
  {
   "cell_type": "code",
   "execution_count": null,
   "metadata": {},
   "outputs": [],
   "source": [
    "\"\"\" \n",
    "list of elements to scrape \n",
    "Airline\n",
    "Filter reviews by \n",
    "A- Latest Reviews \n",
    "    - Title of the review - h2 class= text_header\n",
    "    - class rating / overall rating ---> 4/10 \n",
    "    - Name of the reviewer - h3 -> span -> itemprop= name \n",
    "    - Location\n",
    "    - Date published \n",
    "    - checkbox for trip verified or not \n",
    "    - Main review - reviewBody \n",
    "    - Type of Aircraft - \n",
    "    - Type of traveller \n",
    "    - Seat Type \n",
    "    - Route \n",
    "    - Date flown\n",
    "\n",
    "    # Ratings out of 5 \n",
    "    - Seat comfort \n",
    "    - Cabin Staff \n",
    "    - food and beverges\n",
    "    - Inflight entertainment\n",
    "    - Ground Service \n",
    "    - Value for money\n",
    "    - Recommended \n",
    "B- First Class \n",
    "C- Business Class \n",
    "D- Premium Economy\n",
    "E- Economy Class\n",
    "\n",
    "\n",
    "\"\"\""
   ]
  },
  {
   "cell_type": "markdown",
   "metadata": {},
   "source": [
    "- driver invoke to the main website \n",
    "- Select the filter for the First class\n",
    "    a- scrape every element mentioned from the first page and add it into a dictionary \n",
    "    b- Running on the for loop i need to click on the second page and scrape untill page 360\n",
    "- Now I want to click on the filter to select the Business class reviews and scrape it untill the page 360 and append the data for each page \n",
    "\n",
    "- Then the process goes for Premium economy and then for the Econnomy  \n",
    "\n"
   ]
  },
  {
   "cell_type": "code",
   "execution_count": 39,
   "metadata": {},
   "outputs": [],
   "source": [
    "driver = webdriver.Chrome(options=set_chrome())\n",
    "base_url = \"https://www.airlinequality.com/airline-reviews/british-airways/page/1/\"\n",
    "driver.get(base_url)\n",
    "elements = driver.find_elements(By.CLASS_NAME,\"body\")"
   ]
  },
  {
   "cell_type": "code",
   "execution_count": 41,
   "metadata": {},
   "outputs": [],
   "source": []
  },
  {
   "cell_type": "code",
   "execution_count": 42,
   "metadata": {},
   "outputs": [
    {
     "data": {
      "text/plain": [
       "'\"Customer Service does not exist\"'"
      ]
     },
     "execution_count": 42,
     "metadata": {},
     "output_type": "execute_result"
    }
   ],
   "source": [
    "Title "
   ]
  },
  {
   "cell_type": "code",
   "execution_count": 94,
   "metadata": {},
   "outputs": [],
   "source": [
    "anchor = 'anchor863580'"
   ]
  },
  {
   "cell_type": "code",
   "execution_count": 95,
   "metadata": {},
   "outputs": [],
   "source": [
    "user_name = driver.find_element(By.XPATH, f'//*[@id=\"{anchor}\"]/h3/span/span')\n",
    "Reviewer_Name = user_name.text\n"
   ]
  },
  {
   "cell_type": "code",
   "execution_count": 96,
   "metadata": {},
   "outputs": [
    {
     "data": {
      "text/plain": [
       "'John Grainger'"
      ]
     },
     "execution_count": 96,
     "metadata": {},
     "output_type": "execute_result"
    }
   ],
   "source": [
    "Reviewer_Name"
   ]
  },
  {
   "cell_type": "code",
   "execution_count": 97,
   "metadata": {},
   "outputs": [
    {
     "data": {
      "text/plain": [
       "'John Grainger (United Kingdom) 17th July 2023'"
      ]
     },
     "execution_count": 97,
     "metadata": {},
     "output_type": "execute_result"
    }
   ],
   "source": [
    "Location = driver.find_element(By.XPATH, f'//*[@id=\"{anchor}\"]/h3')\n",
    "loca= Location.text\n",
    "loca\n",
    "\n"
   ]
  },
  {
   "cell_type": "code",
   "execution_count": 98,
   "metadata": {},
   "outputs": [
    {
     "data": {
      "text/plain": [
       "'United Kingdom'"
      ]
     },
     "execution_count": 98,
     "metadata": {},
     "output_type": "execute_result"
    }
   ],
   "source": [
    "start_index = loca.find('(') + 1\n",
    "end_index = loca.find(')')\n",
    "country = loca[start_index:end_index]\n",
    "country"
   ]
  },
  {
   "cell_type": "code",
   "execution_count": 48,
   "metadata": {},
   "outputs": [
    {
     "name": "stdout",
     "output_type": "stream",
     "text": [
      "17th July 2023\n"
     ]
    }
   ],
   "source": [
    "import re\n",
    "\n",
    "# Use regular expression to find the date pattern\n",
    "date_pattern = r'\\d{1,2}(?:st|nd|rd|th) [A-Za-z]+ \\d{4}'\n",
    "match = re.search(date_pattern, loca)\n",
    "\n",
    "if match:\n",
    "    date = match.group()\n",
    "    print(date)  # Output: '9th July 2023'\n",
    "else:\n",
    "    print('Date not found.')\n"
   ]
  },
  {
   "cell_type": "code",
   "execution_count": 49,
   "metadata": {},
   "outputs": [],
   "source": [
    "trip = driver.find_element(By.CLASS_NAME,'text_content').text.split(\"|\")\n",
    "trip_verified = trip[0]\n"
   ]
  },
  {
   "cell_type": "code",
   "execution_count": 61,
   "metadata": {},
   "outputs": [
    {
     "data": {
      "text/plain": [
       "'✅ Trip Verified '"
      ]
     },
     "execution_count": 61,
     "metadata": {},
     "output_type": "execute_result"
    }
   ],
   "source": [
    "trip_verified"
   ]
  },
  {
   "cell_type": "code",
   "execution_count": 51,
   "metadata": {},
   "outputs": [
    {
     "data": {
      "text/plain": [
       "' Customer Service does not exist. One world emerald, frequent long haul flyer (including BA) - never seen such poor customer service or “computer says no”. Official BA.com site said all morning and afternoon that flight from Gatwick, delayed 2 hours. Delayed leaving for airport -only for BA to change back to original time. Called BA customer service 1.5 hours prior from highway saying situation - told not to worry, would note and flight rebooked if issue but go to airport. Got to airport 40 mins prior told could not board and that staff did not work for BA so could not help. Back on phone, 3 hours in total to be told could be rebooked, then couldn’t be, round and round. Ultimately told to file complaint. Then found out flight left 2 hours delayed. Paid for extra hotels flights with more competent airlines and now told 38 days wait for complaints to be responded to - heavens help economy and non-status flyers if that’s what the front end of the plane gets!'"
      ]
     },
     "execution_count": 51,
     "metadata": {},
     "output_type": "execute_result"
    }
   ],
   "source": [
    "main_review"
   ]
  },
  {
   "cell_type": "code",
   "execution_count": 103,
   "metadata": {},
   "outputs": [],
   "source": [
    "Aircraft = driver.find_element(By.XPATH, '//*[@id=\"anchor863735\"]/div/div[2]/table/tbody/tr[1]/td[1]')\n",
    "aircraft_type = Aircraft.text\n",
    "if aircraft_type == \"Aircraft\":\n",
    "    Aircraft =  Aircraft.text\n",
    "else :\n",
    "    Aircraft = \"Not found\"\n"
   ]
  },
  {
   "cell_type": "code",
   "execution_count": 104,
   "metadata": {},
   "outputs": [
    {
     "data": {
      "text/plain": [
       "'Not found'"
      ]
     },
     "execution_count": 104,
     "metadata": {},
     "output_type": "execute_result"
    }
   ],
   "source": [
    "Aircraft"
   ]
  },
  {
   "cell_type": "code",
   "execution_count": 52,
   "metadata": {},
   "outputs": [
    {
     "data": {
      "text/plain": [
       "'A380'"
      ]
     },
     "execution_count": 52,
     "metadata": {},
     "output_type": "execute_result"
    }
   ],
   "source": [
    "Aircraft = driver.find_element(By.XPATH, '//*[@id=\"anchor863580\"]/div/div[2]/table/tbody/tr[1]/td[2]')\n",
    "Aircraft_type= Aircraft.text\n",
    "Aircraft_type"
   ]
  },
  {
   "cell_type": "code",
   "execution_count": 53,
   "metadata": {},
   "outputs": [
    {
     "data": {
      "text/plain": [
       "'Solo Leisure'"
      ]
     },
     "execution_count": 53,
     "metadata": {},
     "output_type": "execute_result"
    }
   ],
   "source": [
    "Traveller = driver.find_element(By.CLASS_NAME, 'review-rating-header.type_of_traveller')\n",
    "Traveller_type = driver.find_element(By.XPATH, '//*[@id=\"anchor863580\"]/div/div[2]/table/tbody/tr[2]/td[2]').text\n",
    "Traveller_type"
   ]
  },
  {
   "cell_type": "code",
   "execution_count": 106,
   "metadata": {},
   "outputs": [],
   "source": [
    "try: \n",
    "    type_of_traveller = driver.find_element(By.XPATH, '//*[@id=\"{anchor}\"]/div/div[2]/table/tbody/tr[1]/td[1]')\n",
    "    traveller_type = type_of_traveller.text\n",
    "\n",
    "    if traveller_type == \"Type Of Traveller\t\":\n",
    "        traveller_type = type_of_traveller.text\n",
    "\n",
    "except: \n",
    "    traveller_type = \"Not found\""
   ]
  },
  {
   "cell_type": "code",
   "execution_count": 57,
   "metadata": {},
   "outputs": [
    {
     "data": {
      "text/plain": [
       "'Business Class'"
      ]
     },
     "execution_count": 57,
     "metadata": {},
     "output_type": "execute_result"
    }
   ],
   "source": [
    "Seat_type = driver.find_element(By.XPATH,'//*[@id=\"anchor863580\"]/div/div[2]/table/tbody/tr[3]/td[2]')\n",
    "# Seat_type = driver.find_element(By.CLASS_NAME, \"\"\n",
    "Class_type= Seat_type.text\n",
    "Class_type"
   ]
  },
  {
   "cell_type": "code",
   "execution_count": 56,
   "metadata": {},
   "outputs": [
    {
     "data": {
      "text/plain": [
       "'London to Miami'"
      ]
     },
     "execution_count": 56,
     "metadata": {},
     "output_type": "execute_result"
    }
   ],
   "source": [
    "route= driver.find_element(By.XPATH,'//*[@id=\"anchor863580\"]/div/div[2]/table/tbody/tr[4]/td[2]')\n",
    "Route= route.text\n",
    "Route"
   ]
  },
  {
   "cell_type": "code",
   "execution_count": 58,
   "metadata": {},
   "outputs": [
    {
     "data": {
      "text/plain": [
       "'June 2023'"
      ]
     },
     "execution_count": 58,
     "metadata": {},
     "output_type": "execute_result"
    }
   ],
   "source": [
    "Flown_month= driver.find_element(By.XPATH,'//*[@id=\"anchor863580\"]/div/div[2]/table/tbody/tr[5]/td[2]')\n",
    "Flight_month= Flown_month.text\n",
    "Flight_month"
   ]
  },
  {
   "cell_type": "code",
   "execution_count": 59,
   "metadata": {},
   "outputs": [
    {
     "data": {
      "text/plain": [
       "9"
      ]
     },
     "execution_count": 59,
     "metadata": {},
     "output_type": "execute_result"
    }
   ],
   "source": [
    "seat_rating= driver.find_elements(By.CLASS_NAME, 'review-rating-header.seat_comfort')\n",
    "# Seat_comfort_rating = seat_rating.find_element(By.CLASS_NAME , 'review-rating-stars.stars')\n",
    "len(seat_rating)\n"
   ]
  },
  {
   "cell_type": "code",
   "execution_count": 63,
   "metadata": {},
   "outputs": [],
   "source": [
    "st= driver.find_element(By.XPATH,'//*[@id=\"anchor863580\"]/div/div[2]/table/tbody/tr[6]')"
   ]
  },
  {
   "cell_type": "code",
   "execution_count": 64,
   "metadata": {},
   "outputs": [
    {
     "data": {
      "text/plain": [
       "<selenium.webdriver.remote.webelement.WebElement (session=\"5a0d35c0dfcb2b3983f78144780804dc\", element=\"B6770C2770BAA694EA390018DEFE1EEA_element_91\")>"
      ]
     },
     "execution_count": 64,
     "metadata": {},
     "output_type": "execute_result"
    }
   ],
   "source": [
    "st"
   ]
  },
  {
   "cell_type": "code",
   "execution_count": 75,
   "metadata": {},
   "outputs": [
    {
     "name": "stdout",
     "output_type": "stream",
     "text": [
      "Seat Comfort\n",
      "1\n"
     ]
    }
   ],
   "source": [
    "# Cabin_staff_1 = driver.find_element(By.XPATH,'//*[@id=\"anchor863580\"]/div/div[2]/table/tbody/tr[6]/td[1]')\n",
    "\n",
    "# a= Cabin_staff_1.text\n",
    "\n",
    "# print(a)\n",
    "\n",
    "ab = driver.find_element(By.XPATH,'//*[@id=\"anchor863580\"]/div/div[2]/table/tbody/tr[6]/td[1]')\n",
    "a= ab.text\n",
    "print(a)\n",
    "\n",
    "seat_rating = driver.find_elements(By.XPATH,'//*[@id=\"anchor863580\"]/div/div[2]/table/tbody/tr[6]/td[2]/span')\n",
    "len(seat_rating)\n",
    "rows= []\n",
    "count=0\n",
    "for row in seat_rating:\n",
    "    # Get the class attribute value and check if \"star\" and \"fill\" are present\n",
    "    class_attribute = row.get_attribute(\"class\")\n",
    "    if \"star\" in class_attribute and \"fill\" in class_attribute:\n",
    "        count = row.text\n",
    "print(count)"
   ]
  },
  {
   "cell_type": "code",
   "execution_count": 67,
   "metadata": {},
   "outputs": [
    {
     "name": "stdout",
     "output_type": "stream",
     "text": [
      "Cabin Staff Service\n",
      "1\n"
     ]
    }
   ],
   "source": [
    "Cabin_staff_1 = driver.find_element(By.XPATH,'//*[@id=\"anchor863580\"]/div/div[2]/table/tbody/tr[7]/td[1]')\n",
    "a= Cabin_staff_1.text\n",
    "print(a)\n",
    "\n",
    "\n",
    "\n",
    "Cabin_staff = driver.find_elements(By.XPATH,'//*[@id=\"anchor863580\"]/div/div[2]/table/tbody/tr[7]/td[2]/span')\n",
    "len(Cabin_staff)\n",
    "rows= []\n",
    "count= \"\"\n",
    "for row in Cabin_staff:\n",
    "    # Get the class attribute value and check if \"star\" and \"fill\" are present\n",
    "    class_attribute = row.get_attribute(\"class\")\n",
    "    if \"star\" in class_attribute and \"fill\" in class_attribute:\n",
    "        count= row.text\n",
    "print(count)\n"
   ]
  },
  {
   "cell_type": "code",
   "execution_count": 81,
   "metadata": {},
   "outputs": [
    {
     "name": "stdout",
     "output_type": "stream",
     "text": [
      "Food & Beverages\n",
      "1\n"
     ]
    }
   ],
   "source": [
    "Cabin_staff_1 = driver.find_element(By.XPATH,'//*[@id=\"anchor863580\"]/div/div[2]/table/tbody/tr[8]/td[1]')\n",
    "a= Cabin_staff_1.text\n",
    "print(a)\n",
    "\n",
    "\n",
    "Cabin_staff = driver.find_elements(By.XPATH,'//*[@id=\"anchor863580\"]/div/div[2]/table/tbody/tr[8]/td[2]/span')\n",
    "len(Cabin_staff)\n",
    "rows= []\n",
    "count=0\n",
    "for row in Cabin_staff:\n",
    "    # Get the class attribute value and check if \"star\" and \"fill\" are present\n",
    "    class_attribute = row.get_attribute(\"class\")\n",
    "    if \"star\" in class_attribute and \"fill\" in class_attribute:\n",
    "        count= row.text\n",
    "\n",
    "print(count)"
   ]
  },
  {
   "cell_type": "code",
   "execution_count": 82,
   "metadata": {},
   "outputs": [
    {
     "name": "stdout",
     "output_type": "stream",
     "text": [
      "Ground Service\n",
      "1\n"
     ]
    }
   ],
   "source": [
    "Cabin_staff_1 = driver.find_element(By.XPATH,'//*[@id=\"anchor863580\"]/div/div[2]/table/tbody/tr[9]/td[1]')\n",
    "a= Cabin_staff_1.text\n",
    "print(a)\n",
    "\n",
    "Cabin_staff = driver.find_elements(By.XPATH,'//*[@id=\"anchor863580\"]/div/div[2]/table/tbody/tr[9]/td[2]/span')\n",
    "len(Cabin_staff)\n",
    "rows= []\n",
    "count=0\n",
    "for row in Cabin_staff:\n",
    "    # Get the class attribute value and check if \"star\" and \"fill\" are present\n",
    "    class_attribute = row.get_attribute(\"class\")\n",
    "    if \"star\" in class_attribute and \"fill\" in class_attribute:\n",
    "        count= row.text\n",
    "\n",
    "print(count)"
   ]
  },
  {
   "cell_type": "code",
   "execution_count": 83,
   "metadata": {},
   "outputs": [
    {
     "name": "stdout",
     "output_type": "stream",
     "text": [
      "Value For Money\n",
      "1\n"
     ]
    }
   ],
   "source": [
    "Cabin_staff_1 = driver.find_element(By.XPATH,'//*[@id=\"anchor863580\"]/div/div[2]/table/tbody/tr[10]/td[1]')\n",
    "a=Cabin_staff_1.text\n",
    "print(a)\n",
    "Cabin_staff = driver.find_elements(By.XPATH,'//*[@id=\"anchor863580\"]/div/div[2]/table/tbody/tr[10]/td[2]/span')\n",
    "len(Cabin_staff)\n",
    "rows= []\n",
    "count=0\n",
    "for row in Cabin_staff:\n",
    "    # Get the class attribute value and check if \"star\" and \"fill\" are present\n",
    "    class_attribute = row.get_attribute(\"class\")\n",
    "    if \"star\" in class_attribute and \"fill\" in class_attribute:\n",
    "        count= row.text\n",
    "print(count)"
   ]
  },
  {
   "cell_type": "code",
   "execution_count": 84,
   "metadata": {},
   "outputs": [
    {
     "name": "stdout",
     "output_type": "stream",
     "text": [
      "Recommended\n",
      "1\n"
     ]
    }
   ],
   "source": [
    "# Recommend \n",
    "\n",
    "Cabin_staff_1 = driver.find_element(By.XPATH,'//*[@id=\"anchor863580\"]/div/div[2]/table/tbody/tr[11]/td[1]')\n",
    "a=Cabin_staff_1.text\n",
    "print(a)\n",
    "Cabin_staff = driver.find_elements(By.XPATH,'//*[@id=\"anchor863580\"]/div/div[2]/table/tbody/tr[10]/td[2]/span')\n",
    "len(Cabin_staff)\n",
    "rows= []\n",
    "count=0\n",
    "for row in Cabin_staff:\n",
    "    # Get the class attribute value and check if \"star\" and \"fill\" are present\n",
    "    class_attribute = row.get_attribute(\"class\")\n",
    "    if \"star\" in class_attribute and \"fill\" in class_attribute:\n",
    "        count= row.text\n",
    "print(count)"
   ]
  },
  {
   "cell_type": "code",
   "execution_count": 87,
   "metadata": {},
   "outputs": [
    {
     "data": {
      "text/plain": [
       "'yes'"
      ]
     },
     "execution_count": 87,
     "metadata": {},
     "output_type": "execute_result"
    }
   ],
   "source": [
    "element_xpath = '//td[@class=\"review-rating-header recommended\"]/following-sibling::td[@class=\"review-value rating-yes\"]'\n",
    "element = driver.find_element(By.XPATH, element_xpath)\n",
    "\n",
    "# Extract the text \"yes\" from the element\n",
    "text_value = element.text\n",
    "\n",
    "text_value"
   ]
  }
 ],
 "metadata": {
  "kernelspec": {
   "display_name": "Python 3 (ipykernel)",
   "language": "python",
   "name": "python3"
  },
  "language_info": {
   "codemirror_mode": {
    "name": "ipython",
    "version": 3
   },
   "file_extension": ".py",
   "mimetype": "text/x-python",
   "name": "python",
   "nbconvert_exporter": "python",
   "pygments_lexer": "ipython3",
   "version": "3.11.3"
  },
  "orig_nbformat": 4
 },
 "nbformat": 4,
 "nbformat_minor": 2
}

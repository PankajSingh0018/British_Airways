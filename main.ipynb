{
 "cells": [
  {
   "cell_type": "code",
   "execution_count": 1,
   "metadata": {},
   "outputs": [],
   "source": [
    "# Importing all the necessary libraries \n",
    "import os \n",
    "import openpyxl \n",
    "import pandas as pd \n",
    "import numpy as np \n",
    "import requests\n",
    "from selenium import webdriver\n",
    "from bs4 import BeautifulSoup\n",
    "from time import sleep \n",
    "\n",
    "# importing selenium dependencies \n",
    "from selenium import webdriver\n",
    "from selenium.webdriver.chrome.options import Options\n",
    "from selenium.webdriver.common.by import By\n",
    "from selenium.webdriver.common.keys import Keys\n",
    "from selenium.webdriver.support.ui import WebDriverWait\n",
    "from selenium.webdriver.support import expected_conditions as EC \n"
   ]
  },
  {
   "cell_type": "code",
   "execution_count": 2,
   "metadata": {},
   "outputs": [],
   "source": [
    "user_agent= \"Mozilla/5.0 (Windows NT 10.0; Win64; x64) AppleWebKit/537.36 (KHTML, like Gecko) Chrome/114.0.0.0 Safari/537.36\""
   ]
  },
  {
   "cell_type": "code",
   "execution_count": 4,
   "metadata": {},
   "outputs": [],
   "source": [
    "# let's create a header for the HTTPS request\n",
    "header= {'User-Agent': user_agent}"
   ]
  },
  {
   "cell_type": "code",
   "execution_count": 3,
   "metadata": {},
   "outputs": [],
   "source": [
    "base_url = \"https://www.airlinequality.com/airline-reviews/british-airways/page/1/\""
   ]
  },
  {
   "cell_type": "code",
   "execution_count": 8,
   "metadata": {},
   "outputs": [],
   "source": [
    "# let's send the request to the base url and get the response status of the website \n",
    "\n",
    "response= requests.get(base_url, headers=header)"
   ]
  },
  {
   "cell_type": "code",
   "execution_count": 9,
   "metadata": {},
   "outputs": [
    {
     "data": {
      "text/plain": [
       "200"
      ]
     },
     "execution_count": 9,
     "metadata": {},
     "output_type": "execute_result"
    }
   ],
   "source": [
    "# let's check the response status\n",
    "# if the status code is within 200 -300 range the site is communticating with the requests send by our IP\n",
    "response.status_code"
   ]
  },
  {
   "cell_type": "code",
   "execution_count": 10,
   "metadata": {},
   "outputs": [],
   "source": [
    "# Let's create a file with the name webpage.html and write the text response in it \n",
    "\n",
    "with open('webpage.html','w') as f:\n",
    "    f.write(response.text)"
   ]
  },
  {
   "cell_type": "code",
   "execution_count": 12,
   "metadata": {},
   "outputs": [],
   "source": [
    "# Let's now convert the webcontent into a BeautifulSoup object\n",
    "soup = BeautifulSoup(response.text, 'html.parser')"
   ]
  },
  {
   "cell_type": "code",
   "execution_count": null,
   "metadata": {},
   "outputs": [],
   "source": [
    "# let's now take a look at the soup \n",
    "soup"
   ]
  },
  {
   "cell_type": "code",
   "execution_count": 18,
   "metadata": {},
   "outputs": [
    {
     "data": {
      "text/plain": [
       "'British Airways Customer Reviews - SKYTRAX'"
      ]
     },
     "execution_count": 18,
     "metadata": {},
     "output_type": "execute_result"
    }
   ],
   "source": [
    "# Let's get the title from the page \n",
    "title = soup.title.text\n",
    "title"
   ]
  },
  {
   "cell_type": "code",
   "execution_count": 5,
   "metadata": {},
   "outputs": [],
   "source": [
    "# Setting up the selenium chrome options \n",
    "def set_chrome()-> Options:\n",
    "    chrome_options = Options()\n",
    "    # chrome_options.headless = True\n",
    "    chrome_options.add_argument(\"--no-sandbox\")\n",
    "    chrome_options.add_argument(\"--disable-notifications\")\n",
    "    chrome_options.add_argument(\"--disable-dev-shm-usage\")\n",
    "    chrome_options.add_argument(\"--disable-gpu\")\n",
    "    chrome_options.add_argument(\"--disable-notifications\")\n",
    "    chrome_options.add_experimental_option(\"excludeSwitches\",[\"ignore-certificate-errors\"])\n",
    "    chrome_options.add_argument('--disable-usb-discovery')\n",
    "    chrome_options.add_experimental_option('excludeSwitches', ['enable-logging'])\n",
    "    chrome_options.add_experimental_option(\"excludeSwitches\", [\"enable-automation\"]) \n",
    "    chrome_options.add_experimental_option('useAutomationExtension', False)\n",
    "    chrome_prefs={}\n",
    "    chrome_options.add_argument(f'user-agent={user_agent}')\n",
    "    chrome_options.add_argument('--disable-features=InterestCohort')\n",
    "    chrome_options.experimental_options[\"prefs\"]= chrome_prefs\n",
    "    chrome_prefs[\"profile.default_content_settings\"]={\"images\":2}\n",
    "    \n",
    "    return chrome_options\n"
   ]
  },
  {
   "cell_type": "code",
   "execution_count": 6,
   "metadata": {},
   "outputs": [
    {
     "ename": "SyntaxError",
     "evalue": "invalid syntax (4084605707.py, line 1)",
     "output_type": "error",
     "traceback": [
      "\u001b[1;36m  Cell \u001b[1;32mIn[6], line 1\u001b[1;36m\u001b[0m\n\u001b[1;33m    first_page_url= https://www.airlinequality.com/airline-reviews/british-airways/page/1/\u001b[0m\n\u001b[1;37m                         ^\u001b[0m\n\u001b[1;31mSyntaxError\u001b[0m\u001b[1;31m:\u001b[0m invalid syntax\n"
     ]
    }
   ],
   "source": [
    "\n",
    "first_page_url= https://www.airlinequality.com/airline-reviews/british-airways/page/1/\n",
    "\n",
    "last_page_url = https://www.airlinequality.com/airline-reviews/british-airways/page/360/"
   ]
  },
  {
   "cell_type": "code",
   "execution_count": null,
   "metadata": {},
   "outputs": [],
   "source": [
    "\"\"\" \n",
    "list of elements to scrape \n",
    "Airline\n",
    "Filter reviews by \n",
    "A- Latest Reviews \n",
    "    - Title of the review - h2 class= text_header\n",
    "    - class rating / overall rating ---> 4/10 \n",
    "    - Name of the reviewer - h3 -> span -> itemprop= name \n",
    "    - Location\n",
    "    - Date published \n",
    "    - checkbox for trip verified or not \n",
    "    - Main review - reviewBody \n",
    "    - Type of Aircraft - \n",
    "    - Type of traveller \n",
    "    - Seat Type \n",
    "    - Route \n",
    "    - Date flown\n",
    "\n",
    "    # Ratings out of 5 \n",
    "    - Seat comfort \n",
    "    - Cabin Staff \n",
    "    - food and beverges\n",
    "    - Inflight entertainment\n",
    "    - Ground Service \n",
    "    - Value for money\n",
    "    - Recommended \n",
    "B- First Class \n",
    "C- Business Class \n",
    "D- Premium Economy\n",
    "E- Economy Class\n",
    "\n",
    "\n",
    "\"\"\""
   ]
  },
  {
   "cell_type": "markdown",
   "metadata": {},
   "source": [
    "- driver invoke to the main website \n",
    "- Select the filter for the First class\n",
    "    a- scrape every element mentioned from the first page and add it into a dictionary \n",
    "    b- Running on the for loop i need to click on the second page and scrape untill page 360\n",
    "- Now I want to click on the filter to select the Business class reviews and scrape it untill the page 360 and append the data for each page \n",
    "\n",
    "- Then the process goes for Premium economy and then for the Econnomy  \n",
    "\n"
   ]
  },
  {
   "cell_type": "code",
   "execution_count": 22,
   "metadata": {},
   "outputs": [],
   "source": [
    "# Let's create a scrape function \n",
    "def scrape_web(url):\n",
    "    # getting the driver invoked \n",
    "    "
   ]
  },
  {
   "cell_type": "code",
   "execution_count": 39,
   "metadata": {},
   "outputs": [],
   "source": [
    "driver = webdriver.Chrome(options=set_chrome())\n",
    "base_url = \"https://www.airlinequality.com/airline-reviews/british-airways/page/1/\"\n",
    "driver.get(base_url)\n",
    "elements = driver.find_elements(By.CLASS_NAME,\"body\")"
   ]
  },
  {
   "cell_type": "code",
   "execution_count": 41,
   "metadata": {},
   "outputs": [],
   "source": []
  },
  {
   "cell_type": "code",
   "execution_count": 42,
   "metadata": {},
   "outputs": [
    {
     "data": {
      "text/plain": [
       "'\"Customer Service does not exist\"'"
      ]
     },
     "execution_count": 42,
     "metadata": {},
     "output_type": "execute_result"
    }
   ],
   "source": [
    "Title "
   ]
  },
  {
   "cell_type": "code",
   "execution_count": 94,
   "metadata": {},
   "outputs": [],
   "source": [
    "anchor = 'anchor863580'"
   ]
  },
  {
   "cell_type": "code",
   "execution_count": 95,
   "metadata": {},
   "outputs": [],
   "source": [
    "user_name = driver.find_element(By.XPATH, f'//*[@id=\"{anchor}\"]/h3/span/span')\n",
    "Reviewer_Name = user_name.text\n"
   ]
  },
  {
   "cell_type": "code",
   "execution_count": 96,
   "metadata": {},
   "outputs": [
    {
     "data": {
      "text/plain": [
       "'John Grainger'"
      ]
     },
     "execution_count": 96,
     "metadata": {},
     "output_type": "execute_result"
    }
   ],
   "source": [
    "Reviewer_Name"
   ]
  },
  {
   "cell_type": "code",
   "execution_count": 97,
   "metadata": {},
   "outputs": [
    {
     "data": {
      "text/plain": [
       "'John Grainger (United Kingdom) 17th July 2023'"
      ]
     },
     "execution_count": 97,
     "metadata": {},
     "output_type": "execute_result"
    }
   ],
   "source": [
    "    Location = driver.find_element(By.XPATH, f'//*[@id=\"{anchor}\"]/h3')\n",
    "    loca= Location.text\n",
    "    loca\n",
    "\n"
   ]
  },
  {
   "cell_type": "code",
   "execution_count": 98,
   "metadata": {},
   "outputs": [
    {
     "data": {
      "text/plain": [
       "'United Kingdom'"
      ]
     },
     "execution_count": 98,
     "metadata": {},
     "output_type": "execute_result"
    }
   ],
   "source": [
    "start_index = loca.find('(') + 1\n",
    "end_index = loca.find(')')\n",
    "country = loca[start_index:end_index]\n",
    "country"
   ]
  },
  {
   "cell_type": "code",
   "execution_count": 48,
   "metadata": {},
   "outputs": [
    {
     "name": "stdout",
     "output_type": "stream",
     "text": [
      "17th July 2023\n"
     ]
    }
   ],
   "source": [
    "import re\n",
    "\n",
    "# Use regular expression to find the date pattern\n",
    "date_pattern = r'\\d{1,2}(?:st|nd|rd|th) [A-Za-z]+ \\d{4}'\n",
    "match = re.search(date_pattern, loca)\n",
    "\n",
    "if match:\n",
    "    date = match.group()\n",
    "    print(date)  # Output: '9th July 2023'\n",
    "else:\n",
    "    print('Date not found.')\n"
   ]
  },
  {
   "cell_type": "code",
   "execution_count": 49,
   "metadata": {},
   "outputs": [],
   "source": [
    "trip = driver.find_element(By.CLASS_NAME,'text_content').text.split(\"|\")\n",
    "trip_verified = trip[0]\n"
   ]
  },
  {
   "cell_type": "code",
   "execution_count": 61,
   "metadata": {},
   "outputs": [
    {
     "data": {
      "text/plain": [
       "'✅ Trip Verified '"
      ]
     },
     "execution_count": 61,
     "metadata": {},
     "output_type": "execute_result"
    }
   ],
   "source": [
    "trip_verified"
   ]
  },
  {
   "cell_type": "code",
   "execution_count": 51,
   "metadata": {},
   "outputs": [
    {
     "data": {
      "text/plain": [
       "' Customer Service does not exist. One world emerald, frequent long haul flyer (including BA) - never seen such poor customer service or “computer says no”. Official BA.com site said all morning and afternoon that flight from Gatwick, delayed 2 hours. Delayed leaving for airport -only for BA to change back to original time. Called BA customer service 1.5 hours prior from highway saying situation - told not to worry, would note and flight rebooked if issue but go to airport. Got to airport 40 mins prior told could not board and that staff did not work for BA so could not help. Back on phone, 3 hours in total to be told could be rebooked, then couldn’t be, round and round. Ultimately told to file complaint. Then found out flight left 2 hours delayed. Paid for extra hotels flights with more competent airlines and now told 38 days wait for complaints to be responded to - heavens help economy and non-status flyers if that’s what the front end of the plane gets!'"
      ]
     },
     "execution_count": 51,
     "metadata": {},
     "output_type": "execute_result"
    }
   ],
   "source": [
    "main_review"
   ]
  },
  {
   "cell_type": "code",
   "execution_count": 103,
   "metadata": {},
   "outputs": [],
   "source": [
    "Aircraft = driver.find_element(By.XPATH, '//*[@id=\"anchor863735\"]/div/div[2]/table/tbody/tr[1]/td[1]')\n",
    "aircraft_type = Aircraft.text\n",
    "if aircraft_type == \"Aircraft\":\n",
    "    Aircraft =  Aircraft.text\n",
    "else :\n",
    "    Aircraft = \"Not found\"\n"
   ]
  },
  {
   "cell_type": "code",
   "execution_count": 104,
   "metadata": {},
   "outputs": [
    {
     "data": {
      "text/plain": [
       "'Not found'"
      ]
     },
     "execution_count": 104,
     "metadata": {},
     "output_type": "execute_result"
    }
   ],
   "source": [
    "Aircraft"
   ]
  },
  {
   "cell_type": "code",
   "execution_count": 52,
   "metadata": {},
   "outputs": [
    {
     "data": {
      "text/plain": [
       "'A380'"
      ]
     },
     "execution_count": 52,
     "metadata": {},
     "output_type": "execute_result"
    }
   ],
   "source": [
    "Aircraft = driver.find_element(By.XPATH, '//*[@id=\"anchor863580\"]/div/div[2]/table/tbody/tr[1]/td[2]')\n",
    "Aircraft_type= Aircraft.text\n",
    "Aircraft_type"
   ]
  },
  {
   "cell_type": "code",
   "execution_count": 53,
   "metadata": {},
   "outputs": [
    {
     "data": {
      "text/plain": [
       "'Solo Leisure'"
      ]
     },
     "execution_count": 53,
     "metadata": {},
     "output_type": "execute_result"
    }
   ],
   "source": [
    "Traveller = driver.find_element(By.CLASS_NAME, 'review-rating-header.type_of_traveller')\n",
    "Traveller_type = driver.find_element(By.XPATH, '//*[@id=\"anchor863580\"]/div/div[2]/table/tbody/tr[2]/td[2]').text\n",
    "Traveller_type"
   ]
  },
  {
   "cell_type": "code",
   "execution_count": 106,
   "metadata": {},
   "outputs": [],
   "source": [
    "try: \n",
    "    type_of_traveller = driver.find_element(By.XPATH, '//*[@id=\"{anchor}\"]/div/div[2]/table/tbody/tr[1]/td[1]')\n",
    "    traveller_type = type_of_traveller.text\n",
    "\n",
    "    if traveller_type == \"Type Of Traveller\t\":\n",
    "        traveller_type = type_of_traveller.text\n",
    "\n",
    "except: \n",
    "    traveller_type = \"Not found\""
   ]
  },
  {
   "cell_type": "code",
   "execution_count": 57,
   "metadata": {},
   "outputs": [
    {
     "data": {
      "text/plain": [
       "'Business Class'"
      ]
     },
     "execution_count": 57,
     "metadata": {},
     "output_type": "execute_result"
    }
   ],
   "source": [
    "Seat_type = driver.find_element(By.XPATH,'//*[@id=\"anchor863580\"]/div/div[2]/table/tbody/tr[3]/td[2]')\n",
    "# Seat_type = driver.find_element(By.CLASS_NAME, \"\"\n",
    "Class_type= Seat_type.text\n",
    "Class_type"
   ]
  },
  {
   "cell_type": "code",
   "execution_count": 56,
   "metadata": {},
   "outputs": [
    {
     "data": {
      "text/plain": [
       "'London to Miami'"
      ]
     },
     "execution_count": 56,
     "metadata": {},
     "output_type": "execute_result"
    }
   ],
   "source": [
    "route= driver.find_element(By.XPATH,'//*[@id=\"anchor863580\"]/div/div[2]/table/tbody/tr[4]/td[2]')\n",
    "Route= route.text\n",
    "Route"
   ]
  },
  {
   "cell_type": "code",
   "execution_count": 58,
   "metadata": {},
   "outputs": [
    {
     "data": {
      "text/plain": [
       "'June 2023'"
      ]
     },
     "execution_count": 58,
     "metadata": {},
     "output_type": "execute_result"
    }
   ],
   "source": [
    "Flown_month= driver.find_element(By.XPATH,'//*[@id=\"anchor863580\"]/div/div[2]/table/tbody/tr[5]/td[2]')\n",
    "Flight_month= Flown_month.text\n",
    "Flight_month"
   ]
  },
  {
   "cell_type": "code",
   "execution_count": 59,
   "metadata": {},
   "outputs": [
    {
     "data": {
      "text/plain": [
       "9"
      ]
     },
     "execution_count": 59,
     "metadata": {},
     "output_type": "execute_result"
    }
   ],
   "source": [
    "seat_rating= driver.find_elements(By.CLASS_NAME, 'review-rating-header.seat_comfort')\n",
    "# Seat_comfort_rating = seat_rating.find_element(By.CLASS_NAME , 'review-rating-stars.stars')\n",
    "len(seat_rating)\n"
   ]
  },
  {
   "cell_type": "code",
   "execution_count": 63,
   "metadata": {},
   "outputs": [],
   "source": [
    "st= driver.find_element(By.XPATH,'//*[@id=\"anchor863580\"]/div/div[2]/table/tbody/tr[6]')"
   ]
  },
  {
   "cell_type": "code",
   "execution_count": 64,
   "metadata": {},
   "outputs": [
    {
     "data": {
      "text/plain": [
       "<selenium.webdriver.remote.webelement.WebElement (session=\"5a0d35c0dfcb2b3983f78144780804dc\", element=\"B6770C2770BAA694EA390018DEFE1EEA_element_91\")>"
      ]
     },
     "execution_count": 64,
     "metadata": {},
     "output_type": "execute_result"
    }
   ],
   "source": [
    "st"
   ]
  },
  {
   "cell_type": "code",
   "execution_count": 75,
   "metadata": {},
   "outputs": [
    {
     "name": "stdout",
     "output_type": "stream",
     "text": [
      "Seat Comfort\n",
      "1\n"
     ]
    }
   ],
   "source": [
    "# Cabin_staff_1 = driver.find_element(By.XPATH,'//*[@id=\"anchor863580\"]/div/div[2]/table/tbody/tr[6]/td[1]')\n",
    "\n",
    "# a= Cabin_staff_1.text\n",
    "\n",
    "# print(a)\n",
    "\n",
    "ab = driver.find_element(By.XPATH,'//*[@id=\"anchor863580\"]/div/div[2]/table/tbody/tr[6]/td[1]')\n",
    "a= ab.text\n",
    "print(a)\n",
    "\n",
    "seat_rating = driver.find_elements(By.XPATH,'//*[@id=\"anchor863580\"]/div/div[2]/table/tbody/tr[6]/td[2]/span')\n",
    "len(seat_rating)\n",
    "rows= []\n",
    "count=0\n",
    "for row in seat_rating:\n",
    "    # Get the class attribute value and check if \"star\" and \"fill\" are present\n",
    "    class_attribute = row.get_attribute(\"class\")\n",
    "    if \"star\" in class_attribute and \"fill\" in class_attribute:\n",
    "        count = row.text\n",
    "print(count)"
   ]
  },
  {
   "cell_type": "code",
   "execution_count": 67,
   "metadata": {},
   "outputs": [
    {
     "name": "stdout",
     "output_type": "stream",
     "text": [
      "Cabin Staff Service\n",
      "1\n"
     ]
    }
   ],
   "source": [
    "Cabin_staff_1 = driver.find_element(By.XPATH,'//*[@id=\"anchor863580\"]/div/div[2]/table/tbody/tr[7]/td[1]')\n",
    "a= Cabin_staff_1.text\n",
    "print(a)\n",
    "\n",
    "\n",
    "\n",
    "Cabin_staff = driver.find_elements(By.XPATH,'//*[@id=\"anchor863580\"]/div/div[2]/table/tbody/tr[7]/td[2]/span')\n",
    "len(Cabin_staff)\n",
    "rows= []\n",
    "count= \"\"\n",
    "for row in Cabin_staff:\n",
    "    # Get the class attribute value and check if \"star\" and \"fill\" are present\n",
    "    class_attribute = row.get_attribute(\"class\")\n",
    "    if \"star\" in class_attribute and \"fill\" in class_attribute:\n",
    "        count= row.text\n",
    "print(count)\n"
   ]
  },
  {
   "cell_type": "code",
   "execution_count": 81,
   "metadata": {},
   "outputs": [
    {
     "name": "stdout",
     "output_type": "stream",
     "text": [
      "Food & Beverages\n",
      "1\n"
     ]
    }
   ],
   "source": [
    "Cabin_staff_1 = driver.find_element(By.XPATH,'//*[@id=\"anchor863580\"]/div/div[2]/table/tbody/tr[8]/td[1]')\n",
    "a= Cabin_staff_1.text\n",
    "print(a)\n",
    "\n",
    "\n",
    "Cabin_staff = driver.find_elements(By.XPATH,'//*[@id=\"anchor863580\"]/div/div[2]/table/tbody/tr[8]/td[2]/span')\n",
    "len(Cabin_staff)\n",
    "rows= []\n",
    "count=0\n",
    "for row in Cabin_staff:\n",
    "    # Get the class attribute value and check if \"star\" and \"fill\" are present\n",
    "    class_attribute = row.get_attribute(\"class\")\n",
    "    if \"star\" in class_attribute and \"fill\" in class_attribute:\n",
    "        count= row.text\n",
    "\n",
    "print(count)"
   ]
  },
  {
   "cell_type": "code",
   "execution_count": 82,
   "metadata": {},
   "outputs": [
    {
     "name": "stdout",
     "output_type": "stream",
     "text": [
      "Ground Service\n",
      "1\n"
     ]
    }
   ],
   "source": [
    "Cabin_staff_1 = driver.find_element(By.XPATH,'//*[@id=\"anchor863580\"]/div/div[2]/table/tbody/tr[9]/td[1]')\n",
    "a= Cabin_staff_1.text\n",
    "print(a)\n",
    "\n",
    "Cabin_staff = driver.find_elements(By.XPATH,'//*[@id=\"anchor863580\"]/div/div[2]/table/tbody/tr[9]/td[2]/span')\n",
    "len(Cabin_staff)\n",
    "rows= []\n",
    "count=0\n",
    "for row in Cabin_staff:\n",
    "    # Get the class attribute value and check if \"star\" and \"fill\" are present\n",
    "    class_attribute = row.get_attribute(\"class\")\n",
    "    if \"star\" in class_attribute and \"fill\" in class_attribute:\n",
    "        count= row.text\n",
    "\n",
    "print(count)"
   ]
  },
  {
   "cell_type": "code",
   "execution_count": 83,
   "metadata": {},
   "outputs": [
    {
     "name": "stdout",
     "output_type": "stream",
     "text": [
      "Value For Money\n",
      "1\n"
     ]
    }
   ],
   "source": [
    "Cabin_staff_1 = driver.find_element(By.XPATH,'//*[@id=\"anchor863580\"]/div/div[2]/table/tbody/tr[10]/td[1]')\n",
    "a=Cabin_staff_1.text\n",
    "print(a)\n",
    "Cabin_staff = driver.find_elements(By.XPATH,'//*[@id=\"anchor863580\"]/div/div[2]/table/tbody/tr[10]/td[2]/span')\n",
    "len(Cabin_staff)\n",
    "rows= []\n",
    "count=0\n",
    "for row in Cabin_staff:\n",
    "    # Get the class attribute value and check if \"star\" and \"fill\" are present\n",
    "    class_attribute = row.get_attribute(\"class\")\n",
    "    if \"star\" in class_attribute and \"fill\" in class_attribute:\n",
    "        count= row.text\n",
    "print(count)"
   ]
  },
  {
   "cell_type": "code",
   "execution_count": 84,
   "metadata": {},
   "outputs": [
    {
     "name": "stdout",
     "output_type": "stream",
     "text": [
      "Recommended\n",
      "1\n"
     ]
    }
   ],
   "source": [
    "# Recommend \n",
    "\n",
    "Cabin_staff_1 = driver.find_element(By.XPATH,'//*[@id=\"anchor863580\"]/div/div[2]/table/tbody/tr[11]/td[1]')\n",
    "a=Cabin_staff_1.text\n",
    "print(a)\n",
    "Cabin_staff = driver.find_elements(By.XPATH,'//*[@id=\"anchor863580\"]/div/div[2]/table/tbody/tr[10]/td[2]/span')\n",
    "len(Cabin_staff)\n",
    "rows= []\n",
    "count=0\n",
    "for row in Cabin_staff:\n",
    "    # Get the class attribute value and check if \"star\" and \"fill\" are present\n",
    "    class_attribute = row.get_attribute(\"class\")\n",
    "    if \"star\" in class_attribute and \"fill\" in class_attribute:\n",
    "        count= row.text\n",
    "print(count)"
   ]
  },
  {
   "cell_type": "code",
   "execution_count": 87,
   "metadata": {},
   "outputs": [
    {
     "data": {
      "text/plain": [
       "'yes'"
      ]
     },
     "execution_count": 87,
     "metadata": {},
     "output_type": "execute_result"
    }
   ],
   "source": [
    "element_xpath = '//td[@class=\"review-rating-header recommended\"]/following-sibling::td[@class=\"review-value rating-yes\"]'\n",
    "element = driver.find_element(By.XPATH, element_xpath)\n",
    "\n",
    "# Extract the text \"yes\" from the element\n",
    "text_value = element.text\n",
    "\n",
    "text_value"
   ]
  },
  {
   "cell_type": "code",
   "execution_count": null,
   "metadata": {},
   "outputs": [],
   "source": []
  },
  {
   "cell_type": "code",
   "execution_count": null,
   "metadata": {},
   "outputs": [],
   "source": []
  },
  {
   "cell_type": "code",
   "execution_count": 146,
   "metadata": {},
   "outputs": [
    {
     "name": "stderr",
     "output_type": "stream",
     "text": [
      "C:\\Users\\singh\\AppData\\Local\\Temp\\ipykernel_14092\\2771511568.py:34: DeprecationWarning: executable_path has been deprecated, please pass in a Service object\n",
      "  driver = webdriver.Chrome(executable_path=driver_path)\n",
      "C:\\Users\\singh\\AppData\\Local\\Temp\\ipykernel_14092\\2771511568.py:21: DeprecationWarning: The 'text' argument to find()-type methods is deprecated. Use 'string' instead.\n",
      "  row = div_element.find('td', text=row_label)\n"
     ]
    },
    {
     "name": "stdout",
     "output_type": "stream",
     "text": [
      "                                         Text Header          User Name  \\\n",
      "0                  \"Customer Service does not exist\"          N Hancock   \n",
      "1                         \"another great experience\"     Steven Hodgson   \n",
      "2                                  \"Not recommended\"      John Grainger   \n",
      "3                  \"5 hours and 30 mins but no meal\"           K Robson   \n",
      "4                  \"Things have really deteriorated\"   Pradeep Madhavan   \n",
      "5              \"I will never fly this airline again\"       Jeffrey Rice   \n",
      "6  \"asked for an explanation but have received none\"      Bridget Fagan   \n",
      "7                        \"short-changing passengers\"      Bervin Hedman   \n",
      "8                      \"Economy is absolutely awful\"  Alastair Cockburn   \n",
      "9                        \"Shocking customer service\"          S Carlsen   \n",
      "\n",
      "                         Country  Date Published         Verified  \\\n",
      "0  United Kingdom 18th July 2023  18th July 2023  ✅ Trip Verified   \n",
      "1  United Kingdom 17th July 2023  17th July 2023  ✅ Trip Verified   \n",
      "2  United Kingdom 17th July 2023  17th July 2023     Not Verified   \n",
      "3  United Kingdom 16th July 2023  16th July 2023     Not Verified   \n",
      "4   United Kingdom 9th July 2023   9th July 2023  ✅ Trip Verified   \n",
      "5    United States 9th July 2023   9th July 2023  ✅ Trip Verified   \n",
      "6   United Kingdom 8th July 2023   8th July 2023  ✅ Trip Verified   \n",
      "7   United Kingdom 6th July 2023   6th July 2023     Not Verified   \n",
      "8     South Africa 5th July 2023   5th July 2023  ✅ Trip Verified   \n",
      "9   United Kingdom 5th July 2023   5th July 2023  ✅ Trip Verified   \n",
      "\n",
      "  Seat Comfort Cabin Staff Service Ground Service Value For Money  \\\n",
      "0            1                   1              1               1   \n",
      "1            1                   1              1             NaN   \n",
      "2            1                   1              1               1   \n",
      "3            1                   1              1             NaN   \n",
      "4            1                   1              1             NaN   \n",
      "5            1                   1              1               1   \n",
      "6            1                   1              1               1   \n",
      "7            1                   1              1             NaN   \n",
      "8            1                   1              1             NaN   \n",
      "9          NaN                 NaN              1               1   \n",
      "\n",
      "          Aircraft Type Of Traveller        Seat Type  \\\n",
      "0        Not Found    Family Leisure   Business Class   \n",
      "1        A320 A350    Family Leisure   Business Class   \n",
      "2             A380      Solo Leisure   Business Class   \n",
      "3          A320Neo      Solo Leisure    Economy Class   \n",
      "4       Boeing 777    Couple Leisure  Premium Economy   \n",
      "5          A321neo    Couple Leisure    Economy Class   \n",
      "6        Not Found      Solo Leisure    Economy Class   \n",
      "7  Boeing 777 -200    Family Leisure  Premium Economy   \n",
      "8   Boeing 777-200    Couple Leisure    Economy Class   \n",
      "9        Not Found    Couple Leisure    Economy Class   \n",
      "\n",
      "                                 Route     Date Flown  \\\n",
      "0                     London to Rhodes      July 2023   \n",
      "1  Newcastle to Las Vegas via Heathrow      June 2023   \n",
      "2                      London to Miami      June 2023   \n",
      "3                      Amman to London      July 2023   \n",
      "4                    Chennai to London      July 2023   \n",
      "5                   Istanbul to London      July 2023   \n",
      "6                  London to Edinburgh  November 2022   \n",
      "7                   Kingston to London      June 2023   \n",
      "8         London Heathrow to Cape Town      June 2023   \n",
      "9             London Heathrow to Ibiza      July 2023   \n",
      "\n",
      "                                              Review Food & Beverages  \\\n",
      "0  Customer Service does not exist. One world eme...              NaN   \n",
      "1  Another really great pair of flights, on time,...                1   \n",
      "2  Our A380 developed a fault taxiing to the runw...                1   \n",
      "3  Horrible airline. Does not care about their cu...                1   \n",
      "4  My family and I have flown mostly on British A...                1   \n",
      "5  This has been by far the worst service I have ...              NaN   \n",
      "6  In Nov 2022 I booked and paid for a return jou...                1   \n",
      "7  BA is not treating its premium economy passeng...                1   \n",
      "8  24 hours before our departure on BA059 to Cape...                1   \n",
      "9  We arrived at Heathrow at 0600 to find our fli...              NaN   \n",
      "\n",
      "  Inflight Entertainment  \n",
      "0                    NaN  \n",
      "1                      1  \n",
      "2                    NaN  \n",
      "3                      1  \n",
      "4                      1  \n",
      "5                    NaN  \n",
      "6                      1  \n",
      "7                      1  \n",
      "8                      1  \n",
      "9                    NaN  \n"
     ]
    }
   ],
   "source": [
    "import csv\n",
    "import pandas as pd\n",
    "from selenium import webdriver\n",
    "from bs4 import BeautifulSoup\n",
    "\n",
    "# Function to extract star rating number from a row\n",
    "def extract_star_rating(row):\n",
    "    try:\n",
    "        # Get the class attribute value and check if \"star\" and \"fill\" are present\n",
    "        class_attribute = row.get('class')\n",
    "        if class_attribute and \"star\" in class_attribute and \"fill\" in class_attribute:\n",
    "            return row.text.strip()\n",
    "        else:\n",
    "            return 'Not Found'\n",
    "    except:\n",
    "        return 'Not Found'\n",
    "\n",
    "# Function to extract value from the table row\n",
    "def get_value(div_element, row_label):\n",
    "    try:\n",
    "        row = div_element.find('td', text=row_label)\n",
    "        if row:\n",
    "            value = row.find_next('td').text.strip()\n",
    "            return value\n",
    "        else:\n",
    "            return 'Not Found'\n",
    "    except:\n",
    "        return 'Not Found'\n",
    "\n",
    "# Path to the downloaded web driver executable\n",
    "driver_path = '/path/to/chromedriver'  # Replace this with the actual path to the downloaded driver\n",
    "\n",
    "# Initialize the Chrome web driver\n",
    "driver = webdriver.Chrome(executable_path=driver_path)\n",
    "\n",
    "# Load the web page containing the HTML elements\n",
    "base_url = \"https://www.airlinequality.com/airline-reviews/british-airways/page/1/\"\n",
    "driver.get(base_url)\n",
    "\n",
    "# Get the HTML content of the page\n",
    "html_content = driver.page_source\n",
    "\n",
    "# Create a BeautifulSoup object to parse the HTML content\n",
    "soup = BeautifulSoup(html_content, 'html.parser')\n",
    "\n",
    "# List to store the extracted dictionaries\n",
    "review_data = []\n",
    "\n",
    "# Find all div elements with class=\"body\"\n",
    "div_elements = soup.find_all('div', class_='body')\n",
    "\n",
    "# Extract values from each div element and store them in the list of dictionaries\n",
    "for div_element in div_elements:\n",
    "    data_dict = {\n",
    "        'Text Header': div_element.find('h2', class_='text_header').text.strip(),\n",
    "        'User Name': div_element.find('span', itemprop='name').text.strip(),\n",
    "        'Country': div_element.find('h3', class_='text_sub_header userStatusWrapper').text.split('(')[-1].replace(')', '').strip(),\n",
    "        'Date Published': div_element.find('time', itemprop='datePublished').text.strip(),\n",
    "    }\n",
    "    \n",
    "    # Check for Verified status\n",
    "    try:\n",
    "        trip = div_element.find('div', class_='text_content').text.split(\"|\")\n",
    "        trip_verified = trip[0].strip()\n",
    "        data_dict['Verified'] = trip_verified if trip_verified else 'Not Found'\n",
    "    except:\n",
    "        data_dict['Verified'] = 'Not Found'\n",
    "    \n",
    "    # Get star ratings for each category from 1 to 10\n",
    "    for i in range(1, 11):\n",
    "        try:\n",
    "            label_element = div_element.select_one(f'table tbody tr:nth-of-type({i}) td:nth-of-type(1)')\n",
    "            value_element = div_element.select_one(f'table tbody tr:nth-of-type({i}) td:nth-of-type(2) span[class*=\"star fill\"]')\n",
    "            if label_element and value_element:\n",
    "                label = label_element.text.strip()\n",
    "                value = extract_star_rating(value_element)\n",
    "                data_dict[label] = value\n",
    "        except:\n",
    "            pass\n",
    "\n",
    "    # Get values for Aircraft, Type Of Traveller, Seat Type, Route, Date Flown\n",
    "    try:\n",
    "        data_dict['Aircraft'] = get_value(div_element, 'Aircraft')\n",
    "        data_dict['Type Of Traveller'] = get_value(div_element, 'Type Of Traveller')\n",
    "        data_dict['Seat Type'] = get_value(div_element, 'Seat Type')\n",
    "        data_dict['Route'] = get_value(div_element, 'Route')\n",
    "        data_dict['Date Flown'] = get_value(div_element, 'Date Flown')\n",
    "    except:\n",
    "        pass\n",
    "\n",
    "    # Get Review Body\n",
    "    try:\n",
    "        main_review = trip[1].strip()\n",
    "        data_dict['Review'] = main_review if main_review else 'NA'\n",
    "    except:\n",
    "        data_dict['Review'] = 'NA'\n",
    "\n",
    "    review_data.append(data_dict)\n",
    "\n",
    "# Close the web driver\n",
    "driver.quit()\n",
    "\n",
    "# Create a DataFrame from the list of dictionaries\n",
    "df = pd.DataFrame(review_data)\n",
    "\n",
    "# Save the DataFrame to a CSV file\n",
    "df.to_csv('reviews_data.csv', index=False)\n",
    "\n",
    "# Print the DataFrame (optional)\n",
    "print(df)\n"
   ]
  },
  {
   "cell_type": "code",
   "execution_count": 147,
   "metadata": {},
   "outputs": [
    {
     "name": "stderr",
     "output_type": "stream",
     "text": [
      "C:\\Users\\singh\\AppData\\Local\\Temp\\ipykernel_14092\\4021203815.py:34: DeprecationWarning: executable_path has been deprecated, please pass in a Service object\n",
      "  driver = webdriver.Chrome(executable_path=driver_path)\n",
      "C:\\Users\\singh\\AppData\\Local\\Temp\\ipykernel_14092\\4021203815.py:21: DeprecationWarning: The 'text' argument to find()-type methods is deprecated. Use 'string' instead.\n",
      "  row = div_element.find('td', text=row_label)\n"
     ]
    },
    {
     "name": "stdout",
     "output_type": "stream",
     "text": [
      "                                         Text Header          User Name  \\\n",
      "0                  \"Customer Service does not exist\"          N Hancock   \n",
      "1                         \"another great experience\"     Steven Hodgson   \n",
      "2                                  \"Not recommended\"      John Grainger   \n",
      "3                  \"5 hours and 30 mins but no meal\"           K Robson   \n",
      "4                  \"Things have really deteriorated\"   Pradeep Madhavan   \n",
      "5              \"I will never fly this airline again\"       Jeffrey Rice   \n",
      "6  \"asked for an explanation but have received none\"      Bridget Fagan   \n",
      "7                        \"short-changing passengers\"      Bervin Hedman   \n",
      "8                      \"Economy is absolutely awful\"  Alastair Cockburn   \n",
      "9                        \"Shocking customer service\"          S Carlsen   \n",
      "\n",
      "                         Country  Date Published         Verified  \\\n",
      "0  United Kingdom 18th July 2023  18th July 2023  ✅ Trip Verified   \n",
      "1  United Kingdom 17th July 2023  17th July 2023  ✅ Trip Verified   \n",
      "2  United Kingdom 17th July 2023  17th July 2023     Not Verified   \n",
      "3  United Kingdom 16th July 2023  16th July 2023     Not Verified   \n",
      "4   United Kingdom 9th July 2023   9th July 2023  ✅ Trip Verified   \n",
      "5    United States 9th July 2023   9th July 2023  ✅ Trip Verified   \n",
      "6   United Kingdom 8th July 2023   8th July 2023  ✅ Trip Verified   \n",
      "7   United Kingdom 6th July 2023   6th July 2023     Not Verified   \n",
      "8     South Africa 5th July 2023   5th July 2023  ✅ Trip Verified   \n",
      "9   United Kingdom 5th July 2023   5th July 2023  ✅ Trip Verified   \n",
      "\n",
      "  Seat Comfort Cabin Staff Service Ground Service Value For Money  \\\n",
      "0            1                   1              1               1   \n",
      "1            1                   1              1             NaN   \n",
      "2            1                   1              1               1   \n",
      "3            1                   1              1             NaN   \n",
      "4            1                   1              1             NaN   \n",
      "5            1                   1              1               1   \n",
      "6            1                   1              1               1   \n",
      "7            1                   1              1             NaN   \n",
      "8            1                   1              1             NaN   \n",
      "9          NaN                 NaN              1               1   \n",
      "\n",
      "          Aircraft Type Of Traveller        Seat Type  \\\n",
      "0        Not Found    Family Leisure   Business Class   \n",
      "1        A320 A350    Family Leisure   Business Class   \n",
      "2             A380      Solo Leisure   Business Class   \n",
      "3          A320Neo      Solo Leisure    Economy Class   \n",
      "4       Boeing 777    Couple Leisure  Premium Economy   \n",
      "5          A321neo    Couple Leisure    Economy Class   \n",
      "6        Not Found      Solo Leisure    Economy Class   \n",
      "7  Boeing 777 -200    Family Leisure  Premium Economy   \n",
      "8   Boeing 777-200    Couple Leisure    Economy Class   \n",
      "9        Not Found    Couple Leisure    Economy Class   \n",
      "\n",
      "                                 Route     Date Flown Food & Beverages  \\\n",
      "0                     London to Rhodes      July 2023              NaN   \n",
      "1  Newcastle to Las Vegas via Heathrow      June 2023                1   \n",
      "2                      London to Miami      June 2023                1   \n",
      "3                      Amman to London      July 2023                1   \n",
      "4                    Chennai to London      July 2023                1   \n",
      "5                   Istanbul to London      July 2023              NaN   \n",
      "6                  London to Edinburgh  November 2022                1   \n",
      "7                   Kingston to London      June 2023                1   \n",
      "8         London Heathrow to Cape Town      June 2023                1   \n",
      "9             London Heathrow to Ibiza      July 2023              NaN   \n",
      "\n",
      "  Inflight Entertainment                                             Review  \n",
      "0                    NaN  Customer Service does not exist. One world eme...  \n",
      "1                      1  Another really great pair of flights, on time,...  \n",
      "2                    NaN  Our A380 developed a fault taxiing to the runw...  \n",
      "3                      1  Horrible airline. Does not care about their cu...  \n",
      "4                      1  My family and I have flown mostly on British A...  \n",
      "5                    NaN  This has been by far the worst service I have ...  \n",
      "6                      1  In Nov 2022 I booked and paid for a return jou...  \n",
      "7                      1  BA is not treating its premium economy passeng...  \n",
      "8                      1  24 hours before our departure on BA059 to Cape...  \n",
      "9                    NaN  We arrived at Heathrow at 0600 to find our fli...  \n"
     ]
    }
   ],
   "source": [
    "import csv\n",
    "import pandas as pd\n",
    "from selenium import webdriver\n",
    "from bs4 import BeautifulSoup\n",
    "\n",
    "# Function to extract star rating number from a row\n",
    "def extract_star_rating(row):\n",
    "    try:\n",
    "        # Get the class attribute value and check if \"star\" and \"fill\" are present\n",
    "        class_attribute = row.get('class')\n",
    "        if class_attribute and \"star\" in class_attribute and \"fill\" in class_attribute:\n",
    "            return row.text.strip()\n",
    "        else:\n",
    "            return 'Not Found'\n",
    "    except:\n",
    "        return 'Not Found'\n",
    "\n",
    "# Function to extract value from the table row\n",
    "def get_value(div_element, row_label):\n",
    "    try:\n",
    "        row = div_element.find('td', text=row_label)\n",
    "        if row:\n",
    "            value = row.find_next('td').text.strip()\n",
    "            return value\n",
    "        else:\n",
    "            return 'Not Found'\n",
    "    except:\n",
    "        return 'Not Found'\n",
    "\n",
    "# Path to the downloaded web driver executable\n",
    "driver_path = '/path/to/chromedriver'  # Replace this with the actual path to the downloaded driver\n",
    "\n",
    "# Initialize the Chrome web driver\n",
    "driver = webdriver.Chrome(executable_path=driver_path)\n",
    "\n",
    "# Load the web page containing the HTML elements\n",
    "base_url = \"https://www.airlinequality.com/airline-reviews/british-airways/page/1/\"\n",
    "driver.get(base_url)\n",
    "\n",
    "# Get the HTML content of the page\n",
    "html_content = driver.page_source\n",
    "\n",
    "# Create a BeautifulSoup object to parse the HTML content\n",
    "soup = BeautifulSoup(html_content, 'html.parser')\n",
    "\n",
    "# List to store the extracted dictionaries\n",
    "review_data = []\n",
    "\n",
    "# Find all div elements with class=\"body\"\n",
    "div_elements = soup.find_all('div', class_='body')\n",
    "\n",
    "# Extract values from each div element and store them in the list of dictionaries\n",
    "for div_element in div_elements:\n",
    "    data_dict = {\n",
    "        'Text Header': div_element.find('h2', class_='text_header').text.strip(),\n",
    "        'User Name': div_element.find('span', itemprop='name').text.strip(),\n",
    "        'Country': div_element.find('h3', class_='text_sub_header userStatusWrapper').text.split('(')[-1].replace(')', '').strip(),\n",
    "        'Date Published': div_element.find('time', itemprop='datePublished').text.strip(),\n",
    "    }\n",
    "    \n",
    "    # Check for Verified status\n",
    "    try:\n",
    "        trip = div_element.find('div', class_='text_content').text.split(\"|\")\n",
    "        trip_verified = trip[0].strip()\n",
    "        data_dict['Verified'] = trip_verified.replace(\"âœ…\", \"\").strip() if trip_verified else 'Not Found'\n",
    "    except:\n",
    "        data_dict['Verified'] = 'Not Found'\n",
    "    \n",
    "    # Get star ratings for each category from 1 to 10\n",
    "    for i in range(1, 11):\n",
    "        try:\n",
    "            label_element = div_element.select_one(f'table tbody tr:nth-of-type({i}) td:nth-of-type(1)')\n",
    "            value_element = div_element.select_one(f'table tbody tr:nth-of-type({i}) td:nth-of-type(2) span[class*=\"star fill\"]')\n",
    "            if label_element and value_element:\n",
    "                label = label_element.text.strip()\n",
    "                value = extract_star_rating(value_element)\n",
    "                data_dict[label] = value\n",
    "        except:\n",
    "            pass\n",
    "\n",
    "    # Get values for Aircraft, Type Of Traveller, Seat Type, Route, Date Flown\n",
    "    try:\n",
    "        data_dict['Aircraft'] = get_value(div_element, 'Aircraft')\n",
    "        data_dict['Type Of Traveller'] = get_value(div_element, 'Type Of Traveller')\n",
    "        data_dict['Seat Type'] = get_value(div_element, 'Seat Type')\n",
    "        data_dict['Route'] = get_value(div_element, 'Route')\n",
    "        data_dict['Date Flown'] = get_value(div_element, 'Date Flown')\n",
    "    except:\n",
    "        pass\n",
    "\n",
    "    # Get Review Body\n",
    "    try:\n",
    "        main_review = trip[1].strip()\n",
    "        data_dict['Review'] = main_review if main_review else 'NA'\n",
    "    except:\n",
    "        data_dict['Review'] = 'NA'\n",
    "\n",
    "    review_data.append(data_dict)\n",
    "\n",
    "# Close the web driver\n",
    "driver.quit()\n",
    "\n",
    "# Create a DataFrame from the list of dictionaries\n",
    "df = pd.DataFrame(review_data)\n",
    "\n",
    "# Reorder the columns with \"Review\" as the last column\n",
    "cols = df.columns.tolist()\n",
    "cols.remove('Review')\n",
    "cols.append('Review')\n",
    "df = df[cols]\n",
    "\n",
    "# Save the DataFrame to a CSV file\n",
    "df.to_csv('reviews_data.csv', index=False)\n",
    "\n",
    "# Print the DataFrame (optional)\n",
    "print(df)\n",
    "\n"
   ]
  },
  {
   "cell_type": "code",
   "execution_count": null,
   "metadata": {},
   "outputs": [],
   "source": []
  },
  {
   "cell_type": "code",
   "execution_count": null,
   "metadata": {},
   "outputs": [],
   "source": []
  },
  {
   "cell_type": "code",
   "execution_count": 149,
   "metadata": {},
   "outputs": [
    {
     "name": "stderr",
     "output_type": "stream",
     "text": [
      "C:\\Users\\singh\\AppData\\Local\\Temp\\ipykernel_14092\\4272019616.py:34: DeprecationWarning: executable_path has been deprecated, please pass in a Service object\n",
      "  driver = webdriver.Chrome(executable_path=driver_path)\n",
      "C:\\Users\\singh\\AppData\\Local\\Temp\\ipykernel_14092\\4272019616.py:21: DeprecationWarning: The 'text' argument to find()-type methods is deprecated. Use 'string' instead.\n",
      "  row = div_element.find('td', text=row_label)\n"
     ]
    },
    {
     "name": "stdout",
     "output_type": "stream",
     "text": [
      "                                         Text Header          User Name  \\\n",
      "0                  \"Customer Service does not exist\"          N Hancock   \n",
      "1                         \"another great experience\"     Steven Hodgson   \n",
      "2                                  \"Not recommended\"      John Grainger   \n",
      "3                  \"5 hours and 30 mins but no meal\"           K Robson   \n",
      "4                  \"Things have really deteriorated\"   Pradeep Madhavan   \n",
      "5              \"I will never fly this airline again\"       Jeffrey Rice   \n",
      "6  \"asked for an explanation but have received none\"      Bridget Fagan   \n",
      "7                        \"short-changing passengers\"      Bervin Hedman   \n",
      "8                      \"Economy is absolutely awful\"  Alastair Cockburn   \n",
      "9                        \"Shocking customer service\"          S Carlsen   \n",
      "\n",
      "                         Country  Date Published       Verified  \\\n",
      "0  United Kingdom 18th July 2023  18th July 2023  Trip Verified   \n",
      "1  United Kingdom 17th July 2023  17th July 2023  Trip Verified   \n",
      "2  United Kingdom 17th July 2023  17th July 2023   Not Verified   \n",
      "3  United Kingdom 16th July 2023  16th July 2023   Not Verified   \n",
      "4   United Kingdom 9th July 2023   9th July 2023  Trip Verified   \n",
      "5    United States 9th July 2023   9th July 2023  Trip Verified   \n",
      "6   United Kingdom 8th July 2023   8th July 2023  Trip Verified   \n",
      "7   United Kingdom 6th July 2023   6th July 2023   Not Verified   \n",
      "8     South Africa 5th July 2023   5th July 2023  Trip Verified   \n",
      "9   United Kingdom 5th July 2023   5th July 2023  Trip Verified   \n",
      "\n",
      "          Aircraft Type Of Traveller        Seat Type  \\\n",
      "0        Not Found    Family Leisure   Business Class   \n",
      "1        A320 A350    Family Leisure   Business Class   \n",
      "2             A380      Solo Leisure   Business Class   \n",
      "3          A320Neo      Solo Leisure    Economy Class   \n",
      "4       Boeing 777    Couple Leisure  Premium Economy   \n",
      "5          A321neo    Couple Leisure    Economy Class   \n",
      "6        Not Found      Solo Leisure    Economy Class   \n",
      "7  Boeing 777 -200    Family Leisure  Premium Economy   \n",
      "8   Boeing 777-200    Couple Leisure    Economy Class   \n",
      "9        Not Found    Couple Leisure    Economy Class   \n",
      "\n",
      "                                 Route     Date Flown  \\\n",
      "0                     London to Rhodes      July 2023   \n",
      "1  Newcastle to Las Vegas via Heathrow      June 2023   \n",
      "2                      London to Miami      June 2023   \n",
      "3                      Amman to London      July 2023   \n",
      "4                    Chennai to London      July 2023   \n",
      "5                   Istanbul to London      July 2023   \n",
      "6                  London to Edinburgh  November 2022   \n",
      "7                   Kingston to London      June 2023   \n",
      "8         London Heathrow to Cape Town      June 2023   \n",
      "9             London Heathrow to Ibiza      July 2023   \n",
      "\n",
      "                                              Review  \n",
      "0  Customer Service does not exist. One world eme...  \n",
      "1  Another really great pair of flights, on time,...  \n",
      "2  Our A380 developed a fault taxiing to the runw...  \n",
      "3  Horrible airline. Does not care about their cu...  \n",
      "4  My family and I have flown mostly on British A...  \n",
      "5  This has been by far the worst service I have ...  \n",
      "6  In Nov 2022 I booked and paid for a return jou...  \n",
      "7  BA is not treating its premium economy passeng...  \n",
      "8  24 hours before our departure on BA059 to Cape...  \n",
      "9  We arrived at Heathrow at 0600 to find our fli...  \n"
     ]
    }
   ],
   "source": [
    "import csv\n",
    "import pandas as pd\n",
    "from selenium import webdriver\n",
    "from bs4 import BeautifulSoup\n",
    "\n",
    "# Function to extract star rating number from a row\n",
    "def extract_star_rating(row):\n",
    "    try:\n",
    "        # Get the class attribute value and check if \"star\" and \"fill\" are present\n",
    "        class_attribute = row.get('class')\n",
    "        if class_attribute and \"star\" in class_attribute and \"fill\" in class_attribute:\n",
    "            return row.text.strip()\n",
    "        else:\n",
    "            return 'Not Found'\n",
    "    except:\n",
    "        return 'Not Found'\n",
    "\n",
    "# Function to extract value from the table row\n",
    "def get_value(div_element, row_label):\n",
    "    try:\n",
    "        row = div_element.find('td', text=row_label)\n",
    "        if row:\n",
    "            value = row.find_next('td').text.strip()\n",
    "            return value\n",
    "        else:\n",
    "            return 'Not Found'\n",
    "    except:\n",
    "        return 'Not Found'\n",
    "\n",
    "# Path to the downloaded web driver executable\n",
    "driver_path = '/path/to/chromedriver'  # Replace this with the actual path to the downloaded driver\n",
    "\n",
    "# Initialize the Chrome web driver\n",
    "driver = webdriver.Chrome(executable_path=driver_path)\n",
    "\n",
    "# Load the web page containing the HTML elements\n",
    "base_url = \"https://www.airlinequality.com/airline-reviews/british-airways/page/1/\"\n",
    "driver.get(base_url)\n",
    "\n",
    "# Get the HTML content of the page\n",
    "html_content = driver.page_source\n",
    "\n",
    "# Create a BeautifulSoup object to parse the HTML content\n",
    "soup = BeautifulSoup(html_content, 'html.parser')\n",
    "\n",
    "# List to store the extracted dictionaries\n",
    "review_data = []\n",
    "\n",
    "# Find all div elements with class=\"body\"\n",
    "div_elements = soup.find_all('div', class_='body')\n",
    "\n",
    "# Extract values from each div element and store them in the list of dictionaries\n",
    "for div_element in div_elements:\n",
    "    data_dict = {\n",
    "        'Text Header': div_element.find('h2', class_='text_header').text.strip(),\n",
    "        'User Name': div_element.find('span', itemprop='name').text.strip(),\n",
    "        'Country': div_element.find('h3', class_='text_sub_header userStatusWrapper').text.split('(')[-1].replace(')', '').strip(),\n",
    "        'Date Published': div_element.find('time', itemprop='datePublished').text.strip(),\n",
    "    }\n",
    "    \n",
    "    # Check for Verified status\n",
    "    try:\n",
    "        trip = div_element.find('div', class_='text_content').text.split(\"|\")\n",
    "        trip_verified = trip[0].strip()\n",
    "        data_dict['Verified'] = trip_verified.replace(\"âœ…\", \"\").strip() if trip_verified else 'Not Found'\n",
    "    except:\n",
    "        data_dict['Verified'] = 'Not Found'\n",
    "    \n",
    "    # Get star ratings for each category from 1 to 10\n",
    "    for i in range(1, 11):\n",
    "        try:\n",
    "            label_element = div_element.select_one(f'table tbody tr:nth-of-type({i}) td:nth-of-type(1)')\n",
    "            value_element = div_element.select_one(f'table tbody tr:nth-of-type({i}) td:nth-of-type(2) span[class*=\"star fill\"]')\n",
    "            if label_element and value_element:\n",
    "                label = label_element.text.strip()\n",
    "                value = extract_star_rating(value_element)\n",
    "                data_dict[label] = value\n",
    "        except:\n",
    "            pass\n",
    "\n",
    "    # Get values for Aircraft, Type Of Traveller, Seat Type, Route, Date Flown\n",
    "    try:\n",
    "        data_dict['Aircraft'] = get_value(div_element, 'Aircraft')\n",
    "        data_dict['Type Of Traveller'] = get_value(div_element, 'Type Of Traveller')\n",
    "        data_dict['Seat Type'] = get_value(div_element, 'Seat Type')\n",
    "        data_dict['Route'] = get_value(div_element, 'Route')\n",
    "        data_dict['Date Flown'] = get_value(div_element, 'Date Flown')\n",
    "    except:\n",
    "        pass\n",
    "\n",
    "    # Get Review Body\n",
    "    try:\n",
    "        main_review = trip[1].strip()\n",
    "        data_dict['Review'] = main_review if main_review else 'NA'\n",
    "    except:\n",
    "        data_dict['Review'] = 'NA'\n",
    "\n",
    "    review_data.append(data_dict)\n",
    "\n",
    "# Close the web driver\n",
    "driver.quit()\n",
    "\n",
    "# Create a DataFrame from the list of dictionaries\n",
    "df = pd.DataFrame(review_data)\n",
    "\n",
    "# Reorder the columns with \"Review\" as the last column\n",
    "cols = df.columns.tolist()\n",
    "cols.remove('Review')\n",
    "cols.append('Review')\n",
    "df = df[cols]\n",
    "\n",
    "# Save the DataFrame to a CSV file\n",
    "df.to_csv('reviews_data.csv', index=False)\n",
    "\n",
    "# Print the DataFrame (optional)\n",
    "print(df)\n"
   ]
  },
  {
   "cell_type": "code",
   "execution_count": 156,
   "metadata": {},
   "outputs": [
    {
     "name": "stderr",
     "output_type": "stream",
     "text": [
      "C:\\Users\\singh\\AppData\\Local\\Temp\\ipykernel_14092\\2979611509.py:34: DeprecationWarning: executable_path has been deprecated, please pass in a Service object\n",
      "  driver = webdriver.Chrome(executable_path=driver_path)\n",
      "C:\\Users\\singh\\AppData\\Local\\Temp\\ipykernel_14092\\2979611509.py:21: DeprecationWarning: The 'text' argument to find()-type methods is deprecated. Use 'string' instead.\n",
      "  row = div_element.find('td', text=row_label)\n"
     ]
    },
    {
     "name": "stdout",
     "output_type": "stream",
     "text": [
      "                                         Text Header          User Name  \\\n",
      "0                  \"Customer Service does not exist\"          N Hancock   \n",
      "1                         \"another great experience\"     Steven Hodgson   \n",
      "2                                  \"Not recommended\"      John Grainger   \n",
      "3                  \"5 hours and 30 mins but no meal\"           K Robson   \n",
      "4                  \"Things have really deteriorated\"   Pradeep Madhavan   \n",
      "5              \"I will never fly this airline again\"       Jeffrey Rice   \n",
      "6  \"asked for an explanation but have received none\"      Bridget Fagan   \n",
      "7                        \"short-changing passengers\"      Bervin Hedman   \n",
      "8                      \"Economy is absolutely awful\"  Alastair Cockburn   \n",
      "9                        \"Shocking customer service\"          S Carlsen   \n",
      "\n",
      "                         Country  Date Published       Verified  \\\n",
      "0  United Kingdom 18th July 2023  18th July 2023  Trip Verified   \n",
      "1  United Kingdom 17th July 2023  17th July 2023  Trip Verified   \n",
      "2  United Kingdom 17th July 2023  17th July 2023   Not Verified   \n",
      "3  United Kingdom 16th July 2023  16th July 2023   Not Verified   \n",
      "4   United Kingdom 9th July 2023   9th July 2023  Trip Verified   \n",
      "5    United States 9th July 2023   9th July 2023  Trip Verified   \n",
      "6   United Kingdom 8th July 2023   8th July 2023  Trip Verified   \n",
      "7   United Kingdom 6th July 2023   6th July 2023   Not Verified   \n",
      "8     South Africa 5th July 2023   5th July 2023  Trip Verified   \n",
      "9   United Kingdom 5th July 2023   5th July 2023  Trip Verified   \n",
      "\n",
      "          Aircraft Type Of Traveller        Seat Type  \\\n",
      "0        Not Found    Family Leisure   Business Class   \n",
      "1        A320 A350    Family Leisure   Business Class   \n",
      "2             A380      Solo Leisure   Business Class   \n",
      "3          A320Neo      Solo Leisure    Economy Class   \n",
      "4       Boeing 777    Couple Leisure  Premium Economy   \n",
      "5          A321neo    Couple Leisure    Economy Class   \n",
      "6        Not Found      Solo Leisure    Economy Class   \n",
      "7  Boeing 777 -200    Family Leisure  Premium Economy   \n",
      "8   Boeing 777-200    Couple Leisure    Economy Class   \n",
      "9        Not Found    Couple Leisure    Economy Class   \n",
      "\n",
      "                                 Route     Date Flown  \\\n",
      "0                     London to Rhodes      July 2023   \n",
      "1  Newcastle to Las Vegas via Heathrow      June 2023   \n",
      "2                      London to Miami      June 2023   \n",
      "3                      Amman to London      July 2023   \n",
      "4                    Chennai to London      July 2023   \n",
      "5                   Istanbul to London      July 2023   \n",
      "6                  London to Edinburgh  November 2022   \n",
      "7                   Kingston to London      June 2023   \n",
      "8         London Heathrow to Cape Town      June 2023   \n",
      "9             London Heathrow to Ibiza      July 2023   \n",
      "\n",
      "                                              Review  \n",
      "0  Customer Service does not exist. One world eme...  \n",
      "1  Another really great pair of flights, on time,...  \n",
      "2  Our A380 developed a fault taxiing to the runw...  \n",
      "3  Horrible airline. Does not care about their cu...  \n",
      "4  My family and I have flown mostly on British A...  \n",
      "5  This has been by far the worst service I have ...  \n",
      "6  In Nov 2022 I booked and paid for a return jou...  \n",
      "7  BA is not treating its premium economy passeng...  \n",
      "8  24 hours before our departure on BA059 to Cape...  \n",
      "9  We arrived at Heathrow at 0600 to find our fli...  \n"
     ]
    }
   ],
   "source": [
    "import csv\n",
    "import pandas as pd\n",
    "from selenium import webdriver\n",
    "from bs4 import BeautifulSoup\n",
    "\n",
    "# Function to extract star rating number from a row\n",
    "def extract_star_rating(row):\n",
    "    try:\n",
    "        # Get the class attribute value and check if \"star\" and \"fill\" are present\n",
    "        class_attribute = row.get('class')\n",
    "        if class_attribute and \"star\" in class_attribute and \"fill\" in class_attribute:\n",
    "            return row.text.strip()\n",
    "        else:\n",
    "            return 'Not Found'\n",
    "    except:\n",
    "        return 'Not Found'\n",
    "\n",
    "# Function to extract value from the table row\n",
    "def get_value(div_element, row_label):\n",
    "    try:\n",
    "        row = div_element.find('td', text=row_label)\n",
    "        if row:\n",
    "            value = row.find_next('td').text.strip()\n",
    "            return value\n",
    "        else:\n",
    "            return 'Not Found'\n",
    "    except:\n",
    "        return 'Not Found'\n",
    "\n",
    "# Path to the downloaded web driver executable\n",
    "driver_path = '/path/to/chromedriver'  # Replace this with the actual path to the downloaded driver\n",
    "\n",
    "# Initialize the Chrome web driver\n",
    "driver = webdriver.Chrome(executable_path=driver_path)\n",
    "\n",
    "# Load the web page containing the HTML elements\n",
    "base_url = \"https://www.airlinequality.com/airline-reviews/british-airways/page/1/\"\n",
    "driver.get(base_url)\n",
    "\n",
    "# Get the HTML content of the page\n",
    "html_content = driver.page_source\n",
    "\n",
    "# Create a BeautifulSoup object to parse the HTML content\n",
    "soup = BeautifulSoup(html_content, 'html.parser')\n",
    "\n",
    "# List to store the extracted dictionaries\n",
    "review_data = []\n",
    "\n",
    "# Find all div elements with class=\"body\"\n",
    "div_elements = soup.find_all('div', class_='body')\n",
    "\n",
    "# Extract values from each div element and store them in the list of dictionaries\n",
    "for div_element in div_elements:\n",
    "    data_dict = {\n",
    "        'Text Header': div_element.find('h2', class_='text_header').text.strip(),\n",
    "        'User Name': div_element.find('span', itemprop='name').text.strip(),\n",
    "        'Country': div_element.find('h3', class_='text_sub_header userStatusWrapper').text.split('(')[-1].replace(')', '').strip(),\n",
    "        'Date Published': div_element.find('time', itemprop='datePublished').text.strip(),\n",
    "    }\n",
    "    \n",
    "    # Check for Verified status\n",
    "    try:\n",
    "        trip = div_element.find('div', class_='text_content').text.split(\"|\")\n",
    "        trip_verified = trip[0].strip()\n",
    "        data_dict['Verified'] = trip_verified.replace(\"✅\", \"\").strip() if trip_verified else 'Not Found'\n",
    "    except:\n",
    "        data_dict['Verified'] = 'Not Found'\n",
    "    \n",
    "    # Get star ratings for each category from 1 to 10\n",
    "    for i in range(1, 11):\n",
    "        try:\n",
    "            label_element = div_element.find(f'table tbody tr:nth-of-type({i}) td:nth-of-type(1)')\n",
    "            value_elements = div_element.find_all(f'table tbody tr:nth-of-type({i}) td:nth-of-type(2) span[class*=\"star fill\"]')\n",
    "            if label_element and value_elements:\n",
    "                label = label_element.text.strip()\n",
    "                value = extract_star_rating(value_elements[-1])  # Get the last star rating with \"star fill\" class\n",
    "                data_dict[label] = value\n",
    "        except:\n",
    "            pass\n",
    "\n",
    "    # Get values for Aircraft, Type Of Traveller, Seat Type, Route, Date Flown\n",
    "    try:\n",
    "        data_dict['Aircraft'] = get_value(div_element, 'Aircraft')\n",
    "        data_dict['Type Of Traveller'] = get_value(div_element, 'Type Of Traveller')\n",
    "        data_dict['Seat Type'] = get_value(div_element, 'Seat Type')\n",
    "        data_dict['Route'] = get_value(div_element, 'Route')\n",
    "        data_dict['Date Flown'] = get_value(div_element, 'Date Flown')\n",
    "    except:\n",
    "        pass\n",
    "\n",
    "    # Get Review Body\n",
    "    try:\n",
    "        main_review = trip[1].strip()\n",
    "        data_dict['Review'] = main_review if main_review else 'NA'\n",
    "    except:\n",
    "        data_dict['Review'] = 'NA'\n",
    "\n",
    "    review_data.append(data_dict)\n",
    "\n",
    "# Close the web driver\n",
    "driver.quit()\n",
    "\n",
    "# Create a DataFrame from the list of dictionaries\n",
    "df = pd.DataFrame(review_data)\n",
    "\n",
    "# Reorder the columns with \"Review\" as the last column\n",
    "cols = df.columns.tolist()\n",
    "cols.remove('Review')\n",
    "cols.append('Review')\n",
    "df = df[cols]\n",
    "\n",
    "# Save the DataFrame to a CSV file\n",
    "df.to_csv('draft.csv', index=False)\n",
    "\n",
    "# Print the DataFrame (optional)\n",
    "print(df)\n"
   ]
  },
  {
   "cell_type": "code",
   "execution_count": null,
   "metadata": {},
   "outputs": [],
   "source": []
  },
  {
   "cell_type": "code",
   "execution_count": null,
   "metadata": {},
   "outputs": [],
   "source": []
  },
  {
   "cell_type": "code",
   "execution_count": 155,
   "metadata": {},
   "outputs": [
    {
     "name": "stderr",
     "output_type": "stream",
     "text": [
      "C:\\Users\\singh\\AppData\\Local\\Temp\\ipykernel_14092\\2945278650.py:22: DeprecationWarning: executable_path has been deprecated, please pass in a Service object\n",
      "  driver = webdriver.Chrome(executable_path=driver_path)\n",
      "C:\\Users\\singh\\AppData\\Local\\Temp\\ipykernel_14092\\2945278650.py:59: DeprecationWarning: The 'text' argument to find()-type methods is deprecated. Use 'string' instead.\n",
      "  data_dict['Aircraft'] = div_element.find('td', text='Aircraft').find_next('td').text.strip()\n",
      "C:\\Users\\singh\\AppData\\Local\\Temp\\ipykernel_14092\\2945278650.py:60: DeprecationWarning: The 'text' argument to find()-type methods is deprecated. Use 'string' instead.\n",
      "  data_dict['Type Of Traveller'] = div_element.find('td', text='Type Of Traveller').find_next('td').text.strip()\n",
      "C:\\Users\\singh\\AppData\\Local\\Temp\\ipykernel_14092\\2945278650.py:61: DeprecationWarning: The 'text' argument to find()-type methods is deprecated. Use 'string' instead.\n",
      "  data_dict['Seat Type'] = div_element.find('td', text='Seat Type').find_next('td').text.strip()\n",
      "C:\\Users\\singh\\AppData\\Local\\Temp\\ipykernel_14092\\2945278650.py:62: DeprecationWarning: The 'text' argument to find()-type methods is deprecated. Use 'string' instead.\n",
      "  data_dict['Route'] = div_element.find('td', text='Route').find_next('td').text.strip()\n",
      "C:\\Users\\singh\\AppData\\Local\\Temp\\ipykernel_14092\\2945278650.py:63: DeprecationWarning: The 'text' argument to find()-type methods is deprecated. Use 'string' instead.\n",
      "  data_dict['Date Flown'] = div_element.find('td', text='Date Flown').find_next('td').text.strip()\n"
     ]
    },
    {
     "name": "stdout",
     "output_type": "stream",
     "text": [
      "                                         Text Header          User Name  \\\n",
      "0                  \"Customer Service does not exist\"          N Hancock   \n",
      "1                         \"another great experience\"     Steven Hodgson   \n",
      "2                                  \"Not recommended\"      John Grainger   \n",
      "3                  \"5 hours and 30 mins but no meal\"           K Robson   \n",
      "4                  \"Things have really deteriorated\"   Pradeep Madhavan   \n",
      "5              \"I will never fly this airline again\"       Jeffrey Rice   \n",
      "6  \"asked for an explanation but have received none\"      Bridget Fagan   \n",
      "7                        \"short-changing passengers\"      Bervin Hedman   \n",
      "8                      \"Economy is absolutely awful\"  Alastair Cockburn   \n",
      "9                        \"Shocking customer service\"          S Carlsen   \n",
      "\n",
      "                         Country  Date Published       Verified  \\\n",
      "0  United Kingdom 18th July 2023  18th July 2023  Trip Verified   \n",
      "1  United Kingdom 17th July 2023  17th July 2023  Trip Verified   \n",
      "2  United Kingdom 17th July 2023  17th July 2023   Not Verified   \n",
      "3  United Kingdom 16th July 2023  16th July 2023   Not Verified   \n",
      "4   United Kingdom 9th July 2023   9th July 2023  Trip Verified   \n",
      "5    United States 9th July 2023   9th July 2023  Trip Verified   \n",
      "6   United Kingdom 8th July 2023   8th July 2023  Trip Verified   \n",
      "7   United Kingdom 6th July 2023   6th July 2023   Not Verified   \n",
      "8     South Africa 5th July 2023   5th July 2023  Trip Verified   \n",
      "9   United Kingdom 5th July 2023   5th July 2023  Trip Verified   \n",
      "\n",
      "          Aircraft Type Of Traveller        Seat Type  \\\n",
      "0        Not Found         Not Found        Not Found   \n",
      "1        A320 A350    Family Leisure   Business Class   \n",
      "2             A380      Solo Leisure   Business Class   \n",
      "3          A320Neo      Solo Leisure    Economy Class   \n",
      "4       Boeing 777    Couple Leisure  Premium Economy   \n",
      "5          A321neo    Couple Leisure    Economy Class   \n",
      "6        Not Found         Not Found        Not Found   \n",
      "7  Boeing 777 -200    Family Leisure  Premium Economy   \n",
      "8   Boeing 777-200    Couple Leisure    Economy Class   \n",
      "9        Not Found         Not Found        Not Found   \n",
      "\n",
      "                                 Route Date Flown Seat Comfort  \\\n",
      "0                            Not Found  Not Found            1   \n",
      "1  Newcastle to Las Vegas via Heathrow  June 2023            1   \n",
      "2                      London to Miami  June 2023            1   \n",
      "3                      Amman to London  July 2023            1   \n",
      "4                    Chennai to London  July 2023            1   \n",
      "5                   Istanbul to London  July 2023            1   \n",
      "6                            Not Found  Not Found            1   \n",
      "7                   Kingston to London  June 2023            1   \n",
      "8         London Heathrow to Cape Town  June 2023            1   \n",
      "9                            Not Found  Not Found          NaN   \n",
      "\n",
      "  Cabin Staff Service Ground Service Value For Money Food & Beverages  \\\n",
      "0                   1              1               1              NaN   \n",
      "1                   1              1             NaN                1   \n",
      "2                   1              1               1                1   \n",
      "3                   1              1             NaN                1   \n",
      "4                   1              1             NaN                1   \n",
      "5                   1              1               1              NaN   \n",
      "6                   1              1               1                1   \n",
      "7                   1              1             NaN                1   \n",
      "8                   1              1             NaN                1   \n",
      "9                 NaN              1               1              NaN   \n",
      "\n",
      "  Inflight Entertainment                                             Review  \n",
      "0                    NaN  Customer Service does not exist. One world eme...  \n",
      "1                      1  Another really great pair of flights, on time,...  \n",
      "2                    NaN  Our A380 developed a fault taxiing to the runw...  \n",
      "3                      1  Horrible airline. Does not care about their cu...  \n",
      "4                      1  My family and I have flown mostly on British A...  \n",
      "5                    NaN  This has been by far the worst service I have ...  \n",
      "6                      1  In Nov 2022 I booked and paid for a return jou...  \n",
      "7                      1  BA is not treating its premium economy passeng...  \n",
      "8                      1  24 hours before our departure on BA059 to Cape...  \n",
      "9                    NaN  We arrived at Heathrow at 0600 to find our fli...  \n"
     ]
    }
   ],
   "source": [
    "import csv\n",
    "import pandas as pd\n",
    "from selenium import webdriver\n",
    "from bs4 import BeautifulSoup\n",
    "\n",
    "# Function to extract star rating number from a row\n",
    "def extract_star_rating(row):\n",
    "    try:\n",
    "        # Get the class attribute value and check if \"star\" and \"fill\" are present\n",
    "        class_attribute = row.get('class')\n",
    "        if class_attribute and \"star\" in class_attribute and \"fill\" in class_attribute:\n",
    "            return row.text.strip()\n",
    "        else:\n",
    "            return 'Not Found'\n",
    "    except:\n",
    "        return 'Not Found'\n",
    "\n",
    "# Path to the downloaded web driver executable\n",
    "driver_path = '/path/to/chromedriver'  # Replace this with the actual path to the downloaded driver\n",
    "\n",
    "# Initialize the Chrome web driver\n",
    "driver = webdriver.Chrome(executable_path=driver_path)\n",
    "\n",
    "# Load the web page containing the HTML elements\n",
    "base_url = \"https://www.airlinequality.com/airline-reviews/british-airways/page/1/\"\n",
    "driver.get(base_url)\n",
    "\n",
    "# Get the HTML content of the page\n",
    "html_content = driver.page_source\n",
    "\n",
    "# Create a BeautifulSoup object to parse the HTML content\n",
    "soup = BeautifulSoup(html_content, 'html.parser')\n",
    "\n",
    "# List to store the extracted dictionaries\n",
    "review_data = []\n",
    "\n",
    "# Find all div elements with class=\"body\"\n",
    "div_elements = soup.find_all('div', class_='body')\n",
    "\n",
    "# Extract values from each div element and store them in the list of dictionaries\n",
    "for div_element in div_elements:\n",
    "    data_dict = {\n",
    "        'Text Header': div_element.find('h2', class_='text_header').text.strip(),\n",
    "        'User Name': div_element.find('span', itemprop='name').text.strip(),\n",
    "        'Country': div_element.find('h3', class_='text_sub_header userStatusWrapper').text.split('(')[-1].replace(')', '').strip(),\n",
    "        'Date Published': div_element.find('time', itemprop='datePublished').text.strip(),\n",
    "    }\n",
    "    \n",
    "    # Check for Verified status\n",
    "    try:\n",
    "        trip = div_element.find('div', class_='text_content').text.split(\"|\")\n",
    "        trip_verified = trip[0].strip()\n",
    "        data_dict['Verified'] = trip_verified.replace(\"✅\", \"\").strip() if trip_verified else 'Not Found'\n",
    "    except:\n",
    "        data_dict['Verified'] = 'Not Found'\n",
    "    \n",
    "    # Get values for Aircraft, Type Of Traveller, Seat Type, Route, Date Flown\n",
    "    try:\n",
    "        data_dict['Aircraft'] = div_element.find('td', text='Aircraft').find_next('td').text.strip()\n",
    "        data_dict['Type Of Traveller'] = div_element.find('td', text='Type Of Traveller').find_next('td').text.strip()\n",
    "        data_dict['Seat Type'] = div_element.find('td', text='Seat Type').find_next('td').text.strip()\n",
    "        data_dict['Route'] = div_element.find('td', text='Route').find_next('td').text.strip()\n",
    "        data_dict['Date Flown'] = div_element.find('td', text='Date Flown').find_next('td').text.strip()\n",
    "    except:\n",
    "        data_dict['Aircraft'] = 'Not Found'\n",
    "        data_dict['Type Of Traveller'] = 'Not Found'\n",
    "        data_dict['Seat Type'] = 'Not Found'\n",
    "        data_dict['Route'] = 'Not Found'\n",
    "        data_dict['Date Flown'] = 'Not Found'\n",
    "\n",
    "    # Get star ratings for each category from 1 to 10\n",
    "    for i in range(1, 11):\n",
    "        try:\n",
    "            label_element = div_element.select_one(f'table tbody tr:nth-of-type({i}) td:nth-of-type(1)')\n",
    "            value_element = div_element.select_one(f'table tbody tr:nth-of-type({i}) td:nth-of-type(2) span[class*=\"star fill\"]')\n",
    "            if label_element and value_element:\n",
    "                label = label_element.text.strip()\n",
    "                value = extract_star_rating(value_element)\n",
    "                data_dict[label] = value\n",
    "        except:\n",
    "            pass\n",
    "\n",
    "    # Get Review Body\n",
    "    try:\n",
    "        main_review = trip[1].strip()\n",
    "        data_dict['Review'] = main_review if main_review else 'NA'\n",
    "    except:\n",
    "        data_dict['Review'] = 'NA'\n",
    "\n",
    "    review_data.append(data_dict)\n",
    "\n",
    "# Close the web driver\n",
    "driver.quit()\n",
    "\n",
    "# Create a DataFrame from the list of dictionaries\n",
    "df = pd.DataFrame(review_data)\n",
    "\n",
    "# Reorder the columns with \"Review\" as the last column\n",
    "cols = df.columns.tolist()\n",
    "cols.remove('Review')\n",
    "cols.append('Review')\n",
    "df = df[cols]\n",
    "\n",
    "# Save the DataFrame to a CSV file\n",
    "df.to_csv('data02.csv', index=False)\n",
    "\n",
    "# Print the DataFrame (optional)\n",
    "print(df)\n"
   ]
  },
  {
   "cell_type": "code",
   "execution_count": null,
   "metadata": {},
   "outputs": [],
   "source": []
  },
  {
   "cell_type": "code",
   "execution_count": null,
   "metadata": {},
   "outputs": [],
   "source": []
  },
  {
   "cell_type": "code",
   "execution_count": null,
   "metadata": {},
   "outputs": [],
   "source": []
  },
  {
   "cell_type": "code",
   "execution_count": null,
   "metadata": {},
   "outputs": [],
   "source": []
  },
  {
   "cell_type": "code",
   "execution_count": null,
   "metadata": {},
   "outputs": [],
   "source": []
  }
 ],
 "metadata": {
  "kernelspec": {
   "display_name": "Python 3 (ipykernel)",
   "language": "python",
   "name": "python3"
  },
  "language_info": {
   "codemirror_mode": {
    "name": "ipython",
    "version": 3
   },
   "file_extension": ".py",
   "mimetype": "text/x-python",
   "name": "python",
   "nbconvert_exporter": "python",
   "pygments_lexer": "ipython3",
   "version": "3.11.3"
  },
  "orig_nbformat": 4
 },
 "nbformat": 4,
 "nbformat_minor": 2
}

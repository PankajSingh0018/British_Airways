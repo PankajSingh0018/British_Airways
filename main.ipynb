{
 "cells": [
  {
   "cell_type": "code",
   "execution_count": 1,
   "metadata": {},
   "outputs": [],
   "source": [
    "# Importing all the necessary libraries \n",
    "import os \n",
    "import openpyxl \n",
    "import pandas as pd \n",
    "import numpy as np \n",
    "import requests\n",
    "from selenium import webdriver\n",
    "from bs4 import BeautifulSoup\n",
    "from time import sleep \n",
    "\n",
    "# importing selenium dependencies \n",
    "from selenium import webdriver\n",
    "from selenium.webdriver.chrome.options import Options\n",
    "from selenium.webdriver.common.by import By\n",
    "from selenium.webdriver.common.keys import Keys\n",
    "from selenium.webdriver.support.ui import WebDriverWait\n",
    "from selenium.webdriver.support import expected_conditions as EC \n"
   ]
  },
  {
   "cell_type": "code",
   "execution_count": 2,
   "metadata": {},
   "outputs": [],
   "source": [
    "user_agent= \"Mozilla/5.0 (Windows NT 10.0; Win64; x64) AppleWebKit/537.36 (KHTML, like Gecko) Chrome/114.0.0.0 Safari/537.36\""
   ]
  },
  {
   "cell_type": "code",
   "execution_count": 4,
   "metadata": {},
   "outputs": [],
   "source": [
    "# let's create a header for the HTTPS request\n",
    "header= {'User-Agent': user_agent}"
   ]
  },
  {
   "cell_type": "code",
   "execution_count": 3,
   "metadata": {},
   "outputs": [],
   "source": [
    "base_url = \"https://www.airlinequality.com/airline-reviews/british-airways/page/1/\""
   ]
  },
  {
   "cell_type": "code",
   "execution_count": 8,
   "metadata": {},
   "outputs": [],
   "source": [
    "# let's send the request to the base url and get the response status of the website \n",
    "\n",
    "response= requests.get(base_url, headers=header)"
   ]
  },
  {
   "cell_type": "code",
   "execution_count": 9,
   "metadata": {},
   "outputs": [
    {
     "data": {
      "text/plain": [
       "200"
      ]
     },
     "execution_count": 9,
     "metadata": {},
     "output_type": "execute_result"
    }
   ],
   "source": [
    "# let's check the response status\n",
    "# if the status code is within 200 -300 range the site is communticating with the requests send by our IP\n",
    "response.status_code"
   ]
  },
  {
   "cell_type": "code",
   "execution_count": 10,
   "metadata": {},
   "outputs": [],
   "source": [
    "# Let's create a file with the name webpage.html and write the text response in it \n",
    "\n",
    "with open('webpage.html','w') as f:\n",
    "    f.write(response.text)"
   ]
  },
  {
   "cell_type": "code",
   "execution_count": 12,
   "metadata": {},
   "outputs": [],
   "source": [
    "# Let's now convert the webcontent into a BeautifulSoup object\n",
    "soup = BeautifulSoup(response.text, 'html.parser')"
   ]
  },
  {
   "cell_type": "code",
   "execution_count": null,
   "metadata": {},
   "outputs": [],
   "source": [
    "# let's now take a look at the soup \n",
    "soup"
   ]
  },
  {
   "cell_type": "code",
   "execution_count": 18,
   "metadata": {},
   "outputs": [
    {
     "data": {
      "text/plain": [
       "'British Airways Customer Reviews - SKYTRAX'"
      ]
     },
     "execution_count": 18,
     "metadata": {},
     "output_type": "execute_result"
    }
   ],
   "source": [
    "# Let's get the title from the page \n",
    "title = soup.title.text\n",
    "title"
   ]
  },
  {
   "cell_type": "code",
   "execution_count": 45,
   "metadata": {},
   "outputs": [],
   "source": [
    "# Setting up the selenium chrome options \n",
    "def set_chrome()-> Options:\n",
    "    chrome_options = Options()\n",
    "    # chrome_options.headless = True\n",
    "    chrome_options.add_argument(\"--no-sandbox\")\n",
    "    chrome_options.add_argument(\"--disable-notifications\")\n",
    "    chrome_options.add_argument(\"--disable-dev-shm-usage\")\n",
    "    chrome_options.add_argument(\"--disable-gpu\")\n",
    "    chrome_options.add_argument(\"--disable-notifications\")\n",
    "    chrome_options.add_experimental_option(\"excludeSwitches\",[\"ignore-certificate-errors\"])\n",
    "    chrome_options.add_argument('--disable-usb-discovery')\n",
    "    chrome_options.add_experimental_option('excludeSwitches', ['enable-logging'])\n",
    "    chrome_options.add_experimental_option(\"excludeSwitches\", [\"enable-automation\"]) \n",
    "    chrome_options.add_experimental_option('useAutomationExtension', False)\n",
    "    chrome_prefs={}\n",
    "    chrome_options.add_argument(f'user-agent={user_agent}')\n",
    "    chrome_options.add_argument('--disable-features=InterestCohort')\n",
    "    chrome_options.experimental_options[\"prefs\"]= chrome_prefs\n",
    "    chrome_prefs[\"profile.default_content_settings\"]={\"images\":2}\n",
    "    \n",
    "    return chrome_options\n"
   ]
  },
  {
   "cell_type": "code",
   "execution_count": null,
   "metadata": {},
   "outputs": [],
   "source": [
    "\n",
    "first_page_url= https://www.airlinequality.com/airline-reviews/british-airways/page/1/\n",
    "\n",
    "last_page_url = https://www.airlinequality.com/airline-reviews/british-airways/page/360/"
   ]
  },
  {
   "cell_type": "code",
   "execution_count": null,
   "metadata": {},
   "outputs": [],
   "source": [
    "\"\"\" \n",
    "list of elements to scrape \n",
    "Airline\n",
    "Filter reviews by \n",
    "A- Latest Reviews \n",
    "    - Title of the review - h2 class= text_header\n",
    "    - class rating / overall rating ---> 4/10 \n",
    "    - Name of the reviewer - h3 -> span -> itemprop= name \n",
    "    - Location\n",
    "    - Date published \n",
    "    - checkbox for trip verified or not \n",
    "    - Main review - reviewBody \n",
    "    - Type of Aircraft - \n",
    "    - Type of traveller \n",
    "    - Seat Type \n",
    "    - Route \n",
    "    - Date flown\n",
    "\n",
    "    # Ratings out of 5 \n",
    "    - Seat comfort \n",
    "    - Cabin Staff \n",
    "    - food and beverges\n",
    "    - Inflight entertainment\n",
    "    - Ground Service \n",
    "    - Value for money\n",
    "    - Recommended \n",
    "B- First Class \n",
    "C- Business Class \n",
    "D- Premium Economy\n",
    "E- Economy Class\n",
    "\n",
    "\n",
    "\"\"\""
   ]
  },
  {
   "cell_type": "markdown",
   "metadata": {},
   "source": [
    "- driver invoke to the main website \n",
    "- Select the filter for the First class\n",
    "    a- scrape every element mentioned from the first page and add it into a dictionary \n",
    "    b- Running on the for loop i need to click on the second page and scrape untill page 360\n",
    "- Now I want to click on the filter to select the Business class reviews and scrape it untill the page 360 and append the data for each page \n",
    "\n",
    "- Then the process goes for Premium economy and then for the Econnomy  \n",
    "\n"
   ]
  },
  {
   "cell_type": "code",
   "execution_count": 22,
   "metadata": {},
   "outputs": [],
   "source": [
    "# Let's create a scrape function \n",
    "def scrape_web(url):\n",
    "    # getting the driver invoked \n",
    "    "
   ]
  },
  {
   "cell_type": "code",
   "execution_count": 94,
   "metadata": {},
   "outputs": [],
   "source": [
    "driver = webdriver.Chrome(options=set_chrome())\n",
    "base_url = \"https://www.airlinequality.com/airline-reviews/british-airways/page/1/\"\n",
    "driver.get(base_url)\n",
    "elements = driver.find_elements(By.CLASS_NAME,\"body\")"
   ]
  },
  {
   "cell_type": "code",
   "execution_count": 6,
   "metadata": {},
   "outputs": [],
   "source": [
    "# Let's fetch all the title from the page \n",
    "title = driver.find_element(By.CLASS_NAME,\"text_header\")\n",
    "Title = title.text"
   ]
  },
  {
   "cell_type": "code",
   "execution_count": 7,
   "metadata": {},
   "outputs": [
    {
     "data": {
      "text/plain": [
       "'\"5 hours and 30 mins but no meal\"'"
      ]
     },
     "execution_count": 7,
     "metadata": {},
     "output_type": "execute_result"
    }
   ],
   "source": [
    "Title "
   ]
  },
  {
   "cell_type": "code",
   "execution_count": 8,
   "metadata": {},
   "outputs": [],
   "source": [
    "user_name = driver.find_element(By.XPATH, '//*[@id=\"anchor862044\"]/h3/span/span')\n",
    "Review_Name = user_name.text"
   ]
  },
  {
   "cell_type": "code",
   "execution_count": 9,
   "metadata": {},
   "outputs": [
    {
     "data": {
      "text/plain": [
       "'Pradeep Madhavan'"
      ]
     },
     "execution_count": 9,
     "metadata": {},
     "output_type": "execute_result"
    }
   ],
   "source": [
    "Review_Name"
   ]
  },
  {
   "cell_type": "code",
   "execution_count": 10,
   "metadata": {},
   "outputs": [
    {
     "data": {
      "text/plain": [
       "'Pradeep Madhavan (United Kingdom) 9th July 2023'"
      ]
     },
     "execution_count": 10,
     "metadata": {},
     "output_type": "execute_result"
    }
   ],
   "source": [
    "Location = driver.find_element(By.XPATH, '//*[@id=\"anchor862044\"]/h3')\n",
    "loca= Location.text\n",
    "loca\n",
    "\n"
   ]
  },
  {
   "cell_type": "code",
   "execution_count": 23,
   "metadata": {},
   "outputs": [
    {
     "data": {
      "text/plain": [
       "'United Kingdom'"
      ]
     },
     "execution_count": 23,
     "metadata": {},
     "output_type": "execute_result"
    }
   ],
   "source": [
    "start_index = loca.find('(') + 1\n",
    "end_index = loca.find(')')\n",
    "country = loca[start_index:end_index]\n",
    "country"
   ]
  },
  {
   "cell_type": "code",
   "execution_count": 11,
   "metadata": {},
   "outputs": [
    {
     "name": "stdout",
     "output_type": "stream",
     "text": [
      "9th July 2023\n"
     ]
    }
   ],
   "source": [
    "import re\n",
    "\n",
    "value = 'Pradeep Madhavan (United Kingdom) 9th July 2023'\n",
    "\n",
    "# Use regular expression to find the date pattern\n",
    "date_pattern = r'\\d{1,2}(?:st|nd|rd|th) [A-Za-z]+ \\d{4}'\n",
    "match = re.search(date_pattern, value)\n",
    "\n",
    "if match:\n",
    "    date = match.group()\n",
    "    print(date)  # Output: '9th July 2023'\n",
    "else:\n",
    "    print('Date not found.')\n"
   ]
  },
  {
   "cell_type": "code",
   "execution_count": 13,
   "metadata": {},
   "outputs": [],
   "source": [
    "trip = driver.find_element(By.CLASS_NAME,'text_content').text.split(\"|\")\n",
    "trip_verified = trip[0]\n",
    "main_review= trip[1]"
   ]
  },
  {
   "cell_type": "code",
   "execution_count": 14,
   "metadata": {},
   "outputs": [
    {
     "data": {
      "text/plain": [
       "'Not Verified '"
      ]
     },
     "execution_count": 14,
     "metadata": {},
     "output_type": "execute_result"
    }
   ],
   "source": [
    "trip_verified"
   ]
  },
  {
   "cell_type": "code",
   "execution_count": 15,
   "metadata": {},
   "outputs": [
    {
     "data": {
      "text/plain": [
       "\" Horrible airline. Does not care about their customers. Used to be decent but has now since really fell off. A flight time of 5 hours and 30 mins but no meal while the flight attendants were having their eggs and sausage in the back? Didn't even offer juices. I would stick with another airline.\""
      ]
     },
     "execution_count": 15,
     "metadata": {},
     "output_type": "execute_result"
    }
   ],
   "source": [
    "main_review"
   ]
  },
  {
   "cell_type": "code",
   "execution_count": 16,
   "metadata": {},
   "outputs": [
    {
     "data": {
      "text/plain": [
       "'Boeing 777'"
      ]
     },
     "execution_count": 16,
     "metadata": {},
     "output_type": "execute_result"
    }
   ],
   "source": [
    "Aircraft = driver.find_element(By.XPATH, '//*[@id=\"anchor862044\"]/div/div[2]/table/tbody/tr[1]/td[2]')\n",
    "Aircraft_type= Aircraft.text\n",
    "Aircraft_type"
   ]
  },
  {
   "cell_type": "code",
   "execution_count": 27,
   "metadata": {},
   "outputs": [
    {
     "data": {
      "text/plain": [
       "'Solo Leisure'"
      ]
     },
     "execution_count": 27,
     "metadata": {},
     "output_type": "execute_result"
    }
   ],
   "source": [
    "Traveller = driver.find_element(By.CLASS_NAME, 'review-rating-header.type_of_traveller')\n",
    "Traveller_type = driver.find_element(By.XPATH, '//*[@id=\"anchor863375\"]/div/div[2]/table/tbody/tr[2]/td[2]').text\n",
    "Traveller_type"
   ]
  },
  {
   "cell_type": "code",
   "execution_count": 28,
   "metadata": {},
   "outputs": [
    {
     "data": {
      "text/plain": [
       "'Economy Class'"
      ]
     },
     "execution_count": 28,
     "metadata": {},
     "output_type": "execute_result"
    }
   ],
   "source": [
    "Seat_type = driver.find_element(By.XPATH,'//*[@id=\"anchor863375\"]/div/div[2]/table/tbody/tr[3]/td[2]')\n",
    "# Seat_type = driver.find_element(By.CLASS_NAME, \"\"\n",
    "Class_type= Seat_type.text\n",
    "Class_type"
   ]
  },
  {
   "cell_type": "code",
   "execution_count": 20,
   "metadata": {},
   "outputs": [
    {
     "data": {
      "text/plain": [
       "'Istanbul to London'"
      ]
     },
     "execution_count": 20,
     "metadata": {},
     "output_type": "execute_result"
    }
   ],
   "source": [
    "route= driver.find_element(By.XPATH,'//*[@id=\"anchor862019\"]/div/div[2]/table/tbody/tr[4]/td[2]')\n",
    "Route= route.text\n",
    "Route"
   ]
  },
  {
   "cell_type": "code",
   "execution_count": 29,
   "metadata": {},
   "outputs": [
    {
     "data": {
      "text/plain": [
       "'July 2023'"
      ]
     },
     "execution_count": 29,
     "metadata": {},
     "output_type": "execute_result"
    }
   ],
   "source": [
    "Flown_month= driver.find_element(By.XPATH,'//*[@id=\"anchor863375\"]/div/div[2]/table/tbody/tr[5]/td[2]')\n",
    "Flight_month= Flown_month.text\n",
    "Flight_month"
   ]
  },
  {
   "cell_type": "code",
   "execution_count": 35,
   "metadata": {},
   "outputs": [
    {
     "data": {
      "text/plain": [
       "9"
      ]
     },
     "execution_count": 35,
     "metadata": {},
     "output_type": "execute_result"
    }
   ],
   "source": [
    "seat_rating= driver.find_elements(By.CLASS_NAME, 'review-rating-header.seat_comfort')\n",
    "# Seat_comfort_rating = seat_rating.find_element(By.CLASS_NAME , 'review-rating-stars.stars')\n",
    "len(seat_rating)\n"
   ]
  },
  {
   "cell_type": "code",
   "execution_count": 86,
   "metadata": {},
   "outputs": [
    {
     "data": {
      "text/plain": [
       "'3'"
      ]
     },
     "execution_count": 86,
     "metadata": {},
     "output_type": "execute_result"
    }
   ],
   "source": [
    "seat_rating = driver.find_element(By.XPATH, '//*[@id=\"anchor862044\"]/div/div[2]/table/tbody/tr[6]/td[2]/span[3]')\n",
    "seat= seat_rating.text\n",
    "seat"
   ]
  },
  {
   "cell_type": "code",
   "execution_count": null,
   "metadata": {},
   "outputs": [],
   "source": []
  },
  {
   "cell_type": "code",
   "execution_count": 87,
   "metadata": {},
   "outputs": [],
   "source": [
    "st= driver.find_element(By.XPATH,'//*[@id=\"anchor862044\"]/div/div[2]/table/tbody/tr[6]')"
   ]
  },
  {
   "cell_type": "code",
   "execution_count": 88,
   "metadata": {},
   "outputs": [
    {
     "data": {
      "text/plain": [
       "<selenium.webdriver.remote.webelement.WebElement (session=\"3d26c79b1b28f2d320ec9ad05de43df5\", element=\"83D1BC4173A788B90811AF77DD40693B_element_151\")>"
      ]
     },
     "execution_count": 88,
     "metadata": {},
     "output_type": "execute_result"
    }
   ],
   "source": [
    "st"
   ]
  },
  {
   "cell_type": "code",
   "execution_count": 122,
   "metadata": {},
   "outputs": [
    {
     "name": "stdout",
     "output_type": "stream",
     "text": [
      "3\n"
     ]
    }
   ],
   "source": [
    "seat_rating = driver.find_elements(By.XPATH,'//*[@id=\"anchor862044\"]/div/div[2]/table/tbody/tr[6]/td[2]/span')\n",
    "len(seat_rating)\n",
    "rows= []\n",
    "count=0\n",
    "for row in seat_rating:\n",
    "    # Get the class attribute value and check if \"star\" and \"fill\" are present\n",
    "    class_attribute = row.get_attribute(\"class\")\n",
    "    if \"star\" in class_attribute and \"fill\" in class_attribute:\n",
    "        count = row.text\n",
    "print(count)"
   ]
  },
  {
   "cell_type": "code",
   "execution_count": 129,
   "metadata": {},
   "outputs": [
    {
     "name": "stdout",
     "output_type": "stream",
     "text": [
      "Cabin Staff Service\n",
      "2\n"
     ]
    }
   ],
   "source": [
    "Cabin_staff_1 = driver.find_element(By.XPATH,'//*[@id=\"anchor862044\"]/div/div[2]/table/tbody/tr[7]/td[1]')\n",
    "a= Cabin_staff_1.text\n",
    "print(a)\n",
    "\n",
    "\n",
    "\n",
    "Cabin_staff = driver.find_elements(By.XPATH,'//*[@id=\"anchor862044\"]/div/div[2]/table/tbody/tr[7]/td[2]/span')\n",
    "len(Cabin_staff)\n",
    "rows= []\n",
    "count= \"\"\n",
    "for row in Cabin_staff:\n",
    "    # Get the class attribute value and check if \"star\" and \"fill\" are present\n",
    "    class_attribute = row.get_attribute(\"class\")\n",
    "    if \"star\" in class_attribute and \"fill\" in class_attribute:\n",
    "        count= row.text\n",
    "print(count)\n"
   ]
  },
  {
   "cell_type": "code",
   "execution_count": 123,
   "metadata": {},
   "outputs": [
    {
     "name": "stdout",
     "output_type": "stream",
     "text": [
      "1\n"
     ]
    }
   ],
   "source": [
    "Cabin_staff = driver.find_elements(By.XPATH,'//*[@id=\"anchor862044\"]/div/div[2]/table/tbody/tr[8]/td[2]/span')\n",
    "len(Cabin_staff)\n",
    "rows= []\n",
    "count=0\n",
    "for row in Cabin_staff:\n",
    "    # Get the class attribute value and check if \"star\" and \"fill\" are present\n",
    "    class_attribute = row.get_attribute(\"class\")\n",
    "    if \"star\" in class_attribute and \"fill\" in class_attribute:\n",
    "        count= row.text\n",
    "\n",
    "print(count)"
   ]
  },
  {
   "cell_type": "code",
   "execution_count": 124,
   "metadata": {},
   "outputs": [
    {
     "name": "stdout",
     "output_type": "stream",
     "text": [
      "1\n"
     ]
    }
   ],
   "source": [
    "Cabin_staff = driver.find_elements(By.XPATH,'//*[@id=\"anchor862044\"]/div/div[2]/table/tbody/tr[9]/td[2]/span')\n",
    "len(Cabin_staff)\n",
    "rows= []\n",
    "count=0\n",
    "for row in Cabin_staff:\n",
    "    # Get the class attribute value and check if \"star\" and \"fill\" are present\n",
    "    class_attribute = row.get_attribute(\"class\")\n",
    "    if \"star\" in class_attribute and \"fill\" in class_attribute:\n",
    "        count= row.text\n",
    "\n",
    "print(count)"
   ]
  },
  {
   "cell_type": "code",
   "execution_count": 128,
   "metadata": {},
   "outputs": [
    {
     "name": "stdout",
     "output_type": "stream",
     "text": [
      "Ground Service\n",
      "4\n"
     ]
    }
   ],
   "source": [
    "Cabin_staff_1 = driver.find_element(By.XPATH,'//*[@id=\"anchor862044\"]/div/div[2]/table/tbody/tr[10]/td[1]')\n",
    "a=Cabin_staff_1.text\n",
    "print(a)\n",
    "Cabin_staff = driver.find_elements(By.XPATH,'//*[@id=\"anchor862044\"]/div/div[2]/table/tbody/tr[10]/td[2]/span')\n",
    "len(Cabin_staff)\n",
    "rows= []\n",
    "count=0\n",
    "for row in Cabin_staff:\n",
    "    # Get the class attribute value and check if \"star\" and \"fill\" are present\n",
    "    class_attribute = row.get_attribute(\"class\")\n",
    "    if \"star\" in class_attribute and \"fill\" in class_attribute:\n",
    "        count= row.text\n",
    "print(count)"
   ]
  },
  {
   "cell_type": "code",
   "execution_count": 68,
   "metadata": {},
   "outputs": [],
   "source": [
    "table_body= driver.find_elements(By.XPATH,'//*[@id=\"anchor862044\"]/div/div[2]/table/tbody')"
   ]
  },
  {
   "cell_type": "code",
   "execution_count": 71,
   "metadata": {},
   "outputs": [
    {
     "data": {
      "text/plain": [
       "1"
      ]
     },
     "execution_count": 71,
     "metadata": {},
     "output_type": "execute_result"
    }
   ],
   "source": [
    "len(table_body)"
   ]
  },
  {
   "cell_type": "code",
   "execution_count": 72,
   "metadata": {},
   "outputs": [],
   "source": [
    "table = driver.find_element(By.CLASS_NAME, 'review-ratings')"
   ]
  },
  {
   "cell_type": "code",
   "execution_count": 77,
   "metadata": {},
   "outputs": [
    {
     "ename": "NoSuchElementException",
     "evalue": "Message: no such element: Unable to locate element: {\"method\":\"css selector\",\"selector\":\".review-value \"}\n  (Session info: chrome=114.0.5735.199)\nStacktrace:\nBacktrace:\n\tGetHandleVerifier [0x006DA813+48355]\n\t(No symbol) [0x0066C4B1]\n\t(No symbol) [0x00575358]\n\t(No symbol) [0x005A09A5]\n\t(No symbol) [0x005A0B3B]\n\t(No symbol) [0x00599AE1]\n\t(No symbol) [0x005BA784]\n\t(No symbol) [0x00599A36]\n\t(No symbol) [0x005BAA94]\n\t(No symbol) [0x005CC922]\n\t(No symbol) [0x005BA536]\n\t(No symbol) [0x005982DC]\n\t(No symbol) [0x005993DD]\n\tGetHandleVerifier [0x0093AABD+2539405]\n\tGetHandleVerifier [0x0097A78F+2800735]\n\tGetHandleVerifier [0x0097456C+2775612]\n\tGetHandleVerifier [0x007651E0+616112]\n\t(No symbol) [0x00675F8C]\n\t(No symbol) [0x00672328]\n\t(No symbol) [0x0067240B]\n\t(No symbol) [0x00664FF7]\n\tBaseThreadInitThunk [0x768A7D59+25]\n\tRtlInitializeExceptionChain [0x7749B79B+107]\n\tRtlClearBits [0x7749B71F+191]\n",
     "output_type": "error",
     "traceback": [
      "\u001b[1;31m---------------------------------------------------------------------------\u001b[0m",
      "\u001b[1;31mNoSuchElementException\u001b[0m                    Traceback (most recent call last)",
      "Cell \u001b[1;32mIn[77], line 1\u001b[0m\n\u001b[1;32m----> 1\u001b[0m a\u001b[39m=\u001b[39m table\u001b[39m.\u001b[39;49mfind_element(By\u001b[39m.\u001b[39;49mCLASS_NAME,\u001b[39m'\u001b[39;49m\u001b[39mreview-value \u001b[39;49m\u001b[39m'\u001b[39;49m)\n\u001b[0;32m      2\u001b[0m a\n",
      "File \u001b[1;32m~\\AppData\\Roaming\\Python\\Python311\\site-packages\\selenium\\webdriver\\remote\\webelement.py:425\u001b[0m, in \u001b[0;36mWebElement.find_element\u001b[1;34m(self, by, value)\u001b[0m\n\u001b[0;32m    422\u001b[0m     by \u001b[39m=\u001b[39m By\u001b[39m.\u001b[39mCSS_SELECTOR\n\u001b[0;32m    423\u001b[0m     value \u001b[39m=\u001b[39m \u001b[39mf\u001b[39m\u001b[39m'\u001b[39m\u001b[39m[name=\u001b[39m\u001b[39m\"\u001b[39m\u001b[39m{\u001b[39;00mvalue\u001b[39m}\u001b[39;00m\u001b[39m\"\u001b[39m\u001b[39m]\u001b[39m\u001b[39m'\u001b[39m\n\u001b[1;32m--> 425\u001b[0m \u001b[39mreturn\u001b[39;00m \u001b[39mself\u001b[39;49m\u001b[39m.\u001b[39;49m_execute(Command\u001b[39m.\u001b[39;49mFIND_CHILD_ELEMENT, {\u001b[39m\"\u001b[39;49m\u001b[39musing\u001b[39;49m\u001b[39m\"\u001b[39;49m: by, \u001b[39m\"\u001b[39;49m\u001b[39mvalue\u001b[39;49m\u001b[39m\"\u001b[39;49m: value})[\u001b[39m\"\u001b[39m\u001b[39mvalue\u001b[39m\u001b[39m\"\u001b[39m]\n",
      "File \u001b[1;32m~\\AppData\\Roaming\\Python\\Python311\\site-packages\\selenium\\webdriver\\remote\\webelement.py:403\u001b[0m, in \u001b[0;36mWebElement._execute\u001b[1;34m(self, command, params)\u001b[0m\n\u001b[0;32m    401\u001b[0m     params \u001b[39m=\u001b[39m {}\n\u001b[0;32m    402\u001b[0m params[\u001b[39m\"\u001b[39m\u001b[39mid\u001b[39m\u001b[39m\"\u001b[39m] \u001b[39m=\u001b[39m \u001b[39mself\u001b[39m\u001b[39m.\u001b[39m_id\n\u001b[1;32m--> 403\u001b[0m \u001b[39mreturn\u001b[39;00m \u001b[39mself\u001b[39;49m\u001b[39m.\u001b[39;49m_parent\u001b[39m.\u001b[39;49mexecute(command, params)\n",
      "File \u001b[1;32m~\\AppData\\Roaming\\Python\\Python311\\site-packages\\selenium\\webdriver\\remote\\webdriver.py:440\u001b[0m, in \u001b[0;36mWebDriver.execute\u001b[1;34m(self, driver_command, params)\u001b[0m\n\u001b[0;32m    438\u001b[0m response \u001b[39m=\u001b[39m \u001b[39mself\u001b[39m\u001b[39m.\u001b[39mcommand_executor\u001b[39m.\u001b[39mexecute(driver_command, params)\n\u001b[0;32m    439\u001b[0m \u001b[39mif\u001b[39;00m response:\n\u001b[1;32m--> 440\u001b[0m     \u001b[39mself\u001b[39;49m\u001b[39m.\u001b[39;49merror_handler\u001b[39m.\u001b[39;49mcheck_response(response)\n\u001b[0;32m    441\u001b[0m     response[\u001b[39m\"\u001b[39m\u001b[39mvalue\u001b[39m\u001b[39m\"\u001b[39m] \u001b[39m=\u001b[39m \u001b[39mself\u001b[39m\u001b[39m.\u001b[39m_unwrap_value(response\u001b[39m.\u001b[39mget(\u001b[39m\"\u001b[39m\u001b[39mvalue\u001b[39m\u001b[39m\"\u001b[39m, \u001b[39mNone\u001b[39;00m))\n\u001b[0;32m    442\u001b[0m     \u001b[39mreturn\u001b[39;00m response\n",
      "File \u001b[1;32m~\\AppData\\Roaming\\Python\\Python311\\site-packages\\selenium\\webdriver\\remote\\errorhandler.py:245\u001b[0m, in \u001b[0;36mErrorHandler.check_response\u001b[1;34m(self, response)\u001b[0m\n\u001b[0;32m    243\u001b[0m         alert_text \u001b[39m=\u001b[39m value[\u001b[39m\"\u001b[39m\u001b[39malert\u001b[39m\u001b[39m\"\u001b[39m]\u001b[39m.\u001b[39mget(\u001b[39m\"\u001b[39m\u001b[39mtext\u001b[39m\u001b[39m\"\u001b[39m)\n\u001b[0;32m    244\u001b[0m     \u001b[39mraise\u001b[39;00m exception_class(message, screen, stacktrace, alert_text)  \u001b[39m# type: ignore[call-arg]  # mypy is not smart enough here\u001b[39;00m\n\u001b[1;32m--> 245\u001b[0m \u001b[39mraise\u001b[39;00m exception_class(message, screen, stacktrace)\n",
      "\u001b[1;31mNoSuchElementException\u001b[0m: Message: no such element: Unable to locate element: {\"method\":\"css selector\",\"selector\":\".review-value \"}\n  (Session info: chrome=114.0.5735.199)\nStacktrace:\nBacktrace:\n\tGetHandleVerifier [0x006DA813+48355]\n\t(No symbol) [0x0066C4B1]\n\t(No symbol) [0x00575358]\n\t(No symbol) [0x005A09A5]\n\t(No symbol) [0x005A0B3B]\n\t(No symbol) [0x00599AE1]\n\t(No symbol) [0x005BA784]\n\t(No symbol) [0x00599A36]\n\t(No symbol) [0x005BAA94]\n\t(No symbol) [0x005CC922]\n\t(No symbol) [0x005BA536]\n\t(No symbol) [0x005982DC]\n\t(No symbol) [0x005993DD]\n\tGetHandleVerifier [0x0093AABD+2539405]\n\tGetHandleVerifier [0x0097A78F+2800735]\n\tGetHandleVerifier [0x0097456C+2775612]\n\tGetHandleVerifier [0x007651E0+616112]\n\t(No symbol) [0x00675F8C]\n\t(No symbol) [0x00672328]\n\t(No symbol) [0x0067240B]\n\t(No symbol) [0x00664FF7]\n\tBaseThreadInitThunk [0x768A7D59+25]\n\tRtlInitializeExceptionChain [0x7749B79B+107]\n\tRtlClearBits [0x7749B71F+191]\n"
     ]
    }
   ],
   "source": [
    "a= table.find_element(By.CLASS_NAME,'review-value ')\n",
    "a"
   ]
  },
  {
   "cell_type": "code",
   "execution_count": null,
   "metadata": {},
   "outputs": [],
   "source": []
  },
  {
   "cell_type": "code",
   "execution_count": 52,
   "metadata": {},
   "outputs": [],
   "source": [
    "tbody= driver.find_element(By.XPATH,'//*[@id=\"anchor862019\"]/div/div[2]/table/tbody')"
   ]
  },
  {
   "cell_type": "code",
   "execution_count": 48,
   "metadata": {},
   "outputs": [],
   "source": [
    "data= []"
   ]
  },
  {
   "cell_type": "code",
   "execution_count": 54,
   "metadata": {},
   "outputs": [
    {
     "name": "stdout",
     "output_type": "stream",
     "text": [
      "[['Food & Beverages', '12345'], ['Inflight Entertainment', '12345'], ['Seat Comfort', '12345'], ['Staff Service', '12345'], ['Value for Money', '12345'], ['Aircraft', 'A320Neo'], ['Type Of Traveller', 'Solo Leisure'], ['Seat Type', 'Economy Class'], ['Route', 'Amman to London'], ['Date Flown', 'July 2023'], ['Seat Comfort', '12345'], ['Cabin Staff Service', '12345'], ['Food & Beverages', '12345'], ['Inflight Entertainment', '12345'], ['Ground Service', '12345'], ['Wifi & Connectivity', '12345'], ['Value For Money', '12345'], ['Recommended', 'no'], ['Aircraft', 'Boeing 777'], ['Type Of Traveller', 'Couple Leisure'], ['Seat Type', 'Premium Economy'], ['Route', 'Chennai to London'], ['Date Flown', 'July 2023'], ['Seat Comfort', '12345'], ['Cabin Staff Service', '12345'], ['Food & Beverages', '12345'], ['Inflight Entertainment', '12345'], ['Ground Service', '12345'], ['Value For Money', '12345'], ['Recommended', 'no'], ['Aircraft', 'A321neo'], ['Type Of Traveller', 'Couple Leisure'], ['Seat Type', 'Economy Class'], ['Route', 'Istanbul to London'], ['Date Flown', 'July 2023'], ['Seat Comfort', '12345'], ['Cabin Staff Service', '12345'], ['Ground Service', '12345'], ['Value For Money', '12345'], ['Recommended', 'no'], ['Type Of Traveller', 'Solo Leisure'], ['Seat Type', 'Economy Class'], ['Route', 'London to Edinburgh'], ['Date Flown', 'November 2022'], ['Seat Comfort', '12345'], ['Cabin Staff Service', '12345'], ['Food & Beverages', '12345'], ['Inflight Entertainment', '12345'], ['Ground Service', '12345'], ['Value For Money', '12345'], ['Recommended', 'no'], ['Aircraft', 'Boeing 777 -200'], ['Type Of Traveller', 'Family Leisure'], ['Seat Type', 'Premium Economy'], ['Route', 'Kingston to London'], ['Date Flown', 'June 2023'], ['Seat Comfort', '12345'], ['Cabin Staff Service', '12345'], ['Food & Beverages', '12345'], ['Inflight Entertainment', '12345'], ['Ground Service', '12345'], ['Value For Money', '12345'], ['Recommended', 'no'], ['Aircraft', 'Boeing 777-200'], ['Type Of Traveller', 'Couple Leisure'], ['Seat Type', 'Economy Class'], ['Route', 'London Heathrow to Cape Town'], ['Date Flown', 'June 2023'], ['Seat Comfort', '12345'], ['Cabin Staff Service', '12345'], ['Food & Beverages', '12345'], ['Inflight Entertainment', '12345'], ['Ground Service', '12345'], ['Value For Money', '12345'], ['Recommended', 'no'], ['Type Of Traveller', 'Couple Leisure'], ['Seat Type', 'Economy Class'], ['Route', 'London Heathrow to Ibiza'], ['Date Flown', 'July 2023'], ['Ground Service', '12345'], ['Value For Money', '12345'], ['Recommended', 'no'], ['Aircraft', 'A380'], ['Type Of Traveller', 'Business'], ['Seat Type', 'Business Class'], ['Route', 'Washington to London'], ['Date Flown', 'June 2023'], ['Seat Comfort', '12345'], ['Cabin Staff Service', '12345'], ['Food & Beverages', '12345'], ['Inflight Entertainment', '12345'], ['Ground Service', '12345'], ['Value For Money', '12345'], ['Recommended', 'no'], ['Aircraft', 'A321'], ['Type Of Traveller', 'Couple Leisure'], ['Seat Type', 'Economy Class'], ['Route', 'London Heathrow to Naples'], ['Date Flown', 'June 2023'], ['Seat Comfort', '12345'], ['Cabin Staff Service', '12345'], ['Food & Beverages', '12345'], ['Ground Service', '12345'], ['Value For Money', '12345'], ['Recommended', 'no'], ['Aircraft', 'A320'], ['Type Of Traveller', 'Solo Leisure'], ['Seat Type', 'Economy Class'], ['Route', 'Berlin to London'], ['Date Flown', 'July 2023'], ['Seat Comfort', '12345'], ['Cabin Staff Service', '12345'], ['Food & Beverages', '12345'], ['Ground Service', '12345'], ['Wifi & Connectivity', '12345'], ['Value For Money', '12345'], ['Recommended', 'yes'], ['Inflight Entertainment', '12345'], ['Seat Comfort', '12345'], ['Staff Service', '12345'], ['Value for Money', '12345'], ['Aircraft', 'A320Neo'], ['Type Of Traveller', 'Solo Leisure'], ['Seat Type', 'Economy Class'], ['Route', 'Amman to London'], ['Date Flown', 'July 2023'], ['Seat Comfort', '12345'], ['Cabin Staff Service', '12345'], ['Food & Beverages', '12345'], ['Inflight Entertainment', '12345'], ['Ground Service', '12345'], ['Wifi & Connectivity', '12345'], ['Value For Money', '12345'], ['Recommended', 'no'], ['Aircraft', 'Boeing 777'], ['Type Of Traveller', 'Couple Leisure'], ['Seat Type', 'Premium Economy'], ['Route', 'Chennai to London'], ['Date Flown', 'July 2023'], ['Seat Comfort', '12345'], ['Cabin Staff Service', '12345'], ['Food & Beverages', '12345'], ['Inflight Entertainment', '12345'], ['Ground Service', '12345'], ['Value For Money', '12345'], ['Recommended', 'no'], ['Aircraft', 'A321neo'], ['Type Of Traveller', 'Couple Leisure'], ['Seat Type', 'Economy Class'], ['Route', 'Istanbul to London'], ['Date Flown', 'July 2023'], ['Seat Comfort', '12345'], ['Cabin Staff Service', '12345'], ['Ground Service', '12345'], ['Value For Money', '12345'], ['Recommended', 'no'], ['Type Of Traveller', 'Solo Leisure'], ['Seat Type', 'Economy Class'], ['Route', 'London to Edinburgh'], ['Date Flown', 'November 2022'], ['Seat Comfort', '12345'], ['Cabin Staff Service', '12345'], ['Food & Beverages', '12345'], ['Inflight Entertainment', '12345'], ['Ground Service', '12345'], ['Value For Money', '12345'], ['Recommended', 'no'], ['Aircraft', 'Boeing 777 -200'], ['Type Of Traveller', 'Family Leisure'], ['Seat Type', 'Premium Economy'], ['Route', 'Kingston to London'], ['Date Flown', 'June 2023'], ['Seat Comfort', '12345'], ['Cabin Staff Service', '12345'], ['Food & Beverages', '12345'], ['Inflight Entertainment', '12345'], ['Ground Service', '12345'], ['Value For Money', '12345'], ['Recommended', 'no'], ['Aircraft', 'Boeing 777-200'], ['Type Of Traveller', 'Couple Leisure'], ['Seat Type', 'Economy Class'], ['Route', 'London Heathrow to Cape Town'], ['Date Flown', 'June 2023'], ['Seat Comfort', '12345'], ['Cabin Staff Service', '12345'], ['Food & Beverages', '12345'], ['Inflight Entertainment', '12345'], ['Ground Service', '12345'], ['Value For Money', '12345'], ['Recommended', 'no'], ['Type Of Traveller', 'Couple Leisure'], ['Seat Type', 'Economy Class'], ['Route', 'London Heathrow to Ibiza'], ['Date Flown', 'July 2023'], ['Ground Service', '12345'], ['Value For Money', '12345'], ['Recommended', 'no'], ['Aircraft', 'A380'], ['Type Of Traveller', 'Business'], ['Seat Type', 'Business Class'], ['Route', 'Washington to London'], ['Date Flown', 'June 2023'], ['Seat Comfort', '12345'], ['Cabin Staff Service', '12345'], ['Food & Beverages', '12345'], ['Inflight Entertainment', '12345'], ['Ground Service', '12345'], ['Value For Money', '12345'], ['Recommended', 'no'], ['Aircraft', 'A321'], ['Type Of Traveller', 'Couple Leisure'], ['Seat Type', 'Economy Class'], ['Route', 'London Heathrow to Naples'], ['Date Flown', 'June 2023'], ['Seat Comfort', '12345'], ['Cabin Staff Service', '12345'], ['Food & Beverages', '12345'], ['Ground Service', '12345'], ['Value For Money', '12345'], ['Recommended', 'no'], ['Aircraft', 'A320'], ['Type Of Traveller', 'Solo Leisure'], ['Seat Type', 'Economy Class'], ['Route', 'Berlin to London'], ['Date Flown', 'July 2023'], ['Seat Comfort', '12345'], ['Cabin Staff Service', '12345'], ['Food & Beverages', '12345'], ['Ground Service', '12345'], ['Wifi & Connectivity', '12345'], ['Value For Money', '12345'], ['Recommended', 'yes']]\n"
     ]
    }
   ],
   "source": [
    "for tr in tbody.find_elements(By.XPATH, '//tr')[1:]:\n",
    "    row = [item.text for item in tr.find_elements(By.XPATH,'.//td')]\n",
    "    data.append(row)\n",
    "\n",
    "print(data)\n"
   ]
  },
  {
   "cell_type": "code",
   "execution_count": 56,
   "metadata": {},
   "outputs": [
    {
     "data": {
      "text/plain": [
       "117"
      ]
     },
     "execution_count": 56,
     "metadata": {},
     "output_type": "execute_result"
    }
   ],
   "source": [
    "rows = driver.find_elements(By.XPATH,\"//tbody//tr\")\n",
    "len(rows)"
   ]
  },
  {
   "cell_type": "code",
   "execution_count": 57,
   "metadata": {},
   "outputs": [],
   "source": [
    "cells = tr.find_elements(By.XPATH, './/td')"
   ]
  },
  {
   "cell_type": "code",
   "execution_count": 58,
   "metadata": {},
   "outputs": [
    {
     "data": {
      "text/plain": [
       "'Recommended'"
      ]
     },
     "execution_count": 58,
     "metadata": {},
     "output_type": "execute_result"
    }
   ],
   "source": [
    "cell = tr.find_element(By.XPATH, './/td').text\n",
    "cell"
   ]
  },
  {
   "cell_type": "code",
   "execution_count": 62,
   "metadata": {},
   "outputs": [],
   "source": [
    "for tr in rows[5:]:\n",
    "    row={}\n",
    "    cells = tr.find_elements(By.XPATH, './/td')\n",
    "    for cell in cells:\n",
    "        row[cell]= cell.text\n",
    "    \n",
    "    data.append(row)"
   ]
  },
  {
   "cell_type": "code",
   "execution_count": 63,
   "metadata": {},
   "outputs": [
    {
     "data": {
      "text/plain": [
       "[['Food & Beverages', '12345'],\n",
       " ['Inflight Entertainment', '12345'],\n",
       " ['Seat Comfort', '12345'],\n",
       " ['Staff Service', '12345'],\n",
       " ['Value for Money', '12345'],\n",
       " ['Aircraft', 'A320Neo'],\n",
       " ['Type Of Traveller', 'Solo Leisure'],\n",
       " ['Seat Type', 'Economy Class'],\n",
       " ['Route', 'Amman to London'],\n",
       " ['Date Flown', 'July 2023'],\n",
       " ['Seat Comfort', '12345'],\n",
       " ['Cabin Staff Service', '12345'],\n",
       " ['Food & Beverages', '12345'],\n",
       " ['Inflight Entertainment', '12345'],\n",
       " ['Ground Service', '12345'],\n",
       " ['Wifi & Connectivity', '12345'],\n",
       " ['Value For Money', '12345'],\n",
       " ['Recommended', 'no'],\n",
       " ['Aircraft', 'Boeing 777'],\n",
       " ['Type Of Traveller', 'Couple Leisure'],\n",
       " ['Seat Type', 'Premium Economy'],\n",
       " ['Route', 'Chennai to London'],\n",
       " ['Date Flown', 'July 2023'],\n",
       " ['Seat Comfort', '12345'],\n",
       " ['Cabin Staff Service', '12345'],\n",
       " ['Food & Beverages', '12345'],\n",
       " ['Inflight Entertainment', '12345'],\n",
       " ['Ground Service', '12345'],\n",
       " ['Value For Money', '12345'],\n",
       " ['Recommended', 'no'],\n",
       " ['Aircraft', 'A321neo'],\n",
       " ['Type Of Traveller', 'Couple Leisure'],\n",
       " ['Seat Type', 'Economy Class'],\n",
       " ['Route', 'Istanbul to London'],\n",
       " ['Date Flown', 'July 2023'],\n",
       " ['Seat Comfort', '12345'],\n",
       " ['Cabin Staff Service', '12345'],\n",
       " ['Ground Service', '12345'],\n",
       " ['Value For Money', '12345'],\n",
       " ['Recommended', 'no'],\n",
       " ['Type Of Traveller', 'Solo Leisure'],\n",
       " ['Seat Type', 'Economy Class'],\n",
       " ['Route', 'London to Edinburgh'],\n",
       " ['Date Flown', 'November 2022'],\n",
       " ['Seat Comfort', '12345'],\n",
       " ['Cabin Staff Service', '12345'],\n",
       " ['Food & Beverages', '12345'],\n",
       " ['Inflight Entertainment', '12345'],\n",
       " ['Ground Service', '12345'],\n",
       " ['Value For Money', '12345'],\n",
       " ['Recommended', 'no'],\n",
       " ['Aircraft', 'Boeing 777 -200'],\n",
       " ['Type Of Traveller', 'Family Leisure'],\n",
       " ['Seat Type', 'Premium Economy'],\n",
       " ['Route', 'Kingston to London'],\n",
       " ['Date Flown', 'June 2023'],\n",
       " ['Seat Comfort', '12345'],\n",
       " ['Cabin Staff Service', '12345'],\n",
       " ['Food & Beverages', '12345'],\n",
       " ['Inflight Entertainment', '12345'],\n",
       " ['Ground Service', '12345'],\n",
       " ['Value For Money', '12345'],\n",
       " ['Recommended', 'no'],\n",
       " ['Aircraft', 'Boeing 777-200'],\n",
       " ['Type Of Traveller', 'Couple Leisure'],\n",
       " ['Seat Type', 'Economy Class'],\n",
       " ['Route', 'London Heathrow to Cape Town'],\n",
       " ['Date Flown', 'June 2023'],\n",
       " ['Seat Comfort', '12345'],\n",
       " ['Cabin Staff Service', '12345'],\n",
       " ['Food & Beverages', '12345'],\n",
       " ['Inflight Entertainment', '12345'],\n",
       " ['Ground Service', '12345'],\n",
       " ['Value For Money', '12345'],\n",
       " ['Recommended', 'no'],\n",
       " ['Type Of Traveller', 'Couple Leisure'],\n",
       " ['Seat Type', 'Economy Class'],\n",
       " ['Route', 'London Heathrow to Ibiza'],\n",
       " ['Date Flown', 'July 2023'],\n",
       " ['Ground Service', '12345'],\n",
       " ['Value For Money', '12345'],\n",
       " ['Recommended', 'no'],\n",
       " ['Aircraft', 'A380'],\n",
       " ['Type Of Traveller', 'Business'],\n",
       " ['Seat Type', 'Business Class'],\n",
       " ['Route', 'Washington to London'],\n",
       " ['Date Flown', 'June 2023'],\n",
       " ['Seat Comfort', '12345'],\n",
       " ['Cabin Staff Service', '12345'],\n",
       " ['Food & Beverages', '12345'],\n",
       " ['Inflight Entertainment', '12345'],\n",
       " ['Ground Service', '12345'],\n",
       " ['Value For Money', '12345'],\n",
       " ['Recommended', 'no'],\n",
       " ['Aircraft', 'A321'],\n",
       " ['Type Of Traveller', 'Couple Leisure'],\n",
       " ['Seat Type', 'Economy Class'],\n",
       " ['Route', 'London Heathrow to Naples'],\n",
       " ['Date Flown', 'June 2023'],\n",
       " ['Seat Comfort', '12345'],\n",
       " ['Cabin Staff Service', '12345'],\n",
       " ['Food & Beverages', '12345'],\n",
       " ['Ground Service', '12345'],\n",
       " ['Value For Money', '12345'],\n",
       " ['Recommended', 'no'],\n",
       " ['Aircraft', 'A320'],\n",
       " ['Type Of Traveller', 'Solo Leisure'],\n",
       " ['Seat Type', 'Economy Class'],\n",
       " ['Route', 'Berlin to London'],\n",
       " ['Date Flown', 'July 2023'],\n",
       " ['Seat Comfort', '12345'],\n",
       " ['Cabin Staff Service', '12345'],\n",
       " ['Food & Beverages', '12345'],\n",
       " ['Ground Service', '12345'],\n",
       " ['Wifi & Connectivity', '12345'],\n",
       " ['Value For Money', '12345'],\n",
       " ['Recommended', 'yes'],\n",
       " ['Inflight Entertainment', '12345'],\n",
       " ['Seat Comfort', '12345'],\n",
       " ['Staff Service', '12345'],\n",
       " ['Value for Money', '12345'],\n",
       " ['Aircraft', 'A320Neo'],\n",
       " ['Type Of Traveller', 'Solo Leisure'],\n",
       " ['Seat Type', 'Economy Class'],\n",
       " ['Route', 'Amman to London'],\n",
       " ['Date Flown', 'July 2023'],\n",
       " ['Seat Comfort', '12345'],\n",
       " ['Cabin Staff Service', '12345'],\n",
       " ['Food & Beverages', '12345'],\n",
       " ['Inflight Entertainment', '12345'],\n",
       " ['Ground Service', '12345'],\n",
       " ['Wifi & Connectivity', '12345'],\n",
       " ['Value For Money', '12345'],\n",
       " ['Recommended', 'no'],\n",
       " ['Aircraft', 'Boeing 777'],\n",
       " ['Type Of Traveller', 'Couple Leisure'],\n",
       " ['Seat Type', 'Premium Economy'],\n",
       " ['Route', 'Chennai to London'],\n",
       " ['Date Flown', 'July 2023'],\n",
       " ['Seat Comfort', '12345'],\n",
       " ['Cabin Staff Service', '12345'],\n",
       " ['Food & Beverages', '12345'],\n",
       " ['Inflight Entertainment', '12345'],\n",
       " ['Ground Service', '12345'],\n",
       " ['Value For Money', '12345'],\n",
       " ['Recommended', 'no'],\n",
       " ['Aircraft', 'A321neo'],\n",
       " ['Type Of Traveller', 'Couple Leisure'],\n",
       " ['Seat Type', 'Economy Class'],\n",
       " ['Route', 'Istanbul to London'],\n",
       " ['Date Flown', 'July 2023'],\n",
       " ['Seat Comfort', '12345'],\n",
       " ['Cabin Staff Service', '12345'],\n",
       " ['Ground Service', '12345'],\n",
       " ['Value For Money', '12345'],\n",
       " ['Recommended', 'no'],\n",
       " ['Type Of Traveller', 'Solo Leisure'],\n",
       " ['Seat Type', 'Economy Class'],\n",
       " ['Route', 'London to Edinburgh'],\n",
       " ['Date Flown', 'November 2022'],\n",
       " ['Seat Comfort', '12345'],\n",
       " ['Cabin Staff Service', '12345'],\n",
       " ['Food & Beverages', '12345'],\n",
       " ['Inflight Entertainment', '12345'],\n",
       " ['Ground Service', '12345'],\n",
       " ['Value For Money', '12345'],\n",
       " ['Recommended', 'no'],\n",
       " ['Aircraft', 'Boeing 777 -200'],\n",
       " ['Type Of Traveller', 'Family Leisure'],\n",
       " ['Seat Type', 'Premium Economy'],\n",
       " ['Route', 'Kingston to London'],\n",
       " ['Date Flown', 'June 2023'],\n",
       " ['Seat Comfort', '12345'],\n",
       " ['Cabin Staff Service', '12345'],\n",
       " ['Food & Beverages', '12345'],\n",
       " ['Inflight Entertainment', '12345'],\n",
       " ['Ground Service', '12345'],\n",
       " ['Value For Money', '12345'],\n",
       " ['Recommended', 'no'],\n",
       " ['Aircraft', 'Boeing 777-200'],\n",
       " ['Type Of Traveller', 'Couple Leisure'],\n",
       " ['Seat Type', 'Economy Class'],\n",
       " ['Route', 'London Heathrow to Cape Town'],\n",
       " ['Date Flown', 'June 2023'],\n",
       " ['Seat Comfort', '12345'],\n",
       " ['Cabin Staff Service', '12345'],\n",
       " ['Food & Beverages', '12345'],\n",
       " ['Inflight Entertainment', '12345'],\n",
       " ['Ground Service', '12345'],\n",
       " ['Value For Money', '12345'],\n",
       " ['Recommended', 'no'],\n",
       " ['Type Of Traveller', 'Couple Leisure'],\n",
       " ['Seat Type', 'Economy Class'],\n",
       " ['Route', 'London Heathrow to Ibiza'],\n",
       " ['Date Flown', 'July 2023'],\n",
       " ['Ground Service', '12345'],\n",
       " ['Value For Money', '12345'],\n",
       " ['Recommended', 'no'],\n",
       " ['Aircraft', 'A380'],\n",
       " ['Type Of Traveller', 'Business'],\n",
       " ['Seat Type', 'Business Class'],\n",
       " ['Route', 'Washington to London'],\n",
       " ['Date Flown', 'June 2023'],\n",
       " ['Seat Comfort', '12345'],\n",
       " ['Cabin Staff Service', '12345'],\n",
       " ['Food & Beverages', '12345'],\n",
       " ['Inflight Entertainment', '12345'],\n",
       " ['Ground Service', '12345'],\n",
       " ['Value For Money', '12345'],\n",
       " ['Recommended', 'no'],\n",
       " ['Aircraft', 'A321'],\n",
       " ['Type Of Traveller', 'Couple Leisure'],\n",
       " ['Seat Type', 'Economy Class'],\n",
       " ['Route', 'London Heathrow to Naples'],\n",
       " ['Date Flown', 'June 2023'],\n",
       " ['Seat Comfort', '12345'],\n",
       " ['Cabin Staff Service', '12345'],\n",
       " ['Food & Beverages', '12345'],\n",
       " ['Ground Service', '12345'],\n",
       " ['Value For Money', '12345'],\n",
       " ['Recommended', 'no'],\n",
       " ['Aircraft', 'A320'],\n",
       " ['Type Of Traveller', 'Solo Leisure'],\n",
       " ['Seat Type', 'Economy Class'],\n",
       " ['Route', 'Berlin to London'],\n",
       " ['Date Flown', 'July 2023'],\n",
       " ['Seat Comfort', '12345'],\n",
       " ['Cabin Staff Service', '12345'],\n",
       " ['Food & Beverages', '12345'],\n",
       " ['Ground Service', '12345'],\n",
       " ['Wifi & Connectivity', '12345'],\n",
       " ['Value For Money', '12345'],\n",
       " ['Recommended', 'yes'],\n",
       " {<selenium.webdriver.remote.webelement.WebElement (session=\"3d26c79b1b28f2d320ec9ad05de43df5\", element=\"83D1BC4173A788B90811AF77DD40693B_element_245\")>: 'Food & Beverages',\n",
       "  <selenium.webdriver.remote.webelement.WebElement (session=\"3d26c79b1b28f2d320ec9ad05de43df5\", element=\"83D1BC4173A788B90811AF77DD40693B_element_56\")>: '12345'},\n",
       " {<selenium.webdriver.remote.webelement.WebElement (session=\"3d26c79b1b28f2d320ec9ad05de43df5\", element=\"83D1BC4173A788B90811AF77DD40693B_element_246\")>: 'Inflight Entertainment',\n",
       "  <selenium.webdriver.remote.webelement.WebElement (session=\"3d26c79b1b28f2d320ec9ad05de43df5\", element=\"83D1BC4173A788B90811AF77DD40693B_element_58\")>: '12345'},\n",
       " {<selenium.webdriver.remote.webelement.WebElement (session=\"3d26c79b1b28f2d320ec9ad05de43df5\", element=\"83D1BC4173A788B90811AF77DD40693B_element_247\")>: 'Seat Comfort',\n",
       "  <selenium.webdriver.remote.webelement.WebElement (session=\"3d26c79b1b28f2d320ec9ad05de43df5\", element=\"83D1BC4173A788B90811AF77DD40693B_element_13\")>: '12345'},\n",
       " {<selenium.webdriver.remote.webelement.WebElement (session=\"3d26c79b1b28f2d320ec9ad05de43df5\", element=\"83D1BC4173A788B90811AF77DD40693B_element_248\")>: 'Staff Service',\n",
       "  <selenium.webdriver.remote.webelement.WebElement (session=\"3d26c79b1b28f2d320ec9ad05de43df5\", element=\"83D1BC4173A788B90811AF77DD40693B_element_61\")>: '12345'},\n",
       " {<selenium.webdriver.remote.webelement.WebElement (session=\"3d26c79b1b28f2d320ec9ad05de43df5\", element=\"83D1BC4173A788B90811AF77DD40693B_element_249\")>: 'Value for Money',\n",
       "  <selenium.webdriver.remote.webelement.WebElement (session=\"3d26c79b1b28f2d320ec9ad05de43df5\", element=\"83D1BC4173A788B90811AF77DD40693B_element_63\")>: '12345'},\n",
       " {<selenium.webdriver.remote.webelement.WebElement (session=\"3d26c79b1b28f2d320ec9ad05de43df5\", element=\"83D1BC4173A788B90811AF77DD40693B_element_250\")>: 'Aircraft',\n",
       "  <selenium.webdriver.remote.webelement.WebElement (session=\"3d26c79b1b28f2d320ec9ad05de43df5\", element=\"83D1BC4173A788B90811AF77DD40693B_element_251\")>: 'A320Neo'},\n",
       " {<selenium.webdriver.remote.webelement.WebElement (session=\"3d26c79b1b28f2d320ec9ad05de43df5\", element=\"83D1BC4173A788B90811AF77DD40693B_element_252\")>: 'Type Of Traveller',\n",
       "  <selenium.webdriver.remote.webelement.WebElement (session=\"3d26c79b1b28f2d320ec9ad05de43df5\", element=\"83D1BC4173A788B90811AF77DD40693B_element_253\")>: 'Solo Leisure'},\n",
       " {<selenium.webdriver.remote.webelement.WebElement (session=\"3d26c79b1b28f2d320ec9ad05de43df5\", element=\"83D1BC4173A788B90811AF77DD40693B_element_254\")>: 'Seat Type',\n",
       "  <selenium.webdriver.remote.webelement.WebElement (session=\"3d26c79b1b28f2d320ec9ad05de43df5\", element=\"83D1BC4173A788B90811AF77DD40693B_element_255\")>: 'Economy Class'},\n",
       " {<selenium.webdriver.remote.webelement.WebElement (session=\"3d26c79b1b28f2d320ec9ad05de43df5\", element=\"83D1BC4173A788B90811AF77DD40693B_element_256\")>: 'Route',\n",
       "  <selenium.webdriver.remote.webelement.WebElement (session=\"3d26c79b1b28f2d320ec9ad05de43df5\", element=\"83D1BC4173A788B90811AF77DD40693B_element_257\")>: 'Amman to London'},\n",
       " {<selenium.webdriver.remote.webelement.WebElement (session=\"3d26c79b1b28f2d320ec9ad05de43df5\", element=\"83D1BC4173A788B90811AF77DD40693B_element_258\")>: 'Date Flown',\n",
       "  <selenium.webdriver.remote.webelement.WebElement (session=\"3d26c79b1b28f2d320ec9ad05de43df5\", element=\"83D1BC4173A788B90811AF77DD40693B_element_259\")>: 'July 2023'},\n",
       " {<selenium.webdriver.remote.webelement.WebElement (session=\"3d26c79b1b28f2d320ec9ad05de43df5\", element=\"83D1BC4173A788B90811AF77DD40693B_element_260\")>: 'Seat Comfort',\n",
       "  <selenium.webdriver.remote.webelement.WebElement (session=\"3d26c79b1b28f2d320ec9ad05de43df5\", element=\"83D1BC4173A788B90811AF77DD40693B_element_261\")>: '12345'},\n",
       " {<selenium.webdriver.remote.webelement.WebElement (session=\"3d26c79b1b28f2d320ec9ad05de43df5\", element=\"83D1BC4173A788B90811AF77DD40693B_element_262\")>: 'Cabin Staff Service',\n",
       "  <selenium.webdriver.remote.webelement.WebElement (session=\"3d26c79b1b28f2d320ec9ad05de43df5\", element=\"83D1BC4173A788B90811AF77DD40693B_element_263\")>: '12345'},\n",
       " {<selenium.webdriver.remote.webelement.WebElement (session=\"3d26c79b1b28f2d320ec9ad05de43df5\", element=\"83D1BC4173A788B90811AF77DD40693B_element_264\")>: 'Food & Beverages',\n",
       "  <selenium.webdriver.remote.webelement.WebElement (session=\"3d26c79b1b28f2d320ec9ad05de43df5\", element=\"83D1BC4173A788B90811AF77DD40693B_element_265\")>: '12345'},\n",
       " {<selenium.webdriver.remote.webelement.WebElement (session=\"3d26c79b1b28f2d320ec9ad05de43df5\", element=\"83D1BC4173A788B90811AF77DD40693B_element_266\")>: 'Inflight Entertainment',\n",
       "  <selenium.webdriver.remote.webelement.WebElement (session=\"3d26c79b1b28f2d320ec9ad05de43df5\", element=\"83D1BC4173A788B90811AF77DD40693B_element_267\")>: '12345'},\n",
       " {<selenium.webdriver.remote.webelement.WebElement (session=\"3d26c79b1b28f2d320ec9ad05de43df5\", element=\"83D1BC4173A788B90811AF77DD40693B_element_268\")>: 'Ground Service',\n",
       "  <selenium.webdriver.remote.webelement.WebElement (session=\"3d26c79b1b28f2d320ec9ad05de43df5\", element=\"83D1BC4173A788B90811AF77DD40693B_element_269\")>: '12345'},\n",
       " {<selenium.webdriver.remote.webelement.WebElement (session=\"3d26c79b1b28f2d320ec9ad05de43df5\", element=\"83D1BC4173A788B90811AF77DD40693B_element_270\")>: 'Wifi & Connectivity',\n",
       "  <selenium.webdriver.remote.webelement.WebElement (session=\"3d26c79b1b28f2d320ec9ad05de43df5\", element=\"83D1BC4173A788B90811AF77DD40693B_element_271\")>: '12345'},\n",
       " {<selenium.webdriver.remote.webelement.WebElement (session=\"3d26c79b1b28f2d320ec9ad05de43df5\", element=\"83D1BC4173A788B90811AF77DD40693B_element_272\")>: 'Value For Money',\n",
       "  <selenium.webdriver.remote.webelement.WebElement (session=\"3d26c79b1b28f2d320ec9ad05de43df5\", element=\"83D1BC4173A788B90811AF77DD40693B_element_273\")>: '12345'},\n",
       " {<selenium.webdriver.remote.webelement.WebElement (session=\"3d26c79b1b28f2d320ec9ad05de43df5\", element=\"83D1BC4173A788B90811AF77DD40693B_element_274\")>: 'Recommended',\n",
       "  <selenium.webdriver.remote.webelement.WebElement (session=\"3d26c79b1b28f2d320ec9ad05de43df5\", element=\"83D1BC4173A788B90811AF77DD40693B_element_275\")>: 'no'},\n",
       " {<selenium.webdriver.remote.webelement.WebElement (session=\"3d26c79b1b28f2d320ec9ad05de43df5\", element=\"83D1BC4173A788B90811AF77DD40693B_element_276\")>: 'Aircraft',\n",
       "  <selenium.webdriver.remote.webelement.WebElement (session=\"3d26c79b1b28f2d320ec9ad05de43df5\", element=\"83D1BC4173A788B90811AF77DD40693B_element_277\")>: 'Boeing 777'},\n",
       " {<selenium.webdriver.remote.webelement.WebElement (session=\"3d26c79b1b28f2d320ec9ad05de43df5\", element=\"83D1BC4173A788B90811AF77DD40693B_element_278\")>: 'Type Of Traveller',\n",
       "  <selenium.webdriver.remote.webelement.WebElement (session=\"3d26c79b1b28f2d320ec9ad05de43df5\", element=\"83D1BC4173A788B90811AF77DD40693B_element_279\")>: 'Couple Leisure'},\n",
       " {<selenium.webdriver.remote.webelement.WebElement (session=\"3d26c79b1b28f2d320ec9ad05de43df5\", element=\"83D1BC4173A788B90811AF77DD40693B_element_280\")>: 'Seat Type',\n",
       "  <selenium.webdriver.remote.webelement.WebElement (session=\"3d26c79b1b28f2d320ec9ad05de43df5\", element=\"83D1BC4173A788B90811AF77DD40693B_element_281\")>: 'Premium Economy'},\n",
       " {<selenium.webdriver.remote.webelement.WebElement (session=\"3d26c79b1b28f2d320ec9ad05de43df5\", element=\"83D1BC4173A788B90811AF77DD40693B_element_282\")>: 'Route',\n",
       "  <selenium.webdriver.remote.webelement.WebElement (session=\"3d26c79b1b28f2d320ec9ad05de43df5\", element=\"83D1BC4173A788B90811AF77DD40693B_element_283\")>: 'Chennai to London'},\n",
       " {<selenium.webdriver.remote.webelement.WebElement (session=\"3d26c79b1b28f2d320ec9ad05de43df5\", element=\"83D1BC4173A788B90811AF77DD40693B_element_284\")>: 'Date Flown',\n",
       "  <selenium.webdriver.remote.webelement.WebElement (session=\"3d26c79b1b28f2d320ec9ad05de43df5\", element=\"83D1BC4173A788B90811AF77DD40693B_element_285\")>: 'July 2023'},\n",
       " {<selenium.webdriver.remote.webelement.WebElement (session=\"3d26c79b1b28f2d320ec9ad05de43df5\", element=\"83D1BC4173A788B90811AF77DD40693B_element_286\")>: 'Seat Comfort',\n",
       "  <selenium.webdriver.remote.webelement.WebElement (session=\"3d26c79b1b28f2d320ec9ad05de43df5\", element=\"83D1BC4173A788B90811AF77DD40693B_element_287\")>: '12345'},\n",
       " {<selenium.webdriver.remote.webelement.WebElement (session=\"3d26c79b1b28f2d320ec9ad05de43df5\", element=\"83D1BC4173A788B90811AF77DD40693B_element_288\")>: 'Cabin Staff Service',\n",
       "  <selenium.webdriver.remote.webelement.WebElement (session=\"3d26c79b1b28f2d320ec9ad05de43df5\", element=\"83D1BC4173A788B90811AF77DD40693B_element_289\")>: '12345'},\n",
       " {<selenium.webdriver.remote.webelement.WebElement (session=\"3d26c79b1b28f2d320ec9ad05de43df5\", element=\"83D1BC4173A788B90811AF77DD40693B_element_290\")>: 'Food & Beverages',\n",
       "  <selenium.webdriver.remote.webelement.WebElement (session=\"3d26c79b1b28f2d320ec9ad05de43df5\", element=\"83D1BC4173A788B90811AF77DD40693B_element_291\")>: '12345'},\n",
       " {<selenium.webdriver.remote.webelement.WebElement (session=\"3d26c79b1b28f2d320ec9ad05de43df5\", element=\"83D1BC4173A788B90811AF77DD40693B_element_292\")>: 'Inflight Entertainment',\n",
       "  <selenium.webdriver.remote.webelement.WebElement (session=\"3d26c79b1b28f2d320ec9ad05de43df5\", element=\"83D1BC4173A788B90811AF77DD40693B_element_293\")>: '12345'},\n",
       " {<selenium.webdriver.remote.webelement.WebElement (session=\"3d26c79b1b28f2d320ec9ad05de43df5\", element=\"83D1BC4173A788B90811AF77DD40693B_element_294\")>: 'Ground Service',\n",
       "  <selenium.webdriver.remote.webelement.WebElement (session=\"3d26c79b1b28f2d320ec9ad05de43df5\", element=\"83D1BC4173A788B90811AF77DD40693B_element_295\")>: '12345'},\n",
       " {<selenium.webdriver.remote.webelement.WebElement (session=\"3d26c79b1b28f2d320ec9ad05de43df5\", element=\"83D1BC4173A788B90811AF77DD40693B_element_296\")>: 'Value For Money',\n",
       "  <selenium.webdriver.remote.webelement.WebElement (session=\"3d26c79b1b28f2d320ec9ad05de43df5\", element=\"83D1BC4173A788B90811AF77DD40693B_element_297\")>: '12345'},\n",
       " {<selenium.webdriver.remote.webelement.WebElement (session=\"3d26c79b1b28f2d320ec9ad05de43df5\", element=\"83D1BC4173A788B90811AF77DD40693B_element_298\")>: 'Recommended',\n",
       "  <selenium.webdriver.remote.webelement.WebElement (session=\"3d26c79b1b28f2d320ec9ad05de43df5\", element=\"83D1BC4173A788B90811AF77DD40693B_element_299\")>: 'no'},\n",
       " {<selenium.webdriver.remote.webelement.WebElement (session=\"3d26c79b1b28f2d320ec9ad05de43df5\", element=\"83D1BC4173A788B90811AF77DD40693B_element_300\")>: 'Aircraft',\n",
       "  <selenium.webdriver.remote.webelement.WebElement (session=\"3d26c79b1b28f2d320ec9ad05de43df5\", element=\"83D1BC4173A788B90811AF77DD40693B_element_301\")>: 'A321neo'},\n",
       " {<selenium.webdriver.remote.webelement.WebElement (session=\"3d26c79b1b28f2d320ec9ad05de43df5\", element=\"83D1BC4173A788B90811AF77DD40693B_element_302\")>: 'Type Of Traveller',\n",
       "  <selenium.webdriver.remote.webelement.WebElement (session=\"3d26c79b1b28f2d320ec9ad05de43df5\", element=\"83D1BC4173A788B90811AF77DD40693B_element_303\")>: 'Couple Leisure'},\n",
       " {<selenium.webdriver.remote.webelement.WebElement (session=\"3d26c79b1b28f2d320ec9ad05de43df5\", element=\"83D1BC4173A788B90811AF77DD40693B_element_304\")>: 'Seat Type',\n",
       "  <selenium.webdriver.remote.webelement.WebElement (session=\"3d26c79b1b28f2d320ec9ad05de43df5\", element=\"83D1BC4173A788B90811AF77DD40693B_element_305\")>: 'Economy Class'},\n",
       " {<selenium.webdriver.remote.webelement.WebElement (session=\"3d26c79b1b28f2d320ec9ad05de43df5\", element=\"83D1BC4173A788B90811AF77DD40693B_element_306\")>: 'Route',\n",
       "  <selenium.webdriver.remote.webelement.WebElement (session=\"3d26c79b1b28f2d320ec9ad05de43df5\", element=\"83D1BC4173A788B90811AF77DD40693B_element_307\")>: 'Istanbul to London'},\n",
       " {<selenium.webdriver.remote.webelement.WebElement (session=\"3d26c79b1b28f2d320ec9ad05de43df5\", element=\"83D1BC4173A788B90811AF77DD40693B_element_308\")>: 'Date Flown',\n",
       "  <selenium.webdriver.remote.webelement.WebElement (session=\"3d26c79b1b28f2d320ec9ad05de43df5\", element=\"83D1BC4173A788B90811AF77DD40693B_element_309\")>: 'July 2023'},\n",
       " {<selenium.webdriver.remote.webelement.WebElement (session=\"3d26c79b1b28f2d320ec9ad05de43df5\", element=\"83D1BC4173A788B90811AF77DD40693B_element_310\")>: 'Seat Comfort',\n",
       "  <selenium.webdriver.remote.webelement.WebElement (session=\"3d26c79b1b28f2d320ec9ad05de43df5\", element=\"83D1BC4173A788B90811AF77DD40693B_element_311\")>: '12345'},\n",
       " {<selenium.webdriver.remote.webelement.WebElement (session=\"3d26c79b1b28f2d320ec9ad05de43df5\", element=\"83D1BC4173A788B90811AF77DD40693B_element_312\")>: 'Cabin Staff Service',\n",
       "  <selenium.webdriver.remote.webelement.WebElement (session=\"3d26c79b1b28f2d320ec9ad05de43df5\", element=\"83D1BC4173A788B90811AF77DD40693B_element_313\")>: '12345'},\n",
       " {<selenium.webdriver.remote.webelement.WebElement (session=\"3d26c79b1b28f2d320ec9ad05de43df5\", element=\"83D1BC4173A788B90811AF77DD40693B_element_314\")>: 'Ground Service',\n",
       "  <selenium.webdriver.remote.webelement.WebElement (session=\"3d26c79b1b28f2d320ec9ad05de43df5\", element=\"83D1BC4173A788B90811AF77DD40693B_element_315\")>: '12345'},\n",
       " {<selenium.webdriver.remote.webelement.WebElement (session=\"3d26c79b1b28f2d320ec9ad05de43df5\", element=\"83D1BC4173A788B90811AF77DD40693B_element_316\")>: 'Value For Money',\n",
       "  <selenium.webdriver.remote.webelement.WebElement (session=\"3d26c79b1b28f2d320ec9ad05de43df5\", element=\"83D1BC4173A788B90811AF77DD40693B_element_317\")>: '12345'},\n",
       " {<selenium.webdriver.remote.webelement.WebElement (session=\"3d26c79b1b28f2d320ec9ad05de43df5\", element=\"83D1BC4173A788B90811AF77DD40693B_element_318\")>: 'Recommended',\n",
       "  <selenium.webdriver.remote.webelement.WebElement (session=\"3d26c79b1b28f2d320ec9ad05de43df5\", element=\"83D1BC4173A788B90811AF77DD40693B_element_319\")>: 'no'},\n",
       " {<selenium.webdriver.remote.webelement.WebElement (session=\"3d26c79b1b28f2d320ec9ad05de43df5\", element=\"83D1BC4173A788B90811AF77DD40693B_element_320\")>: 'Type Of Traveller',\n",
       "  <selenium.webdriver.remote.webelement.WebElement (session=\"3d26c79b1b28f2d320ec9ad05de43df5\", element=\"83D1BC4173A788B90811AF77DD40693B_element_321\")>: 'Solo Leisure'},\n",
       " {<selenium.webdriver.remote.webelement.WebElement (session=\"3d26c79b1b28f2d320ec9ad05de43df5\", element=\"83D1BC4173A788B90811AF77DD40693B_element_322\")>: 'Seat Type',\n",
       "  <selenium.webdriver.remote.webelement.WebElement (session=\"3d26c79b1b28f2d320ec9ad05de43df5\", element=\"83D1BC4173A788B90811AF77DD40693B_element_323\")>: 'Economy Class'},\n",
       " {<selenium.webdriver.remote.webelement.WebElement (session=\"3d26c79b1b28f2d320ec9ad05de43df5\", element=\"83D1BC4173A788B90811AF77DD40693B_element_324\")>: 'Route',\n",
       "  <selenium.webdriver.remote.webelement.WebElement (session=\"3d26c79b1b28f2d320ec9ad05de43df5\", element=\"83D1BC4173A788B90811AF77DD40693B_element_325\")>: 'London to Edinburgh'},\n",
       " {<selenium.webdriver.remote.webelement.WebElement (session=\"3d26c79b1b28f2d320ec9ad05de43df5\", element=\"83D1BC4173A788B90811AF77DD40693B_element_326\")>: 'Date Flown',\n",
       "  <selenium.webdriver.remote.webelement.WebElement (session=\"3d26c79b1b28f2d320ec9ad05de43df5\", element=\"83D1BC4173A788B90811AF77DD40693B_element_327\")>: 'November 2022'},\n",
       " {<selenium.webdriver.remote.webelement.WebElement (session=\"3d26c79b1b28f2d320ec9ad05de43df5\", element=\"83D1BC4173A788B90811AF77DD40693B_element_328\")>: 'Seat Comfort',\n",
       "  <selenium.webdriver.remote.webelement.WebElement (session=\"3d26c79b1b28f2d320ec9ad05de43df5\", element=\"83D1BC4173A788B90811AF77DD40693B_element_329\")>: '12345'},\n",
       " {<selenium.webdriver.remote.webelement.WebElement (session=\"3d26c79b1b28f2d320ec9ad05de43df5\", element=\"83D1BC4173A788B90811AF77DD40693B_element_330\")>: 'Cabin Staff Service',\n",
       "  <selenium.webdriver.remote.webelement.WebElement (session=\"3d26c79b1b28f2d320ec9ad05de43df5\", element=\"83D1BC4173A788B90811AF77DD40693B_element_331\")>: '12345'},\n",
       " {<selenium.webdriver.remote.webelement.WebElement (session=\"3d26c79b1b28f2d320ec9ad05de43df5\", element=\"83D1BC4173A788B90811AF77DD40693B_element_332\")>: 'Food & Beverages',\n",
       "  <selenium.webdriver.remote.webelement.WebElement (session=\"3d26c79b1b28f2d320ec9ad05de43df5\", element=\"83D1BC4173A788B90811AF77DD40693B_element_333\")>: '12345'},\n",
       " {<selenium.webdriver.remote.webelement.WebElement (session=\"3d26c79b1b28f2d320ec9ad05de43df5\", element=\"83D1BC4173A788B90811AF77DD40693B_element_334\")>: 'Inflight Entertainment',\n",
       "  <selenium.webdriver.remote.webelement.WebElement (session=\"3d26c79b1b28f2d320ec9ad05de43df5\", element=\"83D1BC4173A788B90811AF77DD40693B_element_335\")>: '12345'},\n",
       " {<selenium.webdriver.remote.webelement.WebElement (session=\"3d26c79b1b28f2d320ec9ad05de43df5\", element=\"83D1BC4173A788B90811AF77DD40693B_element_336\")>: 'Ground Service',\n",
       "  <selenium.webdriver.remote.webelement.WebElement (session=\"3d26c79b1b28f2d320ec9ad05de43df5\", element=\"83D1BC4173A788B90811AF77DD40693B_element_337\")>: '12345'},\n",
       " {<selenium.webdriver.remote.webelement.WebElement (session=\"3d26c79b1b28f2d320ec9ad05de43df5\", element=\"83D1BC4173A788B90811AF77DD40693B_element_338\")>: 'Value For Money',\n",
       "  <selenium.webdriver.remote.webelement.WebElement (session=\"3d26c79b1b28f2d320ec9ad05de43df5\", element=\"83D1BC4173A788B90811AF77DD40693B_element_339\")>: '12345'},\n",
       " {<selenium.webdriver.remote.webelement.WebElement (session=\"3d26c79b1b28f2d320ec9ad05de43df5\", element=\"83D1BC4173A788B90811AF77DD40693B_element_340\")>: 'Recommended',\n",
       "  <selenium.webdriver.remote.webelement.WebElement (session=\"3d26c79b1b28f2d320ec9ad05de43df5\", element=\"83D1BC4173A788B90811AF77DD40693B_element_341\")>: 'no'},\n",
       " {<selenium.webdriver.remote.webelement.WebElement (session=\"3d26c79b1b28f2d320ec9ad05de43df5\", element=\"83D1BC4173A788B90811AF77DD40693B_element_342\")>: 'Aircraft',\n",
       "  <selenium.webdriver.remote.webelement.WebElement (session=\"3d26c79b1b28f2d320ec9ad05de43df5\", element=\"83D1BC4173A788B90811AF77DD40693B_element_343\")>: 'Boeing 777 -200'},\n",
       " {<selenium.webdriver.remote.webelement.WebElement (session=\"3d26c79b1b28f2d320ec9ad05de43df5\", element=\"83D1BC4173A788B90811AF77DD40693B_element_344\")>: 'Type Of Traveller',\n",
       "  <selenium.webdriver.remote.webelement.WebElement (session=\"3d26c79b1b28f2d320ec9ad05de43df5\", element=\"83D1BC4173A788B90811AF77DD40693B_element_345\")>: 'Family Leisure'},\n",
       " {<selenium.webdriver.remote.webelement.WebElement (session=\"3d26c79b1b28f2d320ec9ad05de43df5\", element=\"83D1BC4173A788B90811AF77DD40693B_element_346\")>: 'Seat Type',\n",
       "  <selenium.webdriver.remote.webelement.WebElement (session=\"3d26c79b1b28f2d320ec9ad05de43df5\", element=\"83D1BC4173A788B90811AF77DD40693B_element_347\")>: 'Premium Economy'},\n",
       " {<selenium.webdriver.remote.webelement.WebElement (session=\"3d26c79b1b28f2d320ec9ad05de43df5\", element=\"83D1BC4173A788B90811AF77DD40693B_element_348\")>: 'Route',\n",
       "  <selenium.webdriver.remote.webelement.WebElement (session=\"3d26c79b1b28f2d320ec9ad05de43df5\", element=\"83D1BC4173A788B90811AF77DD40693B_element_349\")>: 'Kingston to London'},\n",
       " {<selenium.webdriver.remote.webelement.WebElement (session=\"3d26c79b1b28f2d320ec9ad05de43df5\", element=\"83D1BC4173A788B90811AF77DD40693B_element_350\")>: 'Date Flown',\n",
       "  <selenium.webdriver.remote.webelement.WebElement (session=\"3d26c79b1b28f2d320ec9ad05de43df5\", element=\"83D1BC4173A788B90811AF77DD40693B_element_351\")>: 'June 2023'},\n",
       " {<selenium.webdriver.remote.webelement.WebElement (session=\"3d26c79b1b28f2d320ec9ad05de43df5\", element=\"83D1BC4173A788B90811AF77DD40693B_element_352\")>: 'Seat Comfort',\n",
       "  <selenium.webdriver.remote.webelement.WebElement (session=\"3d26c79b1b28f2d320ec9ad05de43df5\", element=\"83D1BC4173A788B90811AF77DD40693B_element_353\")>: '12345'},\n",
       " {<selenium.webdriver.remote.webelement.WebElement (session=\"3d26c79b1b28f2d320ec9ad05de43df5\", element=\"83D1BC4173A788B90811AF77DD40693B_element_354\")>: 'Cabin Staff Service',\n",
       "  <selenium.webdriver.remote.webelement.WebElement (session=\"3d26c79b1b28f2d320ec9ad05de43df5\", element=\"83D1BC4173A788B90811AF77DD40693B_element_355\")>: '12345'},\n",
       " {<selenium.webdriver.remote.webelement.WebElement (session=\"3d26c79b1b28f2d320ec9ad05de43df5\", element=\"83D1BC4173A788B90811AF77DD40693B_element_356\")>: 'Food & Beverages',\n",
       "  <selenium.webdriver.remote.webelement.WebElement (session=\"3d26c79b1b28f2d320ec9ad05de43df5\", element=\"83D1BC4173A788B90811AF77DD40693B_element_357\")>: '12345'},\n",
       " {<selenium.webdriver.remote.webelement.WebElement (session=\"3d26c79b1b28f2d320ec9ad05de43df5\", element=\"83D1BC4173A788B90811AF77DD40693B_element_358\")>: 'Inflight Entertainment',\n",
       "  <selenium.webdriver.remote.webelement.WebElement (session=\"3d26c79b1b28f2d320ec9ad05de43df5\", element=\"83D1BC4173A788B90811AF77DD40693B_element_359\")>: '12345'},\n",
       " {<selenium.webdriver.remote.webelement.WebElement (session=\"3d26c79b1b28f2d320ec9ad05de43df5\", element=\"83D1BC4173A788B90811AF77DD40693B_element_360\")>: 'Ground Service',\n",
       "  <selenium.webdriver.remote.webelement.WebElement (session=\"3d26c79b1b28f2d320ec9ad05de43df5\", element=\"83D1BC4173A788B90811AF77DD40693B_element_361\")>: '12345'},\n",
       " {<selenium.webdriver.remote.webelement.WebElement (session=\"3d26c79b1b28f2d320ec9ad05de43df5\", element=\"83D1BC4173A788B90811AF77DD40693B_element_362\")>: 'Value For Money',\n",
       "  <selenium.webdriver.remote.webelement.WebElement (session=\"3d26c79b1b28f2d320ec9ad05de43df5\", element=\"83D1BC4173A788B90811AF77DD40693B_element_363\")>: '12345'},\n",
       " {<selenium.webdriver.remote.webelement.WebElement (session=\"3d26c79b1b28f2d320ec9ad05de43df5\", element=\"83D1BC4173A788B90811AF77DD40693B_element_364\")>: 'Recommended',\n",
       "  <selenium.webdriver.remote.webelement.WebElement (session=\"3d26c79b1b28f2d320ec9ad05de43df5\", element=\"83D1BC4173A788B90811AF77DD40693B_element_365\")>: 'no'},\n",
       " {<selenium.webdriver.remote.webelement.WebElement (session=\"3d26c79b1b28f2d320ec9ad05de43df5\", element=\"83D1BC4173A788B90811AF77DD40693B_element_366\")>: 'Aircraft',\n",
       "  <selenium.webdriver.remote.webelement.WebElement (session=\"3d26c79b1b28f2d320ec9ad05de43df5\", element=\"83D1BC4173A788B90811AF77DD40693B_element_367\")>: 'Boeing 777-200'},\n",
       " {<selenium.webdriver.remote.webelement.WebElement (session=\"3d26c79b1b28f2d320ec9ad05de43df5\", element=\"83D1BC4173A788B90811AF77DD40693B_element_368\")>: 'Type Of Traveller',\n",
       "  <selenium.webdriver.remote.webelement.WebElement (session=\"3d26c79b1b28f2d320ec9ad05de43df5\", element=\"83D1BC4173A788B90811AF77DD40693B_element_369\")>: 'Couple Leisure'},\n",
       " {<selenium.webdriver.remote.webelement.WebElement (session=\"3d26c79b1b28f2d320ec9ad05de43df5\", element=\"83D1BC4173A788B90811AF77DD40693B_element_370\")>: 'Seat Type',\n",
       "  <selenium.webdriver.remote.webelement.WebElement (session=\"3d26c79b1b28f2d320ec9ad05de43df5\", element=\"83D1BC4173A788B90811AF77DD40693B_element_371\")>: 'Economy Class'},\n",
       " {<selenium.webdriver.remote.webelement.WebElement (session=\"3d26c79b1b28f2d320ec9ad05de43df5\", element=\"83D1BC4173A788B90811AF77DD40693B_element_372\")>: 'Route',\n",
       "  <selenium.webdriver.remote.webelement.WebElement (session=\"3d26c79b1b28f2d320ec9ad05de43df5\", element=\"83D1BC4173A788B90811AF77DD40693B_element_373\")>: 'London Heathrow to Cape Town'},\n",
       " {<selenium.webdriver.remote.webelement.WebElement (session=\"3d26c79b1b28f2d320ec9ad05de43df5\", element=\"83D1BC4173A788B90811AF77DD40693B_element_374\")>: 'Date Flown',\n",
       "  <selenium.webdriver.remote.webelement.WebElement (session=\"3d26c79b1b28f2d320ec9ad05de43df5\", element=\"83D1BC4173A788B90811AF77DD40693B_element_375\")>: 'June 2023'},\n",
       " {<selenium.webdriver.remote.webelement.WebElement (session=\"3d26c79b1b28f2d320ec9ad05de43df5\", element=\"83D1BC4173A788B90811AF77DD40693B_element_376\")>: 'Seat Comfort',\n",
       "  <selenium.webdriver.remote.webelement.WebElement (session=\"3d26c79b1b28f2d320ec9ad05de43df5\", element=\"83D1BC4173A788B90811AF77DD40693B_element_377\")>: '12345'},\n",
       " {<selenium.webdriver.remote.webelement.WebElement (session=\"3d26c79b1b28f2d320ec9ad05de43df5\", element=\"83D1BC4173A788B90811AF77DD40693B_element_378\")>: 'Cabin Staff Service',\n",
       "  <selenium.webdriver.remote.webelement.WebElement (session=\"3d26c79b1b28f2d320ec9ad05de43df5\", element=\"83D1BC4173A788B90811AF77DD40693B_element_379\")>: '12345'},\n",
       " {<selenium.webdriver.remote.webelement.WebElement (session=\"3d26c79b1b28f2d320ec9ad05de43df5\", element=\"83D1BC4173A788B90811AF77DD40693B_element_380\")>: 'Food & Beverages',\n",
       "  <selenium.webdriver.remote.webelement.WebElement (session=\"3d26c79b1b28f2d320ec9ad05de43df5\", element=\"83D1BC4173A788B90811AF77DD40693B_element_381\")>: '12345'},\n",
       " {<selenium.webdriver.remote.webelement.WebElement (session=\"3d26c79b1b28f2d320ec9ad05de43df5\", element=\"83D1BC4173A788B90811AF77DD40693B_element_382\")>: 'Inflight Entertainment',\n",
       "  <selenium.webdriver.remote.webelement.WebElement (session=\"3d26c79b1b28f2d320ec9ad05de43df5\", element=\"83D1BC4173A788B90811AF77DD40693B_element_383\")>: '12345'},\n",
       " {<selenium.webdriver.remote.webelement.WebElement (session=\"3d26c79b1b28f2d320ec9ad05de43df5\", element=\"83D1BC4173A788B90811AF77DD40693B_element_384\")>: 'Ground Service',\n",
       "  <selenium.webdriver.remote.webelement.WebElement (session=\"3d26c79b1b28f2d320ec9ad05de43df5\", element=\"83D1BC4173A788B90811AF77DD40693B_element_385\")>: '12345'},\n",
       " {<selenium.webdriver.remote.webelement.WebElement (session=\"3d26c79b1b28f2d320ec9ad05de43df5\", element=\"83D1BC4173A788B90811AF77DD40693B_element_386\")>: 'Value For Money',\n",
       "  <selenium.webdriver.remote.webelement.WebElement (session=\"3d26c79b1b28f2d320ec9ad05de43df5\", element=\"83D1BC4173A788B90811AF77DD40693B_element_387\")>: '12345'},\n",
       " {<selenium.webdriver.remote.webelement.WebElement (session=\"3d26c79b1b28f2d320ec9ad05de43df5\", element=\"83D1BC4173A788B90811AF77DD40693B_element_388\")>: 'Recommended',\n",
       "  <selenium.webdriver.remote.webelement.WebElement (session=\"3d26c79b1b28f2d320ec9ad05de43df5\", element=\"83D1BC4173A788B90811AF77DD40693B_element_389\")>: 'no'},\n",
       " {<selenium.webdriver.remote.webelement.WebElement (session=\"3d26c79b1b28f2d320ec9ad05de43df5\", element=\"83D1BC4173A788B90811AF77DD40693B_element_390\")>: 'Type Of Traveller',\n",
       "  <selenium.webdriver.remote.webelement.WebElement (session=\"3d26c79b1b28f2d320ec9ad05de43df5\", element=\"83D1BC4173A788B90811AF77DD40693B_element_391\")>: 'Couple Leisure'},\n",
       " {<selenium.webdriver.remote.webelement.WebElement (session=\"3d26c79b1b28f2d320ec9ad05de43df5\", element=\"83D1BC4173A788B90811AF77DD40693B_element_392\")>: 'Seat Type',\n",
       "  <selenium.webdriver.remote.webelement.WebElement (session=\"3d26c79b1b28f2d320ec9ad05de43df5\", element=\"83D1BC4173A788B90811AF77DD40693B_element_393\")>: 'Economy Class'},\n",
       " {<selenium.webdriver.remote.webelement.WebElement (session=\"3d26c79b1b28f2d320ec9ad05de43df5\", element=\"83D1BC4173A788B90811AF77DD40693B_element_394\")>: 'Route',\n",
       "  <selenium.webdriver.remote.webelement.WebElement (session=\"3d26c79b1b28f2d320ec9ad05de43df5\", element=\"83D1BC4173A788B90811AF77DD40693B_element_395\")>: 'London Heathrow to Ibiza'},\n",
       " {<selenium.webdriver.remote.webelement.WebElement (session=\"3d26c79b1b28f2d320ec9ad05de43df5\", element=\"83D1BC4173A788B90811AF77DD40693B_element_396\")>: 'Date Flown',\n",
       "  <selenium.webdriver.remote.webelement.WebElement (session=\"3d26c79b1b28f2d320ec9ad05de43df5\", element=\"83D1BC4173A788B90811AF77DD40693B_element_397\")>: 'July 2023'},\n",
       " {<selenium.webdriver.remote.webelement.WebElement (session=\"3d26c79b1b28f2d320ec9ad05de43df5\", element=\"83D1BC4173A788B90811AF77DD40693B_element_398\")>: 'Ground Service',\n",
       "  <selenium.webdriver.remote.webelement.WebElement (session=\"3d26c79b1b28f2d320ec9ad05de43df5\", element=\"83D1BC4173A788B90811AF77DD40693B_element_399\")>: '12345'},\n",
       " {<selenium.webdriver.remote.webelement.WebElement (session=\"3d26c79b1b28f2d320ec9ad05de43df5\", element=\"83D1BC4173A788B90811AF77DD40693B_element_400\")>: 'Value For Money',\n",
       "  <selenium.webdriver.remote.webelement.WebElement (session=\"3d26c79b1b28f2d320ec9ad05de43df5\", element=\"83D1BC4173A788B90811AF77DD40693B_element_401\")>: '12345'},\n",
       " {<selenium.webdriver.remote.webelement.WebElement (session=\"3d26c79b1b28f2d320ec9ad05de43df5\", element=\"83D1BC4173A788B90811AF77DD40693B_element_402\")>: 'Recommended',\n",
       "  <selenium.webdriver.remote.webelement.WebElement (session=\"3d26c79b1b28f2d320ec9ad05de43df5\", element=\"83D1BC4173A788B90811AF77DD40693B_element_403\")>: 'no'},\n",
       " {<selenium.webdriver.remote.webelement.WebElement (session=\"3d26c79b1b28f2d320ec9ad05de43df5\", element=\"83D1BC4173A788B90811AF77DD40693B_element_404\")>: 'Aircraft',\n",
       "  <selenium.webdriver.remote.webelement.WebElement (session=\"3d26c79b1b28f2d320ec9ad05de43df5\", element=\"83D1BC4173A788B90811AF77DD40693B_element_405\")>: 'A380'},\n",
       " {<selenium.webdriver.remote.webelement.WebElement (session=\"3d26c79b1b28f2d320ec9ad05de43df5\", element=\"83D1BC4173A788B90811AF77DD40693B_element_406\")>: 'Type Of Traveller',\n",
       "  <selenium.webdriver.remote.webelement.WebElement (session=\"3d26c79b1b28f2d320ec9ad05de43df5\", element=\"83D1BC4173A788B90811AF77DD40693B_element_407\")>: 'Business'},\n",
       " {<selenium.webdriver.remote.webelement.WebElement (session=\"3d26c79b1b28f2d320ec9ad05de43df5\", element=\"83D1BC4173A788B90811AF77DD40693B_element_408\")>: 'Seat Type',\n",
       "  <selenium.webdriver.remote.webelement.WebElement (session=\"3d26c79b1b28f2d320ec9ad05de43df5\", element=\"83D1BC4173A788B90811AF77DD40693B_element_409\")>: 'Business Class'},\n",
       " {<selenium.webdriver.remote.webelement.WebElement (session=\"3d26c79b1b28f2d320ec9ad05de43df5\", element=\"83D1BC4173A788B90811AF77DD40693B_element_410\")>: 'Route',\n",
       "  <selenium.webdriver.remote.webelement.WebElement (session=\"3d26c79b1b28f2d320ec9ad05de43df5\", element=\"83D1BC4173A788B90811AF77DD40693B_element_411\")>: 'Washington to London'},\n",
       " {<selenium.webdriver.remote.webelement.WebElement (session=\"3d26c79b1b28f2d320ec9ad05de43df5\", element=\"83D1BC4173A788B90811AF77DD40693B_element_412\")>: 'Date Flown',\n",
       "  <selenium.webdriver.remote.webelement.WebElement (session=\"3d26c79b1b28f2d320ec9ad05de43df5\", element=\"83D1BC4173A788B90811AF77DD40693B_element_413\")>: 'June 2023'},\n",
       " {<selenium.webdriver.remote.webelement.WebElement (session=\"3d26c79b1b28f2d320ec9ad05de43df5\", element=\"83D1BC4173A788B90811AF77DD40693B_element_414\")>: 'Seat Comfort',\n",
       "  <selenium.webdriver.remote.webelement.WebElement (session=\"3d26c79b1b28f2d320ec9ad05de43df5\", element=\"83D1BC4173A788B90811AF77DD40693B_element_415\")>: '12345'},\n",
       " {<selenium.webdriver.remote.webelement.WebElement (session=\"3d26c79b1b28f2d320ec9ad05de43df5\", element=\"83D1BC4173A788B90811AF77DD40693B_element_416\")>: 'Cabin Staff Service',\n",
       "  <selenium.webdriver.remote.webelement.WebElement (session=\"3d26c79b1b28f2d320ec9ad05de43df5\", element=\"83D1BC4173A788B90811AF77DD40693B_element_417\")>: '12345'},\n",
       " {<selenium.webdriver.remote.webelement.WebElement (session=\"3d26c79b1b28f2d320ec9ad05de43df5\", element=\"83D1BC4173A788B90811AF77DD40693B_element_418\")>: 'Food & Beverages',\n",
       "  <selenium.webdriver.remote.webelement.WebElement (session=\"3d26c79b1b28f2d320ec9ad05de43df5\", element=\"83D1BC4173A788B90811AF77DD40693B_element_419\")>: '12345'},\n",
       " {<selenium.webdriver.remote.webelement.WebElement (session=\"3d26c79b1b28f2d320ec9ad05de43df5\", element=\"83D1BC4173A788B90811AF77DD40693B_element_420\")>: 'Inflight Entertainment',\n",
       "  <selenium.webdriver.remote.webelement.WebElement (session=\"3d26c79b1b28f2d320ec9ad05de43df5\", element=\"83D1BC4173A788B90811AF77DD40693B_element_421\")>: '12345'},\n",
       " {<selenium.webdriver.remote.webelement.WebElement (session=\"3d26c79b1b28f2d320ec9ad05de43df5\", element=\"83D1BC4173A788B90811AF77DD40693B_element_422\")>: 'Ground Service',\n",
       "  <selenium.webdriver.remote.webelement.WebElement (session=\"3d26c79b1b28f2d320ec9ad05de43df5\", element=\"83D1BC4173A788B90811AF77DD40693B_element_423\")>: '12345'},\n",
       " {<selenium.webdriver.remote.webelement.WebElement (session=\"3d26c79b1b28f2d320ec9ad05de43df5\", element=\"83D1BC4173A788B90811AF77DD40693B_element_424\")>: 'Value For Money',\n",
       "  <selenium.webdriver.remote.webelement.WebElement (session=\"3d26c79b1b28f2d320ec9ad05de43df5\", element=\"83D1BC4173A788B90811AF77DD40693B_element_425\")>: '12345'},\n",
       " {<selenium.webdriver.remote.webelement.WebElement (session=\"3d26c79b1b28f2d320ec9ad05de43df5\", element=\"83D1BC4173A788B90811AF77DD40693B_element_426\")>: 'Recommended',\n",
       "  <selenium.webdriver.remote.webelement.WebElement (session=\"3d26c79b1b28f2d320ec9ad05de43df5\", element=\"83D1BC4173A788B90811AF77DD40693B_element_427\")>: 'no'},\n",
       " {<selenium.webdriver.remote.webelement.WebElement (session=\"3d26c79b1b28f2d320ec9ad05de43df5\", element=\"83D1BC4173A788B90811AF77DD40693B_element_428\")>: 'Aircraft',\n",
       "  <selenium.webdriver.remote.webelement.WebElement (session=\"3d26c79b1b28f2d320ec9ad05de43df5\", element=\"83D1BC4173A788B90811AF77DD40693B_element_429\")>: 'A321'},\n",
       " {<selenium.webdriver.remote.webelement.WebElement (session=\"3d26c79b1b28f2d320ec9ad05de43df5\", element=\"83D1BC4173A788B90811AF77DD40693B_element_430\")>: 'Type Of Traveller',\n",
       "  <selenium.webdriver.remote.webelement.WebElement (session=\"3d26c79b1b28f2d320ec9ad05de43df5\", element=\"83D1BC4173A788B90811AF77DD40693B_element_431\")>: 'Couple Leisure'},\n",
       " {<selenium.webdriver.remote.webelement.WebElement (session=\"3d26c79b1b28f2d320ec9ad05de43df5\", element=\"83D1BC4173A788B90811AF77DD40693B_element_432\")>: 'Seat Type',\n",
       "  <selenium.webdriver.remote.webelement.WebElement (session=\"3d26c79b1b28f2d320ec9ad05de43df5\", element=\"83D1BC4173A788B90811AF77DD40693B_element_433\")>: 'Economy Class'},\n",
       " {<selenium.webdriver.remote.webelement.WebElement (session=\"3d26c79b1b28f2d320ec9ad05de43df5\", element=\"83D1BC4173A788B90811AF77DD40693B_element_434\")>: 'Route',\n",
       "  <selenium.webdriver.remote.webelement.WebElement (session=\"3d26c79b1b28f2d320ec9ad05de43df5\", element=\"83D1BC4173A788B90811AF77DD40693B_element_435\")>: 'London Heathrow to Naples'},\n",
       " {<selenium.webdriver.remote.webelement.WebElement (session=\"3d26c79b1b28f2d320ec9ad05de43df5\", element=\"83D1BC4173A788B90811AF77DD40693B_element_436\")>: 'Date Flown',\n",
       "  <selenium.webdriver.remote.webelement.WebElement (session=\"3d26c79b1b28f2d320ec9ad05de43df5\", element=\"83D1BC4173A788B90811AF77DD40693B_element_437\")>: 'June 2023'},\n",
       " {<selenium.webdriver.remote.webelement.WebElement (session=\"3d26c79b1b28f2d320ec9ad05de43df5\", element=\"83D1BC4173A788B90811AF77DD40693B_element_438\")>: 'Seat Comfort',\n",
       "  <selenium.webdriver.remote.webelement.WebElement (session=\"3d26c79b1b28f2d320ec9ad05de43df5\", element=\"83D1BC4173A788B90811AF77DD40693B_element_439\")>: '12345'},\n",
       " {<selenium.webdriver.remote.webelement.WebElement (session=\"3d26c79b1b28f2d320ec9ad05de43df5\", element=\"83D1BC4173A788B90811AF77DD40693B_element_440\")>: 'Cabin Staff Service',\n",
       "  <selenium.webdriver.remote.webelement.WebElement (session=\"3d26c79b1b28f2d320ec9ad05de43df5\", element=\"83D1BC4173A788B90811AF77DD40693B_element_441\")>: '12345'},\n",
       " {<selenium.webdriver.remote.webelement.WebElement (session=\"3d26c79b1b28f2d320ec9ad05de43df5\", element=\"83D1BC4173A788B90811AF77DD40693B_element_442\")>: 'Food & Beverages',\n",
       "  <selenium.webdriver.remote.webelement.WebElement (session=\"3d26c79b1b28f2d320ec9ad05de43df5\", element=\"83D1BC4173A788B90811AF77DD40693B_element_443\")>: '12345'},\n",
       " {<selenium.webdriver.remote.webelement.WebElement (session=\"3d26c79b1b28f2d320ec9ad05de43df5\", element=\"83D1BC4173A788B90811AF77DD40693B_element_444\")>: 'Ground Service',\n",
       "  <selenium.webdriver.remote.webelement.WebElement (session=\"3d26c79b1b28f2d320ec9ad05de43df5\", element=\"83D1BC4173A788B90811AF77DD40693B_element_445\")>: '12345'},\n",
       " {<selenium.webdriver.remote.webelement.WebElement (session=\"3d26c79b1b28f2d320ec9ad05de43df5\", element=\"83D1BC4173A788B90811AF77DD40693B_element_446\")>: 'Value For Money',\n",
       "  <selenium.webdriver.remote.webelement.WebElement (session=\"3d26c79b1b28f2d320ec9ad05de43df5\", element=\"83D1BC4173A788B90811AF77DD40693B_element_447\")>: '12345'},\n",
       " {<selenium.webdriver.remote.webelement.WebElement (session=\"3d26c79b1b28f2d320ec9ad05de43df5\", element=\"83D1BC4173A788B90811AF77DD40693B_element_448\")>: 'Recommended',\n",
       "  <selenium.webdriver.remote.webelement.WebElement (session=\"3d26c79b1b28f2d320ec9ad05de43df5\", element=\"83D1BC4173A788B90811AF77DD40693B_element_449\")>: 'no'},\n",
       " {<selenium.webdriver.remote.webelement.WebElement (session=\"3d26c79b1b28f2d320ec9ad05de43df5\", element=\"83D1BC4173A788B90811AF77DD40693B_element_450\")>: 'Aircraft',\n",
       "  <selenium.webdriver.remote.webelement.WebElement (session=\"3d26c79b1b28f2d320ec9ad05de43df5\", element=\"83D1BC4173A788B90811AF77DD40693B_element_451\")>: 'A320'},\n",
       " {<selenium.webdriver.remote.webelement.WebElement (session=\"3d26c79b1b28f2d320ec9ad05de43df5\", element=\"83D1BC4173A788B90811AF77DD40693B_element_452\")>: 'Type Of Traveller',\n",
       "  <selenium.webdriver.remote.webelement.WebElement (session=\"3d26c79b1b28f2d320ec9ad05de43df5\", element=\"83D1BC4173A788B90811AF77DD40693B_element_453\")>: 'Solo Leisure'},\n",
       " {<selenium.webdriver.remote.webelement.WebElement (session=\"3d26c79b1b28f2d320ec9ad05de43df5\", element=\"83D1BC4173A788B90811AF77DD40693B_element_454\")>: 'Seat Type',\n",
       "  <selenium.webdriver.remote.webelement.WebElement (session=\"3d26c79b1b28f2d320ec9ad05de43df5\", element=\"83D1BC4173A788B90811AF77DD40693B_element_455\")>: 'Economy Class'},\n",
       " {<selenium.webdriver.remote.webelement.WebElement (session=\"3d26c79b1b28f2d320ec9ad05de43df5\", element=\"83D1BC4173A788B90811AF77DD40693B_element_456\")>: 'Route',\n",
       "  <selenium.webdriver.remote.webelement.WebElement (session=\"3d26c79b1b28f2d320ec9ad05de43df5\", element=\"83D1BC4173A788B90811AF77DD40693B_element_457\")>: 'Berlin to London'},\n",
       " {<selenium.webdriver.remote.webelement.WebElement (session=\"3d26c79b1b28f2d320ec9ad05de43df5\", element=\"83D1BC4173A788B90811AF77DD40693B_element_458\")>: 'Date Flown',\n",
       "  <selenium.webdriver.remote.webelement.WebElement (session=\"3d26c79b1b28f2d320ec9ad05de43df5\", element=\"83D1BC4173A788B90811AF77DD40693B_element_459\")>: 'July 2023'},\n",
       " {<selenium.webdriver.remote.webelement.WebElement (session=\"3d26c79b1b28f2d320ec9ad05de43df5\", element=\"83D1BC4173A788B90811AF77DD40693B_element_460\")>: 'Seat Comfort',\n",
       "  <selenium.webdriver.remote.webelement.WebElement (session=\"3d26c79b1b28f2d320ec9ad05de43df5\", element=\"83D1BC4173A788B90811AF77DD40693B_element_461\")>: '12345'},\n",
       " {<selenium.webdriver.remote.webelement.WebElement (session=\"3d26c79b1b28f2d320ec9ad05de43df5\", element=\"83D1BC4173A788B90811AF77DD40693B_element_462\")>: 'Cabin Staff Service',\n",
       "  <selenium.webdriver.remote.webelement.WebElement (session=\"3d26c79b1b28f2d320ec9ad05de43df5\", element=\"83D1BC4173A788B90811AF77DD40693B_element_463\")>: '12345'},\n",
       " {<selenium.webdriver.remote.webelement.WebElement (session=\"3d26c79b1b28f2d320ec9ad05de43df5\", element=\"83D1BC4173A788B90811AF77DD40693B_element_464\")>: 'Food & Beverages',\n",
       "  <selenium.webdriver.remote.webelement.WebElement (session=\"3d26c79b1b28f2d320ec9ad05de43df5\", element=\"83D1BC4173A788B90811AF77DD40693B_element_465\")>: '12345'},\n",
       " {<selenium.webdriver.remote.webelement.WebElement (session=\"3d26c79b1b28f2d320ec9ad05de43df5\", element=\"83D1BC4173A788B90811AF77DD40693B_element_466\")>: 'Ground Service',\n",
       "  <selenium.webdriver.remote.webelement.WebElement (session=\"3d26c79b1b28f2d320ec9ad05de43df5\", element=\"83D1BC4173A788B90811AF77DD40693B_element_467\")>: '12345'},\n",
       " {<selenium.webdriver.remote.webelement.WebElement (session=\"3d26c79b1b28f2d320ec9ad05de43df5\", element=\"83D1BC4173A788B90811AF77DD40693B_element_468\")>: 'Wifi & Connectivity',\n",
       "  <selenium.webdriver.remote.webelement.WebElement (session=\"3d26c79b1b28f2d320ec9ad05de43df5\", element=\"83D1BC4173A788B90811AF77DD40693B_element_469\")>: '12345'},\n",
       " {<selenium.webdriver.remote.webelement.WebElement (session=\"3d26c79b1b28f2d320ec9ad05de43df5\", element=\"83D1BC4173A788B90811AF77DD40693B_element_470\")>: 'Value For Money',\n",
       "  <selenium.webdriver.remote.webelement.WebElement (session=\"3d26c79b1b28f2d320ec9ad05de43df5\", element=\"83D1BC4173A788B90811AF77DD40693B_element_471\")>: '12345'},\n",
       " {<selenium.webdriver.remote.webelement.WebElement (session=\"3d26c79b1b28f2d320ec9ad05de43df5\", element=\"83D1BC4173A788B90811AF77DD40693B_element_472\")>: 'Recommended',\n",
       "  <selenium.webdriver.remote.webelement.WebElement (session=\"3d26c79b1b28f2d320ec9ad05de43df5\", element=\"83D1BC4173A788B90811AF77DD40693B_element_473\")>: 'yes'},\n",
       " {<selenium.webdriver.remote.webelement.WebElement (session=\"3d26c79b1b28f2d320ec9ad05de43df5\", element=\"83D1BC4173A788B90811AF77DD40693B_element_250\")>: 'Aircraft',\n",
       "  <selenium.webdriver.remote.webelement.WebElement (session=\"3d26c79b1b28f2d320ec9ad05de43df5\", element=\"83D1BC4173A788B90811AF77DD40693B_element_251\")>: 'A320Neo'},\n",
       " {<selenium.webdriver.remote.webelement.WebElement (session=\"3d26c79b1b28f2d320ec9ad05de43df5\", element=\"83D1BC4173A788B90811AF77DD40693B_element_252\")>: 'Type Of Traveller',\n",
       "  <selenium.webdriver.remote.webelement.WebElement (session=\"3d26c79b1b28f2d320ec9ad05de43df5\", element=\"83D1BC4173A788B90811AF77DD40693B_element_253\")>: 'Solo Leisure'},\n",
       " {<selenium.webdriver.remote.webelement.WebElement (session=\"3d26c79b1b28f2d320ec9ad05de43df5\", element=\"83D1BC4173A788B90811AF77DD40693B_element_254\")>: 'Seat Type',\n",
       "  <selenium.webdriver.remote.webelement.WebElement (session=\"3d26c79b1b28f2d320ec9ad05de43df5\", element=\"83D1BC4173A788B90811AF77DD40693B_element_255\")>: 'Economy Class'},\n",
       " {<selenium.webdriver.remote.webelement.WebElement (session=\"3d26c79b1b28f2d320ec9ad05de43df5\", element=\"83D1BC4173A788B90811AF77DD40693B_element_256\")>: 'Route',\n",
       "  <selenium.webdriver.remote.webelement.WebElement (session=\"3d26c79b1b28f2d320ec9ad05de43df5\", element=\"83D1BC4173A788B90811AF77DD40693B_element_257\")>: 'Amman to London'},\n",
       " {<selenium.webdriver.remote.webelement.WebElement (session=\"3d26c79b1b28f2d320ec9ad05de43df5\", element=\"83D1BC4173A788B90811AF77DD40693B_element_258\")>: 'Date Flown',\n",
       "  <selenium.webdriver.remote.webelement.WebElement (session=\"3d26c79b1b28f2d320ec9ad05de43df5\", element=\"83D1BC4173A788B90811AF77DD40693B_element_259\")>: 'July 2023'},\n",
       " {<selenium.webdriver.remote.webelement.WebElement (session=\"3d26c79b1b28f2d320ec9ad05de43df5\", element=\"83D1BC4173A788B90811AF77DD40693B_element_260\")>: 'Seat Comfort',\n",
       "  <selenium.webdriver.remote.webelement.WebElement (session=\"3d26c79b1b28f2d320ec9ad05de43df5\", element=\"83D1BC4173A788B90811AF77DD40693B_element_261\")>: '12345'},\n",
       " {<selenium.webdriver.remote.webelement.WebElement (session=\"3d26c79b1b28f2d320ec9ad05de43df5\", element=\"83D1BC4173A788B90811AF77DD40693B_element_262\")>: 'Cabin Staff Service',\n",
       "  <selenium.webdriver.remote.webelement.WebElement (session=\"3d26c79b1b28f2d320ec9ad05de43df5\", element=\"83D1BC4173A788B90811AF77DD40693B_element_263\")>: '12345'},\n",
       " {<selenium.webdriver.remote.webelement.WebElement (session=\"3d26c79b1b28f2d320ec9ad05de43df5\", element=\"83D1BC4173A788B90811AF77DD40693B_element_264\")>: 'Food & Beverages',\n",
       "  <selenium.webdriver.remote.webelement.WebElement (session=\"3d26c79b1b28f2d320ec9ad05de43df5\", element=\"83D1BC4173A788B90811AF77DD40693B_element_265\")>: '12345'},\n",
       " {<selenium.webdriver.remote.webelement.WebElement (session=\"3d26c79b1b28f2d320ec9ad05de43df5\", element=\"83D1BC4173A788B90811AF77DD40693B_element_266\")>: 'Inflight Entertainment',\n",
       "  <selenium.webdriver.remote.webelement.WebElement (session=\"3d26c79b1b28f2d320ec9ad05de43df5\", element=\"83D1BC4173A788B90811AF77DD40693B_element_267\")>: '12345'},\n",
       " {<selenium.webdriver.remote.webelement.WebElement (session=\"3d26c79b1b28f2d320ec9ad05de43df5\", element=\"83D1BC4173A788B90811AF77DD40693B_element_268\")>: 'Ground Service',\n",
       "  <selenium.webdriver.remote.webelement.WebElement (session=\"3d26c79b1b28f2d320ec9ad05de43df5\", element=\"83D1BC4173A788B90811AF77DD40693B_element_269\")>: '12345'},\n",
       " {<selenium.webdriver.remote.webelement.WebElement (session=\"3d26c79b1b28f2d320ec9ad05de43df5\", element=\"83D1BC4173A788B90811AF77DD40693B_element_270\")>: 'Wifi & Connectivity',\n",
       "  <selenium.webdriver.remote.webelement.WebElement (session=\"3d26c79b1b28f2d320ec9ad05de43df5\", element=\"83D1BC4173A788B90811AF77DD40693B_element_271\")>: '12345'},\n",
       " {<selenium.webdriver.remote.webelement.WebElement (session=\"3d26c79b1b28f2d320ec9ad05de43df5\", element=\"83D1BC4173A788B90811AF77DD40693B_element_272\")>: 'Value For Money',\n",
       "  <selenium.webdriver.remote.webelement.WebElement (session=\"3d26c79b1b28f2d320ec9ad05de43df5\", element=\"83D1BC4173A788B90811AF77DD40693B_element_273\")>: '12345'},\n",
       " {<selenium.webdriver.remote.webelement.WebElement (session=\"3d26c79b1b28f2d320ec9ad05de43df5\", element=\"83D1BC4173A788B90811AF77DD40693B_element_274\")>: 'Recommended',\n",
       "  <selenium.webdriver.remote.webelement.WebElement (session=\"3d26c79b1b28f2d320ec9ad05de43df5\", element=\"83D1BC4173A788B90811AF77DD40693B_element_275\")>: 'no'},\n",
       " {<selenium.webdriver.remote.webelement.WebElement (session=\"3d26c79b1b28f2d320ec9ad05de43df5\", element=\"83D1BC4173A788B90811AF77DD40693B_element_276\")>: 'Aircraft',\n",
       "  <selenium.webdriver.remote.webelement.WebElement (session=\"3d26c79b1b28f2d320ec9ad05de43df5\", element=\"83D1BC4173A788B90811AF77DD40693B_element_277\")>: 'Boeing 777'},\n",
       " {<selenium.webdriver.remote.webelement.WebElement (session=\"3d26c79b1b28f2d320ec9ad05de43df5\", element=\"83D1BC4173A788B90811AF77DD40693B_element_278\")>: 'Type Of Traveller',\n",
       "  <selenium.webdriver.remote.webelement.WebElement (session=\"3d26c79b1b28f2d320ec9ad05de43df5\", element=\"83D1BC4173A788B90811AF77DD40693B_element_279\")>: 'Couple Leisure'},\n",
       " {<selenium.webdriver.remote.webelement.WebElement (session=\"3d26c79b1b28f2d320ec9ad05de43df5\", element=\"83D1BC4173A788B90811AF77DD40693B_element_280\")>: 'Seat Type',\n",
       "  <selenium.webdriver.remote.webelement.WebElement (session=\"3d26c79b1b28f2d320ec9ad05de43df5\", element=\"83D1BC4173A788B90811AF77DD40693B_element_281\")>: 'Premium Economy'},\n",
       " {<selenium.webdriver.remote.webelement.WebElement (session=\"3d26c79b1b28f2d320ec9ad05de43df5\", element=\"83D1BC4173A788B90811AF77DD40693B_element_282\")>: 'Route',\n",
       "  <selenium.webdriver.remote.webelement.WebElement (session=\"3d26c79b1b28f2d320ec9ad05de43df5\", element=\"83D1BC4173A788B90811AF77DD40693B_element_283\")>: 'Chennai to London'},\n",
       " {<selenium.webdriver.remote.webelement.WebElement (session=\"3d26c79b1b28f2d320ec9ad05de43df5\", element=\"83D1BC4173A788B90811AF77DD40693B_element_284\")>: 'Date Flown',\n",
       "  <selenium.webdriver.remote.webelement.WebElement (session=\"3d26c79b1b28f2d320ec9ad05de43df5\", element=\"83D1BC4173A788B90811AF77DD40693B_element_285\")>: 'July 2023'},\n",
       " {<selenium.webdriver.remote.webelement.WebElement (session=\"3d26c79b1b28f2d320ec9ad05de43df5\", element=\"83D1BC4173A788B90811AF77DD40693B_element_286\")>: 'Seat Comfort',\n",
       "  <selenium.webdriver.remote.webelement.WebElement (session=\"3d26c79b1b28f2d320ec9ad05de43df5\", element=\"83D1BC4173A788B90811AF77DD40693B_element_287\")>: '12345'},\n",
       " {<selenium.webdriver.remote.webelement.WebElement (session=\"3d26c79b1b28f2d320ec9ad05de43df5\", element=\"83D1BC4173A788B90811AF77DD40693B_element_288\")>: 'Cabin Staff Service',\n",
       "  <selenium.webdriver.remote.webelement.WebElement (session=\"3d26c79b1b28f2d320ec9ad05de43df5\", element=\"83D1BC4173A788B90811AF77DD40693B_element_289\")>: '12345'},\n",
       " {<selenium.webdriver.remote.webelement.WebElement (session=\"3d26c79b1b28f2d320ec9ad05de43df5\", element=\"83D1BC4173A788B90811AF77DD40693B_element_290\")>: 'Food & Beverages',\n",
       "  <selenium.webdriver.remote.webelement.WebElement (session=\"3d26c79b1b28f2d320ec9ad05de43df5\", element=\"83D1BC4173A788B90811AF77DD40693B_element_291\")>: '12345'},\n",
       " {<selenium.webdriver.remote.webelement.WebElement (session=\"3d26c79b1b28f2d320ec9ad05de43df5\", element=\"83D1BC4173A788B90811AF77DD40693B_element_292\")>: 'Inflight Entertainment',\n",
       "  <selenium.webdriver.remote.webelement.WebElement (session=\"3d26c79b1b28f2d320ec9ad05de43df5\", element=\"83D1BC4173A788B90811AF77DD40693B_element_293\")>: '12345'},\n",
       " {<selenium.webdriver.remote.webelement.WebElement (session=\"3d26c79b1b28f2d320ec9ad05de43df5\", element=\"83D1BC4173A788B90811AF77DD40693B_element_294\")>: 'Ground Service',\n",
       "  <selenium.webdriver.remote.webelement.WebElement (session=\"3d26c79b1b28f2d320ec9ad05de43df5\", element=\"83D1BC4173A788B90811AF77DD40693B_element_295\")>: '12345'},\n",
       " {<selenium.webdriver.remote.webelement.WebElement (session=\"3d26c79b1b28f2d320ec9ad05de43df5\", element=\"83D1BC4173A788B90811AF77DD40693B_element_296\")>: 'Value For Money',\n",
       "  <selenium.webdriver.remote.webelement.WebElement (session=\"3d26c79b1b28f2d320ec9ad05de43df5\", element=\"83D1BC4173A788B90811AF77DD40693B_element_297\")>: '12345'},\n",
       " {<selenium.webdriver.remote.webelement.WebElement (session=\"3d26c79b1b28f2d320ec9ad05de43df5\", element=\"83D1BC4173A788B90811AF77DD40693B_element_298\")>: 'Recommended',\n",
       "  <selenium.webdriver.remote.webelement.WebElement (session=\"3d26c79b1b28f2d320ec9ad05de43df5\", element=\"83D1BC4173A788B90811AF77DD40693B_element_299\")>: 'no'},\n",
       " {<selenium.webdriver.remote.webelement.WebElement (session=\"3d26c79b1b28f2d320ec9ad05de43df5\", element=\"83D1BC4173A788B90811AF77DD40693B_element_300\")>: 'Aircraft',\n",
       "  <selenium.webdriver.remote.webelement.WebElement (session=\"3d26c79b1b28f2d320ec9ad05de43df5\", element=\"83D1BC4173A788B90811AF77DD40693B_element_301\")>: 'A321neo'},\n",
       " {<selenium.webdriver.remote.webelement.WebElement (session=\"3d26c79b1b28f2d320ec9ad05de43df5\", element=\"83D1BC4173A788B90811AF77DD40693B_element_302\")>: 'Type Of Traveller',\n",
       "  <selenium.webdriver.remote.webelement.WebElement (session=\"3d26c79b1b28f2d320ec9ad05de43df5\", element=\"83D1BC4173A788B90811AF77DD40693B_element_303\")>: 'Couple Leisure'},\n",
       " {<selenium.webdriver.remote.webelement.WebElement (session=\"3d26c79b1b28f2d320ec9ad05de43df5\", element=\"83D1BC4173A788B90811AF77DD40693B_element_304\")>: 'Seat Type',\n",
       "  <selenium.webdriver.remote.webelement.WebElement (session=\"3d26c79b1b28f2d320ec9ad05de43df5\", element=\"83D1BC4173A788B90811AF77DD40693B_element_305\")>: 'Economy Class'},\n",
       " {<selenium.webdriver.remote.webelement.WebElement (session=\"3d26c79b1b28f2d320ec9ad05de43df5\", element=\"83D1BC4173A788B90811AF77DD40693B_element_306\")>: 'Route',\n",
       "  <selenium.webdriver.remote.webelement.WebElement (session=\"3d26c79b1b28f2d320ec9ad05de43df5\", element=\"83D1BC4173A788B90811AF77DD40693B_element_307\")>: 'Istanbul to London'},\n",
       " {<selenium.webdriver.remote.webelement.WebElement (session=\"3d26c79b1b28f2d320ec9ad05de43df5\", element=\"83D1BC4173A788B90811AF77DD40693B_element_308\")>: 'Date Flown',\n",
       "  <selenium.webdriver.remote.webelement.WebElement (session=\"3d26c79b1b28f2d320ec9ad05de43df5\", element=\"83D1BC4173A788B90811AF77DD40693B_element_309\")>: 'July 2023'},\n",
       " {<selenium.webdriver.remote.webelement.WebElement (session=\"3d26c79b1b28f2d320ec9ad05de43df5\", element=\"83D1BC4173A788B90811AF77DD40693B_element_310\")>: 'Seat Comfort',\n",
       "  <selenium.webdriver.remote.webelement.WebElement (session=\"3d26c79b1b28f2d320ec9ad05de43df5\", element=\"83D1BC4173A788B90811AF77DD40693B_element_311\")>: '12345'},\n",
       " {<selenium.webdriver.remote.webelement.WebElement (session=\"3d26c79b1b28f2d320ec9ad05de43df5\", element=\"83D1BC4173A788B90811AF77DD40693B_element_312\")>: 'Cabin Staff Service',\n",
       "  <selenium.webdriver.remote.webelement.WebElement (session=\"3d26c79b1b28f2d320ec9ad05de43df5\", element=\"83D1BC4173A788B90811AF77DD40693B_element_313\")>: '12345'},\n",
       " {<selenium.webdriver.remote.webelement.WebElement (session=\"3d26c79b1b28f2d320ec9ad05de43df5\", element=\"83D1BC4173A788B90811AF77DD40693B_element_314\")>: 'Ground Service',\n",
       "  <selenium.webdriver.remote.webelement.WebElement (session=\"3d26c79b1b28f2d320ec9ad05de43df5\", element=\"83D1BC4173A788B90811AF77DD40693B_element_315\")>: '12345'},\n",
       " {<selenium.webdriver.remote.webelement.WebElement (session=\"3d26c79b1b28f2d320ec9ad05de43df5\", element=\"83D1BC4173A788B90811AF77DD40693B_element_316\")>: 'Value For Money',\n",
       "  <selenium.webdriver.remote.webelement.WebElement (session=\"3d26c79b1b28f2d320ec9ad05de43df5\", element=\"83D1BC4173A788B90811AF77DD40693B_element_317\")>: '12345'},\n",
       " {<selenium.webdriver.remote.webelement.WebElement (session=\"3d26c79b1b28f2d320ec9ad05de43df5\", element=\"83D1BC4173A788B90811AF77DD40693B_element_318\")>: 'Recommended',\n",
       "  <selenium.webdriver.remote.webelement.WebElement (session=\"3d26c79b1b28f2d320ec9ad05de43df5\", element=\"83D1BC4173A788B90811AF77DD40693B_element_319\")>: 'no'},\n",
       " {<selenium.webdriver.remote.webelement.WebElement (session=\"3d26c79b1b28f2d320ec9ad05de43df5\", element=\"83D1BC4173A788B90811AF77DD40693B_element_320\")>: 'Type Of Traveller',\n",
       "  <selenium.webdriver.remote.webelement.WebElement (session=\"3d26c79b1b28f2d320ec9ad05de43df5\", element=\"83D1BC4173A788B90811AF77DD40693B_element_321\")>: 'Solo Leisure'},\n",
       " {<selenium.webdriver.remote.webelement.WebElement (session=\"3d26c79b1b28f2d320ec9ad05de43df5\", element=\"83D1BC4173A788B90811AF77DD40693B_element_322\")>: 'Seat Type',\n",
       "  <selenium.webdriver.remote.webelement.WebElement (session=\"3d26c79b1b28f2d320ec9ad05de43df5\", element=\"83D1BC4173A788B90811AF77DD40693B_element_323\")>: 'Economy Class'},\n",
       " {<selenium.webdriver.remote.webelement.WebElement (session=\"3d26c79b1b28f2d320ec9ad05de43df5\", element=\"83D1BC4173A788B90811AF77DD40693B_element_324\")>: 'Route',\n",
       "  <selenium.webdriver.remote.webelement.WebElement (session=\"3d26c79b1b28f2d320ec9ad05de43df5\", element=\"83D1BC4173A788B90811AF77DD40693B_element_325\")>: 'London to Edinburgh'},\n",
       " {<selenium.webdriver.remote.webelement.WebElement (session=\"3d26c79b1b28f2d320ec9ad05de43df5\", element=\"83D1BC4173A788B90811AF77DD40693B_element_326\")>: 'Date Flown',\n",
       "  <selenium.webdriver.remote.webelement.WebElement (session=\"3d26c79b1b28f2d320ec9ad05de43df5\", element=\"83D1BC4173A788B90811AF77DD40693B_element_327\")>: 'November 2022'},\n",
       " {<selenium.webdriver.remote.webelement.WebElement (session=\"3d26c79b1b28f2d320ec9ad05de43df5\", element=\"83D1BC4173A788B90811AF77DD40693B_element_328\")>: 'Seat Comfort',\n",
       "  <selenium.webdriver.remote.webelement.WebElement (session=\"3d26c79b1b28f2d320ec9ad05de43df5\", element=\"83D1BC4173A788B90811AF77DD40693B_element_329\")>: '12345'},\n",
       " {<selenium.webdriver.remote.webelement.WebElement (session=\"3d26c79b1b28f2d320ec9ad05de43df5\", element=\"83D1BC4173A788B90811AF77DD40693B_element_330\")>: 'Cabin Staff Service',\n",
       "  <selenium.webdriver.remote.webelement.WebElement (session=\"3d26c79b1b28f2d320ec9ad05de43df5\", element=\"83D1BC4173A788B90811AF77DD40693B_element_331\")>: '12345'},\n",
       " {<selenium.webdriver.remote.webelement.WebElement (session=\"3d26c79b1b28f2d320ec9ad05de43df5\", element=\"83D1BC4173A788B90811AF77DD40693B_element_332\")>: 'Food & Beverages',\n",
       "  <selenium.webdriver.remote.webelement.WebElement (session=\"3d26c79b1b28f2d320ec9ad05de43df5\", element=\"83D1BC4173A788B90811AF77DD40693B_element_333\")>: '12345'},\n",
       " {<selenium.webdriver.remote.webelement.WebElement (session=\"3d26c79b1b28f2d320ec9ad05de43df5\", element=\"83D1BC4173A788B90811AF77DD40693B_element_334\")>: 'Inflight Entertainment',\n",
       "  <selenium.webdriver.remote.webelement.WebElement (session=\"3d26c79b1b28f2d320ec9ad05de43df5\", element=\"83D1BC4173A788B90811AF77DD40693B_element_335\")>: '12345'},\n",
       " {<selenium.webdriver.remote.webelement.WebElement (session=\"3d26c79b1b28f2d320ec9ad05de43df5\", element=\"83D1BC4173A788B90811AF77DD40693B_element_336\")>: 'Ground Service',\n",
       "  <selenium.webdriver.remote.webelement.WebElement (session=\"3d26c79b1b28f2d320ec9ad05de43df5\", element=\"83D1BC4173A788B90811AF77DD40693B_element_337\")>: '12345'},\n",
       " {<selenium.webdriver.remote.webelement.WebElement (session=\"3d26c79b1b28f2d320ec9ad05de43df5\", element=\"83D1BC4173A788B90811AF77DD40693B_element_338\")>: 'Value For Money',\n",
       "  <selenium.webdriver.remote.webelement.WebElement (session=\"3d26c79b1b28f2d320ec9ad05de43df5\", element=\"83D1BC4173A788B90811AF77DD40693B_element_339\")>: '12345'},\n",
       " {<selenium.webdriver.remote.webelement.WebElement (session=\"3d26c79b1b28f2d320ec9ad05de43df5\", element=\"83D1BC4173A788B90811AF77DD40693B_element_340\")>: 'Recommended',\n",
       "  <selenium.webdriver.remote.webelement.WebElement (session=\"3d26c79b1b28f2d320ec9ad05de43df5\", element=\"83D1BC4173A788B90811AF77DD40693B_element_341\")>: 'no'},\n",
       " {<selenium.webdriver.remote.webelement.WebElement (session=\"3d26c79b1b28f2d320ec9ad05de43df5\", element=\"83D1BC4173A788B90811AF77DD40693B_element_342\")>: 'Aircraft',\n",
       "  <selenium.webdriver.remote.webelement.WebElement (session=\"3d26c79b1b28f2d320ec9ad05de43df5\", element=\"83D1BC4173A788B90811AF77DD40693B_element_343\")>: 'Boeing 777 -200'},\n",
       " {<selenium.webdriver.remote.webelement.WebElement (session=\"3d26c79b1b28f2d320ec9ad05de43df5\", element=\"83D1BC4173A788B90811AF77DD40693B_element_344\")>: 'Type Of Traveller',\n",
       "  <selenium.webdriver.remote.webelement.WebElement (session=\"3d26c79b1b28f2d320ec9ad05de43df5\", element=\"83D1BC4173A788B90811AF77DD40693B_element_345\")>: 'Family Leisure'},\n",
       " {<selenium.webdriver.remote.webelement.WebElement (session=\"3d26c79b1b28f2d320ec9ad05de43df5\", element=\"83D1BC4173A788B90811AF77DD40693B_element_346\")>: 'Seat Type',\n",
       "  <selenium.webdriver.remote.webelement.WebElement (session=\"3d26c79b1b28f2d320ec9ad05de43df5\", element=\"83D1BC4173A788B90811AF77DD40693B_element_347\")>: 'Premium Economy'},\n",
       " {<selenium.webdriver.remote.webelement.WebElement (session=\"3d26c79b1b28f2d320ec9ad05de43df5\", element=\"83D1BC4173A788B90811AF77DD40693B_element_348\")>: 'Route',\n",
       "  <selenium.webdriver.remote.webelement.WebElement (session=\"3d26c79b1b28f2d320ec9ad05de43df5\", element=\"83D1BC4173A788B90811AF77DD40693B_element_349\")>: 'Kingston to London'},\n",
       " {<selenium.webdriver.remote.webelement.WebElement (session=\"3d26c79b1b28f2d320ec9ad05de43df5\", element=\"83D1BC4173A788B90811AF77DD40693B_element_350\")>: 'Date Flown',\n",
       "  <selenium.webdriver.remote.webelement.WebElement (session=\"3d26c79b1b28f2d320ec9ad05de43df5\", element=\"83D1BC4173A788B90811AF77DD40693B_element_351\")>: 'June 2023'},\n",
       " {<selenium.webdriver.remote.webelement.WebElement (session=\"3d26c79b1b28f2d320ec9ad05de43df5\", element=\"83D1BC4173A788B90811AF77DD40693B_element_352\")>: 'Seat Comfort',\n",
       "  <selenium.webdriver.remote.webelement.WebElement (session=\"3d26c79b1b28f2d320ec9ad05de43df5\", element=\"83D1BC4173A788B90811AF77DD40693B_element_353\")>: '12345'},\n",
       " {<selenium.webdriver.remote.webelement.WebElement (session=\"3d26c79b1b28f2d320ec9ad05de43df5\", element=\"83D1BC4173A788B90811AF77DD40693B_element_354\")>: 'Cabin Staff Service',\n",
       "  <selenium.webdriver.remote.webelement.WebElement (session=\"3d26c79b1b28f2d320ec9ad05de43df5\", element=\"83D1BC4173A788B90811AF77DD40693B_element_355\")>: '12345'},\n",
       " {<selenium.webdriver.remote.webelement.WebElement (session=\"3d26c79b1b28f2d320ec9ad05de43df5\", element=\"83D1BC4173A788B90811AF77DD40693B_element_356\")>: 'Food & Beverages',\n",
       "  <selenium.webdriver.remote.webelement.WebElement (session=\"3d26c79b1b28f2d320ec9ad05de43df5\", element=\"83D1BC4173A788B90811AF77DD40693B_element_357\")>: '12345'},\n",
       " {<selenium.webdriver.remote.webelement.WebElement (session=\"3d26c79b1b28f2d320ec9ad05de43df5\", element=\"83D1BC4173A788B90811AF77DD40693B_element_358\")>: 'Inflight Entertainment',\n",
       "  <selenium.webdriver.remote.webelement.WebElement (session=\"3d26c79b1b28f2d320ec9ad05de43df5\", element=\"83D1BC4173A788B90811AF77DD40693B_element_359\")>: '12345'},\n",
       " {<selenium.webdriver.remote.webelement.WebElement (session=\"3d26c79b1b28f2d320ec9ad05de43df5\", element=\"83D1BC4173A788B90811AF77DD40693B_element_360\")>: 'Ground Service',\n",
       "  <selenium.webdriver.remote.webelement.WebElement (session=\"3d26c79b1b28f2d320ec9ad05de43df5\", element=\"83D1BC4173A788B90811AF77DD40693B_element_361\")>: '12345'},\n",
       " {<selenium.webdriver.remote.webelement.WebElement (session=\"3d26c79b1b28f2d320ec9ad05de43df5\", element=\"83D1BC4173A788B90811AF77DD40693B_element_362\")>: 'Value For Money',\n",
       "  <selenium.webdriver.remote.webelement.WebElement (session=\"3d26c79b1b28f2d320ec9ad05de43df5\", element=\"83D1BC4173A788B90811AF77DD40693B_element_363\")>: '12345'},\n",
       " {<selenium.webdriver.remote.webelement.WebElement (session=\"3d26c79b1b28f2d320ec9ad05de43df5\", element=\"83D1BC4173A788B90811AF77DD40693B_element_364\")>: 'Recommended',\n",
       "  <selenium.webdriver.remote.webelement.WebElement (session=\"3d26c79b1b28f2d320ec9ad05de43df5\", element=\"83D1BC4173A788B90811AF77DD40693B_element_365\")>: 'no'},\n",
       " {<selenium.webdriver.remote.webelement.WebElement (session=\"3d26c79b1b28f2d320ec9ad05de43df5\", element=\"83D1BC4173A788B90811AF77DD40693B_element_366\")>: 'Aircraft',\n",
       "  <selenium.webdriver.remote.webelement.WebElement (session=\"3d26c79b1b28f2d320ec9ad05de43df5\", element=\"83D1BC4173A788B90811AF77DD40693B_element_367\")>: 'Boeing 777-200'},\n",
       " {<selenium.webdriver.remote.webelement.WebElement (session=\"3d26c79b1b28f2d320ec9ad05de43df5\", element=\"83D1BC4173A788B90811AF77DD40693B_element_368\")>: 'Type Of Traveller',\n",
       "  <selenium.webdriver.remote.webelement.WebElement (session=\"3d26c79b1b28f2d320ec9ad05de43df5\", element=\"83D1BC4173A788B90811AF77DD40693B_element_369\")>: 'Couple Leisure'},\n",
       " {<selenium.webdriver.remote.webelement.WebElement (session=\"3d26c79b1b28f2d320ec9ad05de43df5\", element=\"83D1BC4173A788B90811AF77DD40693B_element_370\")>: 'Seat Type',\n",
       "  <selenium.webdriver.remote.webelement.WebElement (session=\"3d26c79b1b28f2d320ec9ad05de43df5\", element=\"83D1BC4173A788B90811AF77DD40693B_element_371\")>: 'Economy Class'},\n",
       " {<selenium.webdriver.remote.webelement.WebElement (session=\"3d26c79b1b28f2d320ec9ad05de43df5\", element=\"83D1BC4173A788B90811AF77DD40693B_element_372\")>: 'Route',\n",
       "  <selenium.webdriver.remote.webelement.WebElement (session=\"3d26c79b1b28f2d320ec9ad05de43df5\", element=\"83D1BC4173A788B90811AF77DD40693B_element_373\")>: 'London Heathrow to Cape Town'},\n",
       " {<selenium.webdriver.remote.webelement.WebElement (session=\"3d26c79b1b28f2d320ec9ad05de43df5\", element=\"83D1BC4173A788B90811AF77DD40693B_element_374\")>: 'Date Flown',\n",
       "  <selenium.webdriver.remote.webelement.WebElement (session=\"3d26c79b1b28f2d320ec9ad05de43df5\", element=\"83D1BC4173A788B90811AF77DD40693B_element_375\")>: 'June 2023'},\n",
       " {<selenium.webdriver.remote.webelement.WebElement (session=\"3d26c79b1b28f2d320ec9ad05de43df5\", element=\"83D1BC4173A788B90811AF77DD40693B_element_376\")>: 'Seat Comfort',\n",
       "  <selenium.webdriver.remote.webelement.WebElement (session=\"3d26c79b1b28f2d320ec9ad05de43df5\", element=\"83D1BC4173A788B90811AF77DD40693B_element_377\")>: '12345'},\n",
       " {<selenium.webdriver.remote.webelement.WebElement (session=\"3d26c79b1b28f2d320ec9ad05de43df5\", element=\"83D1BC4173A788B90811AF77DD40693B_element_378\")>: 'Cabin Staff Service',\n",
       "  <selenium.webdriver.remote.webelement.WebElement (session=\"3d26c79b1b28f2d320ec9ad05de43df5\", element=\"83D1BC4173A788B90811AF77DD40693B_element_379\")>: '12345'},\n",
       " {<selenium.webdriver.remote.webelement.WebElement (session=\"3d26c79b1b28f2d320ec9ad05de43df5\", element=\"83D1BC4173A788B90811AF77DD40693B_element_380\")>: 'Food & Beverages',\n",
       "  <selenium.webdriver.remote.webelement.WebElement (session=\"3d26c79b1b28f2d320ec9ad05de43df5\", element=\"83D1BC4173A788B90811AF77DD40693B_element_381\")>: '12345'},\n",
       " {<selenium.webdriver.remote.webelement.WebElement (session=\"3d26c79b1b28f2d320ec9ad05de43df5\", element=\"83D1BC4173A788B90811AF77DD40693B_element_382\")>: 'Inflight Entertainment',\n",
       "  <selenium.webdriver.remote.webelement.WebElement (session=\"3d26c79b1b28f2d320ec9ad05de43df5\", element=\"83D1BC4173A788B90811AF77DD40693B_element_383\")>: '12345'},\n",
       " {<selenium.webdriver.remote.webelement.WebElement (session=\"3d26c79b1b28f2d320ec9ad05de43df5\", element=\"83D1BC4173A788B90811AF77DD40693B_element_384\")>: 'Ground Service',\n",
       "  <selenium.webdriver.remote.webelement.WebElement (session=\"3d26c79b1b28f2d320ec9ad05de43df5\", element=\"83D1BC4173A788B90811AF77DD40693B_element_385\")>: '12345'},\n",
       " {<selenium.webdriver.remote.webelement.WebElement (session=\"3d26c79b1b28f2d320ec9ad05de43df5\", element=\"83D1BC4173A788B90811AF77DD40693B_element_386\")>: 'Value For Money',\n",
       "  <selenium.webdriver.remote.webelement.WebElement (session=\"3d26c79b1b28f2d320ec9ad05de43df5\", element=\"83D1BC4173A788B90811AF77DD40693B_element_387\")>: '12345'},\n",
       " {<selenium.webdriver.remote.webelement.WebElement (session=\"3d26c79b1b28f2d320ec9ad05de43df5\", element=\"83D1BC4173A788B90811AF77DD40693B_element_388\")>: 'Recommended',\n",
       "  <selenium.webdriver.remote.webelement.WebElement (session=\"3d26c79b1b28f2d320ec9ad05de43df5\", element=\"83D1BC4173A788B90811AF77DD40693B_element_389\")>: 'no'},\n",
       " {<selenium.webdriver.remote.webelement.WebElement (session=\"3d26c79b1b28f2d320ec9ad05de43df5\", element=\"83D1BC4173A788B90811AF77DD40693B_element_390\")>: 'Type Of Traveller',\n",
       "  <selenium.webdriver.remote.webelement.WebElement (session=\"3d26c79b1b28f2d320ec9ad05de43df5\", element=\"83D1BC4173A788B90811AF77DD40693B_element_391\")>: 'Couple Leisure'},\n",
       " {<selenium.webdriver.remote.webelement.WebElement (session=\"3d26c79b1b28f2d320ec9ad05de43df5\", element=\"83D1BC4173A788B90811AF77DD40693B_element_392\")>: 'Seat Type',\n",
       "  <selenium.webdriver.remote.webelement.WebElement (session=\"3d26c79b1b28f2d320ec9ad05de43df5\", element=\"83D1BC4173A788B90811AF77DD40693B_element_393\")>: 'Economy Class'},\n",
       " {<selenium.webdriver.remote.webelement.WebElement (session=\"3d26c79b1b28f2d320ec9ad05de43df5\", element=\"83D1BC4173A788B90811AF77DD40693B_element_394\")>: 'Route',\n",
       "  <selenium.webdriver.remote.webelement.WebElement (session=\"3d26c79b1b28f2d320ec9ad05de43df5\", element=\"83D1BC4173A788B90811AF77DD40693B_element_395\")>: 'London Heathrow to Ibiza'},\n",
       " {<selenium.webdriver.remote.webelement.WebElement (session=\"3d26c79b1b28f2d320ec9ad05de43df5\", element=\"83D1BC4173A788B90811AF77DD40693B_element_396\")>: 'Date Flown',\n",
       "  <selenium.webdriver.remote.webelement.WebElement (session=\"3d26c79b1b28f2d320ec9ad05de43df5\", element=\"83D1BC4173A788B90811AF77DD40693B_element_397\")>: 'July 2023'},\n",
       " {<selenium.webdriver.remote.webelement.WebElement (session=\"3d26c79b1b28f2d320ec9ad05de43df5\", element=\"83D1BC4173A788B90811AF77DD40693B_element_398\")>: 'Ground Service',\n",
       "  <selenium.webdriver.remote.webelement.WebElement (session=\"3d26c79b1b28f2d320ec9ad05de43df5\", element=\"83D1BC4173A788B90811AF77DD40693B_element_399\")>: '12345'},\n",
       " {<selenium.webdriver.remote.webelement.WebElement (session=\"3d26c79b1b28f2d320ec9ad05de43df5\", element=\"83D1BC4173A788B90811AF77DD40693B_element_400\")>: 'Value For Money',\n",
       "  <selenium.webdriver.remote.webelement.WebElement (session=\"3d26c79b1b28f2d320ec9ad05de43df5\", element=\"83D1BC4173A788B90811AF77DD40693B_element_401\")>: '12345'},\n",
       " {<selenium.webdriver.remote.webelement.WebElement (session=\"3d26c79b1b28f2d320ec9ad05de43df5\", element=\"83D1BC4173A788B90811AF77DD40693B_element_402\")>: 'Recommended',\n",
       "  <selenium.webdriver.remote.webelement.WebElement (session=\"3d26c79b1b28f2d320ec9ad05de43df5\", element=\"83D1BC4173A788B90811AF77DD40693B_element_403\")>: 'no'},\n",
       " {<selenium.webdriver.remote.webelement.WebElement (session=\"3d26c79b1b28f2d320ec9ad05de43df5\", element=\"83D1BC4173A788B90811AF77DD40693B_element_404\")>: 'Aircraft',\n",
       "  <selenium.webdriver.remote.webelement.WebElement (session=\"3d26c79b1b28f2d320ec9ad05de43df5\", element=\"83D1BC4173A788B90811AF77DD40693B_element_405\")>: 'A380'},\n",
       " {<selenium.webdriver.remote.webelement.WebElement (session=\"3d26c79b1b28f2d320ec9ad05de43df5\", element=\"83D1BC4173A788B90811AF77DD40693B_element_406\")>: 'Type Of Traveller',\n",
       "  <selenium.webdriver.remote.webelement.WebElement (session=\"3d26c79b1b28f2d320ec9ad05de43df5\", element=\"83D1BC4173A788B90811AF77DD40693B_element_407\")>: 'Business'},\n",
       " {<selenium.webdriver.remote.webelement.WebElement (session=\"3d26c79b1b28f2d320ec9ad05de43df5\", element=\"83D1BC4173A788B90811AF77DD40693B_element_408\")>: 'Seat Type',\n",
       "  <selenium.webdriver.remote.webelement.WebElement (session=\"3d26c79b1b28f2d320ec9ad05de43df5\", element=\"83D1BC4173A788B90811AF77DD40693B_element_409\")>: 'Business Class'},\n",
       " {<selenium.webdriver.remote.webelement.WebElement (session=\"3d26c79b1b28f2d320ec9ad05de43df5\", element=\"83D1BC4173A788B90811AF77DD40693B_element_410\")>: 'Route',\n",
       "  <selenium.webdriver.remote.webelement.WebElement (session=\"3d26c79b1b28f2d320ec9ad05de43df5\", element=\"83D1BC4173A788B90811AF77DD40693B_element_411\")>: 'Washington to London'},\n",
       " {<selenium.webdriver.remote.webelement.WebElement (session=\"3d26c79b1b28f2d320ec9ad05de43df5\", element=\"83D1BC4173A788B90811AF77DD40693B_element_412\")>: 'Date Flown',\n",
       "  <selenium.webdriver.remote.webelement.WebElement (session=\"3d26c79b1b28f2d320ec9ad05de43df5\", element=\"83D1BC4173A788B90811AF77DD40693B_element_413\")>: 'June 2023'},\n",
       " {<selenium.webdriver.remote.webelement.WebElement (session=\"3d26c79b1b28f2d320ec9ad05de43df5\", element=\"83D1BC4173A788B90811AF77DD40693B_element_414\")>: 'Seat Comfort',\n",
       "  <selenium.webdriver.remote.webelement.WebElement (session=\"3d26c79b1b28f2d320ec9ad05de43df5\", element=\"83D1BC4173A788B90811AF77DD40693B_element_415\")>: '12345'},\n",
       " {<selenium.webdriver.remote.webelement.WebElement (session=\"3d26c79b1b28f2d320ec9ad05de43df5\", element=\"83D1BC4173A788B90811AF77DD40693B_element_416\")>: 'Cabin Staff Service',\n",
       "  <selenium.webdriver.remote.webelement.WebElement (session=\"3d26c79b1b28f2d320ec9ad05de43df5\", element=\"83D1BC4173A788B90811AF77DD40693B_element_417\")>: '12345'},\n",
       " {<selenium.webdriver.remote.webelement.WebElement (session=\"3d26c79b1b28f2d320ec9ad05de43df5\", element=\"83D1BC4173A788B90811AF77DD40693B_element_418\")>: 'Food & Beverages',\n",
       "  <selenium.webdriver.remote.webelement.WebElement (session=\"3d26c79b1b28f2d320ec9ad05de43df5\", element=\"83D1BC4173A788B90811AF77DD40693B_element_419\")>: '12345'},\n",
       " {<selenium.webdriver.remote.webelement.WebElement (session=\"3d26c79b1b28f2d320ec9ad05de43df5\", element=\"83D1BC4173A788B90811AF77DD40693B_element_420\")>: 'Inflight Entertainment',\n",
       "  <selenium.webdriver.remote.webelement.WebElement (session=\"3d26c79b1b28f2d320ec9ad05de43df5\", element=\"83D1BC4173A788B90811AF77DD40693B_element_421\")>: '12345'},\n",
       " {<selenium.webdriver.remote.webelement.WebElement (session=\"3d26c79b1b28f2d320ec9ad05de43df5\", element=\"83D1BC4173A788B90811AF77DD40693B_element_422\")>: 'Ground Service',\n",
       "  <selenium.webdriver.remote.webelement.WebElement (session=\"3d26c79b1b28f2d320ec9ad05de43df5\", element=\"83D1BC4173A788B90811AF77DD40693B_element_423\")>: '12345'},\n",
       " {<selenium.webdriver.remote.webelement.WebElement (session=\"3d26c79b1b28f2d320ec9ad05de43df5\", element=\"83D1BC4173A788B90811AF77DD40693B_element_424\")>: 'Value For Money',\n",
       "  <selenium.webdriver.remote.webelement.WebElement (session=\"3d26c79b1b28f2d320ec9ad05de43df5\", element=\"83D1BC4173A788B90811AF77DD40693B_element_425\")>: '12345'},\n",
       " {<selenium.webdriver.remote.webelement.WebElement (session=\"3d26c79b1b28f2d320ec9ad05de43df5\", element=\"83D1BC4173A788B90811AF77DD40693B_element_426\")>: 'Recommended',\n",
       "  <selenium.webdriver.remote.webelement.WebElement (session=\"3d26c79b1b28f2d320ec9ad05de43df5\", element=\"83D1BC4173A788B90811AF77DD40693B_element_427\")>: 'no'},\n",
       " {<selenium.webdriver.remote.webelement.WebElement (session=\"3d26c79b1b28f2d320ec9ad05de43df5\", element=\"83D1BC4173A788B90811AF77DD40693B_element_428\")>: 'Aircraft',\n",
       "  <selenium.webdriver.remote.webelement.WebElement (session=\"3d26c79b1b28f2d320ec9ad05de43df5\", element=\"83D1BC4173A788B90811AF77DD40693B_element_429\")>: 'A321'},\n",
       " {<selenium.webdriver.remote.webelement.WebElement (session=\"3d26c79b1b28f2d320ec9ad05de43df5\", element=\"83D1BC4173A788B90811AF77DD40693B_element_430\")>: 'Type Of Traveller',\n",
       "  <selenium.webdriver.remote.webelement.WebElement (session=\"3d26c79b1b28f2d320ec9ad05de43df5\", element=\"83D1BC4173A788B90811AF77DD40693B_element_431\")>: 'Couple Leisure'},\n",
       " {<selenium.webdriver.remote.webelement.WebElement (session=\"3d26c79b1b28f2d320ec9ad05de43df5\", element=\"83D1BC4173A788B90811AF77DD40693B_element_432\")>: 'Seat Type',\n",
       "  <selenium.webdriver.remote.webelement.WebElement (session=\"3d26c79b1b28f2d320ec9ad05de43df5\", element=\"83D1BC4173A788B90811AF77DD40693B_element_433\")>: 'Economy Class'},\n",
       " {<selenium.webdriver.remote.webelement.WebElement (session=\"3d26c79b1b28f2d320ec9ad05de43df5\", element=\"83D1BC4173A788B90811AF77DD40693B_element_434\")>: 'Route',\n",
       "  <selenium.webdriver.remote.webelement.WebElement (session=\"3d26c79b1b28f2d320ec9ad05de43df5\", element=\"83D1BC4173A788B90811AF77DD40693B_element_435\")>: 'London Heathrow to Naples'},\n",
       " {<selenium.webdriver.remote.webelement.WebElement (session=\"3d26c79b1b28f2d320ec9ad05de43df5\", element=\"83D1BC4173A788B90811AF77DD40693B_element_436\")>: 'Date Flown',\n",
       "  <selenium.webdriver.remote.webelement.WebElement (session=\"3d26c79b1b28f2d320ec9ad05de43df5\", element=\"83D1BC4173A788B90811AF77DD40693B_element_437\")>: 'June 2023'},\n",
       " {<selenium.webdriver.remote.webelement.WebElement (session=\"3d26c79b1b28f2d320ec9ad05de43df5\", element=\"83D1BC4173A788B90811AF77DD40693B_element_438\")>: 'Seat Comfort',\n",
       "  <selenium.webdriver.remote.webelement.WebElement (session=\"3d26c79b1b28f2d320ec9ad05de43df5\", element=\"83D1BC4173A788B90811AF77DD40693B_element_439\")>: '12345'},\n",
       " {<selenium.webdriver.remote.webelement.WebElement (session=\"3d26c79b1b28f2d320ec9ad05de43df5\", element=\"83D1BC4173A788B90811AF77DD40693B_element_440\")>: 'Cabin Staff Service',\n",
       "  <selenium.webdriver.remote.webelement.WebElement (session=\"3d26c79b1b28f2d320ec9ad05de43df5\", element=\"83D1BC4173A788B90811AF77DD40693B_element_441\")>: '12345'},\n",
       " {<selenium.webdriver.remote.webelement.WebElement (session=\"3d26c79b1b28f2d320ec9ad05de43df5\", element=\"83D1BC4173A788B90811AF77DD40693B_element_442\")>: 'Food & Beverages',\n",
       "  <selenium.webdriver.remote.webelement.WebElement (session=\"3d26c79b1b28f2d320ec9ad05de43df5\", element=\"83D1BC4173A788B90811AF77DD40693B_element_443\")>: '12345'},\n",
       " {<selenium.webdriver.remote.webelement.WebElement (session=\"3d26c79b1b28f2d320ec9ad05de43df5\", element=\"83D1BC4173A788B90811AF77DD40693B_element_444\")>: 'Ground Service',\n",
       "  <selenium.webdriver.remote.webelement.WebElement (session=\"3d26c79b1b28f2d320ec9ad05de43df5\", element=\"83D1BC4173A788B90811AF77DD40693B_element_445\")>: '12345'},\n",
       " {<selenium.webdriver.remote.webelement.WebElement (session=\"3d26c79b1b28f2d320ec9ad05de43df5\", element=\"83D1BC4173A788B90811AF77DD40693B_element_446\")>: 'Value For Money',\n",
       "  <selenium.webdriver.remote.webelement.WebElement (session=\"3d26c79b1b28f2d320ec9ad05de43df5\", element=\"83D1BC4173A788B90811AF77DD40693B_element_447\")>: '12345'},\n",
       " {<selenium.webdriver.remote.webelement.WebElement (session=\"3d26c79b1b28f2d320ec9ad05de43df5\", element=\"83D1BC4173A788B90811AF77DD40693B_element_448\")>: 'Recommended',\n",
       "  <selenium.webdriver.remote.webelement.WebElement (session=\"3d26c79b1b28f2d320ec9ad05de43df5\", element=\"83D1BC4173A788B90811AF77DD40693B_element_449\")>: 'no'},\n",
       " {<selenium.webdriver.remote.webelement.WebElement (session=\"3d26c79b1b28f2d320ec9ad05de43df5\", element=\"83D1BC4173A788B90811AF77DD40693B_element_450\")>: 'Aircraft',\n",
       "  <selenium.webdriver.remote.webelement.WebElement (session=\"3d26c79b1b28f2d320ec9ad05de43df5\", element=\"83D1BC4173A788B90811AF77DD40693B_element_451\")>: 'A320'},\n",
       " {<selenium.webdriver.remote.webelement.WebElement (session=\"3d26c79b1b28f2d320ec9ad05de43df5\", element=\"83D1BC4173A788B90811AF77DD40693B_element_452\")>: 'Type Of Traveller',\n",
       "  <selenium.webdriver.remote.webelement.WebElement (session=\"3d26c79b1b28f2d320ec9ad05de43df5\", element=\"83D1BC4173A788B90811AF77DD40693B_element_453\")>: 'Solo Leisure'},\n",
       " {<selenium.webdriver.remote.webelement.WebElement (session=\"3d26c79b1b28f2d320ec9ad05de43df5\", element=\"83D1BC4173A788B90811AF77DD40693B_element_454\")>: 'Seat Type',\n",
       "  <selenium.webdriver.remote.webelement.WebElement (session=\"3d26c79b1b28f2d320ec9ad05de43df5\", element=\"83D1BC4173A788B90811AF77DD40693B_element_455\")>: 'Economy Class'},\n",
       " {<selenium.webdriver.remote.webelement.WebElement (session=\"3d26c79b1b28f2d320ec9ad05de43df5\", element=\"83D1BC4173A788B90811AF77DD40693B_element_456\")>: 'Route',\n",
       "  <selenium.webdriver.remote.webelement.WebElement (session=\"3d26c79b1b28f2d320ec9ad05de43df5\", element=\"83D1BC4173A788B90811AF77DD40693B_element_457\")>: 'Berlin to London'},\n",
       " {<selenium.webdriver.remote.webelement.WebElement (session=\"3d26c79b1b28f2d320ec9ad05de43df5\", element=\"83D1BC4173A788B90811AF77DD40693B_element_458\")>: 'Date Flown',\n",
       "  <selenium.webdriver.remote.webelement.WebElement (session=\"3d26c79b1b28f2d320ec9ad05de43df5\", element=\"83D1BC4173A788B90811AF77DD40693B_element_459\")>: 'July 2023'},\n",
       " {<selenium.webdriver.remote.webelement.WebElement (session=\"3d26c79b1b28f2d320ec9ad05de43df5\", element=\"83D1BC4173A788B90811AF77DD40693B_element_460\")>: 'Seat Comfort',\n",
       "  <selenium.webdriver.remote.webelement.WebElement (session=\"3d26c79b1b28f2d320ec9ad05de43df5\", element=\"83D1BC4173A788B90811AF77DD40693B_element_461\")>: '12345'},\n",
       " {<selenium.webdriver.remote.webelement.WebElement (session=\"3d26c79b1b28f2d320ec9ad05de43df5\", element=\"83D1BC4173A788B90811AF77DD40693B_element_462\")>: 'Cabin Staff Service',\n",
       "  <selenium.webdriver.remote.webelement.WebElement (session=\"3d26c79b1b28f2d320ec9ad05de43df5\", element=\"83D1BC4173A788B90811AF77DD40693B_element_463\")>: '12345'},\n",
       " {<selenium.webdriver.remote.webelement.WebElement (session=\"3d26c79b1b28f2d320ec9ad05de43df5\", element=\"83D1BC4173A788B90811AF77DD40693B_element_464\")>: 'Food & Beverages',\n",
       "  <selenium.webdriver.remote.webelement.WebElement (session=\"3d26c79b1b28f2d320ec9ad05de43df5\", element=\"83D1BC4173A788B90811AF77DD40693B_element_465\")>: '12345'},\n",
       " {<selenium.webdriver.remote.webelement.WebElement (session=\"3d26c79b1b28f2d320ec9ad05de43df5\", element=\"83D1BC4173A788B90811AF77DD40693B_element_466\")>: 'Ground Service',\n",
       "  <selenium.webdriver.remote.webelement.WebElement (session=\"3d26c79b1b28f2d320ec9ad05de43df5\", element=\"83D1BC4173A788B90811AF77DD40693B_element_467\")>: '12345'},\n",
       " {<selenium.webdriver.remote.webelement.WebElement (session=\"3d26c79b1b28f2d320ec9ad05de43df5\", element=\"83D1BC4173A788B90811AF77DD40693B_element_468\")>: 'Wifi & Connectivity',\n",
       "  <selenium.webdriver.remote.webelement.WebElement (session=\"3d26c79b1b28f2d320ec9ad05de43df5\", element=\"83D1BC4173A788B90811AF77DD40693B_element_469\")>: '12345'},\n",
       " {<selenium.webdriver.remote.webelement.WebElement (session=\"3d26c79b1b28f2d320ec9ad05de43df5\", element=\"83D1BC4173A788B90811AF77DD40693B_element_470\")>: 'Value For Money',\n",
       "  <selenium.webdriver.remote.webelement.WebElement (session=\"3d26c79b1b28f2d320ec9ad05de43df5\", element=\"83D1BC4173A788B90811AF77DD40693B_element_471\")>: '12345'},\n",
       " {<selenium.webdriver.remote.webelement.WebElement (session=\"3d26c79b1b28f2d320ec9ad05de43df5\", element=\"83D1BC4173A788B90811AF77DD40693B_element_472\")>: 'Recommended',\n",
       "  <selenium.webdriver.remote.webelement.WebElement (session=\"3d26c79b1b28f2d320ec9ad05de43df5\", element=\"83D1BC4173A788B90811AF77DD40693B_element_473\")>: 'yes'}]"
      ]
     },
     "execution_count": 63,
     "metadata": {},
     "output_type": "execute_result"
    }
   ],
   "source": [
    "data"
   ]
  },
  {
   "cell_type": "code",
   "execution_count": 64,
   "metadata": {},
   "outputs": [
    {
     "ename": "NoSuchElementException",
     "evalue": "Message: no such element: Unable to locate element: {\"method\":\"xpath\",\"selector\":\"(//thead//th)[1]\"}\n  (Session info: chrome=114.0.5735.199)\nStacktrace:\nBacktrace:\n\tGetHandleVerifier [0x006DA813+48355]\n\t(No symbol) [0x0066C4B1]\n\t(No symbol) [0x00575358]\n\t(No symbol) [0x005A09A5]\n\t(No symbol) [0x005A0B3B]\n\t(No symbol) [0x005CE232]\n\t(No symbol) [0x005BA784]\n\t(No symbol) [0x005CC922]\n\t(No symbol) [0x005BA536]\n\t(No symbol) [0x005982DC]\n\t(No symbol) [0x005993DD]\n\tGetHandleVerifier [0x0093AABD+2539405]\n\tGetHandleVerifier [0x0097A78F+2800735]\n\tGetHandleVerifier [0x0097456C+2775612]\n\tGetHandleVerifier [0x007651E0+616112]\n\t(No symbol) [0x00675F8C]\n\t(No symbol) [0x00672328]\n\t(No symbol) [0x0067240B]\n\t(No symbol) [0x00664FF7]\n\tBaseThreadInitThunk [0x768A7D59+25]\n\tRtlInitializeExceptionChain [0x7749B79B+107]\n\tRtlClearBits [0x7749B71F+191]\n",
     "output_type": "error",
     "traceback": [
      "\u001b[1;31m---------------------------------------------------------------------------\u001b[0m",
      "\u001b[1;31mNoSuchElementException\u001b[0m                    Traceback (most recent call last)",
      "Cell \u001b[1;32mIn[64], line 5\u001b[0m\n\u001b[0;32m      3\u001b[0m cells \u001b[39m=\u001b[39m tr\u001b[39m.\u001b[39mfind_elements(By\u001b[39m.\u001b[39mXPATH, \u001b[39m'\u001b[39m\u001b[39m.//td\u001b[39m\u001b[39m'\u001b[39m)\n\u001b[0;32m      4\u001b[0m \u001b[39mfor\u001b[39;00m idx, cell \u001b[39min\u001b[39;00m \u001b[39menumerate\u001b[39m(cells, start\u001b[39m=\u001b[39m\u001b[39m1\u001b[39m):\n\u001b[1;32m----> 5\u001b[0m     header \u001b[39m=\u001b[39m driver\u001b[39m.\u001b[39;49mfind_element(By\u001b[39m.\u001b[39;49mXPATH, \u001b[39mf\u001b[39;49m\u001b[39m\"\u001b[39;49m\u001b[39m(//thead//th)[\u001b[39;49m\u001b[39m{\u001b[39;49;00midx\u001b[39m}\u001b[39;49;00m\u001b[39m]\u001b[39;49m\u001b[39m\"\u001b[39;49m)\u001b[39m.\u001b[39mtext\n\u001b[0;32m      6\u001b[0m     row_dict[header] \u001b[39m=\u001b[39m cell\u001b[39m.\u001b[39mtext\n\u001b[0;32m      7\u001b[0m data\u001b[39m.\u001b[39mappend(row_dict)\n",
      "File \u001b[1;32m~\\AppData\\Roaming\\Python\\Python311\\site-packages\\selenium\\webdriver\\remote\\webdriver.py:831\u001b[0m, in \u001b[0;36mWebDriver.find_element\u001b[1;34m(self, by, value)\u001b[0m\n\u001b[0;32m    828\u001b[0m     by \u001b[39m=\u001b[39m By\u001b[39m.\u001b[39mCSS_SELECTOR\n\u001b[0;32m    829\u001b[0m     value \u001b[39m=\u001b[39m \u001b[39mf\u001b[39m\u001b[39m'\u001b[39m\u001b[39m[name=\u001b[39m\u001b[39m\"\u001b[39m\u001b[39m{\u001b[39;00mvalue\u001b[39m}\u001b[39;00m\u001b[39m\"\u001b[39m\u001b[39m]\u001b[39m\u001b[39m'\u001b[39m\n\u001b[1;32m--> 831\u001b[0m \u001b[39mreturn\u001b[39;00m \u001b[39mself\u001b[39;49m\u001b[39m.\u001b[39;49mexecute(Command\u001b[39m.\u001b[39;49mFIND_ELEMENT, {\u001b[39m\"\u001b[39;49m\u001b[39musing\u001b[39;49m\u001b[39m\"\u001b[39;49m: by, \u001b[39m\"\u001b[39;49m\u001b[39mvalue\u001b[39;49m\u001b[39m\"\u001b[39;49m: value})[\u001b[39m\"\u001b[39m\u001b[39mvalue\u001b[39m\u001b[39m\"\u001b[39m]\n",
      "File \u001b[1;32m~\\AppData\\Roaming\\Python\\Python311\\site-packages\\selenium\\webdriver\\remote\\webdriver.py:440\u001b[0m, in \u001b[0;36mWebDriver.execute\u001b[1;34m(self, driver_command, params)\u001b[0m\n\u001b[0;32m    438\u001b[0m response \u001b[39m=\u001b[39m \u001b[39mself\u001b[39m\u001b[39m.\u001b[39mcommand_executor\u001b[39m.\u001b[39mexecute(driver_command, params)\n\u001b[0;32m    439\u001b[0m \u001b[39mif\u001b[39;00m response:\n\u001b[1;32m--> 440\u001b[0m     \u001b[39mself\u001b[39;49m\u001b[39m.\u001b[39;49merror_handler\u001b[39m.\u001b[39;49mcheck_response(response)\n\u001b[0;32m    441\u001b[0m     response[\u001b[39m\"\u001b[39m\u001b[39mvalue\u001b[39m\u001b[39m\"\u001b[39m] \u001b[39m=\u001b[39m \u001b[39mself\u001b[39m\u001b[39m.\u001b[39m_unwrap_value(response\u001b[39m.\u001b[39mget(\u001b[39m\"\u001b[39m\u001b[39mvalue\u001b[39m\u001b[39m\"\u001b[39m, \u001b[39mNone\u001b[39;00m))\n\u001b[0;32m    442\u001b[0m     \u001b[39mreturn\u001b[39;00m response\n",
      "File \u001b[1;32m~\\AppData\\Roaming\\Python\\Python311\\site-packages\\selenium\\webdriver\\remote\\errorhandler.py:245\u001b[0m, in \u001b[0;36mErrorHandler.check_response\u001b[1;34m(self, response)\u001b[0m\n\u001b[0;32m    243\u001b[0m         alert_text \u001b[39m=\u001b[39m value[\u001b[39m\"\u001b[39m\u001b[39malert\u001b[39m\u001b[39m\"\u001b[39m]\u001b[39m.\u001b[39mget(\u001b[39m\"\u001b[39m\u001b[39mtext\u001b[39m\u001b[39m\"\u001b[39m)\n\u001b[0;32m    244\u001b[0m     \u001b[39mraise\u001b[39;00m exception_class(message, screen, stacktrace, alert_text)  \u001b[39m# type: ignore[call-arg]  # mypy is not smart enough here\u001b[39;00m\n\u001b[1;32m--> 245\u001b[0m \u001b[39mraise\u001b[39;00m exception_class(message, screen, stacktrace)\n",
      "\u001b[1;31mNoSuchElementException\u001b[0m: Message: no such element: Unable to locate element: {\"method\":\"xpath\",\"selector\":\"(//thead//th)[1]\"}\n  (Session info: chrome=114.0.5735.199)\nStacktrace:\nBacktrace:\n\tGetHandleVerifier [0x006DA813+48355]\n\t(No symbol) [0x0066C4B1]\n\t(No symbol) [0x00575358]\n\t(No symbol) [0x005A09A5]\n\t(No symbol) [0x005A0B3B]\n\t(No symbol) [0x005CE232]\n\t(No symbol) [0x005BA784]\n\t(No symbol) [0x005CC922]\n\t(No symbol) [0x005BA536]\n\t(No symbol) [0x005982DC]\n\t(No symbol) [0x005993DD]\n\tGetHandleVerifier [0x0093AABD+2539405]\n\tGetHandleVerifier [0x0097A78F+2800735]\n\tGetHandleVerifier [0x0097456C+2775612]\n\tGetHandleVerifier [0x007651E0+616112]\n\t(No symbol) [0x00675F8C]\n\t(No symbol) [0x00672328]\n\t(No symbol) [0x0067240B]\n\t(No symbol) [0x00664FF7]\n\tBaseThreadInitThunk [0x768A7D59+25]\n\tRtlInitializeExceptionChain [0x7749B79B+107]\n\tRtlClearBits [0x7749B71F+191]\n"
     ]
    }
   ],
   "source": [
    "for tr in rows:\n",
    "    row_dict = {}\n",
    "    cells = tr.find_elements(By.XPATH, './/td')\n",
    "    for idx, cell in enumerate(cells, start=1):\n",
    "        header = driver.find_element(By.XPATH, f\"(//thead//th)[{idx}]\").text\n",
    "        row_dict[header] = cell.text\n",
    "    data.append(row_dict)\n",
    "\n",
    "# Print the extracted data\n",
    "print(data)"
   ]
  },
  {
   "cell_type": "code",
   "execution_count": null,
   "metadata": {},
   "outputs": [],
   "source": [
    "from selenium import webdriver\n",
    "from selenium.webdriver.common.by import By\n",
    "from time import sleep\n",
    "import re\n",
    "\n",
    "def set_chrome():\n",
    "    chrome_options = webdriver.ChromeOptions()\n",
    "    chrome_options.headless = True\n",
    "    return chrome_options\n",
    "\n",
    "base_url = \"https://www.airlinequality.com/airline-reviews/british-airways/page/1/\"\n",
    "driver = webdriver.Chrome(options=set_chrome())\n",
    "driver.get(base_url)\n",
    "driver.implicitly_wait(10)\n",
    "\n",
    "# Scrape review details\n",
    "details = []\n",
    "\n",
    "def scrape_web(url):\n",
    "    elements = driver.find_elements(By.CLASS_NAME, \"body\")\n",
    "\n",
    "    for element in elements:\n",
    "        try:\n",
    "            title = driver.find_element(By.CLASS_NAME, \"text_header\")\n",
    "            Title = title.text\n",
    "\n",
    "        except:\n",
    "            Title = \"NA\"\n",
    "\n",
    "        try:\n",
    "            user_name = driver.find_element(By.XPATH, '//*[@id=\"anchor862044\"]/h3/span/span')\n",
    "            review_Name = user_name.text\n",
    "\n",
    "        except:\n",
    "            review_Name = \"NA\"\n",
    "\n",
    "        try:\n",
    "            Location = driver.find_element(By.XPATH, '//*[@id=\"anchor862044\"]/h3')\n",
    "            loca = Location.text\n",
    "            start_index = loca.find('(') + 1\n",
    "            end_index = loca.find(')')\n",
    "            country = loca[start_index:end_index]\n",
    "        except:\n",
    "            country = \"NA\"\n",
    "\n",
    "        try:\n",
    "            # Use regular expression to find the date pattern\n",
    "            date_pattern = r'\\d{1,2}(?:st|nd|rd|th) [A-Za-z]+ \\d{4}'\n",
    "            match = re.search(date_pattern, loca)\n",
    "\n",
    "            if match:\n",
    "                date = match.group()\n",
    "            else:\n",
    "                date = \"NA\"\n",
    "        \n",
    "        except:\n",
    "            date = \"NA\"\n",
    "        \n",
    "        try:\n",
    "            trip = driver.find_element(By.CLASS_NAME, 'text_content').text.split(\"|\")\n",
    "            trip_verified = trip[0]\n",
    "        \n",
    "        except:\n",
    "            trip_verified = \"Not_Verified\"\n",
    "\n",
    "        try:\n",
    "            main_review = trip[1]\n",
    "        \n",
    "        except:\n",
    "            main_review = \" \"\n",
    "\n",
    "        # Extracting the table content\n",
    "        table_data = {}\n",
    "\n",
    "        try:\n",
    "            tbody = driver.find_element(By.XPATH, '//table[@class=\"review-ratings\"]/tbody')\n",
    "            rows = tbody.find_elements(By.XPATH, './tr')\n",
    "            for row in rows:\n",
    "                cells = row.find_elements(By.XPATH, './td')\n",
    "                if len(cells) == 2:  # Ensuring there are two cells in each row (header and value)\n",
    "                    header = cells[0].text.strip()\n",
    "                    value = cells[1].text.strip()\n",
    "                    table_data[header] = value\n",
    "\n",
    "        except:\n",
    "            pass\n",
    "\n",
    "        # Adding NA for missing values in the table\n",
    "        headers = ['Type Of Traveller', 'Seat Type', 'Route', 'Date Flown',\n",
    "                   'Seat Comfort', 'Cabin Staff Service', 'Food & Beverages',\n",
    "                   'Inflight Entertainment', 'Ground Service', 'Value For Money',\n",
    "                   'Recommended']\n",
    "        for header in headers:\n",
    "            if header not in table_data:\n",
    "                table_data[header] = 'NA'\n",
    "\n",
    "        # Merge the table data with the main review details\n",
    "        review_details = {\n",
    "            \"Title\": Title,\n",
    "            \"Reviewer\": review_Name,\n",
    "            \"Country\": country,\n",
    "            \"Date_posted\": date,\n",
    "            \"Trip_Verified\": trip_verified,\n",
    "            \"Comments\": main_review,\n",
    "            **table_data  # Add the table content to the dictionary\n",
    "        }\n",
    "\n",
    "        details.append(review_details)\n",
    "\n",
    "scrape_web(base_url)\n",
    "\n",
    "# Printing the scraped details\n",
    "for review in details:\n",
    "    print(review)\n",
    "\n",
    "# Close the driver\n",
    "driver.quit()\n"
   ]
  },
  {
   "cell_type": "code",
   "execution_count": 44,
   "metadata": {},
   "outputs": [],
   "source": [
    "driver.quit()"
   ]
  },
  {
   "cell_type": "code",
   "execution_count": null,
   "metadata": {},
   "outputs": [],
   "source": []
  }
 ],
 "metadata": {
  "kernelspec": {
   "display_name": "Python 3 (ipykernel)",
   "language": "python",
   "name": "python3"
  },
  "orig_nbformat": 4
 },
 "nbformat": 4,
 "nbformat_minor": 2
}
